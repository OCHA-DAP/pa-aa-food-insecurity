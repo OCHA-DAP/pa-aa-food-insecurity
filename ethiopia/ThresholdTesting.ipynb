{
 "cells": [
  {
   "cell_type": "code",
   "execution_count": 58,
   "metadata": {},
   "outputs": [],
   "source": [
    "import pandas as pd\n",
    "import matplotlib.pyplot as plt\n",
    "import matplotlib\n",
    "import geopandas as gpd"
   ]
  },
  {
   "cell_type": "code",
   "execution_count": 59,
   "metadata": {},
   "outputs": [],
   "source": [
    "df_ipc=pd.read_csv(\"Data/ethiopia_admin1_fewsnet_population.csv\",index_col=0)"
   ]
  },
  {
   "cell_type": "code",
   "execution_count": 60,
   "metadata": {},
   "outputs": [],
   "source": [
    "# df_ipc=pd.read_csv(\"Data/ethiopia_admin1_fewsnet_population.csv\",index_col=0)"
   ]
  },
  {
   "cell_type": "code",
   "execution_count": 61,
   "metadata": {},
   "outputs": [
    {
     "data": {
      "text/html": [
       "<div>\n",
       "<style scoped>\n",
       "    .dataframe tbody tr th:only-of-type {\n",
       "        vertical-align: middle;\n",
       "    }\n",
       "\n",
       "    .dataframe tbody tr th {\n",
       "        vertical-align: top;\n",
       "    }\n",
       "\n",
       "    .dataframe thead th {\n",
       "        text-align: right;\n",
       "    }\n",
       "</style>\n",
       "<table border=\"1\" class=\"dataframe\">\n",
       "  <thead>\n",
       "    <tr style=\"text-align: right;\">\n",
       "      <th></th>\n",
       "      <th>date</th>\n",
       "      <th>ADM1_EN</th>\n",
       "      <th>Total</th>\n",
       "      <th>adjusted_population</th>\n",
       "      <th>CS_1</th>\n",
       "      <th>CS_2</th>\n",
       "      <th>CS_3</th>\n",
       "      <th>CS_4</th>\n",
       "      <th>CS_5</th>\n",
       "      <th>ML1_1</th>\n",
       "      <th>ML1_2</th>\n",
       "      <th>ML1_3</th>\n",
       "      <th>ML1_4</th>\n",
       "      <th>ML1_5</th>\n",
       "      <th>ML2_1</th>\n",
       "      <th>ML2_2</th>\n",
       "      <th>ML2_3</th>\n",
       "      <th>ML2_4</th>\n",
       "      <th>ML2_5</th>\n",
       "      <th>total_pop</th>\n",
       "    </tr>\n",
       "  </thead>\n",
       "  <tbody>\n",
       "    <tr>\n",
       "      <th>0</th>\n",
       "      <td>2009-07-01</td>\n",
       "      <td>Addis Ababa</td>\n",
       "      <td>3585647</td>\n",
       "      <td>2726821</td>\n",
       "      <td>0</td>\n",
       "      <td>0</td>\n",
       "      <td>0</td>\n",
       "      <td>0</td>\n",
       "      <td>0</td>\n",
       "      <td>0</td>\n",
       "      <td>0</td>\n",
       "      <td>0</td>\n",
       "      <td>0</td>\n",
       "      <td>0</td>\n",
       "      <td>0</td>\n",
       "      <td>0</td>\n",
       "      <td>0</td>\n",
       "      <td>0</td>\n",
       "      <td>0</td>\n",
       "      <td>0</td>\n",
       "    </tr>\n",
       "    <tr>\n",
       "      <th>1</th>\n",
       "      <td>2009-07-01</td>\n",
       "      <td>Afar</td>\n",
       "      <td>1904414</td>\n",
       "      <td>1448271</td>\n",
       "      <td>0</td>\n",
       "      <td>702984</td>\n",
       "      <td>745287</td>\n",
       "      <td>0</td>\n",
       "      <td>0</td>\n",
       "      <td>0</td>\n",
       "      <td>702984</td>\n",
       "      <td>745287</td>\n",
       "      <td>0</td>\n",
       "      <td>0</td>\n",
       "      <td>0</td>\n",
       "      <td>862230</td>\n",
       "      <td>586041</td>\n",
       "      <td>0</td>\n",
       "      <td>0</td>\n",
       "      <td>1448271</td>\n",
       "    </tr>\n",
       "    <tr>\n",
       "      <th>2</th>\n",
       "      <td>2009-07-01</td>\n",
       "      <td>Amhara</td>\n",
       "      <td>21790172</td>\n",
       "      <td>16571038</td>\n",
       "      <td>9531637</td>\n",
       "      <td>1743855</td>\n",
       "      <td>5295546</td>\n",
       "      <td>0</td>\n",
       "      <td>0</td>\n",
       "      <td>9531637</td>\n",
       "      <td>1743855</td>\n",
       "      <td>5295546</td>\n",
       "      <td>0</td>\n",
       "      <td>0</td>\n",
       "      <td>7609926</td>\n",
       "      <td>8961112</td>\n",
       "      <td>0</td>\n",
       "      <td>0</td>\n",
       "      <td>0</td>\n",
       "      <td>16571038</td>\n",
       "    </tr>\n",
       "    <tr>\n",
       "      <th>3</th>\n",
       "      <td>2009-07-01</td>\n",
       "      <td>Benishangul Gumz</td>\n",
       "      <td>1102849</td>\n",
       "      <td>838696</td>\n",
       "      <td>838696</td>\n",
       "      <td>0</td>\n",
       "      <td>0</td>\n",
       "      <td>0</td>\n",
       "      <td>0</td>\n",
       "      <td>838696</td>\n",
       "      <td>0</td>\n",
       "      <td>0</td>\n",
       "      <td>0</td>\n",
       "      <td>0</td>\n",
       "      <td>838696</td>\n",
       "      <td>0</td>\n",
       "      <td>0</td>\n",
       "      <td>0</td>\n",
       "      <td>0</td>\n",
       "      <td>838696</td>\n",
       "    </tr>\n",
       "    <tr>\n",
       "      <th>4</th>\n",
       "      <td>2009-07-01</td>\n",
       "      <td>Dire Dawa</td>\n",
       "      <td>508918</td>\n",
       "      <td>387022</td>\n",
       "      <td>0</td>\n",
       "      <td>387022</td>\n",
       "      <td>0</td>\n",
       "      <td>0</td>\n",
       "      <td>0</td>\n",
       "      <td>0</td>\n",
       "      <td>387022</td>\n",
       "      <td>0</td>\n",
       "      <td>0</td>\n",
       "      <td>0</td>\n",
       "      <td>0</td>\n",
       "      <td>387022</td>\n",
       "      <td>0</td>\n",
       "      <td>0</td>\n",
       "      <td>0</td>\n",
       "      <td>387022</td>\n",
       "    </tr>\n",
       "  </tbody>\n",
       "</table>\n",
       "</div>"
      ],
      "text/plain": [
       "         date           ADM1_EN     Total  adjusted_population     CS_1  \\\n",
       "0  2009-07-01       Addis Ababa   3585647              2726821        0   \n",
       "1  2009-07-01              Afar   1904414              1448271        0   \n",
       "2  2009-07-01            Amhara  21790172             16571038  9531637   \n",
       "3  2009-07-01  Benishangul Gumz   1102849               838696   838696   \n",
       "4  2009-07-01         Dire Dawa    508918               387022        0   \n",
       "\n",
       "      CS_2     CS_3  CS_4  CS_5    ML1_1    ML1_2    ML1_3  ML1_4  ML1_5  \\\n",
       "0        0        0     0     0        0        0        0      0      0   \n",
       "1   702984   745287     0     0        0   702984   745287      0      0   \n",
       "2  1743855  5295546     0     0  9531637  1743855  5295546      0      0   \n",
       "3        0        0     0     0   838696        0        0      0      0   \n",
       "4   387022        0     0     0        0   387022        0      0      0   \n",
       "\n",
       "     ML2_1    ML2_2   ML2_3  ML2_4  ML2_5  total_pop  \n",
       "0        0        0       0      0      0          0  \n",
       "1        0   862230  586041      0      0    1448271  \n",
       "2  7609926  8961112       0      0      0   16571038  \n",
       "3   838696        0       0      0      0     838696  \n",
       "4        0   387022       0      0      0     387022  "
      ]
     },
     "execution_count": 61,
     "metadata": {},
     "output_type": "execute_result"
    }
   ],
   "source": [
    "df_ipc.head()"
   ]
  },
  {
   "cell_type": "code",
   "execution_count": 62,
   "metadata": {},
   "outputs": [
    {
     "data": {
      "text/plain": [
       "Index(['date', 'ADM1_EN', 'Total', 'adjusted_population', 'CS_1', 'CS_2',\n",
       "       'CS_3', 'CS_4', 'CS_5', 'ML1_1', 'ML1_2', 'ML1_3', 'ML1_4', 'ML1_5',\n",
       "       'ML2_1', 'ML2_2', 'ML2_3', 'ML2_4', 'ML2_5', 'total_pop'],\n",
       "      dtype='object')"
      ]
     },
     "execution_count": 62,
     "metadata": {},
     "output_type": "execute_result"
    }
   ],
   "source": [
    "df_ipc.columns"
   ]
  },
  {
   "cell_type": "code",
   "execution_count": 63,
   "metadata": {},
   "outputs": [],
   "source": [
    "def get_trigger(row,status,level,perc):\n",
    "    #range till 6 cause 5 is max level\n",
    "    cols=[f\"{status}_{l}\" for l in range(level,6)]\n",
    "    if row[\"total_pop\"]==0:\n",
    "        return 0\n",
    "    if row[cols].sum() >= row[\"total_pop\"]/(100/perc):\n",
    "        return 1\n",
    "    else:\n",
    "        return 0"
   ]
  },
  {
   "cell_type": "code",
   "execution_count": 64,
   "metadata": {},
   "outputs": [],
   "source": [
    "def get_trigger_increase(row,level,perc):\n",
    "    #range till 6 cause 5 is max level\n",
    "    cols_ml1=[f\"ML1_{l}\" for l in range(level,6)]\n",
    "    cols_cs=[f\"CS_{l}\" for l in range(level,6)]\n",
    "    if row[\"total_pop\"]==0 or row[cols_ml1].sum() == 0:\n",
    "        return 0\n",
    "    if row[cols_ml1].sum() >= row[cols_cs].sum()*(1+(perc/100)):\n",
    "        return 1\n",
    "    else:\n",
    "        return 0"
   ]
  },
  {
   "cell_type": "code",
   "execution_count": 65,
   "metadata": {},
   "outputs": [],
   "source": [
    "df_ipc['date'] = pd.to_datetime(df_ipc['date'])\n",
    "df_ipc['year'] = df_ipc['date'].dt.year\n",
    "df_ipc['month'] = df_ipc['date'].dt.month"
   ]
  },
  {
   "cell_type": "code",
   "execution_count": 66,
   "metadata": {},
   "outputs": [],
   "source": [
    "df_ipc[\"trigger_CS_3_20\"]=df_ipc.apply(lambda x: get_trigger(x,\"CS\",3,20),axis=1)\n",
    "df_ipc[\"trigger_CS_4_2\"]=df_ipc.apply(lambda x: get_trigger(x,\"CS\",4,2.5),axis=1)\n",
    "df_ipc[\"trigger_CS_4_20\"]=df_ipc.apply(lambda x: get_trigger(x,\"CS\",4,20),axis=1)\n",
    "df_ipc[\"trigger_ML1_3_5\"]=df_ipc.apply(lambda x: get_trigger(x,\"ML1\",3,5),axis=1)\n",
    "df_ipc[\"trigger_ML1_4_2\"]=df_ipc.apply(lambda x: get_trigger(x,\"ML1\",4,2.5),axis=1)\n",
    "df_ipc[\"trigger_ML1_3_30\"]=df_ipc.apply(lambda x: get_trigger(x,\"ML1\",3,30),axis=1)\n",
    "df_ipc[\"trigger_ML1_3_5i\"]=df_ipc.apply(lambda x: get_trigger_increase(x,3,5),axis=1)"
   ]
  },
  {
   "cell_type": "code",
   "execution_count": 67,
   "metadata": {},
   "outputs": [
    {
     "data": {
      "text/html": [
       "<div>\n",
       "<style scoped>\n",
       "    .dataframe tbody tr th:only-of-type {\n",
       "        vertical-align: middle;\n",
       "    }\n",
       "\n",
       "    .dataframe tbody tr th {\n",
       "        vertical-align: top;\n",
       "    }\n",
       "\n",
       "    .dataframe thead th {\n",
       "        text-align: right;\n",
       "    }\n",
       "</style>\n",
       "<table border=\"1\" class=\"dataframe\">\n",
       "  <thead>\n",
       "    <tr style=\"text-align: right;\">\n",
       "      <th></th>\n",
       "      <th>date</th>\n",
       "      <th>ADM1_EN</th>\n",
       "      <th>Total</th>\n",
       "      <th>adjusted_population</th>\n",
       "      <th>CS_1</th>\n",
       "      <th>CS_2</th>\n",
       "      <th>CS_3</th>\n",
       "      <th>CS_4</th>\n",
       "      <th>CS_5</th>\n",
       "      <th>ML1_1</th>\n",
       "      <th>...</th>\n",
       "      <th>total_pop</th>\n",
       "      <th>year</th>\n",
       "      <th>month</th>\n",
       "      <th>trigger_CS_3_20</th>\n",
       "      <th>trigger_CS_4_2</th>\n",
       "      <th>trigger_CS_4_20</th>\n",
       "      <th>trigger_ML1_3_5</th>\n",
       "      <th>trigger_ML1_4_2</th>\n",
       "      <th>trigger_ML1_3_30</th>\n",
       "      <th>trigger_ML1_3_5i</th>\n",
       "    </tr>\n",
       "  </thead>\n",
       "  <tbody>\n",
       "    <tr>\n",
       "      <th>0</th>\n",
       "      <td>2009-07-01</td>\n",
       "      <td>Addis Ababa</td>\n",
       "      <td>3585647</td>\n",
       "      <td>2726821</td>\n",
       "      <td>0</td>\n",
       "      <td>0</td>\n",
       "      <td>0</td>\n",
       "      <td>0</td>\n",
       "      <td>0</td>\n",
       "      <td>0</td>\n",
       "      <td>...</td>\n",
       "      <td>0</td>\n",
       "      <td>2009</td>\n",
       "      <td>7</td>\n",
       "      <td>0</td>\n",
       "      <td>0</td>\n",
       "      <td>0</td>\n",
       "      <td>0</td>\n",
       "      <td>0</td>\n",
       "      <td>0</td>\n",
       "      <td>0</td>\n",
       "    </tr>\n",
       "    <tr>\n",
       "      <th>1</th>\n",
       "      <td>2009-07-01</td>\n",
       "      <td>Afar</td>\n",
       "      <td>1904414</td>\n",
       "      <td>1448271</td>\n",
       "      <td>0</td>\n",
       "      <td>702984</td>\n",
       "      <td>745287</td>\n",
       "      <td>0</td>\n",
       "      <td>0</td>\n",
       "      <td>0</td>\n",
       "      <td>...</td>\n",
       "      <td>1448271</td>\n",
       "      <td>2009</td>\n",
       "      <td>7</td>\n",
       "      <td>1</td>\n",
       "      <td>0</td>\n",
       "      <td>0</td>\n",
       "      <td>1</td>\n",
       "      <td>0</td>\n",
       "      <td>1</td>\n",
       "      <td>0</td>\n",
       "    </tr>\n",
       "    <tr>\n",
       "      <th>2</th>\n",
       "      <td>2009-07-01</td>\n",
       "      <td>Amhara</td>\n",
       "      <td>21790172</td>\n",
       "      <td>16571038</td>\n",
       "      <td>9531637</td>\n",
       "      <td>1743855</td>\n",
       "      <td>5295546</td>\n",
       "      <td>0</td>\n",
       "      <td>0</td>\n",
       "      <td>9531637</td>\n",
       "      <td>...</td>\n",
       "      <td>16571038</td>\n",
       "      <td>2009</td>\n",
       "      <td>7</td>\n",
       "      <td>1</td>\n",
       "      <td>0</td>\n",
       "      <td>0</td>\n",
       "      <td>1</td>\n",
       "      <td>0</td>\n",
       "      <td>1</td>\n",
       "      <td>0</td>\n",
       "    </tr>\n",
       "    <tr>\n",
       "      <th>3</th>\n",
       "      <td>2009-07-01</td>\n",
       "      <td>Benishangul Gumz</td>\n",
       "      <td>1102849</td>\n",
       "      <td>838696</td>\n",
       "      <td>838696</td>\n",
       "      <td>0</td>\n",
       "      <td>0</td>\n",
       "      <td>0</td>\n",
       "      <td>0</td>\n",
       "      <td>838696</td>\n",
       "      <td>...</td>\n",
       "      <td>838696</td>\n",
       "      <td>2009</td>\n",
       "      <td>7</td>\n",
       "      <td>0</td>\n",
       "      <td>0</td>\n",
       "      <td>0</td>\n",
       "      <td>0</td>\n",
       "      <td>0</td>\n",
       "      <td>0</td>\n",
       "      <td>0</td>\n",
       "    </tr>\n",
       "    <tr>\n",
       "      <th>4</th>\n",
       "      <td>2009-07-01</td>\n",
       "      <td>Dire Dawa</td>\n",
       "      <td>508918</td>\n",
       "      <td>387022</td>\n",
       "      <td>0</td>\n",
       "      <td>387022</td>\n",
       "      <td>0</td>\n",
       "      <td>0</td>\n",
       "      <td>0</td>\n",
       "      <td>0</td>\n",
       "      <td>...</td>\n",
       "      <td>387022</td>\n",
       "      <td>2009</td>\n",
       "      <td>7</td>\n",
       "      <td>0</td>\n",
       "      <td>0</td>\n",
       "      <td>0</td>\n",
       "      <td>0</td>\n",
       "      <td>0</td>\n",
       "      <td>0</td>\n",
       "      <td>0</td>\n",
       "    </tr>\n",
       "  </tbody>\n",
       "</table>\n",
       "<p>5 rows × 29 columns</p>\n",
       "</div>"
      ],
      "text/plain": [
       "        date           ADM1_EN     Total  adjusted_population     CS_1  \\\n",
       "0 2009-07-01       Addis Ababa   3585647              2726821        0   \n",
       "1 2009-07-01              Afar   1904414              1448271        0   \n",
       "2 2009-07-01            Amhara  21790172             16571038  9531637   \n",
       "3 2009-07-01  Benishangul Gumz   1102849               838696   838696   \n",
       "4 2009-07-01         Dire Dawa    508918               387022        0   \n",
       "\n",
       "      CS_2     CS_3  CS_4  CS_5    ML1_1  ...  total_pop  year  month  \\\n",
       "0        0        0     0     0        0  ...          0  2009      7   \n",
       "1   702984   745287     0     0        0  ...    1448271  2009      7   \n",
       "2  1743855  5295546     0     0  9531637  ...   16571038  2009      7   \n",
       "3        0        0     0     0   838696  ...     838696  2009      7   \n",
       "4   387022        0     0     0        0  ...     387022  2009      7   \n",
       "\n",
       "   trigger_CS_3_20  trigger_CS_4_2  trigger_CS_4_20  trigger_ML1_3_5  \\\n",
       "0                0               0                0                0   \n",
       "1                1               0                0                1   \n",
       "2                1               0                0                1   \n",
       "3                0               0                0                0   \n",
       "4                0               0                0                0   \n",
       "\n",
       "   trigger_ML1_4_2  trigger_ML1_3_30  trigger_ML1_3_5i  \n",
       "0                0                 0                 0  \n",
       "1                0                 1                 0  \n",
       "2                0                 1                 0  \n",
       "3                0                 0                 0  \n",
       "4                0                 0                 0  \n",
       "\n",
       "[5 rows x 29 columns]"
      ]
     },
     "execution_count": 67,
     "metadata": {},
     "output_type": "execute_result"
    }
   ],
   "source": [
    "df_ipc.head()"
   ]
  },
  {
   "cell_type": "code",
   "execution_count": 70,
   "metadata": {},
   "outputs": [],
   "source": [
    "adm1c='ADM1_EN' #\"ADMIN1\" #"
   ]
  },
  {
   "cell_type": "code",
   "execution_count": 73,
   "metadata": {},
   "outputs": [
    {
     "data": {
      "text/html": [
       "<div>\n",
       "<style scoped>\n",
       "    .dataframe tbody tr th:only-of-type {\n",
       "        vertical-align: middle;\n",
       "    }\n",
       "\n",
       "    .dataframe tbody tr th {\n",
       "        vertical-align: top;\n",
       "    }\n",
       "\n",
       "    .dataframe thead th {\n",
       "        text-align: right;\n",
       "    }\n",
       "</style>\n",
       "<table border=\"1\" class=\"dataframe\">\n",
       "  <thead>\n",
       "    <tr style=\"text-align: right;\">\n",
       "      <th></th>\n",
       "      <th>year</th>\n",
       "      <th>month</th>\n",
       "      <th>ADM1_EN</th>\n",
       "    </tr>\n",
       "  </thead>\n",
       "  <tbody>\n",
       "    <tr>\n",
       "      <th>0</th>\n",
       "      <td>2009</td>\n",
       "      <td>7</td>\n",
       "      <td>[Somali]</td>\n",
       "    </tr>\n",
       "    <tr>\n",
       "      <th>1</th>\n",
       "      <td>2010</td>\n",
       "      <td>1</td>\n",
       "      <td>[Afar, Gambela, Somali]</td>\n",
       "    </tr>\n",
       "    <tr>\n",
       "      <th>2</th>\n",
       "      <td>2011</td>\n",
       "      <td>4</td>\n",
       "      <td>[Somali]</td>\n",
       "    </tr>\n",
       "    <tr>\n",
       "      <th>3</th>\n",
       "      <td>2011</td>\n",
       "      <td>7</td>\n",
       "      <td>[Oromia, Somali]</td>\n",
       "    </tr>\n",
       "    <tr>\n",
       "      <th>4</th>\n",
       "      <td>2015</td>\n",
       "      <td>10</td>\n",
       "      <td>[Afar]</td>\n",
       "    </tr>\n",
       "    <tr>\n",
       "      <th>5</th>\n",
       "      <td>2016</td>\n",
       "      <td>2</td>\n",
       "      <td>[Afar, Oromia]</td>\n",
       "    </tr>\n",
       "    <tr>\n",
       "      <th>6</th>\n",
       "      <td>2017</td>\n",
       "      <td>6</td>\n",
       "      <td>[Somali]</td>\n",
       "    </tr>\n",
       "    <tr>\n",
       "      <th>7</th>\n",
       "      <td>2017</td>\n",
       "      <td>10</td>\n",
       "      <td>[Somali]</td>\n",
       "    </tr>\n",
       "  </tbody>\n",
       "</table>\n",
       "</div>"
      ],
      "text/plain": [
       "   year  month                  ADM1_EN\n",
       "0  2009      7                 [Somali]\n",
       "1  2010      1  [Afar, Gambela, Somali]\n",
       "2  2011      4                 [Somali]\n",
       "3  2011      7         [Oromia, Somali]\n",
       "4  2015     10                   [Afar]\n",
       "5  2016      2           [Afar, Oromia]\n",
       "6  2017      6                 [Somali]\n",
       "7  2017     10                 [Somali]"
      ]
     },
     "execution_count": 73,
     "metadata": {},
     "output_type": "execute_result"
    }
   ],
   "source": [
    "#Analysis 1: 20% IPC3+ (current situation) + 2.5% IPC4+ (current situation)\n",
    "df_snCS20ML12 = df_ipc.loc[(df_ipc['trigger_CS_3_20']==1)&(df_ipc['trigger_ML1_4_2']==1)]\n",
    "df_snCS20ML12.groupby(['year', 'month'], as_index=False)[adm1c].agg(lambda x: list(x))"
   ]
  },
  {
   "cell_type": "code",
   "execution_count": 74,
   "metadata": {},
   "outputs": [],
   "source": [
    "# #Analysis 1b: 20% IPC3+ (current situation) + (2.5% IPC4+ (current situation) OR 5% increase in IPC3+ (ML1))\n",
    "# df_snCS20ML12oML1i = df_ipc.loc[(df_ipc['trigger_CS_3_20']==1)&((df_ipc['trigger_ML1_4_2']==1)| (df_ipc['trigger_ML1_3_5i'] == 1))]\n",
    "# df_snCS20ML12oML1i.groupby(['year', 'month'], as_index=False)['ADM1_EN'].agg(lambda x: list(x))"
   ]
  },
  {
   "cell_type": "code",
   "execution_count": 75,
   "metadata": {},
   "outputs": [],
   "source": [
    "# #Analysis 1c: 20% IPC3+ (current situation) + 5% increase in IPC3+ (ML1)\n",
    "# df_snCS20ML1i = df_ipc.loc[(df_ipc['trigger_CS_3_20']==1)&(df_ipc['trigger_ML1_3_5i'] == 1)]\n",
    "# df_snCS20ML1i.groupby(['year', 'month'], as_index=False)['ADM1_EN'].agg(lambda x: list(x))"
   ]
  },
  {
   "cell_type": "code",
   "execution_count": 76,
   "metadata": {},
   "outputs": [
    {
     "data": {
      "text/html": [
       "<div>\n",
       "<style scoped>\n",
       "    .dataframe tbody tr th:only-of-type {\n",
       "        vertical-align: middle;\n",
       "    }\n",
       "\n",
       "    .dataframe tbody tr th {\n",
       "        vertical-align: top;\n",
       "    }\n",
       "\n",
       "    .dataframe thead th {\n",
       "        text-align: right;\n",
       "    }\n",
       "</style>\n",
       "<table border=\"1\" class=\"dataframe\">\n",
       "  <thead>\n",
       "    <tr style=\"text-align: right;\">\n",
       "      <th></th>\n",
       "      <th>year</th>\n",
       "      <th>month</th>\n",
       "      <th>ADM1_EN</th>\n",
       "    </tr>\n",
       "  </thead>\n",
       "  <tbody>\n",
       "    <tr>\n",
       "      <th>0</th>\n",
       "      <td>2010</td>\n",
       "      <td>1</td>\n",
       "      <td>[Afar, Somali]</td>\n",
       "    </tr>\n",
       "    <tr>\n",
       "      <th>1</th>\n",
       "      <td>2016</td>\n",
       "      <td>2</td>\n",
       "      <td>[Oromia]</td>\n",
       "    </tr>\n",
       "    <tr>\n",
       "      <th>2</th>\n",
       "      <td>2017</td>\n",
       "      <td>10</td>\n",
       "      <td>[Somali]</td>\n",
       "    </tr>\n",
       "  </tbody>\n",
       "</table>\n",
       "</div>"
      ],
      "text/plain": [
       "   year  month         ADM1_EN\n",
       "0  2010      1  [Afar, Somali]\n",
       "1  2016      2        [Oromia]\n",
       "2  2017     10        [Somali]"
      ]
     },
     "execution_count": 76,
     "metadata": {},
     "output_type": "execute_result"
    }
   ],
   "source": [
    "#Analysis 2: 20% IPC3+ (current situation) + 2.5% IPC4+ (current situation) + 5% increase in IPC3+ (ML1)\n",
    "df_snCS20ML12ML1i = df_ipc.loc[(df_ipc['trigger_CS_3_20']==1)&(df_ipc['trigger_ML1_4_2']==1) & (df_ipc['trigger_ML1_3_5i'] == 1)]\n",
    "df_snCS20ML12ML1i.groupby(['year', 'month'], as_index=False)['ADM1_EN'].agg(lambda x: list(x))"
   ]
  },
  {
   "cell_type": "code",
   "execution_count": 77,
   "metadata": {},
   "outputs": [
    {
     "data": {
      "text/html": [
       "<div>\n",
       "<style scoped>\n",
       "    .dataframe tbody tr th:only-of-type {\n",
       "        vertical-align: middle;\n",
       "    }\n",
       "\n",
       "    .dataframe tbody tr th {\n",
       "        vertical-align: top;\n",
       "    }\n",
       "\n",
       "    .dataframe thead th {\n",
       "        text-align: right;\n",
       "    }\n",
       "</style>\n",
       "<table border=\"1\" class=\"dataframe\">\n",
       "  <thead>\n",
       "    <tr style=\"text-align: right;\">\n",
       "      <th></th>\n",
       "      <th>year</th>\n",
       "      <th>month</th>\n",
       "      <th>ADM1_EN</th>\n",
       "    </tr>\n",
       "  </thead>\n",
       "  <tbody>\n",
       "    <tr>\n",
       "      <th>0</th>\n",
       "      <td>2009</td>\n",
       "      <td>7</td>\n",
       "      <td>[Somali]</td>\n",
       "    </tr>\n",
       "    <tr>\n",
       "      <th>1</th>\n",
       "      <td>2009</td>\n",
       "      <td>10</td>\n",
       "      <td>[Somali]</td>\n",
       "    </tr>\n",
       "    <tr>\n",
       "      <th>2</th>\n",
       "      <td>2011</td>\n",
       "      <td>4</td>\n",
       "      <td>[Somali]</td>\n",
       "    </tr>\n",
       "    <tr>\n",
       "      <th>3</th>\n",
       "      <td>2011</td>\n",
       "      <td>7</td>\n",
       "      <td>[Somali]</td>\n",
       "    </tr>\n",
       "    <tr>\n",
       "      <th>4</th>\n",
       "      <td>2011</td>\n",
       "      <td>10</td>\n",
       "      <td>[Somali]</td>\n",
       "    </tr>\n",
       "    <tr>\n",
       "      <th>5</th>\n",
       "      <td>2017</td>\n",
       "      <td>6</td>\n",
       "      <td>[Somali]</td>\n",
       "    </tr>\n",
       "    <tr>\n",
       "      <th>6</th>\n",
       "      <td>2017</td>\n",
       "      <td>10</td>\n",
       "      <td>[Somali]</td>\n",
       "    </tr>\n",
       "  </tbody>\n",
       "</table>\n",
       "</div>"
      ],
      "text/plain": [
       "   year  month   ADM1_EN\n",
       "0  2009      7  [Somali]\n",
       "1  2009     10  [Somali]\n",
       "2  2011      4  [Somali]\n",
       "3  2011      7  [Somali]\n",
       "4  2011     10  [Somali]\n",
       "5  2017      6  [Somali]\n",
       "6  2017     10  [Somali]"
      ]
     },
     "execution_count": 77,
     "metadata": {},
     "output_type": "execute_result"
    }
   ],
   "source": [
    "#Analysis 3: IPC4+ at 20% (current situation)\n",
    "df_snCS420 = df_ipc.loc[df_ipc['trigger_CS_4_20']==1]\n",
    "df_snCS420.groupby(['year', 'month'], as_index=False)['ADM1_EN'].agg(lambda x: list(x))"
   ]
  },
  {
   "cell_type": "code",
   "execution_count": 81,
   "metadata": {},
   "outputs": [],
   "source": [
    "b=df_snCS420[df_snCS420.date==\"2009-07\"]"
   ]
  },
  {
   "cell_type": "code",
   "execution_count": 85,
   "metadata": {},
   "outputs": [
    {
     "data": {
      "text/html": [
       "<div>\n",
       "<style scoped>\n",
       "    .dataframe tbody tr th:only-of-type {\n",
       "        vertical-align: middle;\n",
       "    }\n",
       "\n",
       "    .dataframe tbody tr th {\n",
       "        vertical-align: top;\n",
       "    }\n",
       "\n",
       "    .dataframe thead th {\n",
       "        text-align: right;\n",
       "    }\n",
       "</style>\n",
       "<table border=\"1\" class=\"dataframe\">\n",
       "  <thead>\n",
       "    <tr style=\"text-align: right;\">\n",
       "      <th></th>\n",
       "      <th>date</th>\n",
       "      <th>ADM1_EN</th>\n",
       "      <th>Total</th>\n",
       "      <th>adjusted_population</th>\n",
       "      <th>CS_1</th>\n",
       "      <th>CS_2</th>\n",
       "      <th>CS_3</th>\n",
       "      <th>CS_4</th>\n",
       "      <th>CS_5</th>\n",
       "      <th>ML1_1</th>\n",
       "      <th>...</th>\n",
       "      <th>total_pop</th>\n",
       "      <th>year</th>\n",
       "      <th>month</th>\n",
       "      <th>trigger_CS_3_20</th>\n",
       "      <th>trigger_CS_4_2</th>\n",
       "      <th>trigger_CS_4_20</th>\n",
       "      <th>trigger_ML1_3_5</th>\n",
       "      <th>trigger_ML1_4_2</th>\n",
       "      <th>trigger_ML1_3_30</th>\n",
       "      <th>trigger_ML1_3_5i</th>\n",
       "    </tr>\n",
       "  </thead>\n",
       "  <tbody>\n",
       "    <tr>\n",
       "      <th>9</th>\n",
       "      <td>2009-07-01</td>\n",
       "      <td>Somali</td>\n",
       "      <td>6216411</td>\n",
       "      <td>4727467</td>\n",
       "      <td>0</td>\n",
       "      <td>0</td>\n",
       "      <td>2664781</td>\n",
       "      <td>2062686</td>\n",
       "      <td>0</td>\n",
       "      <td>0</td>\n",
       "      <td>...</td>\n",
       "      <td>4727467</td>\n",
       "      <td>2009</td>\n",
       "      <td>7</td>\n",
       "      <td>1</td>\n",
       "      <td>1</td>\n",
       "      <td>1</td>\n",
       "      <td>1</td>\n",
       "      <td>1</td>\n",
       "      <td>1</td>\n",
       "      <td>0</td>\n",
       "    </tr>\n",
       "  </tbody>\n",
       "</table>\n",
       "<p>1 rows × 29 columns</p>\n",
       "</div>"
      ],
      "text/plain": [
       "        date ADM1_EN    Total  adjusted_population  CS_1  CS_2     CS_3  \\\n",
       "9 2009-07-01  Somali  6216411              4727467     0     0  2664781   \n",
       "\n",
       "      CS_4  CS_5  ML1_1  ...  total_pop  year  month  trigger_CS_3_20  \\\n",
       "9  2062686     0      0  ...    4727467  2009      7                1   \n",
       "\n",
       "   trigger_CS_4_2  trigger_CS_4_20  trigger_ML1_3_5  trigger_ML1_4_2  \\\n",
       "9               1                1                1                1   \n",
       "\n",
       "   trigger_ML1_3_30  trigger_ML1_3_5i  \n",
       "9                 1                 0  \n",
       "\n",
       "[1 rows x 29 columns]"
      ]
     },
     "execution_count": 85,
     "metadata": {},
     "output_type": "execute_result"
    }
   ],
   "source": [
    "b"
   ]
  },
  {
   "cell_type": "code",
   "execution_count": 83,
   "metadata": {},
   "outputs": [
    {
     "data": {
      "text/plain": [
       "9    2062686\n",
       "dtype: int64"
      ]
     },
     "execution_count": 83,
     "metadata": {},
     "output_type": "execute_result"
    }
   ],
   "source": [
    "b[[\"CS_4\",\"CS_5\"]].sum(axis=1)"
   ]
  },
  {
   "cell_type": "code",
   "execution_count": 89,
   "metadata": {},
   "outputs": [
    {
     "data": {
      "text/html": [
       "<div>\n",
       "<style scoped>\n",
       "    .dataframe tbody tr th:only-of-type {\n",
       "        vertical-align: middle;\n",
       "    }\n",
       "\n",
       "    .dataframe tbody tr th {\n",
       "        vertical-align: top;\n",
       "    }\n",
       "\n",
       "    .dataframe thead th {\n",
       "        text-align: right;\n",
       "    }\n",
       "</style>\n",
       "<table border=\"1\" class=\"dataframe\">\n",
       "  <thead>\n",
       "    <tr style=\"text-align: right;\">\n",
       "      <th></th>\n",
       "      <th>date</th>\n",
       "      <th>ADM1_EN</th>\n",
       "      <th>Total</th>\n",
       "      <th>adjusted_population</th>\n",
       "      <th>CS_1</th>\n",
       "      <th>CS_2</th>\n",
       "      <th>CS_3</th>\n",
       "      <th>CS_4</th>\n",
       "      <th>CS_5</th>\n",
       "      <th>ML1_1</th>\n",
       "      <th>...</th>\n",
       "      <th>total_pop</th>\n",
       "      <th>year</th>\n",
       "      <th>month</th>\n",
       "      <th>trigger_CS_3_20</th>\n",
       "      <th>trigger_CS_4_2</th>\n",
       "      <th>trigger_CS_4_20</th>\n",
       "      <th>trigger_ML1_3_5</th>\n",
       "      <th>trigger_ML1_4_2</th>\n",
       "      <th>trigger_ML1_3_30</th>\n",
       "      <th>trigger_ML1_3_5i</th>\n",
       "    </tr>\n",
       "  </thead>\n",
       "  <tbody>\n",
       "    <tr>\n",
       "      <th>0</th>\n",
       "      <td>2009-07-01</td>\n",
       "      <td>Addis Ababa</td>\n",
       "      <td>3585647</td>\n",
       "      <td>2726821</td>\n",
       "      <td>0</td>\n",
       "      <td>0</td>\n",
       "      <td>0</td>\n",
       "      <td>0</td>\n",
       "      <td>0</td>\n",
       "      <td>0</td>\n",
       "      <td>...</td>\n",
       "      <td>0</td>\n",
       "      <td>2009</td>\n",
       "      <td>7</td>\n",
       "      <td>0</td>\n",
       "      <td>0</td>\n",
       "      <td>0</td>\n",
       "      <td>0</td>\n",
       "      <td>0</td>\n",
       "      <td>0</td>\n",
       "      <td>0</td>\n",
       "    </tr>\n",
       "    <tr>\n",
       "      <th>1</th>\n",
       "      <td>2009-07-01</td>\n",
       "      <td>Afar</td>\n",
       "      <td>1904414</td>\n",
       "      <td>1448271</td>\n",
       "      <td>0</td>\n",
       "      <td>702984</td>\n",
       "      <td>745287</td>\n",
       "      <td>0</td>\n",
       "      <td>0</td>\n",
       "      <td>0</td>\n",
       "      <td>...</td>\n",
       "      <td>1448271</td>\n",
       "      <td>2009</td>\n",
       "      <td>7</td>\n",
       "      <td>1</td>\n",
       "      <td>0</td>\n",
       "      <td>0</td>\n",
       "      <td>1</td>\n",
       "      <td>0</td>\n",
       "      <td>1</td>\n",
       "      <td>0</td>\n",
       "    </tr>\n",
       "    <tr>\n",
       "      <th>2</th>\n",
       "      <td>2009-07-01</td>\n",
       "      <td>Amhara</td>\n",
       "      <td>21790172</td>\n",
       "      <td>16571038</td>\n",
       "      <td>9531637</td>\n",
       "      <td>1743855</td>\n",
       "      <td>5295546</td>\n",
       "      <td>0</td>\n",
       "      <td>0</td>\n",
       "      <td>9531637</td>\n",
       "      <td>...</td>\n",
       "      <td>16571038</td>\n",
       "      <td>2009</td>\n",
       "      <td>7</td>\n",
       "      <td>1</td>\n",
       "      <td>0</td>\n",
       "      <td>0</td>\n",
       "      <td>1</td>\n",
       "      <td>0</td>\n",
       "      <td>1</td>\n",
       "      <td>0</td>\n",
       "    </tr>\n",
       "    <tr>\n",
       "      <th>3</th>\n",
       "      <td>2009-07-01</td>\n",
       "      <td>Benishangul Gumz</td>\n",
       "      <td>1102849</td>\n",
       "      <td>838696</td>\n",
       "      <td>838696</td>\n",
       "      <td>0</td>\n",
       "      <td>0</td>\n",
       "      <td>0</td>\n",
       "      <td>0</td>\n",
       "      <td>838696</td>\n",
       "      <td>...</td>\n",
       "      <td>838696</td>\n",
       "      <td>2009</td>\n",
       "      <td>7</td>\n",
       "      <td>0</td>\n",
       "      <td>0</td>\n",
       "      <td>0</td>\n",
       "      <td>0</td>\n",
       "      <td>0</td>\n",
       "      <td>0</td>\n",
       "      <td>0</td>\n",
       "    </tr>\n",
       "    <tr>\n",
       "      <th>4</th>\n",
       "      <td>2009-07-01</td>\n",
       "      <td>Dire Dawa</td>\n",
       "      <td>508918</td>\n",
       "      <td>387022</td>\n",
       "      <td>0</td>\n",
       "      <td>387022</td>\n",
       "      <td>0</td>\n",
       "      <td>0</td>\n",
       "      <td>0</td>\n",
       "      <td>0</td>\n",
       "      <td>...</td>\n",
       "      <td>387022</td>\n",
       "      <td>2009</td>\n",
       "      <td>7</td>\n",
       "      <td>0</td>\n",
       "      <td>0</td>\n",
       "      <td>0</td>\n",
       "      <td>0</td>\n",
       "      <td>0</td>\n",
       "      <td>0</td>\n",
       "      <td>0</td>\n",
       "    </tr>\n",
       "    <tr>\n",
       "      <th>...</th>\n",
       "      <td>...</td>\n",
       "      <td>...</td>\n",
       "      <td>...</td>\n",
       "      <td>...</td>\n",
       "      <td>...</td>\n",
       "      <td>...</td>\n",
       "      <td>...</td>\n",
       "      <td>...</td>\n",
       "      <td>...</td>\n",
       "      <td>...</td>\n",
       "      <td>...</td>\n",
       "      <td>...</td>\n",
       "      <td>...</td>\n",
       "      <td>...</td>\n",
       "      <td>...</td>\n",
       "      <td>...</td>\n",
       "      <td>...</td>\n",
       "      <td>...</td>\n",
       "      <td>...</td>\n",
       "      <td>...</td>\n",
       "      <td>...</td>\n",
       "    </tr>\n",
       "    <tr>\n",
       "      <th>413</th>\n",
       "      <td>2019-10-01</td>\n",
       "      <td>Harari</td>\n",
       "      <td>260022</td>\n",
       "      <td>260022</td>\n",
       "      <td>0</td>\n",
       "      <td>260022</td>\n",
       "      <td>0</td>\n",
       "      <td>0</td>\n",
       "      <td>0</td>\n",
       "      <td>0</td>\n",
       "      <td>...</td>\n",
       "      <td>260022</td>\n",
       "      <td>2019</td>\n",
       "      <td>10</td>\n",
       "      <td>0</td>\n",
       "      <td>0</td>\n",
       "      <td>0</td>\n",
       "      <td>0</td>\n",
       "      <td>0</td>\n",
       "      <td>0</td>\n",
       "      <td>0</td>\n",
       "    </tr>\n",
       "    <tr>\n",
       "      <th>414</th>\n",
       "      <td>2019-10-01</td>\n",
       "      <td>Oromia</td>\n",
       "      <td>37843293</td>\n",
       "      <td>37843293</td>\n",
       "      <td>24161597</td>\n",
       "      <td>5485676</td>\n",
       "      <td>8196020</td>\n",
       "      <td>0</td>\n",
       "      <td>0</td>\n",
       "      <td>26396016</td>\n",
       "      <td>...</td>\n",
       "      <td>37843293</td>\n",
       "      <td>2019</td>\n",
       "      <td>10</td>\n",
       "      <td>1</td>\n",
       "      <td>0</td>\n",
       "      <td>0</td>\n",
       "      <td>1</td>\n",
       "      <td>0</td>\n",
       "      <td>0</td>\n",
       "      <td>0</td>\n",
       "    </tr>\n",
       "    <tr>\n",
       "      <th>415</th>\n",
       "      <td>2019-10-01</td>\n",
       "      <td>SNNP</td>\n",
       "      <td>20262695</td>\n",
       "      <td>20262695</td>\n",
       "      <td>10930317</td>\n",
       "      <td>8200544</td>\n",
       "      <td>1131834</td>\n",
       "      <td>0</td>\n",
       "      <td>0</td>\n",
       "      <td>16067419</td>\n",
       "      <td>...</td>\n",
       "      <td>20262695</td>\n",
       "      <td>2019</td>\n",
       "      <td>10</td>\n",
       "      <td>0</td>\n",
       "      <td>0</td>\n",
       "      <td>0</td>\n",
       "      <td>0</td>\n",
       "      <td>0</td>\n",
       "      <td>0</td>\n",
       "      <td>0</td>\n",
       "    </tr>\n",
       "    <tr>\n",
       "      <th>416</th>\n",
       "      <td>2019-10-01</td>\n",
       "      <td>Somali</td>\n",
       "      <td>6216411</td>\n",
       "      <td>6216411</td>\n",
       "      <td>0</td>\n",
       "      <td>1886921</td>\n",
       "      <td>4329490</td>\n",
       "      <td>0</td>\n",
       "      <td>0</td>\n",
       "      <td>0</td>\n",
       "      <td>...</td>\n",
       "      <td>6216411</td>\n",
       "      <td>2019</td>\n",
       "      <td>10</td>\n",
       "      <td>1</td>\n",
       "      <td>0</td>\n",
       "      <td>0</td>\n",
       "      <td>1</td>\n",
       "      <td>0</td>\n",
       "      <td>0</td>\n",
       "      <td>0</td>\n",
       "    </tr>\n",
       "    <tr>\n",
       "      <th>417</th>\n",
       "      <td>2019-10-01</td>\n",
       "      <td>Tigray</td>\n",
       "      <td>5357192</td>\n",
       "      <td>5357192</td>\n",
       "      <td>3136596</td>\n",
       "      <td>1280543</td>\n",
       "      <td>940053</td>\n",
       "      <td>0</td>\n",
       "      <td>0</td>\n",
       "      <td>3664795</td>\n",
       "      <td>...</td>\n",
       "      <td>5357192</td>\n",
       "      <td>2019</td>\n",
       "      <td>10</td>\n",
       "      <td>0</td>\n",
       "      <td>0</td>\n",
       "      <td>0</td>\n",
       "      <td>0</td>\n",
       "      <td>0</td>\n",
       "      <td>0</td>\n",
       "      <td>0</td>\n",
       "    </tr>\n",
       "  </tbody>\n",
       "</table>\n",
       "<p>418 rows × 29 columns</p>\n",
       "</div>"
      ],
      "text/plain": [
       "          date           ADM1_EN     Total  adjusted_population      CS_1  \\\n",
       "0   2009-07-01       Addis Ababa   3585647              2726821         0   \n",
       "1   2009-07-01              Afar   1904414              1448271         0   \n",
       "2   2009-07-01            Amhara  21790172             16571038   9531637   \n",
       "3   2009-07-01  Benishangul Gumz   1102849               838696    838696   \n",
       "4   2009-07-01         Dire Dawa    508918               387022         0   \n",
       "..         ...               ...       ...                  ...       ...   \n",
       "413 2019-10-01            Harari    260022               260022         0   \n",
       "414 2019-10-01            Oromia  37843293             37843293  24161597   \n",
       "415 2019-10-01              SNNP  20262695             20262695  10930317   \n",
       "416 2019-10-01            Somali   6216411              6216411         0   \n",
       "417 2019-10-01            Tigray   5357192              5357192   3136596   \n",
       "\n",
       "        CS_2     CS_3  CS_4  CS_5     ML1_1  ...  total_pop  year  month  \\\n",
       "0          0        0     0     0         0  ...          0  2009      7   \n",
       "1     702984   745287     0     0         0  ...    1448271  2009      7   \n",
       "2    1743855  5295546     0     0   9531637  ...   16571038  2009      7   \n",
       "3          0        0     0     0    838696  ...     838696  2009      7   \n",
       "4     387022        0     0     0         0  ...     387022  2009      7   \n",
       "..       ...      ...   ...   ...       ...  ...        ...   ...    ...   \n",
       "413   260022        0     0     0         0  ...     260022  2019     10   \n",
       "414  5485676  8196020     0     0  26396016  ...   37843293  2019     10   \n",
       "415  8200544  1131834     0     0  16067419  ...   20262695  2019     10   \n",
       "416  1886921  4329490     0     0         0  ...    6216411  2019     10   \n",
       "417  1280543   940053     0     0   3664795  ...    5357192  2019     10   \n",
       "\n",
       "     trigger_CS_3_20  trigger_CS_4_2  trigger_CS_4_20  trigger_ML1_3_5  \\\n",
       "0                  0               0                0                0   \n",
       "1                  1               0                0                1   \n",
       "2                  1               0                0                1   \n",
       "3                  0               0                0                0   \n",
       "4                  0               0                0                0   \n",
       "..               ...             ...              ...              ...   \n",
       "413                0               0                0                0   \n",
       "414                1               0                0                1   \n",
       "415                0               0                0                0   \n",
       "416                1               0                0                1   \n",
       "417                0               0                0                0   \n",
       "\n",
       "     trigger_ML1_4_2  trigger_ML1_3_30  trigger_ML1_3_5i  \n",
       "0                  0                 0                 0  \n",
       "1                  0                 1                 0  \n",
       "2                  0                 1                 0  \n",
       "3                  0                 0                 0  \n",
       "4                  0                 0                 0  \n",
       "..               ...               ...               ...  \n",
       "413                0                 0                 0  \n",
       "414                0                 0                 0  \n",
       "415                0                 0                 0  \n",
       "416                0                 0                 0  \n",
       "417                0                 0                 0  \n",
       "\n",
       "[418 rows x 29 columns]"
      ]
     },
     "execution_count": 89,
     "metadata": {},
     "output_type": "execute_result"
    }
   ],
   "source": [
    "df_ipc"
   ]
  },
  {
   "cell_type": "code",
   "execution_count": 88,
   "metadata": {},
   "outputs": [
    {
     "ename": "ValueError",
     "evalue": "Can only compare identically-labeled Series objects",
     "output_type": "error",
     "traceback": [
      "\u001b[0;31m---------------------------------------------------------------------------\u001b[0m",
      "\u001b[0;31mValueError\u001b[0m                                Traceback (most recent call last)",
      "\u001b[0;32m<ipython-input-88-54340b8d4096>\u001b[0m in \u001b[0;36m<module>\u001b[0;34m\u001b[0m\n\u001b[0;32m----> 1\u001b[0;31m \u001b[0mdf_ipc\u001b[0m\u001b[0;34m[\u001b[0m\u001b[0mdf_ipc\u001b[0m\u001b[0;34m.\u001b[0m\u001b[0mdate\u001b[0m\u001b[0;34m==\u001b[0m\u001b[0mb\u001b[0m\u001b[0;34m.\u001b[0m\u001b[0mdate\u001b[0m\u001b[0;34m]\u001b[0m\u001b[0;31m#[\"CS_4\",\"CS_5\"]\u001b[0m\u001b[0;34m\u001b[0m\u001b[0;34m\u001b[0m\u001b[0m\n\u001b[0m",
      "\u001b[0;32m~/opt/anaconda3/envs/aafi/lib/python3.8/site-packages/pandas/core/ops/common.py\u001b[0m in \u001b[0;36mnew_method\u001b[0;34m(self, other)\u001b[0m\n\u001b[1;32m     63\u001b[0m         \u001b[0mother\u001b[0m \u001b[0;34m=\u001b[0m \u001b[0mitem_from_zerodim\u001b[0m\u001b[0;34m(\u001b[0m\u001b[0mother\u001b[0m\u001b[0;34m)\u001b[0m\u001b[0;34m\u001b[0m\u001b[0;34m\u001b[0m\u001b[0m\n\u001b[1;32m     64\u001b[0m \u001b[0;34m\u001b[0m\u001b[0m\n\u001b[0;32m---> 65\u001b[0;31m         \u001b[0;32mreturn\u001b[0m \u001b[0mmethod\u001b[0m\u001b[0;34m(\u001b[0m\u001b[0mself\u001b[0m\u001b[0;34m,\u001b[0m \u001b[0mother\u001b[0m\u001b[0;34m)\u001b[0m\u001b[0;34m\u001b[0m\u001b[0;34m\u001b[0m\u001b[0m\n\u001b[0m\u001b[1;32m     66\u001b[0m \u001b[0;34m\u001b[0m\u001b[0m\n\u001b[1;32m     67\u001b[0m     \u001b[0;32mreturn\u001b[0m \u001b[0mnew_method\u001b[0m\u001b[0;34m\u001b[0m\u001b[0;34m\u001b[0m\u001b[0m\n",
      "\u001b[0;32m~/opt/anaconda3/envs/aafi/lib/python3.8/site-packages/pandas/core/ops/__init__.py\u001b[0m in \u001b[0;36mwrapper\u001b[0;34m(self, other)\u001b[0m\n\u001b[1;32m    363\u001b[0m \u001b[0;34m\u001b[0m\u001b[0m\n\u001b[1;32m    364\u001b[0m         \u001b[0;32mif\u001b[0m \u001b[0misinstance\u001b[0m\u001b[0;34m(\u001b[0m\u001b[0mother\u001b[0m\u001b[0;34m,\u001b[0m \u001b[0mABCSeries\u001b[0m\u001b[0;34m)\u001b[0m \u001b[0;32mand\u001b[0m \u001b[0;32mnot\u001b[0m \u001b[0mself\u001b[0m\u001b[0;34m.\u001b[0m\u001b[0m_indexed_same\u001b[0m\u001b[0;34m(\u001b[0m\u001b[0mother\u001b[0m\u001b[0;34m)\u001b[0m\u001b[0;34m:\u001b[0m\u001b[0;34m\u001b[0m\u001b[0;34m\u001b[0m\u001b[0m\n\u001b[0;32m--> 365\u001b[0;31m             \u001b[0;32mraise\u001b[0m \u001b[0mValueError\u001b[0m\u001b[0;34m(\u001b[0m\u001b[0;34m\"Can only compare identically-labeled Series objects\"\u001b[0m\u001b[0;34m)\u001b[0m\u001b[0;34m\u001b[0m\u001b[0;34m\u001b[0m\u001b[0m\n\u001b[0m\u001b[1;32m    366\u001b[0m \u001b[0;34m\u001b[0m\u001b[0m\n\u001b[1;32m    367\u001b[0m         \u001b[0mlvalues\u001b[0m \u001b[0;34m=\u001b[0m \u001b[0mextract_array\u001b[0m\u001b[0;34m(\u001b[0m\u001b[0mself\u001b[0m\u001b[0;34m,\u001b[0m \u001b[0mextract_numpy\u001b[0m\u001b[0;34m=\u001b[0m\u001b[0;32mTrue\u001b[0m\u001b[0;34m)\u001b[0m\u001b[0;34m\u001b[0m\u001b[0;34m\u001b[0m\u001b[0m\n",
      "\u001b[0;31mValueError\u001b[0m: Can only compare identically-labeled Series objects"
     ]
    }
   ],
   "source": [
    "# df_ipc[df_ipc.dste==b.date]#[\"CS_4\",\"CS_5\"]"
   ]
  },
  {
   "cell_type": "code",
   "execution_count": 84,
   "metadata": {},
   "outputs": [],
   "source": [
    "def get_stats(row,df,trigcols=[\"CS_4\",\"CS_5\"]):\n",
    "    pop_admtrig=row[trigcols].sum(axis=1)\n",
    "    d=row.date\n",
    "    pop_coutrig=df.loc[df.date==d,trigcols].sum()\n",
    "    "
   ]
  },
  {
   "cell_type": "code",
   "execution_count": null,
   "metadata": {},
   "outputs": [],
   "source": [
    "for d in df_snCS420.date.unique():\n",
    "    "
   ]
  },
  {
   "cell_type": "code",
   "execution_count": 15,
   "metadata": {},
   "outputs": [],
   "source": [
    "df_ipc[\"perc_CS4\"]=df_ipc[\"CS_4\"]/df_ipc[\"adjusted_population\"]*100"
   ]
  },
  {
   "cell_type": "code",
   "execution_count": 16,
   "metadata": {},
   "outputs": [
    {
     "data": {
      "text/plain": [
       "62.29253424719834"
      ]
     },
     "execution_count": 16,
     "metadata": {},
     "output_type": "execute_result"
    }
   ],
   "source": [
    "df_ipc.perc_CS4.max()"
   ]
  },
  {
   "cell_type": "code",
   "execution_count": 17,
   "metadata": {},
   "outputs": [
    {
     "data": {
      "text/html": [
       "<div>\n",
       "<style scoped>\n",
       "    .dataframe tbody tr th:only-of-type {\n",
       "        vertical-align: middle;\n",
       "    }\n",
       "\n",
       "    .dataframe tbody tr th {\n",
       "        vertical-align: top;\n",
       "    }\n",
       "\n",
       "    .dataframe thead th {\n",
       "        text-align: right;\n",
       "    }\n",
       "</style>\n",
       "<table border=\"1\" class=\"dataframe\">\n",
       "  <thead>\n",
       "    <tr style=\"text-align: right;\">\n",
       "      <th></th>\n",
       "      <th>date</th>\n",
       "      <th>ADM1_EN</th>\n",
       "      <th>Total</th>\n",
       "      <th>adjusted_population</th>\n",
       "      <th>CS_1</th>\n",
       "      <th>CS_2</th>\n",
       "      <th>CS_3</th>\n",
       "      <th>CS_4</th>\n",
       "      <th>CS_5</th>\n",
       "      <th>ML1_1</th>\n",
       "      <th>...</th>\n",
       "      <th>year</th>\n",
       "      <th>month</th>\n",
       "      <th>trigger_CS_3_20</th>\n",
       "      <th>trigger_CS_4_2</th>\n",
       "      <th>trigger_CS_4_20</th>\n",
       "      <th>trigger_ML1_3_5</th>\n",
       "      <th>trigger_ML1_4_2</th>\n",
       "      <th>trigger_ML1_3_30</th>\n",
       "      <th>trigger_ML1_3_5i</th>\n",
       "      <th>perc_CS4</th>\n",
       "    </tr>\n",
       "  </thead>\n",
       "  <tbody>\n",
       "    <tr>\n",
       "      <th>407</th>\n",
       "      <td>2019-10-01</td>\n",
       "      <td>Addis Ababa</td>\n",
       "      <td>3585647</td>\n",
       "      <td>3585647</td>\n",
       "      <td>3585647</td>\n",
       "      <td>0</td>\n",
       "      <td>0</td>\n",
       "      <td>0</td>\n",
       "      <td>0</td>\n",
       "      <td>3585647</td>\n",
       "      <td>...</td>\n",
       "      <td>2019</td>\n",
       "      <td>10</td>\n",
       "      <td>0</td>\n",
       "      <td>0</td>\n",
       "      <td>0</td>\n",
       "      <td>0</td>\n",
       "      <td>0</td>\n",
       "      <td>0</td>\n",
       "      <td>0</td>\n",
       "      <td>0.0</td>\n",
       "    </tr>\n",
       "    <tr>\n",
       "      <th>408</th>\n",
       "      <td>2019-10-01</td>\n",
       "      <td>Afar</td>\n",
       "      <td>1904414</td>\n",
       "      <td>1904414</td>\n",
       "      <td>0</td>\n",
       "      <td>1133795</td>\n",
       "      <td>770619</td>\n",
       "      <td>0</td>\n",
       "      <td>0</td>\n",
       "      <td>0</td>\n",
       "      <td>...</td>\n",
       "      <td>2019</td>\n",
       "      <td>10</td>\n",
       "      <td>1</td>\n",
       "      <td>0</td>\n",
       "      <td>0</td>\n",
       "      <td>1</td>\n",
       "      <td>0</td>\n",
       "      <td>1</td>\n",
       "      <td>0</td>\n",
       "      <td>0.0</td>\n",
       "    </tr>\n",
       "    <tr>\n",
       "      <th>409</th>\n",
       "      <td>2019-10-01</td>\n",
       "      <td>Amhara</td>\n",
       "      <td>21790172</td>\n",
       "      <td>21790172</td>\n",
       "      <td>12869611</td>\n",
       "      <td>8404104</td>\n",
       "      <td>516457</td>\n",
       "      <td>0</td>\n",
       "      <td>0</td>\n",
       "      <td>18746752</td>\n",
       "      <td>...</td>\n",
       "      <td>2019</td>\n",
       "      <td>10</td>\n",
       "      <td>0</td>\n",
       "      <td>0</td>\n",
       "      <td>0</td>\n",
       "      <td>0</td>\n",
       "      <td>0</td>\n",
       "      <td>0</td>\n",
       "      <td>0</td>\n",
       "      <td>0.0</td>\n",
       "    </tr>\n",
       "    <tr>\n",
       "      <th>410</th>\n",
       "      <td>2019-10-01</td>\n",
       "      <td>Benishangul Gumz</td>\n",
       "      <td>1102849</td>\n",
       "      <td>1102849</td>\n",
       "      <td>1102849</td>\n",
       "      <td>0</td>\n",
       "      <td>0</td>\n",
       "      <td>0</td>\n",
       "      <td>0</td>\n",
       "      <td>1102849</td>\n",
       "      <td>...</td>\n",
       "      <td>2019</td>\n",
       "      <td>10</td>\n",
       "      <td>0</td>\n",
       "      <td>0</td>\n",
       "      <td>0</td>\n",
       "      <td>0</td>\n",
       "      <td>0</td>\n",
       "      <td>0</td>\n",
       "      <td>0</td>\n",
       "      <td>0.0</td>\n",
       "    </tr>\n",
       "    <tr>\n",
       "      <th>411</th>\n",
       "      <td>2019-10-01</td>\n",
       "      <td>Dire Dawa</td>\n",
       "      <td>508918</td>\n",
       "      <td>508918</td>\n",
       "      <td>319985</td>\n",
       "      <td>188933</td>\n",
       "      <td>0</td>\n",
       "      <td>0</td>\n",
       "      <td>0</td>\n",
       "      <td>319985</td>\n",
       "      <td>...</td>\n",
       "      <td>2019</td>\n",
       "      <td>10</td>\n",
       "      <td>0</td>\n",
       "      <td>0</td>\n",
       "      <td>0</td>\n",
       "      <td>0</td>\n",
       "      <td>0</td>\n",
       "      <td>0</td>\n",
       "      <td>0</td>\n",
       "      <td>0.0</td>\n",
       "    </tr>\n",
       "    <tr>\n",
       "      <th>412</th>\n",
       "      <td>2019-10-01</td>\n",
       "      <td>Gambela</td>\n",
       "      <td>462832</td>\n",
       "      <td>462832</td>\n",
       "      <td>462832</td>\n",
       "      <td>0</td>\n",
       "      <td>0</td>\n",
       "      <td>0</td>\n",
       "      <td>0</td>\n",
       "      <td>462832</td>\n",
       "      <td>...</td>\n",
       "      <td>2019</td>\n",
       "      <td>10</td>\n",
       "      <td>0</td>\n",
       "      <td>0</td>\n",
       "      <td>0</td>\n",
       "      <td>0</td>\n",
       "      <td>0</td>\n",
       "      <td>0</td>\n",
       "      <td>0</td>\n",
       "      <td>0.0</td>\n",
       "    </tr>\n",
       "    <tr>\n",
       "      <th>413</th>\n",
       "      <td>2019-10-01</td>\n",
       "      <td>Harari</td>\n",
       "      <td>260022</td>\n",
       "      <td>260022</td>\n",
       "      <td>0</td>\n",
       "      <td>260022</td>\n",
       "      <td>0</td>\n",
       "      <td>0</td>\n",
       "      <td>0</td>\n",
       "      <td>0</td>\n",
       "      <td>...</td>\n",
       "      <td>2019</td>\n",
       "      <td>10</td>\n",
       "      <td>0</td>\n",
       "      <td>0</td>\n",
       "      <td>0</td>\n",
       "      <td>0</td>\n",
       "      <td>0</td>\n",
       "      <td>0</td>\n",
       "      <td>0</td>\n",
       "      <td>0.0</td>\n",
       "    </tr>\n",
       "    <tr>\n",
       "      <th>414</th>\n",
       "      <td>2019-10-01</td>\n",
       "      <td>Oromia</td>\n",
       "      <td>37843293</td>\n",
       "      <td>37843293</td>\n",
       "      <td>24161597</td>\n",
       "      <td>5485676</td>\n",
       "      <td>8196020</td>\n",
       "      <td>0</td>\n",
       "      <td>0</td>\n",
       "      <td>26396016</td>\n",
       "      <td>...</td>\n",
       "      <td>2019</td>\n",
       "      <td>10</td>\n",
       "      <td>1</td>\n",
       "      <td>0</td>\n",
       "      <td>0</td>\n",
       "      <td>1</td>\n",
       "      <td>0</td>\n",
       "      <td>0</td>\n",
       "      <td>0</td>\n",
       "      <td>0.0</td>\n",
       "    </tr>\n",
       "    <tr>\n",
       "      <th>415</th>\n",
       "      <td>2019-10-01</td>\n",
       "      <td>SNNP</td>\n",
       "      <td>20262695</td>\n",
       "      <td>20262695</td>\n",
       "      <td>10930317</td>\n",
       "      <td>8200544</td>\n",
       "      <td>1131834</td>\n",
       "      <td>0</td>\n",
       "      <td>0</td>\n",
       "      <td>16067419</td>\n",
       "      <td>...</td>\n",
       "      <td>2019</td>\n",
       "      <td>10</td>\n",
       "      <td>0</td>\n",
       "      <td>0</td>\n",
       "      <td>0</td>\n",
       "      <td>0</td>\n",
       "      <td>0</td>\n",
       "      <td>0</td>\n",
       "      <td>0</td>\n",
       "      <td>0.0</td>\n",
       "    </tr>\n",
       "    <tr>\n",
       "      <th>416</th>\n",
       "      <td>2019-10-01</td>\n",
       "      <td>Somali</td>\n",
       "      <td>6216411</td>\n",
       "      <td>6216411</td>\n",
       "      <td>0</td>\n",
       "      <td>1886921</td>\n",
       "      <td>4329490</td>\n",
       "      <td>0</td>\n",
       "      <td>0</td>\n",
       "      <td>0</td>\n",
       "      <td>...</td>\n",
       "      <td>2019</td>\n",
       "      <td>10</td>\n",
       "      <td>1</td>\n",
       "      <td>0</td>\n",
       "      <td>0</td>\n",
       "      <td>1</td>\n",
       "      <td>0</td>\n",
       "      <td>0</td>\n",
       "      <td>0</td>\n",
       "      <td>0.0</td>\n",
       "    </tr>\n",
       "    <tr>\n",
       "      <th>417</th>\n",
       "      <td>2019-10-01</td>\n",
       "      <td>Tigray</td>\n",
       "      <td>5357192</td>\n",
       "      <td>5357192</td>\n",
       "      <td>3136596</td>\n",
       "      <td>1280543</td>\n",
       "      <td>940053</td>\n",
       "      <td>0</td>\n",
       "      <td>0</td>\n",
       "      <td>3664795</td>\n",
       "      <td>...</td>\n",
       "      <td>2019</td>\n",
       "      <td>10</td>\n",
       "      <td>0</td>\n",
       "      <td>0</td>\n",
       "      <td>0</td>\n",
       "      <td>0</td>\n",
       "      <td>0</td>\n",
       "      <td>0</td>\n",
       "      <td>0</td>\n",
       "      <td>0.0</td>\n",
       "    </tr>\n",
       "  </tbody>\n",
       "</table>\n",
       "<p>11 rows × 30 columns</p>\n",
       "</div>"
      ],
      "text/plain": [
       "          date           ADM1_EN     Total  adjusted_population      CS_1  \\\n",
       "407 2019-10-01       Addis Ababa   3585647              3585647   3585647   \n",
       "408 2019-10-01              Afar   1904414              1904414         0   \n",
       "409 2019-10-01            Amhara  21790172             21790172  12869611   \n",
       "410 2019-10-01  Benishangul Gumz   1102849              1102849   1102849   \n",
       "411 2019-10-01         Dire Dawa    508918               508918    319985   \n",
       "412 2019-10-01           Gambela    462832               462832    462832   \n",
       "413 2019-10-01            Harari    260022               260022         0   \n",
       "414 2019-10-01            Oromia  37843293             37843293  24161597   \n",
       "415 2019-10-01              SNNP  20262695             20262695  10930317   \n",
       "416 2019-10-01            Somali   6216411              6216411         0   \n",
       "417 2019-10-01            Tigray   5357192              5357192   3136596   \n",
       "\n",
       "        CS_2     CS_3  CS_4  CS_5     ML1_1  ...  year  month  \\\n",
       "407        0        0     0     0   3585647  ...  2019     10   \n",
       "408  1133795   770619     0     0         0  ...  2019     10   \n",
       "409  8404104   516457     0     0  18746752  ...  2019     10   \n",
       "410        0        0     0     0   1102849  ...  2019     10   \n",
       "411   188933        0     0     0    319985  ...  2019     10   \n",
       "412        0        0     0     0    462832  ...  2019     10   \n",
       "413   260022        0     0     0         0  ...  2019     10   \n",
       "414  5485676  8196020     0     0  26396016  ...  2019     10   \n",
       "415  8200544  1131834     0     0  16067419  ...  2019     10   \n",
       "416  1886921  4329490     0     0         0  ...  2019     10   \n",
       "417  1280543   940053     0     0   3664795  ...  2019     10   \n",
       "\n",
       "     trigger_CS_3_20  trigger_CS_4_2  trigger_CS_4_20  trigger_ML1_3_5  \\\n",
       "407                0               0                0                0   \n",
       "408                1               0                0                1   \n",
       "409                0               0                0                0   \n",
       "410                0               0                0                0   \n",
       "411                0               0                0                0   \n",
       "412                0               0                0                0   \n",
       "413                0               0                0                0   \n",
       "414                1               0                0                1   \n",
       "415                0               0                0                0   \n",
       "416                1               0                0                1   \n",
       "417                0               0                0                0   \n",
       "\n",
       "     trigger_ML1_4_2  trigger_ML1_3_30  trigger_ML1_3_5i  perc_CS4  \n",
       "407                0                 0                 0       0.0  \n",
       "408                0                 1                 0       0.0  \n",
       "409                0                 0                 0       0.0  \n",
       "410                0                 0                 0       0.0  \n",
       "411                0                 0                 0       0.0  \n",
       "412                0                 0                 0       0.0  \n",
       "413                0                 0                 0       0.0  \n",
       "414                0                 0                 0       0.0  \n",
       "415                0                 0                 0       0.0  \n",
       "416                0                 0                 0       0.0  \n",
       "417                0                 0                 0       0.0  \n",
       "\n",
       "[11 rows x 30 columns]"
      ]
     },
     "execution_count": 17,
     "metadata": {},
     "output_type": "execute_result"
    }
   ],
   "source": [
    "df_ipc[df_ipc.date==\"2019-10\"]#[\"perc_CS4\"]"
   ]
  },
  {
   "cell_type": "code",
   "execution_count": 18,
   "metadata": {},
   "outputs": [],
   "source": [
    "import seaborn as sns"
   ]
  },
  {
   "cell_type": "code",
   "execution_count": 19,
   "metadata": {},
   "outputs": [
    {
     "data": {
      "text/plain": [
       "Index(['date', 'ADM1_EN', 'Total', 'adjusted_population', 'CS_1', 'CS_2',\n",
       "       'CS_3', 'CS_4', 'CS_5', 'ML1_1', 'ML1_2', 'ML1_3', 'ML1_4', 'ML1_5',\n",
       "       'ML2_1', 'ML2_2', 'ML2_3', 'ML2_4', 'ML2_5', 'total_pop', 'year',\n",
       "       'month', 'trigger_CS_3_20', 'trigger_CS_4_2', 'trigger_CS_4_20',\n",
       "       'trigger_ML1_3_5', 'trigger_ML1_4_2', 'trigger_ML1_3_30',\n",
       "       'trigger_ML1_3_5i', 'perc_CS4'],\n",
       "      dtype='object')"
      ]
     },
     "execution_count": 19,
     "metadata": {},
     "output_type": "execute_result"
    }
   ],
   "source": [
    "df_ipc.columns"
   ]
  },
  {
   "cell_type": "code",
   "execution_count": 20,
   "metadata": {},
   "outputs": [
    {
     "data": {
      "text/plain": [
       "0.000000     402\n",
       "2.370135       1\n",
       "3.917398       1\n",
       "6.429119       1\n",
       "8.905067       1\n",
       "10.363119      1\n",
       "10.363126      1\n",
       "14.773934      1\n",
       "14.773947      1\n",
       "16.670121      1\n",
       "25.397149      1\n",
       "35.931005      1\n",
       "40.672921      2\n",
       "43.631949      1\n",
       "43.631971      1\n",
       "62.292534      1\n",
       "Name: perc_CS4, dtype: int64"
      ]
     },
     "execution_count": 20,
     "metadata": {},
     "output_type": "execute_result"
    }
   ],
   "source": [
    "df_ipc[\"perc_CS4\"].value_counts().sort_index()"
   ]
  },
  {
   "cell_type": "code",
   "execution_count": 21,
   "metadata": {},
   "outputs": [],
   "source": [
    "# sns.distplot(df_ipc[\"perc_CS4\"])#,binwidth=1)#,x=\"perc_CS4\")"
   ]
  },
  {
   "cell_type": "code",
   "execution_count": 22,
   "metadata": {},
   "outputs": [],
   "source": [
    "# # set the range for the choropleth\n",
    "# vmin, vmax = 0,1\n",
    "# # create figure and axes for Matplotlib\n",
    "# fig, ax = plt.subplots(1, figsize=(10, 6))\n",
    "\n",
    "# shape_path=\"Data/ET_Admin2_OCHA_2019/eth_admbnda_adm2_csa_bofed_20190827.shp\"\n",
    "# gdf = gpd.read_file(shape_path)[[\"ADM1_EN\",\"ADM2_EN\",\"geometry\"]]\n",
    "# merged = gdf.set_index(\"ADM1_EN\").join(df_ipc[df_ipc.date==\"2017-10\"].set_index(\"ADM1_EN\"))\n",
    "# merged.plot(column=\"perc_CS4\", cmap=\"Blues\", linewidth=0.8, ax=ax, edgecolor='0.8')"
   ]
  },
  {
   "cell_type": "code",
   "execution_count": 23,
   "metadata": {},
   "outputs": [],
   "source": [
    "def plot_regions_trig(df_trig,adm0c=\"ADM0_EN\",adm1c=\"ADM1_EN\",shape_path=\"Data/ET_Admin2_OCHA_2019/eth_admbnda_adm2_csa_bofed_20190827.shp\"):\n",
    "     #'ET_Admin2_2014/ET_Admin2_2014.shp'\n",
    "    gdf = gpd.read_file(shape_path)\n",
    "\n",
    "    count = 1\n",
    "    f, ax = plt.subplots(figsize=(12,12))\n",
    "    for d in ['2009', '2010', '2011', '2012', '2013', '2014', '2015', '2016', '2017', '2018', '2019']:\n",
    "        ax2 = plt.subplot(4, 4, count)\n",
    "        gdf.plot(ax=ax2, color='#DDDDDD', edgecolor='#BBBBBB')\n",
    "        regions = df_trig[adm1c].loc[df_trig['year'].astype(str)==d]\n",
    "        gdf.loc[gdf[adm1c].isin(regions)].plot(ax=ax2, color='red')\n",
    "        plt.title(\"Regions triggered\")\n",
    "        count+=1\n",
    "    plt.show()"
   ]
  },
  {
   "cell_type": "code",
   "execution_count": 24,
   "metadata": {},
   "outputs": [
    {
     "name": "stderr",
     "output_type": "stream",
     "text": [
      "/Users/tinkavalentijn/opt/anaconda3/envs/aafi/lib/python3.8/site-packages/geopandas/plotting.py:484: UserWarning: The GeoDataFrame you are attempting to plot is empty. Nothing has been displayed.\n",
      "  warnings.warn(\n",
      "/Users/tinkavalentijn/opt/anaconda3/envs/aafi/lib/python3.8/site-packages/geopandas/plotting.py:484: UserWarning: The GeoDataFrame you are attempting to plot is empty. Nothing has been displayed.\n",
      "  warnings.warn(\n",
      "/Users/tinkavalentijn/opt/anaconda3/envs/aafi/lib/python3.8/site-packages/geopandas/plotting.py:484: UserWarning: The GeoDataFrame you are attempting to plot is empty. Nothing has been displayed.\n",
      "  warnings.warn(\n",
      "/Users/tinkavalentijn/opt/anaconda3/envs/aafi/lib/python3.8/site-packages/geopandas/plotting.py:484: UserWarning: The GeoDataFrame you are attempting to plot is empty. Nothing has been displayed.\n",
      "  warnings.warn(\n",
      "/Users/tinkavalentijn/opt/anaconda3/envs/aafi/lib/python3.8/site-packages/geopandas/plotting.py:484: UserWarning: The GeoDataFrame you are attempting to plot is empty. Nothing has been displayed.\n",
      "  warnings.warn(\n",
      "/Users/tinkavalentijn/opt/anaconda3/envs/aafi/lib/python3.8/site-packages/geopandas/plotting.py:484: UserWarning: The GeoDataFrame you are attempting to plot is empty. Nothing has been displayed.\n",
      "  warnings.warn(\n",
      "/Users/tinkavalentijn/opt/anaconda3/envs/aafi/lib/python3.8/site-packages/geopandas/plotting.py:484: UserWarning: The GeoDataFrame you are attempting to plot is empty. Nothing has been displayed.\n",
      "  warnings.warn(\n",
      "/Users/tinkavalentijn/opt/anaconda3/envs/aafi/lib/python3.8/site-packages/geopandas/plotting.py:484: UserWarning: The GeoDataFrame you are attempting to plot is empty. Nothing has been displayed.\n",
      "  warnings.warn(\n"
     ]
    },
    {
     "data": {
      "image/png": "[encoded data removed]",
      "text/plain": [
       "<Figure size 864x864 with 11 Axes>"
      ]
     },
     "metadata": {
      "needs_background": "light"
     },
     "output_type": "display_data"
    }
   ],
   "source": [
    "plot_regions_trig(df_snCS420)"
   ]
  },
  {
   "cell_type": "code",
   "execution_count": 25,
   "metadata": {},
   "outputs": [],
   "source": [
    "import plotly.graph_objects as go"
   ]
  },
  {
   "cell_type": "code",
   "execution_count": 36,
   "metadata": {},
   "outputs": [
    {
     "data": {
      "application/vnd.plotly.v1+json": {
       "config": {
        "plotlyServerURL": "https://plot.ly"
       },
       "data": [
        {
         "marker": {
          "color": "#551010"
         },
         "name": "CS_5",
         "type": "bar",
         "x": [
          "2009-07-01T00:00:00",
          "2009-10-01T00:00:00",
          "2010-01-01T00:00:00",
          "2010-04-01T00:00:00",
          "2010-07-01T00:00:00",
          "2010-10-01T00:00:00",
          "2011-01-01T00:00:00",
          "2011-04-01T00:00:00",
          "2011-07-01T00:00:00",
          "2011-10-01T00:00:00",
          "2012-01-01T00:00:00",
          "2012-04-01T00:00:00",
          "2012-07-01T00:00:00",
          "2012-10-01T00:00:00",
          "2013-01-01T00:00:00",
          "2013-04-01T00:00:00",
          "2013-07-01T00:00:00",
          "2013-10-01T00:00:00",
          "2014-01-01T00:00:00",
          "2014-04-01T00:00:00",
          "2014-07-01T00:00:00",
          "2014-10-01T00:00:00",
          "2015-01-01T00:00:00",
          "2015-04-01T00:00:00",
          "2015-07-01T00:00:00",
          "2015-10-01T00:00:00",
          "2016-02-01T00:00:00",
          "2016-06-01T00:00:00",
          "2016-10-01T00:00:00",
          "2017-06-01T00:00:00",
          "2017-10-01T00:00:00",
          "2018-02-01T00:00:00",
          "2018-06-01T00:00:00",
          "2018-10-01T00:00:00",
          "2018-12-01T00:00:00",
          "2019-02-01T00:00:00",
          "2019-06-01T00:00:00",
          "2019-10-01T00:00:00"
         ],
         "y": [
          0,
          0,
          0,
          0,
          0,
          0,
          0,
          0,
          0,
          0,
          0,
          0,
          0,
          0,
          0,
          0,
          0,
          0,
          0,
          0,
          0,
          0,
          0,
          0,
          0,
          0,
          0,
          0,
          0,
          0,
          0,
          0,
          0,
          0,
          0,
          0,
          0,
          0
         ]
        },
        {
         "marker": {
          "color": "#BD3430"
         },
         "name": "CS_4",
         "type": "bar",
         "x": [
          "2009-07-01T00:00:00",
          "2009-10-01T00:00:00",
          "2010-01-01T00:00:00",
          "2010-04-01T00:00:00",
          "2010-07-01T00:00:00",
          "2010-10-01T00:00:00",
          "2011-01-01T00:00:00",
          "2011-04-01T00:00:00",
          "2011-07-01T00:00:00",
          "2011-10-01T00:00:00",
          "2012-01-01T00:00:00",
          "2012-04-01T00:00:00",
          "2012-07-01T00:00:00",
          "2012-10-01T00:00:00",
          "2013-01-01T00:00:00",
          "2013-04-01T00:00:00",
          "2013-07-01T00:00:00",
          "2013-10-01T00:00:00",
          "2014-01-01T00:00:00",
          "2014-04-01T00:00:00",
          "2014-07-01T00:00:00",
          "2014-10-01T00:00:00",
          "2015-01-01T00:00:00",
          "2015-04-01T00:00:00",
          "2015-07-01T00:00:00",
          "2015-10-01T00:00:00",
          "2016-02-01T00:00:00",
          "2016-06-01T00:00:00",
          "2016-10-01T00:00:00",
          "2017-06-01T00:00:00",
          "2017-10-01T00:00:00",
          "2018-02-01T00:00:00",
          "2018-06-01T00:00:00",
          "2018-10-01T00:00:00",
          "2018-12-01T00:00:00",
          "2019-02-01T00:00:00",
          "2019-06-01T00:00:00",
          "2019-10-01T00:00:00"
         ],
         "y": [
          0,
          0,
          0,
          0,
          0,
          0,
          0,
          0,
          1956745,
          2710316,
          1226505,
          0,
          0,
          0,
          0,
          0,
          0,
          0,
          0,
          0,
          0,
          0,
          0,
          0,
          0,
          0,
          5831480,
          0,
          0,
          0,
          0,
          0,
          0,
          0,
          0,
          0,
          0,
          0
         ]
        },
        {
         "marker": {
          "color": "#DD8236"
         },
         "name": "CS_3",
         "type": "bar",
         "x": [
          "2009-07-01T00:00:00",
          "2009-10-01T00:00:00",
          "2010-01-01T00:00:00",
          "2010-04-01T00:00:00",
          "2010-07-01T00:00:00",
          "2010-10-01T00:00:00",
          "2011-01-01T00:00:00",
          "2011-04-01T00:00:00",
          "2011-07-01T00:00:00",
          "2011-10-01T00:00:00",
          "2012-01-01T00:00:00",
          "2012-04-01T00:00:00",
          "2012-07-01T00:00:00",
          "2012-10-01T00:00:00",
          "2013-01-01T00:00:00",
          "2013-04-01T00:00:00",
          "2013-07-01T00:00:00",
          "2013-10-01T00:00:00",
          "2014-01-01T00:00:00",
          "2014-04-01T00:00:00",
          "2014-07-01T00:00:00",
          "2014-10-01T00:00:00",
          "2015-01-01T00:00:00",
          "2015-04-01T00:00:00",
          "2015-07-01T00:00:00",
          "2015-10-01T00:00:00",
          "2016-02-01T00:00:00",
          "2016-06-01T00:00:00",
          "2016-10-01T00:00:00",
          "2017-06-01T00:00:00",
          "2017-10-01T00:00:00",
          "2018-02-01T00:00:00",
          "2018-06-01T00:00:00",
          "2018-10-01T00:00:00",
          "2018-12-01T00:00:00",
          "2019-02-01T00:00:00",
          "2019-06-01T00:00:00",
          "2019-10-01T00:00:00"
         ],
         "y": [
          13659556,
          13659556,
          3061695,
          6680151,
          6680151,
          6680151,
          8222693,
          6156834,
          12489047,
          1422554,
          3024979,
          4251484,
          8126866,
          0,
          5368934,
          6975309,
          6753518,
          0,
          0,
          0,
          0,
          0,
          490771,
          2801754,
          4892116,
          10267080,
          4717443,
          8483468,
          0,
          1925213,
          0,
          2371032,
          3644622,
          6147870,
          0,
          3739861,
          10223985,
          8196020
         ]
        },
        {
         "marker": {
          "color": "#F2E65D"
         },
         "name": "CS_2",
         "type": "bar",
         "x": [
          "2009-07-01T00:00:00",
          "2009-10-01T00:00:00",
          "2010-01-01T00:00:00",
          "2010-04-01T00:00:00",
          "2010-07-01T00:00:00",
          "2010-10-01T00:00:00",
          "2011-01-01T00:00:00",
          "2011-04-01T00:00:00",
          "2011-07-01T00:00:00",
          "2011-10-01T00:00:00",
          "2012-01-01T00:00:00",
          "2012-04-01T00:00:00",
          "2012-07-01T00:00:00",
          "2012-10-01T00:00:00",
          "2013-01-01T00:00:00",
          "2013-04-01T00:00:00",
          "2013-07-01T00:00:00",
          "2013-10-01T00:00:00",
          "2014-01-01T00:00:00",
          "2014-04-01T00:00:00",
          "2014-07-01T00:00:00",
          "2014-10-01T00:00:00",
          "2015-01-01T00:00:00",
          "2015-04-01T00:00:00",
          "2015-07-01T00:00:00",
          "2015-10-01T00:00:00",
          "2016-02-01T00:00:00",
          "2016-06-01T00:00:00",
          "2016-10-01T00:00:00",
          "2017-06-01T00:00:00",
          "2017-10-01T00:00:00",
          "2018-02-01T00:00:00",
          "2018-06-01T00:00:00",
          "2018-10-01T00:00:00",
          "2018-12-01T00:00:00",
          "2019-02-01T00:00:00",
          "2019-06-01T00:00:00",
          "2019-10-01T00:00:00"
         ],
         "y": [
          3346726,
          3346726,
          16171857,
          5343676,
          9150821,
          9150821,
          9328579,
          13625362,
          5336404,
          5073662,
          5219278,
          9581321,
          10374468,
          10816752,
          6431785,
          4151599,
          4373390,
          16131067,
          0,
          12656320,
          13953818,
          5093743,
          6225872,
          10559373,
          8833407,
          6932403,
          7122705,
          9188160,
          20172785,
          11063268,
          13920190,
          8784728,
          6066419,
          3563171,
          0,
          6224944,
          3457711,
          5485676
         ]
        },
        {
         "marker": {
          "color": "#C9E1C5"
         },
         "name": "CS_1",
         "type": "bar",
         "x": [
          "2009-07-01T00:00:00",
          "2009-10-01T00:00:00",
          "2010-01-01T00:00:00",
          "2010-04-01T00:00:00",
          "2010-07-01T00:00:00",
          "2010-10-01T00:00:00",
          "2011-01-01T00:00:00",
          "2011-04-01T00:00:00",
          "2011-07-01T00:00:00",
          "2011-10-01T00:00:00",
          "2012-01-01T00:00:00",
          "2012-04-01T00:00:00",
          "2012-07-01T00:00:00",
          "2012-10-01T00:00:00",
          "2013-01-01T00:00:00",
          "2013-04-01T00:00:00",
          "2013-07-01T00:00:00",
          "2013-10-01T00:00:00",
          "2014-01-01T00:00:00",
          "2014-04-01T00:00:00",
          "2014-07-01T00:00:00",
          "2014-10-01T00:00:00",
          "2015-01-01T00:00:00",
          "2015-04-01T00:00:00",
          "2015-07-01T00:00:00",
          "2015-10-01T00:00:00",
          "2016-02-01T00:00:00",
          "2016-06-01T00:00:00",
          "2016-10-01T00:00:00",
          "2017-06-01T00:00:00",
          "2017-10-01T00:00:00",
          "2018-02-01T00:00:00",
          "2018-06-01T00:00:00",
          "2018-10-01T00:00:00",
          "2018-12-01T00:00:00",
          "2019-02-01T00:00:00",
          "2019-06-01T00:00:00",
          "2019-10-01T00:00:00"
         ],
         "y": [
          11772870,
          11772870,
          10358000,
          17567725,
          13760580,
          13760580,
          12884390,
          10653466,
          10653466,
          21229130,
          21838416,
          17476373,
          12807844,
          20492426,
          20406205,
          21080016,
          21080016,
          16075857,
          33121436,
          20465116,
          19167618,
          28027693,
          27330357,
          20685873,
          20321477,
          16847517,
          17310001,
          17310001,
          14808844,
          22937392,
          22005683,
          25723812,
          27168531,
          27168531,
          0,
          27878488,
          24161597,
          24161597
         ]
        },
        {
         "line": {
          "color": "Red"
         },
         "name": "10%",
         "type": "scatter",
         "x": [
          "2009-07-01T00:00:00",
          "2009-10-01T00:00:00",
          "2010-01-01T00:00:00",
          "2010-04-01T00:00:00",
          "2010-07-01T00:00:00",
          "2010-10-01T00:00:00",
          "2011-01-01T00:00:00",
          "2011-04-01T00:00:00",
          "2011-07-01T00:00:00",
          "2011-10-01T00:00:00",
          "2012-01-01T00:00:00",
          "2012-04-01T00:00:00",
          "2012-07-01T00:00:00",
          "2012-10-01T00:00:00",
          "2013-01-01T00:00:00",
          "2013-04-01T00:00:00",
          "2013-07-01T00:00:00",
          "2013-10-01T00:00:00",
          "2014-01-01T00:00:00",
          "2014-04-01T00:00:00",
          "2014-07-01T00:00:00",
          "2014-10-01T00:00:00",
          "2015-01-01T00:00:00",
          "2015-04-01T00:00:00",
          "2015-07-01T00:00:00",
          "2015-10-01T00:00:00",
          "2016-02-01T00:00:00",
          "2016-06-01T00:00:00",
          "2016-10-01T00:00:00",
          "2017-06-01T00:00:00",
          "2017-10-01T00:00:00",
          "2018-02-01T00:00:00",
          "2018-06-01T00:00:00",
          "2018-10-01T00:00:00",
          "2018-12-01T00:00:00",
          "2019-02-01T00:00:00",
          "2019-06-01T00:00:00",
          "2019-10-01T00:00:00"
         ],
         "y": [
          2877915.2,
          2877915.2,
          2959155.2,
          2959155.2,
          2959155.2,
          2959155.2,
          3043566.2,
          3043566.2,
          3043566.2,
          3043566.2,
          3130917.8,
          3130917.8,
          3130917.8,
          3130917.8,
          3220692.4,
          3220692.4,
          3220692.4,
          3220692.4,
          3312143.6,
          3312143.6,
          3312143.6,
          3312143.6,
          3404700,
          3404700,
          3404700,
          3404700,
          3498162.9,
          3498162.9,
          3498162.9,
          3592587.3,
          3592587.3,
          3687957.2,
          3687957.2,
          3687957.2,
          3687957.2,
          3784329.3,
          3784329.3,
          3784329.3
         ]
        },
        {
         "line": {
          "color": "black"
         },
         "name": "20%",
         "type": "scatter",
         "x": [
          "2009-07-01T00:00:00",
          "2009-10-01T00:00:00",
          "2010-01-01T00:00:00",
          "2010-04-01T00:00:00",
          "2010-07-01T00:00:00",
          "2010-10-01T00:00:00",
          "2011-01-01T00:00:00",
          "2011-04-01T00:00:00",
          "2011-07-01T00:00:00",
          "2011-10-01T00:00:00",
          "2012-01-01T00:00:00",
          "2012-04-01T00:00:00",
          "2012-07-01T00:00:00",
          "2012-10-01T00:00:00",
          "2013-01-01T00:00:00",
          "2013-04-01T00:00:00",
          "2013-07-01T00:00:00",
          "2013-10-01T00:00:00",
          "2014-01-01T00:00:00",
          "2014-04-01T00:00:00",
          "2014-07-01T00:00:00",
          "2014-10-01T00:00:00",
          "2015-01-01T00:00:00",
          "2015-04-01T00:00:00",
          "2015-07-01T00:00:00",
          "2015-10-01T00:00:00",
          "2016-02-01T00:00:00",
          "2016-06-01T00:00:00",
          "2016-10-01T00:00:00",
          "2017-06-01T00:00:00",
          "2017-10-01T00:00:00",
          "2018-02-01T00:00:00",
          "2018-06-01T00:00:00",
          "2018-10-01T00:00:00",
          "2018-12-01T00:00:00",
          "2019-02-01T00:00:00",
          "2019-06-01T00:00:00",
          "2019-10-01T00:00:00"
         ],
         "y": [
          5755830.4,
          5755830.4,
          5918310.4,
          5918310.4,
          5918310.4,
          5918310.4,
          6087132.4,
          6087132.4,
          6087132.4,
          6087132.4,
          6261835.6,
          6261835.6,
          6261835.6,
          6261835.6,
          6441384.8,
          6441384.8,
          6441384.8,
          6441384.8,
          6624287.2,
          6624287.2,
          6624287.2,
          6624287.2,
          6809400,
          6809400,
          6809400,
          6809400,
          6996325.8,
          6996325.8,
          6996325.8,
          7185174.6,
          7185174.6,
          7375914.4,
          7375914.4,
          7375914.4,
          7375914.4,
          7568658.6,
          7568658.6,
          7568658.6
         ]
        }
       ],
       "layout": {
        "autosize": true,
        "barmode": "stack",
        "template": {
         "data": {
          "bar": [
           {
            "error_x": {
             "color": "#2a3f5f"
            },
            "error_y": {
             "color": "#2a3f5f"
            },
            "marker": {
             "line": {
              "color": "#E5ECF6",
              "width": 0.5
             }
            },
            "type": "bar"
           }
          ],
          "barpolar": [
           {
            "marker": {
             "line": {
              "color": "#E5ECF6",
              "width": 0.5
             }
            },
            "type": "barpolar"
           }
          ],
          "carpet": [
           {
            "aaxis": {
             "endlinecolor": "#2a3f5f",
             "gridcolor": "white",
             "linecolor": "white",
             "minorgridcolor": "white",
             "startlinecolor": "#2a3f5f"
            },
            "baxis": {
             "endlinecolor": "#2a3f5f",
             "gridcolor": "white",
             "linecolor": "white",
             "minorgridcolor": "white",
             "startlinecolor": "#2a3f5f"
            },
            "type": "carpet"
           }
          ],
          "choropleth": [
           {
            "colorbar": {
             "outlinewidth": 0,
             "ticks": ""
            },
            "type": "choropleth"
           }
          ],
          "contour": [
           {
            "colorbar": {
             "outlinewidth": 0,
             "ticks": ""
            },
            "colorscale": [
             [
              0,
              "#0d0887"
             ],
             [
              0.1111111111111111,
              "#46039f"
             ],
             [
              0.2222222222222222,
              "#7201a8"
             ],
             [
              0.3333333333333333,
              "#9c179e"
             ],
             [
              0.4444444444444444,
              "#bd3786"
             ],
             [
              0.5555555555555556,
              "#d8576b"
             ],
             [
              0.6666666666666666,
              "#ed7953"
             ],
             [
              0.7777777777777778,
              "#fb9f3a"
             ],
             [
              0.8888888888888888,
              "#fdca26"
             ],
             [
              1,
              "#f0f921"
             ]
            ],
            "type": "contour"
           }
          ],
          "contourcarpet": [
           {
            "colorbar": {
             "outlinewidth": 0,
             "ticks": ""
            },
            "type": "contourcarpet"
           }
          ],
          "heatmap": [
           {
            "colorbar": {
             "outlinewidth": 0,
             "ticks": ""
            },
            "colorscale": [
             [
              0,
              "#0d0887"
             ],
             [
              0.1111111111111111,
              "#46039f"
             ],
             [
              0.2222222222222222,
              "#7201a8"
             ],
             [
              0.3333333333333333,
              "#9c179e"
             ],
             [
              0.4444444444444444,
              "#bd3786"
             ],
             [
              0.5555555555555556,
              "#d8576b"
             ],
             [
              0.6666666666666666,
              "#ed7953"
             ],
             [
              0.7777777777777778,
              "#fb9f3a"
             ],
             [
              0.8888888888888888,
              "#fdca26"
             ],
             [
              1,
              "#f0f921"
             ]
            ],
            "type": "heatmap"
           }
          ],
          "heatmapgl": [
           {
            "colorbar": {
             "outlinewidth": 0,
             "ticks": ""
            },
            "colorscale": [
             [
              0,
              "#0d0887"
             ],
             [
              0.1111111111111111,
              "#46039f"
             ],
             [
              0.2222222222222222,
              "#7201a8"
             ],
             [
              0.3333333333333333,
              "#9c179e"
             ],
             [
              0.4444444444444444,
              "#bd3786"
             ],
             [
              0.5555555555555556,
              "#d8576b"
             ],
             [
              0.6666666666666666,
              "#ed7953"
             ],
             [
              0.7777777777777778,
              "#fb9f3a"
             ],
             [
              0.8888888888888888,
              "#fdca26"
             ],
             [
              1,
              "#f0f921"
             ]
            ],
            "type": "heatmapgl"
           }
          ],
          "histogram": [
           {
            "marker": {
             "colorbar": {
              "outlinewidth": 0,
              "ticks": ""
             }
            },
            "type": "histogram"
           }
          ],
          "histogram2d": [
           {
            "colorbar": {
             "outlinewidth": 0,
             "ticks": ""
            },
            "colorscale": [
             [
              0,
              "#0d0887"
             ],
             [
              0.1111111111111111,
              "#46039f"
             ],
             [
              0.2222222222222222,
              "#7201a8"
             ],
             [
              0.3333333333333333,
              "#9c179e"
             ],
             [
              0.4444444444444444,
              "#bd3786"
             ],
             [
              0.5555555555555556,
              "#d8576b"
             ],
             [
              0.6666666666666666,
              "#ed7953"
             ],
             [
              0.7777777777777778,
              "#fb9f3a"
             ],
             [
              0.8888888888888888,
              "#fdca26"
             ],
             [
              1,
              "#f0f921"
             ]
            ],
            "type": "histogram2d"
           }
          ],
          "histogram2dcontour": [
           {
            "colorbar": {
             "outlinewidth": 0,
             "ticks": ""
            },
            "colorscale": [
             [
              0,
              "#0d0887"
             ],
             [
              0.1111111111111111,
              "#46039f"
             ],
             [
              0.2222222222222222,
              "#7201a8"
             ],
             [
              0.3333333333333333,
              "#9c179e"
             ],
             [
              0.4444444444444444,
              "#bd3786"
             ],
             [
              0.5555555555555556,
              "#d8576b"
             ],
             [
              0.6666666666666666,
              "#ed7953"
             ],
             [
              0.7777777777777778,
              "#fb9f3a"
             ],
             [
              0.8888888888888888,
              "#fdca26"
             ],
             [
              1,
              "#f0f921"
             ]
            ],
            "type": "histogram2dcontour"
           }
          ],
          "mesh3d": [
           {
            "colorbar": {
             "outlinewidth": 0,
             "ticks": ""
            },
            "type": "mesh3d"
           }
          ],
          "parcoords": [
           {
            "line": {
             "colorbar": {
              "outlinewidth": 0,
              "ticks": ""
             }
            },
            "type": "parcoords"
           }
          ],
          "pie": [
           {
            "automargin": true,
            "type": "pie"
           }
          ],
          "scatter": [
           {
            "marker": {
             "colorbar": {
              "outlinewidth": 0,
              "ticks": ""
             }
            },
            "type": "scatter"
           }
          ],
          "scatter3d": [
           {
            "line": {
             "colorbar": {
              "outlinewidth": 0,
              "ticks": ""
             }
            },
            "marker": {
             "colorbar": {
              "outlinewidth": 0,
              "ticks": ""
             }
            },
            "type": "scatter3d"
           }
          ],
          "scattercarpet": [
           {
            "marker": {
             "colorbar": {
              "outlinewidth": 0,
              "ticks": ""
             }
            },
            "type": "scattercarpet"
           }
          ],
          "scattergeo": [
           {
            "marker": {
             "colorbar": {
              "outlinewidth": 0,
              "ticks": ""
             }
            },
            "type": "scattergeo"
           }
          ],
          "scattergl": [
           {
            "marker": {
             "colorbar": {
              "outlinewidth": 0,
              "ticks": ""
             }
            },
            "type": "scattergl"
           }
          ],
          "scattermapbox": [
           {
            "marker": {
             "colorbar": {
              "outlinewidth": 0,
              "ticks": ""
             }
            },
            "type": "scattermapbox"
           }
          ],
          "scatterpolar": [
           {
            "marker": {
             "colorbar": {
              "outlinewidth": 0,
              "ticks": ""
             }
            },
            "type": "scatterpolar"
           }
          ],
          "scatterpolargl": [
           {
            "marker": {
             "colorbar": {
              "outlinewidth": 0,
              "ticks": ""
             }
            },
            "type": "scatterpolargl"
           }
          ],
          "scatterternary": [
           {
            "marker": {
             "colorbar": {
              "outlinewidth": 0,
              "ticks": ""
             }
            },
            "type": "scatterternary"
           }
          ],
          "surface": [
           {
            "colorbar": {
             "outlinewidth": 0,
             "ticks": ""
            },
            "colorscale": [
             [
              0,
              "#0d0887"
             ],
             [
              0.1111111111111111,
              "#46039f"
             ],
             [
              0.2222222222222222,
              "#7201a8"
             ],
             [
              0.3333333333333333,
              "#9c179e"
             ],
             [
              0.4444444444444444,
              "#bd3786"
             ],
             [
              0.5555555555555556,
              "#d8576b"
             ],
             [
              0.6666666666666666,
              "#ed7953"
             ],
             [
              0.7777777777777778,
              "#fb9f3a"
             ],
             [
              0.8888888888888888,
              "#fdca26"
             ],
             [
              1,
              "#f0f921"
             ]
            ],
            "type": "surface"
           }
          ],
          "table": [
           {
            "cells": {
             "fill": {
              "color": "#EBF0F8"
             },
             "line": {
              "color": "white"
             }
            },
            "header": {
             "fill": {
              "color": "#C8D4E3"
             },
             "line": {
              "color": "white"
             }
            },
            "type": "table"
           }
          ]
         },
         "layout": {
          "annotationdefaults": {
           "arrowcolor": "#2a3f5f",
           "arrowhead": 0,
           "arrowwidth": 1
          },
          "coloraxis": {
           "colorbar": {
            "outlinewidth": 0,
            "ticks": ""
           }
          },
          "colorscale": {
           "diverging": [
            [
             0,
             "#8e0152"
            ],
            [
             0.1,
             "#c51b7d"
            ],
            [
             0.2,
             "#de77ae"
            ],
            [
             0.3,
             "#f1b6da"
            ],
            [
             0.4,
             "#fde0ef"
            ],
            [
             0.5,
             "#f7f7f7"
            ],
            [
             0.6,
             "#e6f5d0"
            ],
            [
             0.7,
             "#b8e186"
            ],
            [
             0.8,
             "#7fbc41"
            ],
            [
             0.9,
             "#4d9221"
            ],
            [
             1,
             "#276419"
            ]
           ],
           "sequential": [
            [
             0,
             "#0d0887"
            ],
            [
             0.1111111111111111,
             "#46039f"
            ],
            [
             0.2222222222222222,
             "#7201a8"
            ],
            [
             0.3333333333333333,
             "#9c179e"
            ],
            [
             0.4444444444444444,
             "#bd3786"
            ],
            [
             0.5555555555555556,
             "#d8576b"
            ],
            [
             0.6666666666666666,
             "#ed7953"
            ],
            [
             0.7777777777777778,
             "#fb9f3a"
            ],
            [
             0.8888888888888888,
             "#fdca26"
            ],
            [
             1,
             "#f0f921"
            ]
           ],
           "sequentialminus": [
            [
             0,
             "#0d0887"
            ],
            [
             0.1111111111111111,
             "#46039f"
            ],
            [
             0.2222222222222222,
             "#7201a8"
            ],
            [
             0.3333333333333333,
             "#9c179e"
            ],
            [
             0.4444444444444444,
             "#bd3786"
            ],
            [
             0.5555555555555556,
             "#d8576b"
            ],
            [
             0.6666666666666666,
             "#ed7953"
            ],
            [
             0.7777777777777778,
             "#fb9f3a"
            ],
            [
             0.8888888888888888,
             "#fdca26"
            ],
            [
             1,
             "#f0f921"
            ]
           ]
          },
          "colorway": [
           "#636efa",
           "#EF553B",
           "#00cc96",
           "#ab63fa",
           "#FFA15A",
           "#19d3f3",
           "#FF6692",
           "#B6E880",
           "#FF97FF",
           "#FECB52"
          ],
          "font": {
           "color": "#2a3f5f"
          },
          "geo": {
           "bgcolor": "white",
           "lakecolor": "white",
           "landcolor": "#E5ECF6",
           "showlakes": true,
           "showland": true,
           "subunitcolor": "white"
          },
          "hoverlabel": {
           "align": "left"
          },
          "hovermode": "closest",
          "mapbox": {
           "style": "light"
          },
          "paper_bgcolor": "white",
          "plot_bgcolor": "#E5ECF6",
          "polar": {
           "angularaxis": {
            "gridcolor": "white",
            "linecolor": "white",
            "ticks": ""
           },
           "bgcolor": "#E5ECF6",
           "radialaxis": {
            "gridcolor": "white",
            "linecolor": "white",
            "ticks": ""
           }
          },
          "scene": {
           "xaxis": {
            "backgroundcolor": "#E5ECF6",
            "gridcolor": "white",
            "gridwidth": 2,
            "linecolor": "white",
            "showbackground": true,
            "ticks": "",
            "zerolinecolor": "white"
           },
           "yaxis": {
            "backgroundcolor": "#E5ECF6",
            "gridcolor": "white",
            "gridwidth": 2,
            "linecolor": "white",
            "showbackground": true,
            "ticks": "",
            "zerolinecolor": "white"
           },
           "zaxis": {
            "backgroundcolor": "#E5ECF6",
            "gridcolor": "white",
            "gridwidth": 2,
            "linecolor": "white",
            "showbackground": true,
            "ticks": "",
            "zerolinecolor": "white"
           }
          },
          "shapedefaults": {
           "line": {
            "color": "#2a3f5f"
           }
          },
          "ternary": {
           "aaxis": {
            "gridcolor": "white",
            "linecolor": "white",
            "ticks": ""
           },
           "baxis": {
            "gridcolor": "white",
            "linecolor": "white",
            "ticks": ""
           },
           "bgcolor": "#E5ECF6",
           "caxis": {
            "gridcolor": "white",
            "linecolor": "white",
            "ticks": ""
           }
          },
          "title": {
           "x": 0.05
          },
          "xaxis": {
           "automargin": true,
           "gridcolor": "white",
           "linecolor": "white",
           "ticks": "",
           "title": {
            "standoff": 15
           },
           "zerolinecolor": "white",
           "zerolinewidth": 2
          },
          "yaxis": {
           "automargin": true,
           "gridcolor": "white",
           "linecolor": "white",
           "ticks": "",
           "title": {
            "standoff": 15
           },
           "zerolinecolor": "white",
           "zerolinewidth": 2
          }
         }
        },
        "xaxis": {
         "autorange": true,
         "range": [
          "2009-05-31 12:00",
          "2019-10-31 12:00"
         ],
         "type": "date"
        },
        "yaxis": {
         "autorange": true,
         "range": [
          0,
          39835045.2631579
         ],
         "type": "linear"
        }
       }
      },
      "image/png": "[encoded data removed]",
      "text/html": [
       "<div>\n",
       "        \n",
       "        \n",
       "            <div id=\"cc226dad-b891-47f3-99c7-524a70b4e676\" class=\"plotly-graph-div\" style=\"height:525px; width:100%;\"></div>\n",
       "            <script type=\"text/javascript\">\n",
       "                require([\"plotly\"], function(Plotly) {\n",
       "                    window.PLOTLYENV=window.PLOTLYENV || {};\n",
       "                    \n",
       "                if (document.getElementById(\"cc226dad-b891-47f3-99c7-524a70b4e676\")) {\n",
       "                    Plotly.newPlot(\n",
       "                        'cc226dad-b891-47f3-99c7-524a70b4e676',\n",
       "                        [{\"marker\": {\"color\": \"#551010\"}, \"name\": \"CS_5\", \"type\": \"bar\", \"x\": [\"2009-07-01T00:00:00\", \"2009-10-01T00:00:00\", \"2010-01-01T00:00:00\", \"2010-04-01T00:00:00\", \"2010-07-01T00:00:00\", \"2010-10-01T00:00:00\", \"2011-01-01T00:00:00\", \"2011-04-01T00:00:00\", \"2011-07-01T00:00:00\", \"2011-10-01T00:00:00\", \"2012-01-01T00:00:00\", \"2012-04-01T00:00:00\", \"2012-07-01T00:00:00\", \"2012-10-01T00:00:00\", \"2013-01-01T00:00:00\", \"2013-04-01T00:00:00\", \"2013-07-01T00:00:00\", \"2013-10-01T00:00:00\", \"2014-01-01T00:00:00\", \"2014-04-01T00:00:00\", \"2014-07-01T00:00:00\", \"2014-10-01T00:00:00\", \"2015-01-01T00:00:00\", \"2015-04-01T00:00:00\", \"2015-07-01T00:00:00\", \"2015-10-01T00:00:00\", \"2016-02-01T00:00:00\", \"2016-06-01T00:00:00\", \"2016-10-01T00:00:00\", \"2017-06-01T00:00:00\", \"2017-10-01T00:00:00\", \"2018-02-01T00:00:00\", \"2018-06-01T00:00:00\", \"2018-10-01T00:00:00\", \"2018-12-01T00:00:00\", \"2019-02-01T00:00:00\", \"2019-06-01T00:00:00\", \"2019-10-01T00:00:00\"], \"y\": [0, 0, 0, 0, 0, 0, 0, 0, 0, 0, 0, 0, 0, 0, 0, 0, 0, 0, 0, 0, 0, 0, 0, 0, 0, 0, 0, 0, 0, 0, 0, 0, 0, 0, 0, 0, 0, 0]}, {\"marker\": {\"color\": \"#BD3430\"}, \"name\": \"CS_4\", \"type\": \"bar\", \"x\": [\"2009-07-01T00:00:00\", \"2009-10-01T00:00:00\", \"2010-01-01T00:00:00\", \"2010-04-01T00:00:00\", \"2010-07-01T00:00:00\", \"2010-10-01T00:00:00\", \"2011-01-01T00:00:00\", \"2011-04-01T00:00:00\", \"2011-07-01T00:00:00\", \"2011-10-01T00:00:00\", \"2012-01-01T00:00:00\", \"2012-04-01T00:00:00\", \"2012-07-01T00:00:00\", \"2012-10-01T00:00:00\", \"2013-01-01T00:00:00\", \"2013-04-01T00:00:00\", \"2013-07-01T00:00:00\", \"2013-10-01T00:00:00\", \"2014-01-01T00:00:00\", \"2014-04-01T00:00:00\", \"2014-07-01T00:00:00\", \"2014-10-01T00:00:00\", \"2015-01-01T00:00:00\", \"2015-04-01T00:00:00\", \"2015-07-01T00:00:00\", \"2015-10-01T00:00:00\", \"2016-02-01T00:00:00\", \"2016-06-01T00:00:00\", \"2016-10-01T00:00:00\", \"2017-06-01T00:00:00\", \"2017-10-01T00:00:00\", \"2018-02-01T00:00:00\", \"2018-06-01T00:00:00\", \"2018-10-01T00:00:00\", \"2018-12-01T00:00:00\", \"2019-02-01T00:00:00\", \"2019-06-01T00:00:00\", \"2019-10-01T00:00:00\"], \"y\": [0, 0, 0, 0, 0, 0, 0, 0, 1956745, 2710316, 1226505, 0, 0, 0, 0, 0, 0, 0, 0, 0, 0, 0, 0, 0, 0, 0, 5831480, 0, 0, 0, 0, 0, 0, 0, 0, 0, 0, 0]}, {\"marker\": {\"color\": \"#DD8236\"}, \"name\": \"CS_3\", \"type\": \"bar\", \"x\": [\"2009-07-01T00:00:00\", \"2009-10-01T00:00:00\", \"2010-01-01T00:00:00\", \"2010-04-01T00:00:00\", \"2010-07-01T00:00:00\", \"2010-10-01T00:00:00\", \"2011-01-01T00:00:00\", \"2011-04-01T00:00:00\", \"2011-07-01T00:00:00\", \"2011-10-01T00:00:00\", \"2012-01-01T00:00:00\", \"2012-04-01T00:00:00\", \"2012-07-01T00:00:00\", \"2012-10-01T00:00:00\", \"2013-01-01T00:00:00\", \"2013-04-01T00:00:00\", \"2013-07-01T00:00:00\", \"2013-10-01T00:00:00\", \"2014-01-01T00:00:00\", \"2014-04-01T00:00:00\", \"2014-07-01T00:00:00\", \"2014-10-01T00:00:00\", \"2015-01-01T00:00:00\", \"2015-04-01T00:00:00\", \"2015-07-01T00:00:00\", \"2015-10-01T00:00:00\", \"2016-02-01T00:00:00\", \"2016-06-01T00:00:00\", \"2016-10-01T00:00:00\", \"2017-06-01T00:00:00\", \"2017-10-01T00:00:00\", \"2018-02-01T00:00:00\", \"2018-06-01T00:00:00\", \"2018-10-01T00:00:00\", \"2018-12-01T00:00:00\", \"2019-02-01T00:00:00\", \"2019-06-01T00:00:00\", \"2019-10-01T00:00:00\"], \"y\": [13659556, 13659556, 3061695, 6680151, 6680151, 6680151, 8222693, 6156834, 12489047, 1422554, 3024979, 4251484, 8126866, 0, 5368934, 6975309, 6753518, 0, 0, 0, 0, 0, 490771, 2801754, 4892116, 10267080, 4717443, 8483468, 0, 1925213, 0, 2371032, 3644622, 6147870, 0, 3739861, 10223985, 8196020]}, {\"marker\": {\"color\": \"#F2E65D\"}, \"name\": \"CS_2\", \"type\": \"bar\", \"x\": [\"2009-07-01T00:00:00\", \"2009-10-01T00:00:00\", \"2010-01-01T00:00:00\", \"2010-04-01T00:00:00\", \"2010-07-01T00:00:00\", \"2010-10-01T00:00:00\", \"2011-01-01T00:00:00\", \"2011-04-01T00:00:00\", \"2011-07-01T00:00:00\", \"2011-10-01T00:00:00\", \"2012-01-01T00:00:00\", \"2012-04-01T00:00:00\", \"2012-07-01T00:00:00\", \"2012-10-01T00:00:00\", \"2013-01-01T00:00:00\", \"2013-04-01T00:00:00\", \"2013-07-01T00:00:00\", \"2013-10-01T00:00:00\", \"2014-01-01T00:00:00\", \"2014-04-01T00:00:00\", \"2014-07-01T00:00:00\", \"2014-10-01T00:00:00\", \"2015-01-01T00:00:00\", \"2015-04-01T00:00:00\", \"2015-07-01T00:00:00\", \"2015-10-01T00:00:00\", \"2016-02-01T00:00:00\", \"2016-06-01T00:00:00\", \"2016-10-01T00:00:00\", \"2017-06-01T00:00:00\", \"2017-10-01T00:00:00\", \"2018-02-01T00:00:00\", \"2018-06-01T00:00:00\", \"2018-10-01T00:00:00\", \"2018-12-01T00:00:00\", \"2019-02-01T00:00:00\", \"2019-06-01T00:00:00\", \"2019-10-01T00:00:00\"], \"y\": [3346726, 3346726, 16171857, 5343676, 9150821, 9150821, 9328579, 13625362, 5336404, 5073662, 5219278, 9581321, 10374468, 10816752, 6431785, 4151599, 4373390, 16131067, 0, 12656320, 13953818, 5093743, 6225872, 10559373, 8833407, 6932403, 7122705, 9188160, 20172785, 11063268, 13920190, 8784728, 6066419, 3563171, 0, 6224944, 3457711, 5485676]}, {\"marker\": {\"color\": \"#C9E1C5\"}, \"name\": \"CS_1\", \"type\": \"bar\", \"x\": [\"2009-07-01T00:00:00\", \"2009-10-01T00:00:00\", \"2010-01-01T00:00:00\", \"2010-04-01T00:00:00\", \"2010-07-01T00:00:00\", \"2010-10-01T00:00:00\", \"2011-01-01T00:00:00\", \"2011-04-01T00:00:00\", \"2011-07-01T00:00:00\", \"2011-10-01T00:00:00\", \"2012-01-01T00:00:00\", \"2012-04-01T00:00:00\", \"2012-07-01T00:00:00\", \"2012-10-01T00:00:00\", \"2013-01-01T00:00:00\", \"2013-04-01T00:00:00\", \"2013-07-01T00:00:00\", \"2013-10-01T00:00:00\", \"2014-01-01T00:00:00\", \"2014-04-01T00:00:00\", \"2014-07-01T00:00:00\", \"2014-10-01T00:00:00\", \"2015-01-01T00:00:00\", \"2015-04-01T00:00:00\", \"2015-07-01T00:00:00\", \"2015-10-01T00:00:00\", \"2016-02-01T00:00:00\", \"2016-06-01T00:00:00\", \"2016-10-01T00:00:00\", \"2017-06-01T00:00:00\", \"2017-10-01T00:00:00\", \"2018-02-01T00:00:00\", \"2018-06-01T00:00:00\", \"2018-10-01T00:00:00\", \"2018-12-01T00:00:00\", \"2019-02-01T00:00:00\", \"2019-06-01T00:00:00\", \"2019-10-01T00:00:00\"], \"y\": [11772870, 11772870, 10358000, 17567725, 13760580, 13760580, 12884390, 10653466, 10653466, 21229130, 21838416, 17476373, 12807844, 20492426, 20406205, 21080016, 21080016, 16075857, 33121436, 20465116, 19167618, 28027693, 27330357, 20685873, 20321477, 16847517, 17310001, 17310001, 14808844, 22937392, 22005683, 25723812, 27168531, 27168531, 0, 27878488, 24161597, 24161597]}, {\"line\": {\"color\": \"Red\"}, \"name\": \"10%\", \"type\": \"scatter\", \"x\": [\"2009-07-01T00:00:00\", \"2009-10-01T00:00:00\", \"2010-01-01T00:00:00\", \"2010-04-01T00:00:00\", \"2010-07-01T00:00:00\", \"2010-10-01T00:00:00\", \"2011-01-01T00:00:00\", \"2011-04-01T00:00:00\", \"2011-07-01T00:00:00\", \"2011-10-01T00:00:00\", \"2012-01-01T00:00:00\", \"2012-04-01T00:00:00\", \"2012-07-01T00:00:00\", \"2012-10-01T00:00:00\", \"2013-01-01T00:00:00\", \"2013-04-01T00:00:00\", \"2013-07-01T00:00:00\", \"2013-10-01T00:00:00\", \"2014-01-01T00:00:00\", \"2014-04-01T00:00:00\", \"2014-07-01T00:00:00\", \"2014-10-01T00:00:00\", \"2015-01-01T00:00:00\", \"2015-04-01T00:00:00\", \"2015-07-01T00:00:00\", \"2015-10-01T00:00:00\", \"2016-02-01T00:00:00\", \"2016-06-01T00:00:00\", \"2016-10-01T00:00:00\", \"2017-06-01T00:00:00\", \"2017-10-01T00:00:00\", \"2018-02-01T00:00:00\", \"2018-06-01T00:00:00\", \"2018-10-01T00:00:00\", \"2018-12-01T00:00:00\", \"2019-02-01T00:00:00\", \"2019-06-01T00:00:00\", \"2019-10-01T00:00:00\"], \"y\": [2877915.2, 2877915.2, 2959155.2, 2959155.2, 2959155.2, 2959155.2, 3043566.2, 3043566.2, 3043566.2, 3043566.2, 3130917.8, 3130917.8, 3130917.8, 3130917.8, 3220692.4, 3220692.4, 3220692.4, 3220692.4, 3312143.6, 3312143.6, 3312143.6, 3312143.6, 3404700.0, 3404700.0, 3404700.0, 3404700.0, 3498162.9, 3498162.9, 3498162.9, 3592587.3, 3592587.3, 3687957.2, 3687957.2, 3687957.2, 3687957.2, 3784329.3, 3784329.3, 3784329.3]}, {\"line\": {\"color\": \"black\"}, \"name\": \"20%\", \"type\": \"scatter\", \"x\": [\"2009-07-01T00:00:00\", \"2009-10-01T00:00:00\", \"2010-01-01T00:00:00\", \"2010-04-01T00:00:00\", \"2010-07-01T00:00:00\", \"2010-10-01T00:00:00\", \"2011-01-01T00:00:00\", \"2011-04-01T00:00:00\", \"2011-07-01T00:00:00\", \"2011-10-01T00:00:00\", \"2012-01-01T00:00:00\", \"2012-04-01T00:00:00\", \"2012-07-01T00:00:00\", \"2012-10-01T00:00:00\", \"2013-01-01T00:00:00\", \"2013-04-01T00:00:00\", \"2013-07-01T00:00:00\", \"2013-10-01T00:00:00\", \"2014-01-01T00:00:00\", \"2014-04-01T00:00:00\", \"2014-07-01T00:00:00\", \"2014-10-01T00:00:00\", \"2015-01-01T00:00:00\", \"2015-04-01T00:00:00\", \"2015-07-01T00:00:00\", \"2015-10-01T00:00:00\", \"2016-02-01T00:00:00\", \"2016-06-01T00:00:00\", \"2016-10-01T00:00:00\", \"2017-06-01T00:00:00\", \"2017-10-01T00:00:00\", \"2018-02-01T00:00:00\", \"2018-06-01T00:00:00\", \"2018-10-01T00:00:00\", \"2018-12-01T00:00:00\", \"2019-02-01T00:00:00\", \"2019-06-01T00:00:00\", \"2019-10-01T00:00:00\"], \"y\": [5755830.4, 5755830.4, 5918310.4, 5918310.4, 5918310.4, 5918310.4, 6087132.4, 6087132.4, 6087132.4, 6087132.4, 6261835.6, 6261835.6, 6261835.6, 6261835.6, 6441384.8, 6441384.8, 6441384.8, 6441384.8, 6624287.2, 6624287.2, 6624287.2, 6624287.2, 6809400.0, 6809400.0, 6809400.0, 6809400.0, 6996325.8, 6996325.8, 6996325.8, 7185174.6, 7185174.6, 7375914.4, 7375914.4, 7375914.4, 7375914.4, 7568658.6, 7568658.6, 7568658.6]}],\n",
       "                        {\"barmode\": \"stack\", \"template\": {\"data\": {\"bar\": [{\"error_x\": {\"color\": \"#2a3f5f\"}, \"error_y\": {\"color\": \"#2a3f5f\"}, \"marker\": {\"line\": {\"color\": \"#E5ECF6\", \"width\": 0.5}}, \"type\": \"bar\"}], \"barpolar\": [{\"marker\": {\"line\": {\"color\": \"#E5ECF6\", \"width\": 0.5}}, \"type\": \"barpolar\"}], \"carpet\": [{\"aaxis\": {\"endlinecolor\": \"#2a3f5f\", \"gridcolor\": \"white\", \"linecolor\": \"white\", \"minorgridcolor\": \"white\", \"startlinecolor\": \"#2a3f5f\"}, \"baxis\": {\"endlinecolor\": \"#2a3f5f\", \"gridcolor\": \"white\", \"linecolor\": \"white\", \"minorgridcolor\": \"white\", \"startlinecolor\": \"#2a3f5f\"}, \"type\": \"carpet\"}], \"choropleth\": [{\"colorbar\": {\"outlinewidth\": 0, \"ticks\": \"\"}, \"type\": \"choropleth\"}], \"contour\": [{\"colorbar\": {\"outlinewidth\": 0, \"ticks\": \"\"}, \"colorscale\": [[0.0, \"#0d0887\"], [0.1111111111111111, \"#46039f\"], [0.2222222222222222, \"#7201a8\"], [0.3333333333333333, \"#9c179e\"], [0.4444444444444444, \"#bd3786\"], [0.5555555555555556, \"#d8576b\"], [0.6666666666666666, \"#ed7953\"], [0.7777777777777778, \"#fb9f3a\"], [0.8888888888888888, \"#fdca26\"], [1.0, \"#f0f921\"]], \"type\": \"contour\"}], \"contourcarpet\": [{\"colorbar\": {\"outlinewidth\": 0, \"ticks\": \"\"}, \"type\": \"contourcarpet\"}], \"heatmap\": [{\"colorbar\": {\"outlinewidth\": 0, \"ticks\": \"\"}, \"colorscale\": [[0.0, \"#0d0887\"], [0.1111111111111111, \"#46039f\"], [0.2222222222222222, \"#7201a8\"], [0.3333333333333333, \"#9c179e\"], [0.4444444444444444, \"#bd3786\"], [0.5555555555555556, \"#d8576b\"], [0.6666666666666666, \"#ed7953\"], [0.7777777777777778, \"#fb9f3a\"], [0.8888888888888888, \"#fdca26\"], [1.0, \"#f0f921\"]], \"type\": \"heatmap\"}], \"heatmapgl\": [{\"colorbar\": {\"outlinewidth\": 0, \"ticks\": \"\"}, \"colorscale\": [[0.0, \"#0d0887\"], [0.1111111111111111, \"#46039f\"], [0.2222222222222222, \"#7201a8\"], [0.3333333333333333, \"#9c179e\"], [0.4444444444444444, \"#bd3786\"], [0.5555555555555556, \"#d8576b\"], [0.6666666666666666, \"#ed7953\"], [0.7777777777777778, \"#fb9f3a\"], [0.8888888888888888, \"#fdca26\"], [1.0, \"#f0f921\"]], \"type\": \"heatmapgl\"}], \"histogram\": [{\"marker\": {\"colorbar\": {\"outlinewidth\": 0, \"ticks\": \"\"}}, \"type\": \"histogram\"}], \"histogram2d\": [{\"colorbar\": {\"outlinewidth\": 0, \"ticks\": \"\"}, \"colorscale\": [[0.0, \"#0d0887\"], [0.1111111111111111, \"#46039f\"], [0.2222222222222222, \"#7201a8\"], [0.3333333333333333, \"#9c179e\"], [0.4444444444444444, \"#bd3786\"], [0.5555555555555556, \"#d8576b\"], [0.6666666666666666, \"#ed7953\"], [0.7777777777777778, \"#fb9f3a\"], [0.8888888888888888, \"#fdca26\"], [1.0, \"#f0f921\"]], \"type\": \"histogram2d\"}], \"histogram2dcontour\": [{\"colorbar\": {\"outlinewidth\": 0, \"ticks\": \"\"}, \"colorscale\": [[0.0, \"#0d0887\"], [0.1111111111111111, \"#46039f\"], [0.2222222222222222, \"#7201a8\"], [0.3333333333333333, \"#9c179e\"], [0.4444444444444444, \"#bd3786\"], [0.5555555555555556, \"#d8576b\"], [0.6666666666666666, \"#ed7953\"], [0.7777777777777778, \"#fb9f3a\"], [0.8888888888888888, \"#fdca26\"], [1.0, \"#f0f921\"]], \"type\": \"histogram2dcontour\"}], \"mesh3d\": [{\"colorbar\": {\"outlinewidth\": 0, \"ticks\": \"\"}, \"type\": \"mesh3d\"}], \"parcoords\": [{\"line\": {\"colorbar\": {\"outlinewidth\": 0, \"ticks\": \"\"}}, \"type\": \"parcoords\"}], \"pie\": [{\"automargin\": true, \"type\": \"pie\"}], \"scatter\": [{\"marker\": {\"colorbar\": {\"outlinewidth\": 0, \"ticks\": \"\"}}, \"type\": \"scatter\"}], \"scatter3d\": [{\"line\": {\"colorbar\": {\"outlinewidth\": 0, \"ticks\": \"\"}}, \"marker\": {\"colorbar\": {\"outlinewidth\": 0, \"ticks\": \"\"}}, \"type\": \"scatter3d\"}], \"scattercarpet\": [{\"marker\": {\"colorbar\": {\"outlinewidth\": 0, \"ticks\": \"\"}}, \"type\": \"scattercarpet\"}], \"scattergeo\": [{\"marker\": {\"colorbar\": {\"outlinewidth\": 0, \"ticks\": \"\"}}, \"type\": \"scattergeo\"}], \"scattergl\": [{\"marker\": {\"colorbar\": {\"outlinewidth\": 0, \"ticks\": \"\"}}, \"type\": \"scattergl\"}], \"scattermapbox\": [{\"marker\": {\"colorbar\": {\"outlinewidth\": 0, \"ticks\": \"\"}}, \"type\": \"scattermapbox\"}], \"scatterpolar\": [{\"marker\": {\"colorbar\": {\"outlinewidth\": 0, \"ticks\": \"\"}}, \"type\": \"scatterpolar\"}], \"scatterpolargl\": [{\"marker\": {\"colorbar\": {\"outlinewidth\": 0, \"ticks\": \"\"}}, \"type\": \"scatterpolargl\"}], \"scatterternary\": [{\"marker\": {\"colorbar\": {\"outlinewidth\": 0, \"ticks\": \"\"}}, \"type\": \"scatterternary\"}], \"surface\": [{\"colorbar\": {\"outlinewidth\": 0, \"ticks\": \"\"}, \"colorscale\": [[0.0, \"#0d0887\"], [0.1111111111111111, \"#46039f\"], [0.2222222222222222, \"#7201a8\"], [0.3333333333333333, \"#9c179e\"], [0.4444444444444444, \"#bd3786\"], [0.5555555555555556, \"#d8576b\"], [0.6666666666666666, \"#ed7953\"], [0.7777777777777778, \"#fb9f3a\"], [0.8888888888888888, \"#fdca26\"], [1.0, \"#f0f921\"]], \"type\": \"surface\"}], \"table\": [{\"cells\": {\"fill\": {\"color\": \"#EBF0F8\"}, \"line\": {\"color\": \"white\"}}, \"header\": {\"fill\": {\"color\": \"#C8D4E3\"}, \"line\": {\"color\": \"white\"}}, \"type\": \"table\"}]}, \"layout\": {\"annotationdefaults\": {\"arrowcolor\": \"#2a3f5f\", \"arrowhead\": 0, \"arrowwidth\": 1}, \"coloraxis\": {\"colorbar\": {\"outlinewidth\": 0, \"ticks\": \"\"}}, \"colorscale\": {\"diverging\": [[0, \"#8e0152\"], [0.1, \"#c51b7d\"], [0.2, \"#de77ae\"], [0.3, \"#f1b6da\"], [0.4, \"#fde0ef\"], [0.5, \"#f7f7f7\"], [0.6, \"#e6f5d0\"], [0.7, \"#b8e186\"], [0.8, \"#7fbc41\"], [0.9, \"#4d9221\"], [1, \"#276419\"]], \"sequential\": [[0.0, \"#0d0887\"], [0.1111111111111111, \"#46039f\"], [0.2222222222222222, \"#7201a8\"], [0.3333333333333333, \"#9c179e\"], [0.4444444444444444, \"#bd3786\"], [0.5555555555555556, \"#d8576b\"], [0.6666666666666666, \"#ed7953\"], [0.7777777777777778, \"#fb9f3a\"], [0.8888888888888888, \"#fdca26\"], [1.0, \"#f0f921\"]], \"sequentialminus\": [[0.0, \"#0d0887\"], [0.1111111111111111, \"#46039f\"], [0.2222222222222222, \"#7201a8\"], [0.3333333333333333, \"#9c179e\"], [0.4444444444444444, \"#bd3786\"], [0.5555555555555556, \"#d8576b\"], [0.6666666666666666, \"#ed7953\"], [0.7777777777777778, \"#fb9f3a\"], [0.8888888888888888, \"#fdca26\"], [1.0, \"#f0f921\"]]}, \"colorway\": [\"#636efa\", \"#EF553B\", \"#00cc96\", \"#ab63fa\", \"#FFA15A\", \"#19d3f3\", \"#FF6692\", \"#B6E880\", \"#FF97FF\", \"#FECB52\"], \"font\": {\"color\": \"#2a3f5f\"}, \"geo\": {\"bgcolor\": \"white\", \"lakecolor\": \"white\", \"landcolor\": \"#E5ECF6\", \"showlakes\": true, \"showland\": true, \"subunitcolor\": \"white\"}, \"hoverlabel\": {\"align\": \"left\"}, \"hovermode\": \"closest\", \"mapbox\": {\"style\": \"light\"}, \"paper_bgcolor\": \"white\", \"plot_bgcolor\": \"#E5ECF6\", \"polar\": {\"angularaxis\": {\"gridcolor\": \"white\", \"linecolor\": \"white\", \"ticks\": \"\"}, \"bgcolor\": \"#E5ECF6\", \"radialaxis\": {\"gridcolor\": \"white\", \"linecolor\": \"white\", \"ticks\": \"\"}}, \"scene\": {\"xaxis\": {\"backgroundcolor\": \"#E5ECF6\", \"gridcolor\": \"white\", \"gridwidth\": 2, \"linecolor\": \"white\", \"showbackground\": true, \"ticks\": \"\", \"zerolinecolor\": \"white\"}, \"yaxis\": {\"backgroundcolor\": \"#E5ECF6\", \"gridcolor\": \"white\", \"gridwidth\": 2, \"linecolor\": \"white\", \"showbackground\": true, \"ticks\": \"\", \"zerolinecolor\": \"white\"}, \"zaxis\": {\"backgroundcolor\": \"#E5ECF6\", \"gridcolor\": \"white\", \"gridwidth\": 2, \"linecolor\": \"white\", \"showbackground\": true, \"ticks\": \"\", \"zerolinecolor\": \"white\"}}, \"shapedefaults\": {\"line\": {\"color\": \"#2a3f5f\"}}, \"ternary\": {\"aaxis\": {\"gridcolor\": \"white\", \"linecolor\": \"white\", \"ticks\": \"\"}, \"baxis\": {\"gridcolor\": \"white\", \"linecolor\": \"white\", \"ticks\": \"\"}, \"bgcolor\": \"#E5ECF6\", \"caxis\": {\"gridcolor\": \"white\", \"linecolor\": \"white\", \"ticks\": \"\"}}, \"title\": {\"x\": 0.05}, \"xaxis\": {\"automargin\": true, \"gridcolor\": \"white\", \"linecolor\": \"white\", \"ticks\": \"\", \"title\": {\"standoff\": 15}, \"zerolinecolor\": \"white\", \"zerolinewidth\": 2}, \"yaxis\": {\"automargin\": true, \"gridcolor\": \"white\", \"linecolor\": \"white\", \"ticks\": \"\", \"title\": {\"standoff\": 15}, \"zerolinecolor\": \"white\", \"zerolinewidth\": 2}}}},\n",
       "                        {\"responsive\": true}\n",
       "                    ).then(function(){\n",
       "                            \n",
       "var gd = document.getElementById('cc226dad-b891-47f3-99c7-524a70b4e676');\n",
       "var x = new MutationObserver(function (mutations, observer) {{\n",
       "        var display = window.getComputedStyle(gd).display;\n",
       "        if (!display || display === 'none') {{\n",
       "            console.log([gd, 'removed!']);\n",
       "            Plotly.purge(gd);\n",
       "            observer.disconnect();\n",
       "        }}\n",
       "}});\n",
       "\n",
       "// Listen for the removal of the full notebook cells\n",
       "var notebookContainer = gd.closest('#notebook-container');\n",
       "if (notebookContainer) {{\n",
       "    x.observe(notebookContainer, {childList: true});\n",
       "}}\n",
       "\n",
       "// Listen for the clearing of the current output cell\n",
       "var outputEl = gd.closest('.output');\n",
       "if (outputEl) {{\n",
       "    x.observe(outputEl, {childList: true});\n",
       "}}\n",
       "\n",
       "                        })\n",
       "                };\n",
       "                });\n",
       "            </script>\n",
       "        </div>"
      ]
     },
     "metadata": {},
     "output_type": "display_data"
    }
   ],
   "source": [
    "data=df_ipc[df_ipc.ADM1_EN==\"Oromia\"]\n",
    "CS_list=[]\n",
    "color_map = {1:'#C9E1C5', 2:'#F2E65D', 3:'#DD8236', 4:'#BD3430', 5:'#551010', 99: '#CCCCCC'}\n",
    "for i in range(5,0,-1):\n",
    "    CS_list.append(go.Bar(name=f'CS_{i}',x=data[\"date\"],y=data[f\"CS_{i}\"],marker_color=color_map[i]))\n",
    "CS_list.append(go.Scatter(x=data['date'], y=data['adjusted_population']/10,line=dict(\n",
    "                color='Red'),name=\"10%\"))\n",
    "CS_list.append(go.Scatter(x=data['date'], y=data['adjusted_population']/5,line=dict(\n",
    "                color='black'),name=\"20%\"))\n",
    "fig = go.Figure(data=CS_list)\n",
    "# Change the bar mode\n",
    "fig.update_layout(barmode='stack')\n",
    "fig.show()"
   ]
  },
  {
   "cell_type": "code",
   "execution_count": 88,
   "metadata": {},
   "outputs": [],
   "source": [
    "def plot_ipclevels(df,adm1c=\"ADM1_EN\"):\n",
    "    color_map = {1:'#C9E1C5', 2:'#F2E65D', 3:'#DD8236', 4:'#BD3430', 5:'#551010', 99: '#CCCCCC'}\n",
    "    width = 75\n",
    "    count = 1\n",
    "    fig, ax = plt.subplots(figsize=(15,30))\n",
    "    plt.suptitle('Ethiopia Triggers at Admin1 Level')\n",
    "    for region in df[adm1c].unique():\n",
    "        ax = plt.subplot(6,2,count)\n",
    "        data = df.loc[df[adm1c]==region]\n",
    "#         total = data['CS_1']+data['CS_2']+data['CS_3']+data['CS_4'].to_numpy()\n",
    "#         plt.bar(data[\"date\"],data[\"CS_5\"],width=width, color=color_map[5])\n",
    "#         for i in range(4,0,-1):\n",
    "#             plt.bar(data[\"date\"],data[f\"CS_{i}\"],width=width, color=color_map[i],bottom=data[[f\"CS_{l}\" for l in range(i+1, 6)]].sum().to_numpy())\n",
    "        p4 = plt.bar(data['date'], data['CS_4'], width=width, color=color_map[4],label=\"IPC 4\")\n",
    "        p3 = plt.bar(data['date'], data['CS_3'], width=width, color=color_map[3], bottom=data['CS_4'].to_numpy(),label=\"IPC 3\")\n",
    "        p2 = plt.bar(data['date'], data['CS_2'], width=width, color=color_map[2], bottom=(data['CS_3']+data['CS_4']).to_numpy(),label=\"IPC 2\")\n",
    "        p1 = plt.bar(data['date'], data['CS_1'], width=width, color=color_map[1], bottom=(data['CS_2']+data['CS_3']+data['CS_4']).to_numpy(),label=\"IPC 1\")\n",
    "        p5 = plt.plot(data['date'], data['adjusted_population']/10 , color='red',label=\"10%\")\n",
    "        p6 = plt.plot(data['date'], data['adjusted_population']/5, color='black',label=\"20%\")\n",
    "        plt.title(region + ' Current Situation')\n",
    "#         ax.legend((p1[0], p2[0], p3[0], p4[0], p5[0], p6[0]), ('IPC 1', 'IPC 2', 'IPC 3', 'IPC 4', '10 %', '20 %'),loc=\"upper right\")\n",
    "        ax.legend(loc=\"upper right\")\n",
    "        ax.get_yaxis().set_major_formatter(\n",
    "            matplotlib.ticker.FuncFormatter(lambda x, p: format(int(x), ',')))\n",
    "        count+=1"
   ]
  },
  {
   "cell_type": "code",
   "execution_count": 89,
   "metadata": {},
   "outputs": [
    {
     "data": {
      "image/png": "[encoded data removed]",
      "text/plain": [
       "<Figure size 1080x2160 with 11 Axes>"
      ]
     },
     "metadata": {
      "needs_background": "light"
     },
     "output_type": "display_data"
    }
   ],
   "source": [
    "plot_ipclevels(df_ipc)"
   ]
  },
  {
   "cell_type": "code",
   "execution_count": null,
   "metadata": {},
   "outputs": [],
   "source": []
  },
  {
   "cell_type": "code",
   "execution_count": null,
   "metadata": {},
   "outputs": [],
   "source": []
  },
  {
   "cell_type": "markdown",
   "metadata": {},
   "source": [
    "### Missing data"
   ]
  },
  {
   "cell_type": "code",
   "execution_count": 54,
   "metadata": {},
   "outputs": [
    {
     "name": "stdout",
     "output_type": "stream",
     "text": [
      "Number of date-admin1 combinations with no IPC CS data: 45\n"
     ]
    }
   ],
   "source": [
    "print(\"Number of date-admin1 combinations with no IPC CS data:\", len(df_ipc[df_ipc.total_pop==0]))"
   ]
  },
  {
   "cell_type": "code",
   "execution_count": 57,
   "metadata": {},
   "outputs": [
    {
     "name": "stdout",
     "output_type": "stream",
     "text": [
      "Percentage of missing data: 10.76555023923445\n"
     ]
    }
   ],
   "source": [
    "print(\"Percentage of missing data:\",len(df_ipc[df_ipc.total_pop==0])/len(df_ipc)*100)"
   ]
  },
  {
   "cell_type": "code",
   "execution_count": null,
   "metadata": {},
   "outputs": [],
   "source": []
  }
 ],
 "metadata": {
  "kernelspec": {
   "display_name": "aafi",
   "language": "python",
   "name": "aafi"
  },
  "language_info": {
   "codemirror_mode": {
    "name": "ipython",
    "version": 3
   },
   "file_extension": ".py",
   "mimetype": "text/x-python",
   "name": "python",
   "nbconvert_exporter": "python",
   "pygments_lexer": "ipython3",
   "version": "3.8.2"
  }
 },
 "nbformat": 4,
 "nbformat_minor": 4
}
