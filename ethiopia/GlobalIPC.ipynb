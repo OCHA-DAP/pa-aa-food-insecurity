{
 "cells": [
  {
   "cell_type": "code",
   "execution_count": 664,
   "metadata": {},
   "outputs": [],
   "source": [
    "import pandas as pd\n",
    "import numpy as np"
   ]
  },
  {
   "cell_type": "code",
   "execution_count": 665,
   "metadata": {},
   "outputs": [],
   "source": [
    "# # very hard to work with formatting so looks messy\n",
    "# df_ipc=pd.read_excel(\"Data/Ethiopia - IPC Analysis 2017-2020.xlsx\",header=[10,11])\n",
    "# # df_ipc.columns = [f'{i} {j.replace(\".2\",\"\")}' if \"Unnamed\" not in i else f'{j}' for i, j in df_ipc.columns ]\n",
    "# df_ipcp=df_ipc[['Level 1 Name','Area',\"#\",\"Date of Analysis\",\"Area Phase\"]]\n",
    "# df_ipcp=df_ipcp[df_ipcp[\"Area Phase\"].notnull()]\n",
    "# df_ipcp=df_ipcp.rename(columns={\"Level 1 Name\":\"ADM1_EN\",\"Area\":\"ADM2_EN\",\"#\":\"pop_CS\",\"Date of Analysis\":\"date\",\"Area Phase\":\"CS\"})\n",
    "# df_ipcp.date=pd.to_datetime(df_ipcp.date,format=\"%b %Y\")\n",
    "# status=\"CS\"\n",
    "# for level in [1, 2, 3, 4, 5]:\n",
    "#     ipc_id = \"{}_{}\".format(status, level)\n",
    "#     df_ipcp[ipc_id] = np.where(\n",
    "#         df_ipcp[status] == level,\n",
    "#         df_ipcp[f\"pop_{status}\"],\n",
    "#         (np.where(df_ipcp[status] == 99, np.nan, 0)),\n",
    "#     )\n",
    "# df_ipcp=df_ipcp[[\"date\",\"ADM1_EN\",\"ADM2_EN\",\"pop_CS\"]+[f\"CS_{i}\" for i in range(1,6)]]\n",
    "# df_ipcp=df_ipcp.groupby([\"date\",\"ADM1_EN\"]).agg(lambda x: np.nan if x.isnull().all() else x.sum()).reset_index()"
   ]
  },
  {
   "cell_type": "code",
   "execution_count": 666,
   "metadata": {},
   "outputs": [],
   "source": [
    "df_ipcp=pd.read_csv(\"Data/GlobalIPC_Ethiopia_Admin1.csv\",delimiter=\";\",thousands=\".\")"
   ]
  },
  {
   "cell_type": "code",
   "execution_count": 667,
   "metadata": {},
   "outputs": [],
   "source": [
    "df_ipcp.rename(columns={\"Date of Analysis\":\"date\",\"ADMIN1\":\"ADM1_EN\"},inplace=True)"
   ]
  },
  {
   "cell_type": "code",
   "execution_count": 673,
   "metadata": {},
   "outputs": [],
   "source": [
    "df_ipcp[\"date\"]=pd.to_datetime(df_ipcp[\"date\"],format=\"%b/%y\")"
   ]
  },
  {
   "cell_type": "code",
   "execution_count": 674,
   "metadata": {},
   "outputs": [],
   "source": [
    "df_ipcp=df_ipcp.replace('%','', regex=True)"
   ]
  },
  {
   "cell_type": "code",
   "execution_count": 675,
   "metadata": {},
   "outputs": [
    {
     "data": {
      "text/plain": [
       "Index(['ADM1_EN', 'date', 'Country Population', 'pop_CS', 'CS_1', 'CS_1_perc',\n",
       "       'CS_2', 'CS_2_perc', 'CS_3', 'CS_3_perc', 'CS_4', 'CS_4_perc', 'CS_5',\n",
       "       'CS_5_perc', 'pop_ML1', 'ML1_1', 'ML1_1_perc', 'ML1_2', 'ML1_2_perc',\n",
       "       'ML1_3', 'ML1_3_perc', 'ML1_4', 'ML1_4_perc', 'ML1_5', 'ML1_5_perc',\n",
       "       'pop_ML2', 'ML2_1', 'ML2_1_perc', 'ML2_2', 'ML2_2_perc', 'ML2_3',\n",
       "       'ML2_3_perc', 'ML2_4', 'ML2_4_perc', 'ML2_5', 'ML2_5_perc'],\n",
       "      dtype='object')"
      ]
     },
     "execution_count": 675,
     "metadata": {},
     "output_type": "execute_result"
    }
   ],
   "source": [
    "df_ipcp.columns"
   ]
  },
  {
   "cell_type": "code",
   "execution_count": 676,
   "metadata": {},
   "outputs": [],
   "source": [
    "df_ipcp.loc[:, ~df_ipcp.columns.isin([\"ADM1_EN\",\"date\",\"Analysis Period\"])]=df_ipcp.loc[:, ~df_ipcp.columns.isin([\"ADM1_EN\",\"date\",\"Analysis Period\"])].astype(int)"
   ]
  },
  {
   "cell_type": "code",
   "execution_count": 677,
   "metadata": {},
   "outputs": [
    {
     "data": {
      "text/html": [
       "<div>\n",
       "<style scoped>\n",
       "    .dataframe tbody tr th:only-of-type {\n",
       "        vertical-align: middle;\n",
       "    }\n",
       "\n",
       "    .dataframe tbody tr th {\n",
       "        vertical-align: top;\n",
       "    }\n",
       "\n",
       "    .dataframe thead th {\n",
       "        text-align: right;\n",
       "    }\n",
       "</style>\n",
       "<table border=\"1\" class=\"dataframe\">\n",
       "  <thead>\n",
       "    <tr style=\"text-align: right;\">\n",
       "      <th></th>\n",
       "      <th>ADM1_EN</th>\n",
       "      <th>date</th>\n",
       "      <th>Country Population</th>\n",
       "      <th>pop_CS</th>\n",
       "      <th>CS_1</th>\n",
       "      <th>CS_1_perc</th>\n",
       "      <th>CS_2</th>\n",
       "      <th>CS_2_perc</th>\n",
       "      <th>CS_3</th>\n",
       "      <th>CS_3_perc</th>\n",
       "      <th>...</th>\n",
       "      <th>ML2_1</th>\n",
       "      <th>ML2_1_perc</th>\n",
       "      <th>ML2_2</th>\n",
       "      <th>ML2_2_perc</th>\n",
       "      <th>ML2_3</th>\n",
       "      <th>ML2_3_perc</th>\n",
       "      <th>ML2_4</th>\n",
       "      <th>ML2_4_perc</th>\n",
       "      <th>ML2_5</th>\n",
       "      <th>ML2_5_perc</th>\n",
       "    </tr>\n",
       "  </thead>\n",
       "  <tbody>\n",
       "    <tr>\n",
       "      <th>0</th>\n",
       "      <td>Afar</td>\n",
       "      <td>2020-08-01</td>\n",
       "      <td>114964000</td>\n",
       "      <td>1540553</td>\n",
       "      <td>647322</td>\n",
       "      <td>42</td>\n",
       "      <td>516581</td>\n",
       "      <td>34</td>\n",
       "      <td>313370</td>\n",
       "      <td>20</td>\n",
       "      <td>...</td>\n",
       "      <td>477041</td>\n",
       "      <td>30</td>\n",
       "      <td>583797</td>\n",
       "      <td>37</td>\n",
       "      <td>426361</td>\n",
       "      <td>27</td>\n",
       "      <td>78274</td>\n",
       "      <td>5</td>\n",
       "      <td>0</td>\n",
       "      <td>0</td>\n",
       "    </tr>\n",
       "    <tr>\n",
       "      <th>1</th>\n",
       "      <td>Amhara</td>\n",
       "      <td>2020-08-01</td>\n",
       "      <td>114964000</td>\n",
       "      <td>6084363</td>\n",
       "      <td>3483150</td>\n",
       "      <td>57</td>\n",
       "      <td>1709456</td>\n",
       "      <td>28</td>\n",
       "      <td>682492</td>\n",
       "      <td>11</td>\n",
       "      <td>...</td>\n",
       "      <td>4341010</td>\n",
       "      <td>71</td>\n",
       "      <td>1188029</td>\n",
       "      <td>19</td>\n",
       "      <td>614339</td>\n",
       "      <td>10</td>\n",
       "      <td>0</td>\n",
       "      <td>0</td>\n",
       "      <td>0</td>\n",
       "      <td>0</td>\n",
       "    </tr>\n",
       "    <tr>\n",
       "      <th>2</th>\n",
       "      <td>Oromia</td>\n",
       "      <td>2020-08-01</td>\n",
       "      <td>114964000</td>\n",
       "      <td>16937642</td>\n",
       "      <td>7512571</td>\n",
       "      <td>44</td>\n",
       "      <td>5594669</td>\n",
       "      <td>33</td>\n",
       "      <td>3268079</td>\n",
       "      <td>19</td>\n",
       "      <td>...</td>\n",
       "      <td>6462340</td>\n",
       "      <td>37</td>\n",
       "      <td>5565310</td>\n",
       "      <td>32</td>\n",
       "      <td>4326308</td>\n",
       "      <td>25</td>\n",
       "      <td>948789</td>\n",
       "      <td>5</td>\n",
       "      <td>0</td>\n",
       "      <td>0</td>\n",
       "    </tr>\n",
       "    <tr>\n",
       "      <th>3</th>\n",
       "      <td>SNNP</td>\n",
       "      <td>2020-08-01</td>\n",
       "      <td>114964000</td>\n",
       "      <td>7404334</td>\n",
       "      <td>3582210</td>\n",
       "      <td>48</td>\n",
       "      <td>2393761</td>\n",
       "      <td>32</td>\n",
       "      <td>1112366</td>\n",
       "      <td>15</td>\n",
       "      <td>...</td>\n",
       "      <td>3242824</td>\n",
       "      <td>43</td>\n",
       "      <td>2431700</td>\n",
       "      <td>32</td>\n",
       "      <td>1468883</td>\n",
       "      <td>19</td>\n",
       "      <td>394024</td>\n",
       "      <td>5</td>\n",
       "      <td>0</td>\n",
       "      <td>0</td>\n",
       "    </tr>\n",
       "    <tr>\n",
       "      <th>4</th>\n",
       "      <td>Sidama</td>\n",
       "      <td>2020-08-01</td>\n",
       "      <td>114964000</td>\n",
       "      <td>3177915</td>\n",
       "      <td>2065645</td>\n",
       "      <td>65</td>\n",
       "      <td>635583</td>\n",
       "      <td>20</td>\n",
       "      <td>476687</td>\n",
       "      <td>15</td>\n",
       "      <td>...</td>\n",
       "      <td>1617520</td>\n",
       "      <td>50</td>\n",
       "      <td>808760</td>\n",
       "      <td>25</td>\n",
       "      <td>647008</td>\n",
       "      <td>20</td>\n",
       "      <td>161752</td>\n",
       "      <td>5</td>\n",
       "      <td>0</td>\n",
       "      <td>0</td>\n",
       "    </tr>\n",
       "    <tr>\n",
       "      <th>5</th>\n",
       "      <td>Somali</td>\n",
       "      <td>2020-08-01</td>\n",
       "      <td>114964000</td>\n",
       "      <td>5307061</td>\n",
       "      <td>1906949</td>\n",
       "      <td>36</td>\n",
       "      <td>1955920</td>\n",
       "      <td>37</td>\n",
       "      <td>1153513</td>\n",
       "      <td>22</td>\n",
       "      <td>...</td>\n",
       "      <td>1550122</td>\n",
       "      <td>28</td>\n",
       "      <td>1934893</td>\n",
       "      <td>36</td>\n",
       "      <td>1416565</td>\n",
       "      <td>26</td>\n",
       "      <td>542824</td>\n",
       "      <td>10</td>\n",
       "      <td>0</td>\n",
       "      <td>0</td>\n",
       "    </tr>\n",
       "    <tr>\n",
       "      <th>6</th>\n",
       "      <td>Tigray</td>\n",
       "      <td>2020-08-01</td>\n",
       "      <td>114964000</td>\n",
       "      <td>576351</td>\n",
       "      <td>316993</td>\n",
       "      <td>55</td>\n",
       "      <td>201723</td>\n",
       "      <td>35</td>\n",
       "      <td>57635</td>\n",
       "      <td>10</td>\n",
       "      <td>...</td>\n",
       "      <td>261136</td>\n",
       "      <td>45</td>\n",
       "      <td>261136</td>\n",
       "      <td>45</td>\n",
       "      <td>58030</td>\n",
       "      <td>10</td>\n",
       "      <td>0</td>\n",
       "      <td>0</td>\n",
       "      <td>0</td>\n",
       "      <td>0</td>\n",
       "    </tr>\n",
       "    <tr>\n",
       "      <th>7</th>\n",
       "      <td>Afar</td>\n",
       "      <td>2019-09-01</td>\n",
       "      <td>112079000</td>\n",
       "      <td>1513546</td>\n",
       "      <td>620157</td>\n",
       "      <td>40</td>\n",
       "      <td>520180</td>\n",
       "      <td>36</td>\n",
       "      <td>313633</td>\n",
       "      <td>21</td>\n",
       "      <td>...</td>\n",
       "      <td>586181</td>\n",
       "      <td>39</td>\n",
       "      <td>609136</td>\n",
       "      <td>40</td>\n",
       "      <td>296572</td>\n",
       "      <td>19</td>\n",
       "      <td>44650</td>\n",
       "      <td>2</td>\n",
       "      <td>0</td>\n",
       "      <td>0</td>\n",
       "    </tr>\n",
       "    <tr>\n",
       "      <th>8</th>\n",
       "      <td>Amhara</td>\n",
       "      <td>2019-09-01</td>\n",
       "      <td>112079000</td>\n",
       "      <td>3457931</td>\n",
       "      <td>1763232</td>\n",
       "      <td>53</td>\n",
       "      <td>871182</td>\n",
       "      <td>26</td>\n",
       "      <td>594367</td>\n",
       "      <td>15</td>\n",
       "      <td>...</td>\n",
       "      <td>1578403</td>\n",
       "      <td>46</td>\n",
       "      <td>1000900</td>\n",
       "      <td>28</td>\n",
       "      <td>675361</td>\n",
       "      <td>19</td>\n",
       "      <td>228197</td>\n",
       "      <td>7</td>\n",
       "      <td>0</td>\n",
       "      <td>0</td>\n",
       "    </tr>\n",
       "    <tr>\n",
       "      <th>9</th>\n",
       "      <td>Oromiya</td>\n",
       "      <td>2019-09-01</td>\n",
       "      <td>112079000</td>\n",
       "      <td>11497625</td>\n",
       "      <td>3285838</td>\n",
       "      <td>30</td>\n",
       "      <td>4690268</td>\n",
       "      <td>39</td>\n",
       "      <td>2434229</td>\n",
       "      <td>22</td>\n",
       "      <td>...</td>\n",
       "      <td>3112603</td>\n",
       "      <td>28</td>\n",
       "      <td>4439410</td>\n",
       "      <td>38</td>\n",
       "      <td>2862716</td>\n",
       "      <td>24</td>\n",
       "      <td>1301955</td>\n",
       "      <td>10</td>\n",
       "      <td>0</td>\n",
       "      <td>0</td>\n",
       "    </tr>\n",
       "    <tr>\n",
       "      <th>10</th>\n",
       "      <td>SNNPR</td>\n",
       "      <td>2019-09-01</td>\n",
       "      <td>112079000</td>\n",
       "      <td>5600673</td>\n",
       "      <td>2898809</td>\n",
       "      <td>52</td>\n",
       "      <td>1631304</td>\n",
       "      <td>28</td>\n",
       "      <td>865172</td>\n",
       "      <td>16</td>\n",
       "      <td>...</td>\n",
       "      <td>2649456</td>\n",
       "      <td>47</td>\n",
       "      <td>1829995</td>\n",
       "      <td>31</td>\n",
       "      <td>958706</td>\n",
       "      <td>17</td>\n",
       "      <td>262780</td>\n",
       "      <td>5</td>\n",
       "      <td>0</td>\n",
       "      <td>0</td>\n",
       "    </tr>\n",
       "    <tr>\n",
       "      <th>11</th>\n",
       "      <td>Somali</td>\n",
       "      <td>2019-09-01</td>\n",
       "      <td>112079000</td>\n",
       "      <td>5158000</td>\n",
       "      <td>1474153</td>\n",
       "      <td>27</td>\n",
       "      <td>1906823</td>\n",
       "      <td>38</td>\n",
       "      <td>1533970</td>\n",
       "      <td>30</td>\n",
       "      <td>...</td>\n",
       "      <td>1725143</td>\n",
       "      <td>33</td>\n",
       "      <td>1970584</td>\n",
       "      <td>37</td>\n",
       "      <td>1453249</td>\n",
       "      <td>27</td>\n",
       "      <td>131025</td>\n",
       "      <td>3</td>\n",
       "      <td>0</td>\n",
       "      <td>0</td>\n",
       "    </tr>\n",
       "    <tr>\n",
       "      <th>12</th>\n",
       "      <td>Tigray</td>\n",
       "      <td>2019-09-01</td>\n",
       "      <td>112079000</td>\n",
       "      <td>1499302</td>\n",
       "      <td>684329</td>\n",
       "      <td>44</td>\n",
       "      <td>413821</td>\n",
       "      <td>29</td>\n",
       "      <td>369046</td>\n",
       "      <td>24</td>\n",
       "      <td>...</td>\n",
       "      <td>802983</td>\n",
       "      <td>52</td>\n",
       "      <td>445821</td>\n",
       "      <td>30</td>\n",
       "      <td>250478</td>\n",
       "      <td>17</td>\n",
       "      <td>8101</td>\n",
       "      <td>1</td>\n",
       "      <td>0</td>\n",
       "      <td>0</td>\n",
       "    </tr>\n",
       "  </tbody>\n",
       "</table>\n",
       "<p>13 rows × 36 columns</p>\n",
       "</div>"
      ],
      "text/plain": [
       "    ADM1_EN       date  Country Population    pop_CS     CS_1  CS_1_perc  \\\n",
       "0      Afar 2020-08-01           114964000   1540553   647322         42   \n",
       "1    Amhara 2020-08-01           114964000   6084363  3483150         57   \n",
       "2    Oromia 2020-08-01           114964000  16937642  7512571         44   \n",
       "3      SNNP 2020-08-01           114964000   7404334  3582210         48   \n",
       "4    Sidama 2020-08-01           114964000   3177915  2065645         65   \n",
       "5    Somali 2020-08-01           114964000   5307061  1906949         36   \n",
       "6    Tigray 2020-08-01           114964000    576351   316993         55   \n",
       "7      Afar 2019-09-01           112079000   1513546   620157         40   \n",
       "8    Amhara 2019-09-01           112079000   3457931  1763232         53   \n",
       "9   Oromiya 2019-09-01           112079000  11497625  3285838         30   \n",
       "10    SNNPR 2019-09-01           112079000   5600673  2898809         52   \n",
       "11   Somali 2019-09-01           112079000   5158000  1474153         27   \n",
       "12   Tigray 2019-09-01           112079000   1499302   684329         44   \n",
       "\n",
       "       CS_2  CS_2_perc     CS_3  CS_3_perc  ...    ML2_1  ML2_1_perc    ML2_2  \\\n",
       "0    516581         34   313370         20  ...   477041          30   583797   \n",
       "1   1709456         28   682492         11  ...  4341010          71  1188029   \n",
       "2   5594669         33  3268079         19  ...  6462340          37  5565310   \n",
       "3   2393761         32  1112366         15  ...  3242824          43  2431700   \n",
       "4    635583         20   476687         15  ...  1617520          50   808760   \n",
       "5   1955920         37  1153513         22  ...  1550122          28  1934893   \n",
       "6    201723         35    57635         10  ...   261136          45   261136   \n",
       "7    520180         36   313633         21  ...   586181          39   609136   \n",
       "8    871182         26   594367         15  ...  1578403          46  1000900   \n",
       "9   4690268         39  2434229         22  ...  3112603          28  4439410   \n",
       "10  1631304         28   865172         16  ...  2649456          47  1829995   \n",
       "11  1906823         38  1533970         30  ...  1725143          33  1970584   \n",
       "12   413821         29   369046         24  ...   802983          52   445821   \n",
       "\n",
       "    ML2_2_perc    ML2_3  ML2_3_perc    ML2_4  ML2_4_perc  ML2_5  ML2_5_perc  \n",
       "0           37   426361          27    78274           5      0           0  \n",
       "1           19   614339          10        0           0      0           0  \n",
       "2           32  4326308          25   948789           5      0           0  \n",
       "3           32  1468883          19   394024           5      0           0  \n",
       "4           25   647008          20   161752           5      0           0  \n",
       "5           36  1416565          26   542824          10      0           0  \n",
       "6           45    58030          10        0           0      0           0  \n",
       "7           40   296572          19    44650           2      0           0  \n",
       "8           28   675361          19   228197           7      0           0  \n",
       "9           38  2862716          24  1301955          10      0           0  \n",
       "10          31   958706          17   262780           5      0           0  \n",
       "11          37  1453249          27   131025           3      0           0  \n",
       "12          30   250478          17     8101           1      0           0  \n",
       "\n",
       "[13 rows x 36 columns]"
      ]
     },
     "execution_count": 677,
     "metadata": {},
     "output_type": "execute_result"
    }
   ],
   "source": [
    "df_ipcp"
   ]
  },
  {
   "cell_type": "markdown",
   "metadata": {},
   "source": [
    "Add FewsNet"
   ]
  },
  {
   "cell_type": "code",
   "execution_count": null,
   "metadata": {},
   "outputs": [],
   "source": []
  },
  {
   "cell_type": "code",
   "execution_count": null,
   "metadata": {},
   "outputs": [],
   "source": []
  },
  {
   "cell_type": "code",
   "execution_count": 10,
   "metadata": {},
   "outputs": [],
   "source": [
    "def get_trigger(row, status, level, perc):\n",
    "    # range till 6 cause 5 is max level\n",
    "    cols = [f\"{status}_{l}\" for l in range(level, 6)]\n",
    "    if np.isnan(row[f\"pop_{status}\"]):\n",
    "        return np.nan\n",
    "    if row[cols].sum() >= row[f\"pop_{status}\"] / (100 / perc):\n",
    "        return 1\n",
    "    else:\n",
    "        return 0\n",
    "\n",
    "\n",
    "def get_trigger_increase(row, level, perc):\n",
    "    # range till 6 cause 5 is max level\n",
    "    cols_ml1 = [f\"ML1_{l}\" for l in range(level, 6)]\n",
    "    cols_cs = [f\"CS_{l}\" for l in range(level, 6)]\n",
    "    if row[[\"pop_CS\", \"pop_ML1\"]].isnull().values.any():\n",
    "        return np.nan\n",
    "    if row[cols_ml1].sum() == 0:\n",
    "        return 0\n",
    "    if row[cols_ml1].sum() >= row[cols_cs].sum() * (1 + (perc / 100)):\n",
    "        return 1\n",
    "    else:\n",
    "        return 0"
   ]
  },
  {
   "cell_type": "code",
   "execution_count": 126,
   "metadata": {},
   "outputs": [],
   "source": [
    "df_ipcp['year'] = df_ipcp['date'].dt.year\n",
    "df_ipcp['month'] = df_ipcp['date'].dt.month"
   ]
  },
  {
   "cell_type": "code",
   "execution_count": 127,
   "metadata": {},
   "outputs": [
    {
     "data": {
      "text/html": [
       "<div>\n",
       "<style scoped>\n",
       "    .dataframe tbody tr th:only-of-type {\n",
       "        vertical-align: middle;\n",
       "    }\n",
       "\n",
       "    .dataframe tbody tr th {\n",
       "        vertical-align: top;\n",
       "    }\n",
       "\n",
       "    .dataframe thead th {\n",
       "        text-align: right;\n",
       "    }\n",
       "</style>\n",
       "<table border=\"1\" class=\"dataframe\">\n",
       "  <thead>\n",
       "    <tr style=\"text-align: right;\">\n",
       "      <th></th>\n",
       "      <th>ADM1_EN</th>\n",
       "      <th>date</th>\n",
       "      <th>Country Population</th>\n",
       "      <th>pop_CS</th>\n",
       "      <th>CS_1</th>\n",
       "      <th>CS_1_perc</th>\n",
       "      <th>CS_2</th>\n",
       "      <th>CS_2_perc</th>\n",
       "      <th>CS_3</th>\n",
       "      <th>CS_3_perc</th>\n",
       "      <th>...</th>\n",
       "      <th>ML2_2</th>\n",
       "      <th>ML2_2_perc</th>\n",
       "      <th>ML2_3</th>\n",
       "      <th>ML2_3_perc</th>\n",
       "      <th>ML2_4</th>\n",
       "      <th>ML2_4_perc</th>\n",
       "      <th>ML2_5</th>\n",
       "      <th>ML2_5_perc</th>\n",
       "      <th>year</th>\n",
       "      <th>month</th>\n",
       "    </tr>\n",
       "  </thead>\n",
       "  <tbody>\n",
       "    <tr>\n",
       "      <th>0</th>\n",
       "      <td>Afar</td>\n",
       "      <td>2020-08-01</td>\n",
       "      <td>114964000</td>\n",
       "      <td>1540553</td>\n",
       "      <td>647322</td>\n",
       "      <td>42</td>\n",
       "      <td>516581</td>\n",
       "      <td>34</td>\n",
       "      <td>313370</td>\n",
       "      <td>20</td>\n",
       "      <td>...</td>\n",
       "      <td>583797</td>\n",
       "      <td>37</td>\n",
       "      <td>426361</td>\n",
       "      <td>27</td>\n",
       "      <td>78274</td>\n",
       "      <td>5</td>\n",
       "      <td>0</td>\n",
       "      <td>0</td>\n",
       "      <td>2020</td>\n",
       "      <td>8</td>\n",
       "    </tr>\n",
       "    <tr>\n",
       "      <th>1</th>\n",
       "      <td>Amhara</td>\n",
       "      <td>2020-08-01</td>\n",
       "      <td>114964000</td>\n",
       "      <td>6084363</td>\n",
       "      <td>3483150</td>\n",
       "      <td>57</td>\n",
       "      <td>1709456</td>\n",
       "      <td>28</td>\n",
       "      <td>682492</td>\n",
       "      <td>11</td>\n",
       "      <td>...</td>\n",
       "      <td>1188029</td>\n",
       "      <td>19</td>\n",
       "      <td>614339</td>\n",
       "      <td>10</td>\n",
       "      <td>0</td>\n",
       "      <td>0</td>\n",
       "      <td>0</td>\n",
       "      <td>0</td>\n",
       "      <td>2020</td>\n",
       "      <td>8</td>\n",
       "    </tr>\n",
       "    <tr>\n",
       "      <th>2</th>\n",
       "      <td>Oromia</td>\n",
       "      <td>2020-08-01</td>\n",
       "      <td>114964000</td>\n",
       "      <td>16937642</td>\n",
       "      <td>7512571</td>\n",
       "      <td>44</td>\n",
       "      <td>5594669</td>\n",
       "      <td>33</td>\n",
       "      <td>3268079</td>\n",
       "      <td>19</td>\n",
       "      <td>...</td>\n",
       "      <td>5565310</td>\n",
       "      <td>32</td>\n",
       "      <td>4326308</td>\n",
       "      <td>25</td>\n",
       "      <td>948789</td>\n",
       "      <td>5</td>\n",
       "      <td>0</td>\n",
       "      <td>0</td>\n",
       "      <td>2020</td>\n",
       "      <td>8</td>\n",
       "    </tr>\n",
       "    <tr>\n",
       "      <th>3</th>\n",
       "      <td>SNNP</td>\n",
       "      <td>2020-08-01</td>\n",
       "      <td>114964000</td>\n",
       "      <td>7404334</td>\n",
       "      <td>3582210</td>\n",
       "      <td>48</td>\n",
       "      <td>2393761</td>\n",
       "      <td>32</td>\n",
       "      <td>1112366</td>\n",
       "      <td>15</td>\n",
       "      <td>...</td>\n",
       "      <td>2431700</td>\n",
       "      <td>32</td>\n",
       "      <td>1468883</td>\n",
       "      <td>19</td>\n",
       "      <td>394024</td>\n",
       "      <td>5</td>\n",
       "      <td>0</td>\n",
       "      <td>0</td>\n",
       "      <td>2020</td>\n",
       "      <td>8</td>\n",
       "    </tr>\n",
       "    <tr>\n",
       "      <th>4</th>\n",
       "      <td>Sidama</td>\n",
       "      <td>2020-08-01</td>\n",
       "      <td>114964000</td>\n",
       "      <td>3177915</td>\n",
       "      <td>2065645</td>\n",
       "      <td>65</td>\n",
       "      <td>635583</td>\n",
       "      <td>20</td>\n",
       "      <td>476687</td>\n",
       "      <td>15</td>\n",
       "      <td>...</td>\n",
       "      <td>808760</td>\n",
       "      <td>25</td>\n",
       "      <td>647008</td>\n",
       "      <td>20</td>\n",
       "      <td>161752</td>\n",
       "      <td>5</td>\n",
       "      <td>0</td>\n",
       "      <td>0</td>\n",
       "      <td>2020</td>\n",
       "      <td>8</td>\n",
       "    </tr>\n",
       "    <tr>\n",
       "      <th>5</th>\n",
       "      <td>Somali</td>\n",
       "      <td>2020-08-01</td>\n",
       "      <td>114964000</td>\n",
       "      <td>5307061</td>\n",
       "      <td>1906949</td>\n",
       "      <td>36</td>\n",
       "      <td>1955920</td>\n",
       "      <td>37</td>\n",
       "      <td>1153513</td>\n",
       "      <td>22</td>\n",
       "      <td>...</td>\n",
       "      <td>1934893</td>\n",
       "      <td>36</td>\n",
       "      <td>1416565</td>\n",
       "      <td>26</td>\n",
       "      <td>542824</td>\n",
       "      <td>10</td>\n",
       "      <td>0</td>\n",
       "      <td>0</td>\n",
       "      <td>2020</td>\n",
       "      <td>8</td>\n",
       "    </tr>\n",
       "    <tr>\n",
       "      <th>6</th>\n",
       "      <td>Tigray</td>\n",
       "      <td>2020-08-01</td>\n",
       "      <td>114964000</td>\n",
       "      <td>576351</td>\n",
       "      <td>316993</td>\n",
       "      <td>55</td>\n",
       "      <td>201723</td>\n",
       "      <td>35</td>\n",
       "      <td>57635</td>\n",
       "      <td>10</td>\n",
       "      <td>...</td>\n",
       "      <td>261136</td>\n",
       "      <td>45</td>\n",
       "      <td>58030</td>\n",
       "      <td>10</td>\n",
       "      <td>0</td>\n",
       "      <td>0</td>\n",
       "      <td>0</td>\n",
       "      <td>0</td>\n",
       "      <td>2020</td>\n",
       "      <td>8</td>\n",
       "    </tr>\n",
       "    <tr>\n",
       "      <th>7</th>\n",
       "      <td>Afar</td>\n",
       "      <td>2019-09-01</td>\n",
       "      <td>112079000</td>\n",
       "      <td>1513546</td>\n",
       "      <td>620157</td>\n",
       "      <td>40</td>\n",
       "      <td>520180</td>\n",
       "      <td>36</td>\n",
       "      <td>313633</td>\n",
       "      <td>21</td>\n",
       "      <td>...</td>\n",
       "      <td>609136</td>\n",
       "      <td>40</td>\n",
       "      <td>296572</td>\n",
       "      <td>19</td>\n",
       "      <td>44650</td>\n",
       "      <td>2</td>\n",
       "      <td>0</td>\n",
       "      <td>0</td>\n",
       "      <td>2019</td>\n",
       "      <td>9</td>\n",
       "    </tr>\n",
       "    <tr>\n",
       "      <th>8</th>\n",
       "      <td>Amhara</td>\n",
       "      <td>2019-09-01</td>\n",
       "      <td>112079000</td>\n",
       "      <td>3457931</td>\n",
       "      <td>1763232</td>\n",
       "      <td>53</td>\n",
       "      <td>871182</td>\n",
       "      <td>26</td>\n",
       "      <td>594367</td>\n",
       "      <td>15</td>\n",
       "      <td>...</td>\n",
       "      <td>1000900</td>\n",
       "      <td>28</td>\n",
       "      <td>675361</td>\n",
       "      <td>19</td>\n",
       "      <td>228197</td>\n",
       "      <td>7</td>\n",
       "      <td>0</td>\n",
       "      <td>0</td>\n",
       "      <td>2019</td>\n",
       "      <td>9</td>\n",
       "    </tr>\n",
       "    <tr>\n",
       "      <th>9</th>\n",
       "      <td>Oromiya</td>\n",
       "      <td>2019-09-01</td>\n",
       "      <td>112079000</td>\n",
       "      <td>11497625</td>\n",
       "      <td>3285838</td>\n",
       "      <td>30</td>\n",
       "      <td>4690268</td>\n",
       "      <td>39</td>\n",
       "      <td>2434229</td>\n",
       "      <td>22</td>\n",
       "      <td>...</td>\n",
       "      <td>4439410</td>\n",
       "      <td>38</td>\n",
       "      <td>2862716</td>\n",
       "      <td>24</td>\n",
       "      <td>1301955</td>\n",
       "      <td>10</td>\n",
       "      <td>0</td>\n",
       "      <td>0</td>\n",
       "      <td>2019</td>\n",
       "      <td>9</td>\n",
       "    </tr>\n",
       "    <tr>\n",
       "      <th>10</th>\n",
       "      <td>SNNPR</td>\n",
       "      <td>2019-09-01</td>\n",
       "      <td>112079000</td>\n",
       "      <td>5600673</td>\n",
       "      <td>2898809</td>\n",
       "      <td>52</td>\n",
       "      <td>1631304</td>\n",
       "      <td>28</td>\n",
       "      <td>865172</td>\n",
       "      <td>16</td>\n",
       "      <td>...</td>\n",
       "      <td>1829995</td>\n",
       "      <td>31</td>\n",
       "      <td>958706</td>\n",
       "      <td>17</td>\n",
       "      <td>262780</td>\n",
       "      <td>5</td>\n",
       "      <td>0</td>\n",
       "      <td>0</td>\n",
       "      <td>2019</td>\n",
       "      <td>9</td>\n",
       "    </tr>\n",
       "    <tr>\n",
       "      <th>11</th>\n",
       "      <td>Somali</td>\n",
       "      <td>2019-09-01</td>\n",
       "      <td>112079000</td>\n",
       "      <td>5158000</td>\n",
       "      <td>1474153</td>\n",
       "      <td>27</td>\n",
       "      <td>1906823</td>\n",
       "      <td>38</td>\n",
       "      <td>1533970</td>\n",
       "      <td>30</td>\n",
       "      <td>...</td>\n",
       "      <td>1970584</td>\n",
       "      <td>37</td>\n",
       "      <td>1453249</td>\n",
       "      <td>27</td>\n",
       "      <td>131025</td>\n",
       "      <td>3</td>\n",
       "      <td>0</td>\n",
       "      <td>0</td>\n",
       "      <td>2019</td>\n",
       "      <td>9</td>\n",
       "    </tr>\n",
       "    <tr>\n",
       "      <th>12</th>\n",
       "      <td>Tigray</td>\n",
       "      <td>2019-09-01</td>\n",
       "      <td>112079000</td>\n",
       "      <td>1499302</td>\n",
       "      <td>684329</td>\n",
       "      <td>44</td>\n",
       "      <td>413821</td>\n",
       "      <td>29</td>\n",
       "      <td>369046</td>\n",
       "      <td>24</td>\n",
       "      <td>...</td>\n",
       "      <td>445821</td>\n",
       "      <td>30</td>\n",
       "      <td>250478</td>\n",
       "      <td>17</td>\n",
       "      <td>8101</td>\n",
       "      <td>1</td>\n",
       "      <td>0</td>\n",
       "      <td>0</td>\n",
       "      <td>2019</td>\n",
       "      <td>9</td>\n",
       "    </tr>\n",
       "  </tbody>\n",
       "</table>\n",
       "<p>13 rows × 39 columns</p>\n",
       "</div>"
      ],
      "text/plain": [
       "    ADM1_EN       date  Country Population    pop_CS     CS_1  CS_1_perc  \\\n",
       "0      Afar 2020-08-01           114964000   1540553   647322         42   \n",
       "1    Amhara 2020-08-01           114964000   6084363  3483150         57   \n",
       "2    Oromia 2020-08-01           114964000  16937642  7512571         44   \n",
       "3      SNNP 2020-08-01           114964000   7404334  3582210         48   \n",
       "4    Sidama 2020-08-01           114964000   3177915  2065645         65   \n",
       "5    Somali 2020-08-01           114964000   5307061  1906949         36   \n",
       "6    Tigray 2020-08-01           114964000    576351   316993         55   \n",
       "7      Afar 2019-09-01           112079000   1513546   620157         40   \n",
       "8    Amhara 2019-09-01           112079000   3457931  1763232         53   \n",
       "9   Oromiya 2019-09-01           112079000  11497625  3285838         30   \n",
       "10    SNNPR 2019-09-01           112079000   5600673  2898809         52   \n",
       "11   Somali 2019-09-01           112079000   5158000  1474153         27   \n",
       "12   Tigray 2019-09-01           112079000   1499302   684329         44   \n",
       "\n",
       "       CS_2  CS_2_perc     CS_3  CS_3_perc  ...    ML2_2  ML2_2_perc    ML2_3  \\\n",
       "0    516581         34   313370         20  ...   583797          37   426361   \n",
       "1   1709456         28   682492         11  ...  1188029          19   614339   \n",
       "2   5594669         33  3268079         19  ...  5565310          32  4326308   \n",
       "3   2393761         32  1112366         15  ...  2431700          32  1468883   \n",
       "4    635583         20   476687         15  ...   808760          25   647008   \n",
       "5   1955920         37  1153513         22  ...  1934893          36  1416565   \n",
       "6    201723         35    57635         10  ...   261136          45    58030   \n",
       "7    520180         36   313633         21  ...   609136          40   296572   \n",
       "8    871182         26   594367         15  ...  1000900          28   675361   \n",
       "9   4690268         39  2434229         22  ...  4439410          38  2862716   \n",
       "10  1631304         28   865172         16  ...  1829995          31   958706   \n",
       "11  1906823         38  1533970         30  ...  1970584          37  1453249   \n",
       "12   413821         29   369046         24  ...   445821          30   250478   \n",
       "\n",
       "    ML2_3_perc    ML2_4  ML2_4_perc  ML2_5  ML2_5_perc  year  month  \n",
       "0           27    78274           5      0           0  2020      8  \n",
       "1           10        0           0      0           0  2020      8  \n",
       "2           25   948789           5      0           0  2020      8  \n",
       "3           19   394024           5      0           0  2020      8  \n",
       "4           20   161752           5      0           0  2020      8  \n",
       "5           26   542824          10      0           0  2020      8  \n",
       "6           10        0           0      0           0  2020      8  \n",
       "7           19    44650           2      0           0  2019      9  \n",
       "8           19   228197           7      0           0  2019      9  \n",
       "9           24  1301955          10      0           0  2019      9  \n",
       "10          17   262780           5      0           0  2019      9  \n",
       "11          27   131025           3      0           0  2019      9  \n",
       "12          17     8101           1      0           0  2019      9  \n",
       "\n",
       "[13 rows x 39 columns]"
      ]
     },
     "execution_count": 127,
     "metadata": {},
     "output_type": "execute_result"
    }
   ],
   "source": [
    "df_ipcp"
   ]
  },
  {
   "cell_type": "code",
   "execution_count": 149,
   "metadata": {},
   "outputs": [],
   "source": [
    "df_ipcp[\"trigger_CS_3_20\"]=df_ipcp.apply(lambda x: get_trigger(x,\"CS\",3,20),axis=1)\n",
    "df_ipcp[\"trigger_CS_4_2\"]=df_ipcp.apply(lambda x: get_trigger(x,\"CS\",4,2.5),axis=1)\n",
    "df_ipcp[\"trigger_CS_4_20\"]=df_ipcp.apply(lambda x: get_trigger(x,\"CS\",4,20),axis=1)\n",
    "df_ipcp[\"trigger_CS_4_10\"]=df_ipcp.apply(lambda x: get_trigger(x,\"CS\",4,10),axis=1)\n",
    "df_ipcp[\"trigger_ML1_4_10\"]=df_ipcp.apply(lambda x: get_trigger(x,\"ML1\",4,10),axis=1)\n",
    "df_ipcp[\"trigger_CS_4_1\"]=df_ipcp.apply(lambda x: get_trigger(x,\"CS\",4,0.1),axis=1)"
   ]
  },
  {
   "cell_type": "code",
   "execution_count": 154,
   "metadata": {},
   "outputs": [],
   "source": [
    "for c in [f\"CS_{i}\" for i in range(1,6)]+[f\"ML1_{i}\" for i in range(1,6)]:\n",
    "    status=c.split(\"_\")[0]\n",
    "    df_ipcp[f\"perc_{c}\"]=df_ipcp[c]/df_ipcp[f\"pop_{status}\"]*100"
   ]
  },
  {
   "cell_type": "code",
   "execution_count": 144,
   "metadata": {},
   "outputs": [
    {
     "data": {
      "text/html": [
       "<div>\n",
       "<style scoped>\n",
       "    .dataframe tbody tr th:only-of-type {\n",
       "        vertical-align: middle;\n",
       "    }\n",
       "\n",
       "    .dataframe tbody tr th {\n",
       "        vertical-align: top;\n",
       "    }\n",
       "\n",
       "    .dataframe thead th {\n",
       "        text-align: right;\n",
       "    }\n",
       "</style>\n",
       "<table border=\"1\" class=\"dataframe\">\n",
       "  <thead>\n",
       "    <tr style=\"text-align: right;\">\n",
       "      <th></th>\n",
       "      <th>ADM1_EN</th>\n",
       "      <th>date</th>\n",
       "      <th>Country Population</th>\n",
       "      <th>pop_CS</th>\n",
       "      <th>CS_1</th>\n",
       "      <th>CS_1_perc</th>\n",
       "      <th>CS_2</th>\n",
       "      <th>CS_2_perc</th>\n",
       "      <th>CS_3</th>\n",
       "      <th>CS_3_perc</th>\n",
       "      <th>...</th>\n",
       "      <th>year</th>\n",
       "      <th>month</th>\n",
       "      <th>trigger_CS_3_20</th>\n",
       "      <th>trigger_CS_4_2</th>\n",
       "      <th>trigger_CS_4_20</th>\n",
       "      <th>trigger_CS_4_1</th>\n",
       "      <th>perc_CS_3</th>\n",
       "      <th>perc_CS_4</th>\n",
       "      <th>trigger_CS_4_10</th>\n",
       "      <th>trigger_ML1_4_10</th>\n",
       "    </tr>\n",
       "  </thead>\n",
       "  <tbody>\n",
       "    <tr>\n",
       "      <th>0</th>\n",
       "      <td>Afar</td>\n",
       "      <td>2020-08-01</td>\n",
       "      <td>114964000</td>\n",
       "      <td>1540553</td>\n",
       "      <td>647322</td>\n",
       "      <td>42</td>\n",
       "      <td>516581</td>\n",
       "      <td>34</td>\n",
       "      <td>313370</td>\n",
       "      <td>20</td>\n",
       "      <td>...</td>\n",
       "      <td>2020</td>\n",
       "      <td>8</td>\n",
       "      <td>1</td>\n",
       "      <td>1</td>\n",
       "      <td>0</td>\n",
       "      <td>1</td>\n",
       "      <td>20.341397</td>\n",
       "      <td>4.107616</td>\n",
       "      <td>0</td>\n",
       "      <td>0</td>\n",
       "    </tr>\n",
       "    <tr>\n",
       "      <th>1</th>\n",
       "      <td>Amhara</td>\n",
       "      <td>2020-08-01</td>\n",
       "      <td>114964000</td>\n",
       "      <td>6084363</td>\n",
       "      <td>3483150</td>\n",
       "      <td>57</td>\n",
       "      <td>1709456</td>\n",
       "      <td>28</td>\n",
       "      <td>682492</td>\n",
       "      <td>11</td>\n",
       "      <td>...</td>\n",
       "      <td>2020</td>\n",
       "      <td>8</td>\n",
       "      <td>0</td>\n",
       "      <td>1</td>\n",
       "      <td>0</td>\n",
       "      <td>1</td>\n",
       "      <td>11.217148</td>\n",
       "      <td>3.439374</td>\n",
       "      <td>0</td>\n",
       "      <td>0</td>\n",
       "    </tr>\n",
       "    <tr>\n",
       "      <th>2</th>\n",
       "      <td>Oromia</td>\n",
       "      <td>2020-08-01</td>\n",
       "      <td>114964000</td>\n",
       "      <td>16937642</td>\n",
       "      <td>7512571</td>\n",
       "      <td>44</td>\n",
       "      <td>5594669</td>\n",
       "      <td>33</td>\n",
       "      <td>3268079</td>\n",
       "      <td>19</td>\n",
       "      <td>...</td>\n",
       "      <td>2020</td>\n",
       "      <td>8</td>\n",
       "      <td>1</td>\n",
       "      <td>1</td>\n",
       "      <td>0</td>\n",
       "      <td>1</td>\n",
       "      <td>19.294770</td>\n",
       "      <td>3.319954</td>\n",
       "      <td>0</td>\n",
       "      <td>0</td>\n",
       "    </tr>\n",
       "    <tr>\n",
       "      <th>3</th>\n",
       "      <td>SNNP</td>\n",
       "      <td>2020-08-01</td>\n",
       "      <td>114964000</td>\n",
       "      <td>7404334</td>\n",
       "      <td>3582210</td>\n",
       "      <td>48</td>\n",
       "      <td>2393761</td>\n",
       "      <td>32</td>\n",
       "      <td>1112366</td>\n",
       "      <td>15</td>\n",
       "      <td>...</td>\n",
       "      <td>2020</td>\n",
       "      <td>8</td>\n",
       "      <td>0</td>\n",
       "      <td>1</td>\n",
       "      <td>0</td>\n",
       "      <td>1</td>\n",
       "      <td>15.023174</td>\n",
       "      <td>4.267744</td>\n",
       "      <td>0</td>\n",
       "      <td>0</td>\n",
       "    </tr>\n",
       "    <tr>\n",
       "      <th>4</th>\n",
       "      <td>Sidama</td>\n",
       "      <td>2020-08-01</td>\n",
       "      <td>114964000</td>\n",
       "      <td>3177915</td>\n",
       "      <td>2065645</td>\n",
       "      <td>65</td>\n",
       "      <td>635583</td>\n",
       "      <td>20</td>\n",
       "      <td>476687</td>\n",
       "      <td>15</td>\n",
       "      <td>...</td>\n",
       "      <td>2020</td>\n",
       "      <td>8</td>\n",
       "      <td>0</td>\n",
       "      <td>0</td>\n",
       "      <td>0</td>\n",
       "      <td>0</td>\n",
       "      <td>14.999992</td>\n",
       "      <td>0.000000</td>\n",
       "      <td>0</td>\n",
       "      <td>0</td>\n",
       "    </tr>\n",
       "    <tr>\n",
       "      <th>5</th>\n",
       "      <td>Somali</td>\n",
       "      <td>2020-08-01</td>\n",
       "      <td>114964000</td>\n",
       "      <td>5307061</td>\n",
       "      <td>1906949</td>\n",
       "      <td>36</td>\n",
       "      <td>1955920</td>\n",
       "      <td>37</td>\n",
       "      <td>1153513</td>\n",
       "      <td>22</td>\n",
       "      <td>...</td>\n",
       "      <td>2020</td>\n",
       "      <td>8</td>\n",
       "      <td>1</td>\n",
       "      <td>1</td>\n",
       "      <td>0</td>\n",
       "      <td>1</td>\n",
       "      <td>21.735439</td>\n",
       "      <td>5.477175</td>\n",
       "      <td>0</td>\n",
       "      <td>0</td>\n",
       "    </tr>\n",
       "    <tr>\n",
       "      <th>6</th>\n",
       "      <td>Tigray</td>\n",
       "      <td>2020-08-01</td>\n",
       "      <td>114964000</td>\n",
       "      <td>576351</td>\n",
       "      <td>316993</td>\n",
       "      <td>55</td>\n",
       "      <td>201723</td>\n",
       "      <td>35</td>\n",
       "      <td>57635</td>\n",
       "      <td>10</td>\n",
       "      <td>...</td>\n",
       "      <td>2020</td>\n",
       "      <td>8</td>\n",
       "      <td>0</td>\n",
       "      <td>0</td>\n",
       "      <td>0</td>\n",
       "      <td>0</td>\n",
       "      <td>9.999983</td>\n",
       "      <td>0.000000</td>\n",
       "      <td>0</td>\n",
       "      <td>0</td>\n",
       "    </tr>\n",
       "    <tr>\n",
       "      <th>7</th>\n",
       "      <td>Afar</td>\n",
       "      <td>2019-09-01</td>\n",
       "      <td>112079000</td>\n",
       "      <td>1513546</td>\n",
       "      <td>620157</td>\n",
       "      <td>40</td>\n",
       "      <td>520180</td>\n",
       "      <td>36</td>\n",
       "      <td>313633</td>\n",
       "      <td>21</td>\n",
       "      <td>...</td>\n",
       "      <td>2019</td>\n",
       "      <td>9</td>\n",
       "      <td>1</td>\n",
       "      <td>1</td>\n",
       "      <td>0</td>\n",
       "      <td>1</td>\n",
       "      <td>20.721736</td>\n",
       "      <td>3.936187</td>\n",
       "      <td>0</td>\n",
       "      <td>0</td>\n",
       "    </tr>\n",
       "    <tr>\n",
       "      <th>8</th>\n",
       "      <td>Amhara</td>\n",
       "      <td>2019-09-01</td>\n",
       "      <td>112079000</td>\n",
       "      <td>3457931</td>\n",
       "      <td>1763232</td>\n",
       "      <td>53</td>\n",
       "      <td>871182</td>\n",
       "      <td>26</td>\n",
       "      <td>594367</td>\n",
       "      <td>15</td>\n",
       "      <td>...</td>\n",
       "      <td>2019</td>\n",
       "      <td>9</td>\n",
       "      <td>1</td>\n",
       "      <td>1</td>\n",
       "      <td>0</td>\n",
       "      <td>1</td>\n",
       "      <td>17.188515</td>\n",
       "      <td>6.626795</td>\n",
       "      <td>0</td>\n",
       "      <td>0</td>\n",
       "    </tr>\n",
       "    <tr>\n",
       "      <th>9</th>\n",
       "      <td>Oromiya</td>\n",
       "      <td>2019-09-01</td>\n",
       "      <td>112079000</td>\n",
       "      <td>11497625</td>\n",
       "      <td>3285838</td>\n",
       "      <td>30</td>\n",
       "      <td>4690268</td>\n",
       "      <td>39</td>\n",
       "      <td>2434229</td>\n",
       "      <td>22</td>\n",
       "      <td>...</td>\n",
       "      <td>2019</td>\n",
       "      <td>9</td>\n",
       "      <td>1</td>\n",
       "      <td>1</td>\n",
       "      <td>0</td>\n",
       "      <td>1</td>\n",
       "      <td>21.171581</td>\n",
       "      <td>9.456649</td>\n",
       "      <td>0</td>\n",
       "      <td>0</td>\n",
       "    </tr>\n",
       "    <tr>\n",
       "      <th>10</th>\n",
       "      <td>SNNPR</td>\n",
       "      <td>2019-09-01</td>\n",
       "      <td>112079000</td>\n",
       "      <td>5600673</td>\n",
       "      <td>2898809</td>\n",
       "      <td>52</td>\n",
       "      <td>1631304</td>\n",
       "      <td>28</td>\n",
       "      <td>865172</td>\n",
       "      <td>16</td>\n",
       "      <td>...</td>\n",
       "      <td>2019</td>\n",
       "      <td>9</td>\n",
       "      <td>0</td>\n",
       "      <td>1</td>\n",
       "      <td>0</td>\n",
       "      <td>1</td>\n",
       "      <td>15.447644</td>\n",
       "      <td>3.667202</td>\n",
       "      <td>0</td>\n",
       "      <td>0</td>\n",
       "    </tr>\n",
       "    <tr>\n",
       "      <th>11</th>\n",
       "      <td>Somali</td>\n",
       "      <td>2019-09-01</td>\n",
       "      <td>112079000</td>\n",
       "      <td>5158000</td>\n",
       "      <td>1474153</td>\n",
       "      <td>27</td>\n",
       "      <td>1906823</td>\n",
       "      <td>38</td>\n",
       "      <td>1533970</td>\n",
       "      <td>30</td>\n",
       "      <td>...</td>\n",
       "      <td>2019</td>\n",
       "      <td>9</td>\n",
       "      <td>1</td>\n",
       "      <td>1</td>\n",
       "      <td>0</td>\n",
       "      <td>1</td>\n",
       "      <td>29.739628</td>\n",
       "      <td>4.712156</td>\n",
       "      <td>0</td>\n",
       "      <td>0</td>\n",
       "    </tr>\n",
       "    <tr>\n",
       "      <th>12</th>\n",
       "      <td>Tigray</td>\n",
       "      <td>2019-09-01</td>\n",
       "      <td>112079000</td>\n",
       "      <td>1499302</td>\n",
       "      <td>684329</td>\n",
       "      <td>44</td>\n",
       "      <td>413821</td>\n",
       "      <td>29</td>\n",
       "      <td>369046</td>\n",
       "      <td>24</td>\n",
       "      <td>...</td>\n",
       "      <td>2019</td>\n",
       "      <td>9</td>\n",
       "      <td>1</td>\n",
       "      <td>0</td>\n",
       "      <td>0</td>\n",
       "      <td>1</td>\n",
       "      <td>24.614521</td>\n",
       "      <td>2.141396</td>\n",
       "      <td>0</td>\n",
       "      <td>0</td>\n",
       "    </tr>\n",
       "  </tbody>\n",
       "</table>\n",
       "<p>13 rows × 47 columns</p>\n",
       "</div>"
      ],
      "text/plain": [
       "    ADM1_EN       date  Country Population    pop_CS     CS_1  CS_1_perc  \\\n",
       "0      Afar 2020-08-01           114964000   1540553   647322         42   \n",
       "1    Amhara 2020-08-01           114964000   6084363  3483150         57   \n",
       "2    Oromia 2020-08-01           114964000  16937642  7512571         44   \n",
       "3      SNNP 2020-08-01           114964000   7404334  3582210         48   \n",
       "4    Sidama 2020-08-01           114964000   3177915  2065645         65   \n",
       "5    Somali 2020-08-01           114964000   5307061  1906949         36   \n",
       "6    Tigray 2020-08-01           114964000    576351   316993         55   \n",
       "7      Afar 2019-09-01           112079000   1513546   620157         40   \n",
       "8    Amhara 2019-09-01           112079000   3457931  1763232         53   \n",
       "9   Oromiya 2019-09-01           112079000  11497625  3285838         30   \n",
       "10    SNNPR 2019-09-01           112079000   5600673  2898809         52   \n",
       "11   Somali 2019-09-01           112079000   5158000  1474153         27   \n",
       "12   Tigray 2019-09-01           112079000   1499302   684329         44   \n",
       "\n",
       "       CS_2  CS_2_perc     CS_3  CS_3_perc  ...  year  month  trigger_CS_3_20  \\\n",
       "0    516581         34   313370         20  ...  2020      8                1   \n",
       "1   1709456         28   682492         11  ...  2020      8                0   \n",
       "2   5594669         33  3268079         19  ...  2020      8                1   \n",
       "3   2393761         32  1112366         15  ...  2020      8                0   \n",
       "4    635583         20   476687         15  ...  2020      8                0   \n",
       "5   1955920         37  1153513         22  ...  2020      8                1   \n",
       "6    201723         35    57635         10  ...  2020      8                0   \n",
       "7    520180         36   313633         21  ...  2019      9                1   \n",
       "8    871182         26   594367         15  ...  2019      9                1   \n",
       "9   4690268         39  2434229         22  ...  2019      9                1   \n",
       "10  1631304         28   865172         16  ...  2019      9                0   \n",
       "11  1906823         38  1533970         30  ...  2019      9                1   \n",
       "12   413821         29   369046         24  ...  2019      9                1   \n",
       "\n",
       "    trigger_CS_4_2  trigger_CS_4_20  trigger_CS_4_1  perc_CS_3  perc_CS_4  \\\n",
       "0                1                0               1  20.341397   4.107616   \n",
       "1                1                0               1  11.217148   3.439374   \n",
       "2                1                0               1  19.294770   3.319954   \n",
       "3                1                0               1  15.023174   4.267744   \n",
       "4                0                0               0  14.999992   0.000000   \n",
       "5                1                0               1  21.735439   5.477175   \n",
       "6                0                0               0   9.999983   0.000000   \n",
       "7                1                0               1  20.721736   3.936187   \n",
       "8                1                0               1  17.188515   6.626795   \n",
       "9                1                0               1  21.171581   9.456649   \n",
       "10               1                0               1  15.447644   3.667202   \n",
       "11               1                0               1  29.739628   4.712156   \n",
       "12               0                0               1  24.614521   2.141396   \n",
       "\n",
       "    trigger_CS_4_10  trigger_ML1_4_10  \n",
       "0                 0                 0  \n",
       "1                 0                 0  \n",
       "2                 0                 0  \n",
       "3                 0                 0  \n",
       "4                 0                 0  \n",
       "5                 0                 0  \n",
       "6                 0                 0  \n",
       "7                 0                 0  \n",
       "8                 0                 0  \n",
       "9                 0                 0  \n",
       "10                0                 0  \n",
       "11                0                 0  \n",
       "12                0                 0  \n",
       "\n",
       "[13 rows x 47 columns]"
      ]
     },
     "execution_count": 144,
     "metadata": {},
     "output_type": "execute_result"
    }
   ],
   "source": [
    "df_ipcp"
   ]
  },
  {
   "cell_type": "code",
   "execution_count": 145,
   "metadata": {},
   "outputs": [],
   "source": [
    "dict_an={}"
   ]
  },
  {
   "cell_type": "code",
   "execution_count": 146,
   "metadata": {},
   "outputs": [
    {
     "data": {
      "text/html": [
       "<div>\n",
       "<style scoped>\n",
       "    .dataframe tbody tr th:only-of-type {\n",
       "        vertical-align: middle;\n",
       "    }\n",
       "\n",
       "    .dataframe tbody tr th {\n",
       "        vertical-align: top;\n",
       "    }\n",
       "\n",
       "    .dataframe thead th {\n",
       "        text-align: right;\n",
       "    }\n",
       "</style>\n",
       "<table border=\"1\" class=\"dataframe\">\n",
       "  <thead>\n",
       "    <tr style=\"text-align: right;\">\n",
       "      <th></th>\n",
       "    </tr>\n",
       "  </thead>\n",
       "  <tbody>\n",
       "  </tbody>\n",
       "</table>\n",
       "</div>"
      ],
      "text/plain": [
       "Empty DataFrame\n",
       "Columns: []\n",
       "Index: []"
      ]
     },
     "metadata": {},
     "output_type": "display_data"
    }
   ],
   "source": [
    "#Analysis: IPC4+ at 20% (current situation)\n",
    "df_snCS420 = df_ipcp.loc[df_ipcp['trigger_CS_4_20']==1]\n",
    "display(df_snCS420.groupby(['year', 'month'], as_index=False)['ADM1_EN'].agg(lambda x: list(x)))\n",
    "dict_an[\"an4\"]={\"df\":df_snCS420,\"trig_cols\":[\"CS_4\"],\"desc\":\"IPC4+ at 20% (current situation)\"}"
   ]
  },
  {
   "cell_type": "code",
   "execution_count": 150,
   "metadata": {},
   "outputs": [
    {
     "data": {
      "text/html": [
       "<div>\n",
       "<style scoped>\n",
       "    .dataframe tbody tr th:only-of-type {\n",
       "        vertical-align: middle;\n",
       "    }\n",
       "\n",
       "    .dataframe tbody tr th {\n",
       "        vertical-align: top;\n",
       "    }\n",
       "\n",
       "    .dataframe thead th {\n",
       "        text-align: right;\n",
       "    }\n",
       "</style>\n",
       "<table border=\"1\" class=\"dataframe\">\n",
       "  <thead>\n",
       "    <tr style=\"text-align: right;\">\n",
       "      <th></th>\n",
       "    </tr>\n",
       "  </thead>\n",
       "  <tbody>\n",
       "  </tbody>\n",
       "</table>\n",
       "</div>"
      ],
      "text/plain": [
       "Empty DataFrame\n",
       "Columns: []\n",
       "Index: []"
      ]
     },
     "metadata": {},
     "output_type": "display_data"
    }
   ],
   "source": [
    "#Analysis: IPC4+ at 10% (current situation)\n",
    "df_an6 = df_ipcp.loc[df_ipcp['trigger_CS_4_10']==1]\n",
    "display(df_an6.groupby(['year', 'month'], as_index=False)['ADM1_EN'].agg(lambda x: list(x)))\n",
    "dict_an[\"an6\"]={\"df\":df_an6,\"trig_cols\":[\"CS_4\"],\"desc\":\"IPC4+ at 10% (current situation)\"}"
   ]
  },
  {
   "cell_type": "code",
   "execution_count": 151,
   "metadata": {},
   "outputs": [
    {
     "data": {
      "text/html": [
       "<div>\n",
       "<style scoped>\n",
       "    .dataframe tbody tr th:only-of-type {\n",
       "        vertical-align: middle;\n",
       "    }\n",
       "\n",
       "    .dataframe tbody tr th {\n",
       "        vertical-align: top;\n",
       "    }\n",
       "\n",
       "    .dataframe thead th {\n",
       "        text-align: right;\n",
       "    }\n",
       "</style>\n",
       "<table border=\"1\" class=\"dataframe\">\n",
       "  <thead>\n",
       "    <tr style=\"text-align: right;\">\n",
       "      <th></th>\n",
       "    </tr>\n",
       "  </thead>\n",
       "  <tbody>\n",
       "  </tbody>\n",
       "</table>\n",
       "</div>"
      ],
      "text/plain": [
       "Empty DataFrame\n",
       "Columns: []\n",
       "Index: []"
      ]
     },
     "metadata": {},
     "output_type": "display_data"
    }
   ],
   "source": [
    "#Analysis: ML14+ at 10% (current situation)\n",
    "df_an7 = df_ipcp.loc[df_ipcp['trigger_ML1_4_10']==1]\n",
    "display(df_an7.groupby(['year', 'month'], as_index=False)['ADM1_EN'].agg(lambda x: list(x)))\n",
    "dict_an[\"an7\"]={\"df\":df_an7,\"trig_cols\":[\"ML1_4\"],\"desc\":\"ML14+ at 10% (current situation)\"}"
   ]
  },
  {
   "cell_type": "code",
   "execution_count": 147,
   "metadata": {},
   "outputs": [],
   "source": [
    "# #Analysis: IPC3+ at 10% (current situation)\n",
    "# df_snCS420 = df_ipcp.loc[df_ipcp['trigger_CS_3_20']==1]\n",
    "# display(df_snCS420.groupby(['year', 'month'], as_index=False)['ADM1_EN'].agg(lambda x: list(x)))\n",
    "# dict_an[\"an3_20\"]={\"df\":df_snCS420,\"trig_cols\":[\"CS_3\"],\"desc\":\"IPC3+ at 20% (current situation)\"}"
   ]
  },
  {
   "cell_type": "code",
   "execution_count": 140,
   "metadata": {},
   "outputs": [
    {
     "data": {
      "text/plain": [
       "array([4.1076159 , 3.43937401, 3.31995445, 4.26774373, 0.        ,\n",
       "       5.47717465, 3.93618694, 6.62679504, 9.45664866, 3.66720214,\n",
       "       4.71215587, 2.14139646])"
      ]
     },
     "execution_count": 140,
     "metadata": {},
     "output_type": "execute_result"
    }
   ],
   "source": [
    "#never CS4 value\n",
    "df_ipcp.perc_CS_4.unique()"
   ]
  },
  {
   "cell_type": "code",
   "execution_count": 155,
   "metadata": {},
   "outputs": [
    {
     "data": {
      "text/plain": [
       "array([4.16441369, 0.        , 0.94586366, 4.07547796, 5.42923852,\n",
       "       6.92559063, 3.1916195 , 7.7809019 , 1.47278729, 2.45486623,\n",
       "       0.99199494])"
      ]
     },
     "execution_count": 155,
     "metadata": {},
     "output_type": "execute_result"
    }
   ],
   "source": [
    "#never CS4 value\n",
    "df_ipcp.perc_ML1_4.unique()"
   ]
  },
  {
   "cell_type": "code",
   "execution_count": 153,
   "metadata": {},
   "outputs": [
    {
     "data": {
      "text/plain": [
       "Index(['ADM1_EN', 'date', 'Country Population', 'pop_CS', 'CS_1', 'CS_1_perc',\n",
       "       'CS_2', 'CS_2_perc', 'CS_3', 'CS_3_perc', 'CS_4', 'CS_4_perc', 'CS_5',\n",
       "       'CS_5_perc', 'pop_ML1', 'ML1_1', 'ML1_1_perc', 'ML1_2', 'ML1_2_perc',\n",
       "       'ML1_3', 'ML1_3_perc', 'ML1_4', 'ML1_4_perc', 'ML1_5', 'ML1_5_perc',\n",
       "       'pop_ML2', 'Analysis Period', 'ML2_1', 'ML2_1_perc', 'ML2_2',\n",
       "       'ML2_2_perc', 'ML2_3', 'ML2_3_perc', 'ML2_4', 'ML2_4_perc', 'ML2_5',\n",
       "       'ML2_5_perc', 'year', 'month', 'trigger_CS_3_20', 'trigger_CS_4_2',\n",
       "       'trigger_CS_4_20', 'trigger_CS_4_1', 'perc_CS_3', 'perc_CS_4',\n",
       "       'trigger_CS_4_10', 'trigger_ML1_4_10'],\n",
       "      dtype='object')"
      ]
     },
     "execution_count": 153,
     "metadata": {},
     "output_type": "execute_result"
    }
   ],
   "source": [
    "df_ipcp.columns"
   ]
  },
  {
   "cell_type": "markdown",
   "metadata": {},
   "source": [
    "### Combine GlobalIPC and Fewsnet"
   ]
  },
  {
   "cell_type": "code",
   "execution_count": 678,
   "metadata": {},
   "outputs": [],
   "source": [
    "df_glob=pd.read_csv(\"Data/GlobalIPC_Ethiopia_Admin1.csv\",delimiter=\";\",thousands=\".\")"
   ]
  },
  {
   "cell_type": "code",
   "execution_count": 679,
   "metadata": {},
   "outputs": [],
   "source": [
    "# df_glob=pd.read_excel(\"Data/GlobalIPC20192020_Admin1_simplified.xlsx\")#,converters={\n",
    "# #     'percents': lambda value: value * 100})#,delimiter=\";\",thousands=\".\")"
   ]
  },
  {
   "cell_type": "code",
   "execution_count": 680,
   "metadata": {},
   "outputs": [],
   "source": [
    "df_glob=df_glob.rename(columns={\"Date of Analysis\":\"date\"})#,\"ADMIN1\":\"ADM1_EN\"},inplace=True)"
   ]
  },
  {
   "cell_type": "code",
   "execution_count": 681,
   "metadata": {},
   "outputs": [
    {
     "data": {
      "text/plain": [
       "Index(['ADMIN1', 'date', 'Country Population', 'pop_CS', 'CS_1', 'CS_1_perc',\n",
       "       'CS_2', 'CS_2_perc', 'CS_3', 'CS_3_perc', 'CS_4', 'CS_4_perc', 'CS_5',\n",
       "       'CS_5_perc', 'pop_ML1', 'ML1_1', 'ML1_1_perc', 'ML1_2', 'ML1_2_perc',\n",
       "       'ML1_3', 'ML1_3_perc', 'ML1_4', 'ML1_4_perc', 'ML1_5', 'ML1_5_perc',\n",
       "       'pop_ML2', 'ML2_1', 'ML2_1_perc', 'ML2_2', 'ML2_2_perc', 'ML2_3',\n",
       "       'ML2_3_perc', 'ML2_4', 'ML2_4_perc', 'ML2_5', 'ML2_5_perc'],\n",
       "      dtype='object')"
      ]
     },
     "execution_count": 681,
     "metadata": {},
     "output_type": "execute_result"
    }
   ],
   "source": [
    "df_glob.columns"
   ]
  },
  {
   "cell_type": "code",
   "execution_count": 682,
   "metadata": {},
   "outputs": [],
   "source": [
    "df_glob[\"date\"]=pd.to_datetime(df_glob[\"date\"],format=\"%b/%y\")"
   ]
  },
  {
   "cell_type": "code",
   "execution_count": 683,
   "metadata": {},
   "outputs": [],
   "source": [
    "df_glob=df_glob.replace('%','', regex=True)\n"
   ]
  },
  {
   "cell_type": "code",
   "execution_count": 684,
   "metadata": {},
   "outputs": [
    {
     "data": {
      "text/plain": [
       "Index(['ADMIN1', 'date', 'Country Population', 'pop_CS', 'CS_1', 'CS_1_perc',\n",
       "       'CS_2', 'CS_2_perc', 'CS_3', 'CS_3_perc', 'CS_4', 'CS_4_perc', 'CS_5',\n",
       "       'CS_5_perc', 'pop_ML1', 'ML1_1', 'ML1_1_perc', 'ML1_2', 'ML1_2_perc',\n",
       "       'ML1_3', 'ML1_3_perc', 'ML1_4', 'ML1_4_perc', 'ML1_5', 'ML1_5_perc',\n",
       "       'pop_ML2', 'ML2_1', 'ML2_1_perc', 'ML2_2', 'ML2_2_perc', 'ML2_3',\n",
       "       'ML2_3_perc', 'ML2_4', 'ML2_4_perc', 'ML2_5', 'ML2_5_perc'],\n",
       "      dtype='object')"
      ]
     },
     "execution_count": 684,
     "metadata": {},
     "output_type": "execute_result"
    }
   ],
   "source": [
    "df_glob.columns"
   ]
  },
  {
   "cell_type": "code",
   "execution_count": 685,
   "metadata": {},
   "outputs": [],
   "source": [
    "df_glob.loc[:, ~df_glob.columns.isin([\"ADMIN1\",\"date\",\"Analysis Period\"])]=df_glob.loc[:, ~df_glob.columns.isin([\"ADMIN1\",\"date\",\"Analysis Period\"])].astype(int)"
   ]
  },
  {
   "cell_type": "code",
   "execution_count": 686,
   "metadata": {},
   "outputs": [],
   "source": [
    "df_glob[\"Source\"]=\"GlobalIPC\""
   ]
  },
  {
   "cell_type": "code",
   "execution_count": 687,
   "metadata": {},
   "outputs": [],
   "source": [
    "df_glob.date=pd.to_datetime(df_glob.date)"
   ]
  },
  {
   "cell_type": "code",
   "execution_count": 688,
   "metadata": {},
   "outputs": [],
   "source": [
    "df_glob.loc[df_glob.date.dt.year==2020,\"Analysis Period CS\"]=\"Aug 2020 - Sep 2020\"\n",
    "df_glob.loc[df_glob.date.dt.year==2020,\"Analysis Period ML1\"]=\"Oct 2020 - Dec 2020\"\n",
    "df_glob.loc[df_glob.date.dt.year==2020,\"Analysis Period ML2\"]=\"Jan 2021 - Jun 2021\"\n",
    "df_glob.loc[df_glob.date.dt.year==2019,\"Analysis Period CS\"]=\"Jul 2019 - Sep 2019\"\n",
    "df_glob.loc[df_glob.date.dt.year==2019,\"Analysis Period ML1\"]=\"Oct 2019 - Jan 2020\"\n",
    "df_glob.loc[df_glob.date.dt.year==2019,\"Analysis Period ML2\"]=\"Feb 2020 - Jun 2020\""
   ]
  },
  {
   "cell_type": "code",
   "execution_count": 689,
   "metadata": {},
   "outputs": [],
   "source": [
    "df_fews=pd.read_csv(\"Data/FewsNetPopulation/ethiopia_admin1_fewsnet_populationsel.csv\",index_col=0)"
   ]
  },
  {
   "cell_type": "code",
   "execution_count": 690,
   "metadata": {},
   "outputs": [],
   "source": [
    "df_fews=df_fews[df_fews.date.isin([\"2019-10-01\",\"2020-08-01\"])].sort_values([\"date\",\"ADM1_EN\"]).drop(\"Total\",axis=1)#.rename(columns={\"adjusted_population\":\"Country Population\"})"
   ]
  },
  {
   "cell_type": "code",
   "execution_count": 691,
   "metadata": {},
   "outputs": [],
   "source": [
    "df_fews.date=pd.to_datetime(df_fews.date)"
   ]
  },
  {
   "cell_type": "code",
   "execution_count": 692,
   "metadata": {},
   "outputs": [],
   "source": [
    "df_fews.loc[df_fews.date.dt.year==2020,\"Analysis Period CS\"]=\"Aug 2020\"\n",
    "df_fews.loc[df_fews.date.dt.year==2020,\"Analysis Period ML1\"]=\"Aug 2020 - Sep 2020\"\n",
    "df_fews.loc[df_fews.date.dt.year==2020,\"Analysis Period ML2\"]=\"Oct 2020 - Jan 2021\"\n",
    "df_fews.loc[df_fews.date.dt.year==2019,\"Analysis Period CS\"]=\"Oct 2019\"\n",
    "df_fews.loc[df_fews.date.dt.year==2019,\"Analysis Period ML1\"]=\"Oct 2019 - Jan 2020\"\n",
    "df_fews.loc[df_fews.date.dt.year==2019,\"Analysis Period ML2\"]=\"Feb 2020 - May 2020\""
   ]
  },
  {
   "cell_type": "code",
   "execution_count": 693,
   "metadata": {},
   "outputs": [],
   "source": [
    "for y in df_fews.date.unique():\n",
    "    df_fews.loc[df_fews.date==y,\"Country Population\"]=df_fews.loc[df_fews.date==y,\"adjusted_population\"].sum()"
   ]
  },
  {
   "cell_type": "code",
   "execution_count": 694,
   "metadata": {},
   "outputs": [],
   "source": [
    "df_fews.rename(columns={\"ADM1_EN\":\"ADMIN1\"},inplace=True)"
   ]
  },
  {
   "cell_type": "code",
   "execution_count": 695,
   "metadata": {},
   "outputs": [],
   "source": [
    "for status in [\"CS\",\"ML1\",\"ML2\"]:\n",
    "    for i in range(1,6):\n",
    "        c=f\"{status}_{i}\"\n",
    "        df_fews[f\"{c}_perc\"]=df_fews[c]/df_fews[f\"pop_{status}\"]*100\n",
    "#     df_fews[f'perc_{status}3+']=df_fews[f'{status}3+']/df_fews[f'pop_{status}']*100\n",
    "#         df_ipcp[f\"perc_{c}_miss\"]=df_fews[c]/df_fews[f\"Country Population\"]*100"
   ]
  },
  {
   "cell_type": "code",
   "execution_count": 696,
   "metadata": {},
   "outputs": [],
   "source": [
    "df_fews[\"Source\"]=\"FewsNet\""
   ]
  },
  {
   "cell_type": "code",
   "execution_count": 697,
   "metadata": {},
   "outputs": [],
   "source": [
    "df_fews=df_fews.drop(\"adjusted_population\",axis=1)"
   ]
  },
  {
   "cell_type": "code",
   "execution_count": 698,
   "metadata": {},
   "outputs": [
    {
     "data": {
      "text/plain": [
       "Index(['date', 'ADMIN1', 'CS_1', 'CS_2', 'CS_3', 'CS_4', 'CS_5', 'ML1_1',\n",
       "       'ML1_2', 'ML1_3', 'ML1_4', 'ML1_5', 'ML2_1', 'ML2_2', 'ML2_3', 'ML2_4',\n",
       "       'ML2_5', 'pop_CS', 'pop_ML1', 'pop_ML2', 'Analysis Period CS',\n",
       "       'Analysis Period ML1', 'Analysis Period ML2', 'Country Population',\n",
       "       'CS_1_perc', 'CS_2_perc', 'CS_3_perc', 'CS_4_perc', 'CS_5_perc',\n",
       "       'ML1_1_perc', 'ML1_2_perc', 'ML1_3_perc', 'ML1_4_perc', 'ML1_5_perc',\n",
       "       'ML2_1_perc', 'ML2_2_perc', 'ML2_3_perc', 'ML2_4_perc', 'ML2_5_perc',\n",
       "       'Source'],\n",
       "      dtype='object')"
      ]
     },
     "execution_count": 698,
     "metadata": {},
     "output_type": "execute_result"
    }
   ],
   "source": [
    "df_fews.columns"
   ]
  },
  {
   "cell_type": "code",
   "execution_count": 699,
   "metadata": {},
   "outputs": [
    {
     "data": {
      "text/plain": [
       "array([ True,  True,  True,  True,  True,  True,  True,  True,  True,\n",
       "        True,  True,  True,  True,  True,  True,  True,  True,  True,\n",
       "        True,  True,  True,  True,  True,  True,  True,  True,  True,\n",
       "        True,  True,  True,  True,  True,  True,  True,  True,  True,\n",
       "        True,  True,  True,  True])"
      ]
     },
     "execution_count": 699,
     "metadata": {},
     "output_type": "execute_result"
    }
   ],
   "source": [
    "df_fews.columns.sort_values()==df_glob.columns.sort_values()"
   ]
  },
  {
   "cell_type": "code",
   "execution_count": 700,
   "metadata": {},
   "outputs": [
    {
     "data": {
      "text/plain": [
       "(22, 40)"
      ]
     },
     "execution_count": 700,
     "metadata": {},
     "output_type": "execute_result"
    }
   ],
   "source": [
    "df_fews.shape"
   ]
  },
  {
   "cell_type": "code",
   "execution_count": 701,
   "metadata": {},
   "outputs": [
    {
     "data": {
      "text/plain": [
       "(13, 40)"
      ]
     },
     "execution_count": 701,
     "metadata": {},
     "output_type": "execute_result"
    }
   ],
   "source": [
    "df_glob.shape"
   ]
  },
  {
   "cell_type": "code",
   "execution_count": 702,
   "metadata": {},
   "outputs": [],
   "source": [
    "df_comb=pd.concat([df_glob,df_fews])"
   ]
  },
  {
   "cell_type": "code",
   "execution_count": 703,
   "metadata": {},
   "outputs": [
    {
     "data": {
      "text/html": [
       "<div>\n",
       "<style scoped>\n",
       "    .dataframe tbody tr th:only-of-type {\n",
       "        vertical-align: middle;\n",
       "    }\n",
       "\n",
       "    .dataframe tbody tr th {\n",
       "        vertical-align: top;\n",
       "    }\n",
       "\n",
       "    .dataframe thead th {\n",
       "        text-align: right;\n",
       "    }\n",
       "</style>\n",
       "<table border=\"1\" class=\"dataframe\">\n",
       "  <thead>\n",
       "    <tr style=\"text-align: right;\">\n",
       "      <th></th>\n",
       "      <th>ADMIN1</th>\n",
       "      <th>date</th>\n",
       "      <th>Country Population</th>\n",
       "      <th>pop_CS</th>\n",
       "      <th>CS_1</th>\n",
       "      <th>CS_1_perc</th>\n",
       "      <th>CS_2</th>\n",
       "      <th>CS_2_perc</th>\n",
       "      <th>CS_3</th>\n",
       "      <th>CS_3_perc</th>\n",
       "      <th>...</th>\n",
       "      <th>ML2_3</th>\n",
       "      <th>ML2_3_perc</th>\n",
       "      <th>ML2_4</th>\n",
       "      <th>ML2_4_perc</th>\n",
       "      <th>ML2_5</th>\n",
       "      <th>ML2_5_perc</th>\n",
       "      <th>Source</th>\n",
       "      <th>Analysis Period CS</th>\n",
       "      <th>Analysis Period ML1</th>\n",
       "      <th>Analysis Period ML2</th>\n",
       "    </tr>\n",
       "  </thead>\n",
       "  <tbody>\n",
       "    <tr>\n",
       "      <th>0</th>\n",
       "      <td>Afar</td>\n",
       "      <td>2020-08-01</td>\n",
       "      <td>114964000.0</td>\n",
       "      <td>1540553.0</td>\n",
       "      <td>647322.0</td>\n",
       "      <td>42.0</td>\n",
       "      <td>516581.0</td>\n",
       "      <td>34.0</td>\n",
       "      <td>313370.0</td>\n",
       "      <td>20.0</td>\n",
       "      <td>...</td>\n",
       "      <td>426361.0</td>\n",
       "      <td>27.0</td>\n",
       "      <td>78274.0</td>\n",
       "      <td>5.0</td>\n",
       "      <td>0.0</td>\n",
       "      <td>0.0</td>\n",
       "      <td>GlobalIPC</td>\n",
       "      <td>Aug 2020 - Sep 2020</td>\n",
       "      <td>Oct 2020 - Dec 2020</td>\n",
       "      <td>Jan 2021 - Jun 2021</td>\n",
       "    </tr>\n",
       "    <tr>\n",
       "      <th>1</th>\n",
       "      <td>Amhara</td>\n",
       "      <td>2020-08-01</td>\n",
       "      <td>114964000.0</td>\n",
       "      <td>6084363.0</td>\n",
       "      <td>3483150.0</td>\n",
       "      <td>57.0</td>\n",
       "      <td>1709456.0</td>\n",
       "      <td>28.0</td>\n",
       "      <td>682492.0</td>\n",
       "      <td>11.0</td>\n",
       "      <td>...</td>\n",
       "      <td>614339.0</td>\n",
       "      <td>10.0</td>\n",
       "      <td>0.0</td>\n",
       "      <td>0.0</td>\n",
       "      <td>0.0</td>\n",
       "      <td>0.0</td>\n",
       "      <td>GlobalIPC</td>\n",
       "      <td>Aug 2020 - Sep 2020</td>\n",
       "      <td>Oct 2020 - Dec 2020</td>\n",
       "      <td>Jan 2021 - Jun 2021</td>\n",
       "    </tr>\n",
       "    <tr>\n",
       "      <th>2</th>\n",
       "      <td>Oromia</td>\n",
       "      <td>2020-08-01</td>\n",
       "      <td>114964000.0</td>\n",
       "      <td>16937642.0</td>\n",
       "      <td>7512571.0</td>\n",
       "      <td>44.0</td>\n",
       "      <td>5594669.0</td>\n",
       "      <td>33.0</td>\n",
       "      <td>3268079.0</td>\n",
       "      <td>19.0</td>\n",
       "      <td>...</td>\n",
       "      <td>4326308.0</td>\n",
       "      <td>25.0</td>\n",
       "      <td>948789.0</td>\n",
       "      <td>5.0</td>\n",
       "      <td>0.0</td>\n",
       "      <td>0.0</td>\n",
       "      <td>GlobalIPC</td>\n",
       "      <td>Aug 2020 - Sep 2020</td>\n",
       "      <td>Oct 2020 - Dec 2020</td>\n",
       "      <td>Jan 2021 - Jun 2021</td>\n",
       "    </tr>\n",
       "    <tr>\n",
       "      <th>3</th>\n",
       "      <td>SNNP</td>\n",
       "      <td>2020-08-01</td>\n",
       "      <td>114964000.0</td>\n",
       "      <td>7404334.0</td>\n",
       "      <td>3582210.0</td>\n",
       "      <td>48.0</td>\n",
       "      <td>2393761.0</td>\n",
       "      <td>32.0</td>\n",
       "      <td>1112366.0</td>\n",
       "      <td>15.0</td>\n",
       "      <td>...</td>\n",
       "      <td>1468883.0</td>\n",
       "      <td>19.0</td>\n",
       "      <td>394024.0</td>\n",
       "      <td>5.0</td>\n",
       "      <td>0.0</td>\n",
       "      <td>0.0</td>\n",
       "      <td>GlobalIPC</td>\n",
       "      <td>Aug 2020 - Sep 2020</td>\n",
       "      <td>Oct 2020 - Dec 2020</td>\n",
       "      <td>Jan 2021 - Jun 2021</td>\n",
       "    </tr>\n",
       "    <tr>\n",
       "      <th>4</th>\n",
       "      <td>Sidama</td>\n",
       "      <td>2020-08-01</td>\n",
       "      <td>114964000.0</td>\n",
       "      <td>3177915.0</td>\n",
       "      <td>2065645.0</td>\n",
       "      <td>65.0</td>\n",
       "      <td>635583.0</td>\n",
       "      <td>20.0</td>\n",
       "      <td>476687.0</td>\n",
       "      <td>15.0</td>\n",
       "      <td>...</td>\n",
       "      <td>647008.0</td>\n",
       "      <td>20.0</td>\n",
       "      <td>161752.0</td>\n",
       "      <td>5.0</td>\n",
       "      <td>0.0</td>\n",
       "      <td>0.0</td>\n",
       "      <td>GlobalIPC</td>\n",
       "      <td>Aug 2020 - Sep 2020</td>\n",
       "      <td>Oct 2020 - Dec 2020</td>\n",
       "      <td>Jan 2021 - Jun 2021</td>\n",
       "    </tr>\n",
       "  </tbody>\n",
       "</table>\n",
       "<p>5 rows × 40 columns</p>\n",
       "</div>"
      ],
      "text/plain": [
       "   ADMIN1       date  Country Population      pop_CS       CS_1  CS_1_perc  \\\n",
       "0    Afar 2020-08-01         114964000.0   1540553.0   647322.0       42.0   \n",
       "1  Amhara 2020-08-01         114964000.0   6084363.0  3483150.0       57.0   \n",
       "2  Oromia 2020-08-01         114964000.0  16937642.0  7512571.0       44.0   \n",
       "3    SNNP 2020-08-01         114964000.0   7404334.0  3582210.0       48.0   \n",
       "4  Sidama 2020-08-01         114964000.0   3177915.0  2065645.0       65.0   \n",
       "\n",
       "        CS_2  CS_2_perc       CS_3  CS_3_perc  ...      ML2_3  ML2_3_perc  \\\n",
       "0   516581.0       34.0   313370.0       20.0  ...   426361.0        27.0   \n",
       "1  1709456.0       28.0   682492.0       11.0  ...   614339.0        10.0   \n",
       "2  5594669.0       33.0  3268079.0       19.0  ...  4326308.0        25.0   \n",
       "3  2393761.0       32.0  1112366.0       15.0  ...  1468883.0        19.0   \n",
       "4   635583.0       20.0   476687.0       15.0  ...   647008.0        20.0   \n",
       "\n",
       "      ML2_4  ML2_4_perc  ML2_5  ML2_5_perc     Source   Analysis Period CS  \\\n",
       "0   78274.0         5.0    0.0         0.0  GlobalIPC  Aug 2020 - Sep 2020   \n",
       "1       0.0         0.0    0.0         0.0  GlobalIPC  Aug 2020 - Sep 2020   \n",
       "2  948789.0         5.0    0.0         0.0  GlobalIPC  Aug 2020 - Sep 2020   \n",
       "3  394024.0         5.0    0.0         0.0  GlobalIPC  Aug 2020 - Sep 2020   \n",
       "4  161752.0         5.0    0.0         0.0  GlobalIPC  Aug 2020 - Sep 2020   \n",
       "\n",
       "   Analysis Period ML1  Analysis Period ML2  \n",
       "0  Oct 2020 - Dec 2020  Jan 2021 - Jun 2021  \n",
       "1  Oct 2020 - Dec 2020  Jan 2021 - Jun 2021  \n",
       "2  Oct 2020 - Dec 2020  Jan 2021 - Jun 2021  \n",
       "3  Oct 2020 - Dec 2020  Jan 2021 - Jun 2021  \n",
       "4  Oct 2020 - Dec 2020  Jan 2021 - Jun 2021  \n",
       "\n",
       "[5 rows x 40 columns]"
      ]
     },
     "execution_count": 703,
     "metadata": {},
     "output_type": "execute_result"
    }
   ],
   "source": [
    "df_comb.head()"
   ]
  },
  {
   "cell_type": "code",
   "execution_count": 704,
   "metadata": {},
   "outputs": [],
   "source": [
    "df_comb.date=pd.to_datetime(df_comb.date)"
   ]
  },
  {
   "cell_type": "code",
   "execution_count": 705,
   "metadata": {},
   "outputs": [],
   "source": [
    "df_comb[\"year\"]=df_comb.date.dt.year"
   ]
  },
  {
   "cell_type": "code",
   "execution_count": 706,
   "metadata": {},
   "outputs": [],
   "source": [
    "for status in [\"CS\",\"ML1\",\"ML2\"]:\n",
    "#     print(df_comb[[f'{status}_{i}' for i in range(3,6)]].sum(axis=1))\n",
    "    df_comb[f'{status}_3+']=df_comb[[f'{status}_{i}' for i in range(3,6)]].sum(axis=1)\n",
    "    df_comb[f'{status}_3+_perc']=df_comb[f'{status}_3+']/df_comb[f'pop_{status}']*100\n",
    "    df_comb[f'{status}_2-']=df_comb[[f'{status}_{i}' for i in range(1,3)]].sum(axis=1)\n",
    "    df_comb[f'{status}_2-_perc']=df_comb[f'{status}_2-']/df_comb[f'pop_{status}']*100"
   ]
  },
  {
   "cell_type": "code",
   "execution_count": 707,
   "metadata": {},
   "outputs": [],
   "source": [
    "df_comb=df_comb.sort_values([\"year\",\"ADMIN1\",\"Source\"])"
   ]
  },
  {
   "cell_type": "code",
   "execution_count": 708,
   "metadata": {},
   "outputs": [
    {
     "data": {
      "text/html": [
       "<div>\n",
       "<style scoped>\n",
       "    .dataframe tbody tr th:only-of-type {\n",
       "        vertical-align: middle;\n",
       "    }\n",
       "\n",
       "    .dataframe tbody tr th {\n",
       "        vertical-align: top;\n",
       "    }\n",
       "\n",
       "    .dataframe thead th {\n",
       "        text-align: right;\n",
       "    }\n",
       "</style>\n",
       "<table border=\"1\" class=\"dataframe\">\n",
       "  <thead>\n",
       "    <tr style=\"text-align: right;\">\n",
       "      <th></th>\n",
       "      <th>ADMIN1</th>\n",
       "      <th>date</th>\n",
       "      <th>Country Population</th>\n",
       "      <th>pop_CS</th>\n",
       "      <th>CS_1</th>\n",
       "      <th>CS_1_perc</th>\n",
       "      <th>CS_2</th>\n",
       "      <th>CS_2_perc</th>\n",
       "      <th>CS_3</th>\n",
       "      <th>CS_3_perc</th>\n",
       "      <th>...</th>\n",
       "      <th>CS_2-</th>\n",
       "      <th>CS_2-_perc</th>\n",
       "      <th>ML1_3+</th>\n",
       "      <th>ML1_3+_perc</th>\n",
       "      <th>ML1_2-</th>\n",
       "      <th>ML1_2-_perc</th>\n",
       "      <th>ML2_3+</th>\n",
       "      <th>ML2_3+_perc</th>\n",
       "      <th>ML2_2-</th>\n",
       "      <th>ML2_2-_perc</th>\n",
       "    </tr>\n",
       "  </thead>\n",
       "  <tbody>\n",
       "    <tr>\n",
       "      <th>7</th>\n",
       "      <td>Afar</td>\n",
       "      <td>2019-09-01</td>\n",
       "      <td>112079000.0</td>\n",
       "      <td>1513546.0</td>\n",
       "      <td>620157.0</td>\n",
       "      <td>40.0</td>\n",
       "      <td>520180.0</td>\n",
       "      <td>36.0</td>\n",
       "      <td>313633.0</td>\n",
       "      <td>21.0</td>\n",
       "      <td>...</td>\n",
       "      <td>1140337.0</td>\n",
       "      <td>75.342077</td>\n",
       "      <td>476948.0</td>\n",
       "      <td>31.511959</td>\n",
       "      <td>1036598.0</td>\n",
       "      <td>68.488041</td>\n",
       "      <td>341222.0</td>\n",
       "      <td>22.207181</td>\n",
       "      <td>1195317.0</td>\n",
       "      <td>77.792819</td>\n",
       "    </tr>\n",
       "    <tr>\n",
       "      <th>0</th>\n",
       "      <td>Afar</td>\n",
       "      <td>2020-08-01</td>\n",
       "      <td>114964000.0</td>\n",
       "      <td>1540553.0</td>\n",
       "      <td>647322.0</td>\n",
       "      <td>42.0</td>\n",
       "      <td>516581.0</td>\n",
       "      <td>34.0</td>\n",
       "      <td>313370.0</td>\n",
       "      <td>20.0</td>\n",
       "      <td>...</td>\n",
       "      <td>1163903.0</td>\n",
       "      <td>75.550987</td>\n",
       "      <td>349254.0</td>\n",
       "      <td>22.670690</td>\n",
       "      <td>1191300.0</td>\n",
       "      <td>77.329375</td>\n",
       "      <td>504635.0</td>\n",
       "      <td>32.235326</td>\n",
       "      <td>1060838.0</td>\n",
       "      <td>67.764738</td>\n",
       "    </tr>\n",
       "  </tbody>\n",
       "</table>\n",
       "<p>2 rows × 53 columns</p>\n",
       "</div>"
      ],
      "text/plain": [
       "  ADMIN1       date  Country Population     pop_CS      CS_1  CS_1_perc  \\\n",
       "7   Afar 2019-09-01         112079000.0  1513546.0  620157.0       40.0   \n",
       "0   Afar 2020-08-01         114964000.0  1540553.0  647322.0       42.0   \n",
       "\n",
       "       CS_2  CS_2_perc      CS_3  CS_3_perc  ...      CS_2-  CS_2-_perc  \\\n",
       "7  520180.0       36.0  313633.0       21.0  ...  1140337.0   75.342077   \n",
       "0  516581.0       34.0  313370.0       20.0  ...  1163903.0   75.550987   \n",
       "\n",
       "     ML1_3+  ML1_3+_perc     ML1_2-  ML1_2-_perc    ML2_3+  ML2_3+_perc  \\\n",
       "7  476948.0    31.511959  1036598.0    68.488041  341222.0    22.207181   \n",
       "0  349254.0    22.670690  1191300.0    77.329375  504635.0    32.235326   \n",
       "\n",
       "      ML2_2-  ML2_2-_perc  \n",
       "7  1195317.0    77.792819  \n",
       "0  1060838.0    67.764738  \n",
       "\n",
       "[2 rows x 53 columns]"
      ]
     },
     "execution_count": 708,
     "metadata": {},
     "output_type": "execute_result"
    }
   ],
   "source": [
    "df_comb[(df_comb.ADMIN1==\"Afar\")&(df_comb.Source==\"GlobalIPC\")]"
   ]
  },
  {
   "cell_type": "code",
   "execution_count": 709,
   "metadata": {},
   "outputs": [],
   "source": [
    "perc_cols=[col for col in df_comb.columns if 'perc' in col]\n",
    "# df_comb[perc_cols]=df_comb[perc_cols]/100"
   ]
  },
  {
   "cell_type": "code",
   "execution_count": null,
   "metadata": {},
   "outputs": [],
   "source": []
  },
  {
   "cell_type": "code",
   "execution_count": 710,
   "metadata": {},
   "outputs": [],
   "source": [
    "# df_comb.to_excel(\"Data/GlobalFews_combined.xlsx\")"
   ]
  },
  {
   "cell_type": "code",
   "execution_count": 711,
   "metadata": {},
   "outputs": [],
   "source": [
    "ad_gl=df_comb[df_comb.Source==\"GlobalIPC\"].ADMIN1.unique()"
   ]
  },
  {
   "cell_type": "code",
   "execution_count": 712,
   "metadata": {},
   "outputs": [],
   "source": [
    "ad_fn=df_comb[df_comb.Source==\"FewsNet\"].ADMIN1.unique()"
   ]
  },
  {
   "cell_type": "code",
   "execution_count": 713,
   "metadata": {},
   "outputs": [],
   "source": [
    "ad_both=list(set(ad_gl).intersection(set(ad_fn)))"
   ]
  },
  {
   "cell_type": "code",
   "execution_count": 714,
   "metadata": {},
   "outputs": [],
   "source": [
    "df_cad=df_comb[df_comb.ADMIN1.isin(ad_both)]"
   ]
  },
  {
   "cell_type": "code",
   "execution_count": 715,
   "metadata": {},
   "outputs": [],
   "source": [
    "df_cady=df_cad[df_cad.year==2019]"
   ]
  },
  {
   "cell_type": "code",
   "execution_count": 716,
   "metadata": {},
   "outputs": [],
   "source": [
    "df_cadyg=df_cady.groupby(\"Source\",as_index=False).mean()"
   ]
  },
  {
   "cell_type": "code",
   "execution_count": 717,
   "metadata": {},
   "outputs": [
    {
     "data": {
      "text/html": [
       "<div>\n",
       "<style scoped>\n",
       "    .dataframe tbody tr th:only-of-type {\n",
       "        vertical-align: middle;\n",
       "    }\n",
       "\n",
       "    .dataframe tbody tr th {\n",
       "        vertical-align: top;\n",
       "    }\n",
       "\n",
       "    .dataframe thead th {\n",
       "        text-align: right;\n",
       "    }\n",
       "</style>\n",
       "<table border=\"1\" class=\"dataframe\">\n",
       "  <thead>\n",
       "    <tr style=\"text-align: right;\">\n",
       "      <th></th>\n",
       "      <th>Source</th>\n",
       "      <th>Country Population</th>\n",
       "      <th>pop_CS</th>\n",
       "      <th>CS_1</th>\n",
       "      <th>CS_1_perc</th>\n",
       "      <th>CS_2</th>\n",
       "      <th>CS_2_perc</th>\n",
       "      <th>CS_3</th>\n",
       "      <th>CS_3_perc</th>\n",
       "      <th>CS_4</th>\n",
       "      <th>...</th>\n",
       "      <th>CS_2-</th>\n",
       "      <th>CS_2-_perc</th>\n",
       "      <th>ML1_3+</th>\n",
       "      <th>ML1_3+_perc</th>\n",
       "      <th>ML1_2-</th>\n",
       "      <th>ML1_2-_perc</th>\n",
       "      <th>ML2_3+</th>\n",
       "      <th>ML2_3+_perc</th>\n",
       "      <th>ML2_2-</th>\n",
       "      <th>ML2_2-_perc</th>\n",
       "    </tr>\n",
       "  </thead>\n",
       "  <tbody>\n",
       "    <tr>\n",
       "      <th>0</th>\n",
       "      <td>FewsNet</td>\n",
       "      <td>112078686.0</td>\n",
       "      <td>1.756603e+07</td>\n",
       "      <td>9.612842e+06</td>\n",
       "      <td>39.233381</td>\n",
       "      <td>4.964920e+06</td>\n",
       "      <td>34.554579</td>\n",
       "      <td>2988268.5</td>\n",
       "      <td>26.212039</td>\n",
       "      <td>0.00</td>\n",
       "      <td>...</td>\n",
       "      <td>1.457776e+07</td>\n",
       "      <td>73.787961</td>\n",
       "      <td>1.754999e+06</td>\n",
       "      <td>13.758786</td>\n",
       "      <td>15811031.5</td>\n",
       "      <td>86.241214</td>\n",
       "      <td>3.456765e+06</td>\n",
       "      <td>24.078226</td>\n",
       "      <td>14109265.00</td>\n",
       "      <td>75.921774</td>\n",
       "    </tr>\n",
       "    <tr>\n",
       "      <th>1</th>\n",
       "      <td>GlobalIPC</td>\n",
       "      <td>112079000.0</td>\n",
       "      <td>2.907195e+06</td>\n",
       "      <td>1.135468e+06</td>\n",
       "      <td>41.000000</td>\n",
       "      <td>9.280015e+05</td>\n",
       "      <td>32.250000</td>\n",
       "      <td>702754.0</td>\n",
       "      <td>22.500000</td>\n",
       "      <td>140971.25</td>\n",
       "      <td>...</td>\n",
       "      <td>2.063469e+06</td>\n",
       "      <td>72.579762</td>\n",
       "      <td>6.702932e+05</td>\n",
       "      <td>22.091212</td>\n",
       "      <td>2236902.0</td>\n",
       "      <td>77.908800</td>\n",
       "      <td>7.719082e+05</td>\n",
       "      <td>23.827376</td>\n",
       "      <td>2179787.75</td>\n",
       "      <td>76.172608</td>\n",
       "    </tr>\n",
       "  </tbody>\n",
       "</table>\n",
       "<p>2 rows × 48 columns</p>\n",
       "</div>"
      ],
      "text/plain": [
       "      Source  Country Population        pop_CS          CS_1  CS_1_perc  \\\n",
       "0    FewsNet         112078686.0  1.756603e+07  9.612842e+06  39.233381   \n",
       "1  GlobalIPC         112079000.0  2.907195e+06  1.135468e+06  41.000000   \n",
       "\n",
       "           CS_2  CS_2_perc       CS_3  CS_3_perc       CS_4  ...  \\\n",
       "0  4.964920e+06  34.554579  2988268.5  26.212039       0.00  ...   \n",
       "1  9.280015e+05  32.250000   702754.0  22.500000  140971.25  ...   \n",
       "\n",
       "          CS_2-  CS_2-_perc        ML1_3+  ML1_3+_perc      ML1_2-  \\\n",
       "0  1.457776e+07   73.787961  1.754999e+06    13.758786  15811031.5   \n",
       "1  2.063469e+06   72.579762  6.702932e+05    22.091212   2236902.0   \n",
       "\n",
       "   ML1_2-_perc        ML2_3+  ML2_3+_perc       ML2_2-  ML2_2-_perc  \n",
       "0    86.241214  3.456765e+06    24.078226  14109265.00    75.921774  \n",
       "1    77.908800  7.719082e+05    23.827376   2179787.75    76.172608  \n",
       "\n",
       "[2 rows x 48 columns]"
      ]
     },
     "execution_count": 717,
     "metadata": {},
     "output_type": "execute_result"
    }
   ],
   "source": [
    "df_cadyg"
   ]
  },
  {
   "cell_type": "code",
   "execution_count": 718,
   "metadata": {},
   "outputs": [],
   "source": [
    "import plotly.express as px"
   ]
  },
  {
   "cell_type": "code",
   "execution_count": 719,
   "metadata": {},
   "outputs": [],
   "source": [
    "import matplotlib.pyplot as plt"
   ]
  },
  {
   "cell_type": "code",
   "execution_count": null,
   "metadata": {},
   "outputs": [],
   "source": []
  },
  {
   "cell_type": "code",
   "execution_count": 720,
   "metadata": {},
   "outputs": [],
   "source": [
    "df_csy=df_comb.groupby([\"Source\",\"year\"],as_index=False).mean()"
   ]
  },
  {
   "cell_type": "code",
   "execution_count": 721,
   "metadata": {},
   "outputs": [
    {
     "data": {
      "text/html": [
       "<div>\n",
       "<style scoped>\n",
       "    .dataframe tbody tr th:only-of-type {\n",
       "        vertical-align: middle;\n",
       "    }\n",
       "\n",
       "    .dataframe tbody tr th {\n",
       "        vertical-align: top;\n",
       "    }\n",
       "\n",
       "    .dataframe thead th {\n",
       "        text-align: right;\n",
       "    }\n",
       "</style>\n",
       "<table border=\"1\" class=\"dataframe\">\n",
       "  <thead>\n",
       "    <tr style=\"text-align: right;\">\n",
       "      <th></th>\n",
       "      <th>Source</th>\n",
       "      <th>year</th>\n",
       "      <th>Country Population</th>\n",
       "      <th>pop_CS</th>\n",
       "      <th>CS_1</th>\n",
       "      <th>CS_1_perc</th>\n",
       "      <th>CS_2</th>\n",
       "      <th>CS_2_perc</th>\n",
       "      <th>CS_3</th>\n",
       "      <th>CS_3_perc</th>\n",
       "      <th>...</th>\n",
       "      <th>CS_2-</th>\n",
       "      <th>CS_2-_perc</th>\n",
       "      <th>ML1_3+</th>\n",
       "      <th>ML1_3+_perc</th>\n",
       "      <th>ML1_2-</th>\n",
       "      <th>ML1_2-_perc</th>\n",
       "      <th>ML2_3+</th>\n",
       "      <th>ML2_3+_perc</th>\n",
       "      <th>ML2_2-</th>\n",
       "      <th>ML2_2-_perc</th>\n",
       "    </tr>\n",
       "  </thead>\n",
       "  <tbody>\n",
       "    <tr>\n",
       "      <th>0</th>\n",
       "      <td>FewsNet</td>\n",
       "      <td>2019</td>\n",
       "      <td>112078686.0</td>\n",
       "      <td>1.018897e+07</td>\n",
       "      <td>5.804800e+06</td>\n",
       "      <td>54.388714</td>\n",
       "      <td>2.754207e+06</td>\n",
       "      <td>31.313810</td>\n",
       "      <td>1.629965e+06</td>\n",
       "      <td>14.297476</td>\n",
       "      <td>...</td>\n",
       "      <td>8.559007e+06</td>\n",
       "      <td>85.702524</td>\n",
       "      <td>9.572721e+05</td>\n",
       "      <td>7.504792</td>\n",
       "      <td>9.231699e+06</td>\n",
       "      <td>92.495208</td>\n",
       "      <td>1.885508e+06</td>\n",
       "      <td>13.133578</td>\n",
       "      <td>8.303463e+06</td>\n",
       "      <td>86.866422</td>\n",
       "    </tr>\n",
       "    <tr>\n",
       "      <th>1</th>\n",
       "      <td>FewsNet</td>\n",
       "      <td>2020</td>\n",
       "      <td>112078686.0</td>\n",
       "      <td>1.018897e+07</td>\n",
       "      <td>5.403238e+06</td>\n",
       "      <td>47.228765</td>\n",
       "      <td>3.291903e+06</td>\n",
       "      <td>39.478928</td>\n",
       "      <td>1.493831e+06</td>\n",
       "      <td>13.292307</td>\n",
       "      <td>...</td>\n",
       "      <td>8.695141e+06</td>\n",
       "      <td>86.707693</td>\n",
       "      <td>1.972213e+06</td>\n",
       "      <td>28.991730</td>\n",
       "      <td>8.216758e+06</td>\n",
       "      <td>71.008270</td>\n",
       "      <td>1.447039e+06</td>\n",
       "      <td>16.363147</td>\n",
       "      <td>8.741933e+06</td>\n",
       "      <td>83.636853</td>\n",
       "    </tr>\n",
       "    <tr>\n",
       "      <th>2</th>\n",
       "      <td>GlobalIPC</td>\n",
       "      <td>2019</td>\n",
       "      <td>112079000.0</td>\n",
       "      <td>4.787846e+06</td>\n",
       "      <td>1.787753e+06</td>\n",
       "      <td>41.000000</td>\n",
       "      <td>1.672263e+06</td>\n",
       "      <td>32.666667</td>\n",
       "      <td>1.018403e+06</td>\n",
       "      <td>21.333333</td>\n",
       "      <td>...</td>\n",
       "      <td>3.460016e+06</td>\n",
       "      <td>73.429329</td>\n",
       "      <td>1.114963e+06</td>\n",
       "      <td>21.662461</td>\n",
       "      <td>3.672884e+06</td>\n",
       "      <td>78.337544</td>\n",
       "      <td>1.412298e+06</td>\n",
       "      <td>25.380059</td>\n",
       "      <td>3.458436e+06</td>\n",
       "      <td>74.619929</td>\n",
       "    </tr>\n",
       "    <tr>\n",
       "      <th>3</th>\n",
       "      <td>GlobalIPC</td>\n",
       "      <td>2020</td>\n",
       "      <td>114964000.0</td>\n",
       "      <td>5.861174e+06</td>\n",
       "      <td>2.787834e+06</td>\n",
       "      <td>49.571429</td>\n",
       "      <td>1.858242e+06</td>\n",
       "      <td>31.285714</td>\n",
       "      <td>1.009163e+06</td>\n",
       "      <td>16.000000</td>\n",
       "      <td>...</td>\n",
       "      <td>4.646076e+06</td>\n",
       "      <td>80.968027</td>\n",
       "      <td>9.529019e+05</td>\n",
       "      <td>15.144899</td>\n",
       "      <td>4.908273e+06</td>\n",
       "      <td>84.855112</td>\n",
       "      <td>1.583308e+06</td>\n",
       "      <td>24.060977</td>\n",
       "      <td>4.389374e+06</td>\n",
       "      <td>75.939027</td>\n",
       "    </tr>\n",
       "  </tbody>\n",
       "</table>\n",
       "<p>4 rows × 48 columns</p>\n",
       "</div>"
      ],
      "text/plain": [
       "      Source  year  Country Population        pop_CS          CS_1  CS_1_perc  \\\n",
       "0    FewsNet  2019         112078686.0  1.018897e+07  5.804800e+06  54.388714   \n",
       "1    FewsNet  2020         112078686.0  1.018897e+07  5.403238e+06  47.228765   \n",
       "2  GlobalIPC  2019         112079000.0  4.787846e+06  1.787753e+06  41.000000   \n",
       "3  GlobalIPC  2020         114964000.0  5.861174e+06  2.787834e+06  49.571429   \n",
       "\n",
       "           CS_2  CS_2_perc          CS_3  CS_3_perc  ...         CS_2-  \\\n",
       "0  2.754207e+06  31.313810  1.629965e+06  14.297476  ...  8.559007e+06   \n",
       "1  3.291903e+06  39.478928  1.493831e+06  13.292307  ...  8.695141e+06   \n",
       "2  1.672263e+06  32.666667  1.018403e+06  21.333333  ...  3.460016e+06   \n",
       "3  1.858242e+06  31.285714  1.009163e+06  16.000000  ...  4.646076e+06   \n",
       "\n",
       "   CS_2-_perc        ML1_3+  ML1_3+_perc        ML1_2-  ML1_2-_perc  \\\n",
       "0   85.702524  9.572721e+05     7.504792  9.231699e+06    92.495208   \n",
       "1   86.707693  1.972213e+06    28.991730  8.216758e+06    71.008270   \n",
       "2   73.429329  1.114963e+06    21.662461  3.672884e+06    78.337544   \n",
       "3   80.968027  9.529019e+05    15.144899  4.908273e+06    84.855112   \n",
       "\n",
       "         ML2_3+  ML2_3+_perc        ML2_2-  ML2_2-_perc  \n",
       "0  1.885508e+06    13.133578  8.303463e+06    86.866422  \n",
       "1  1.447039e+06    16.363147  8.741933e+06    83.636853  \n",
       "2  1.412298e+06    25.380059  3.458436e+06    74.619929  \n",
       "3  1.583308e+06    24.060977  4.389374e+06    75.939027  \n",
       "\n",
       "[4 rows x 48 columns]"
      ]
     },
     "execution_count": 721,
     "metadata": {},
     "output_type": "execute_result"
    }
   ],
   "source": [
    "df_csy"
   ]
  },
  {
   "cell_type": "code",
   "execution_count": 722,
   "metadata": {},
   "outputs": [],
   "source": [
    "df_csys=df_csy[[\"Source\",\"year\"]+[f\"CS_{i}_perc\" for i in range(1,6)]]"
   ]
  },
  {
   "cell_type": "code",
   "execution_count": 723,
   "metadata": {},
   "outputs": [],
   "source": [
    "df_ysm=df_csy.melt(id_vars=[\"Source\",\"year\"],value_name=\"percentage\",value_vars=['CS_2-_perc','CS_3_perc',\"CS_4_perc\",\"CS_5_perc\"])#[f\"CS_{i}_perc\" for i in range(1,6)])\n",
    "# df_ysm.percentage=df_ysm.percentage*100"
   ]
  },
  {
   "cell_type": "code",
   "execution_count": 724,
   "metadata": {},
   "outputs": [],
   "source": [
    "# df_ysm=df_csy.melt(id_vars=[\"Source\",\"year\"],value_name=\"percentage\",value_vars=[f\"CS_{i}_perc\" for i in range(1,6)]+[f\"ML1_{i}_perc\" for i in range(1,6)]+[f\"ML2_{i}_perc\" for i in range(1,6)])\n",
    "# df_ysm.percentage=df_ysm.percentage*100"
   ]
  },
  {
   "cell_type": "code",
   "execution_count": 725,
   "metadata": {},
   "outputs": [
    {
     "data": {
      "text/html": [
       "<div>\n",
       "<style scoped>\n",
       "    .dataframe tbody tr th:only-of-type {\n",
       "        vertical-align: middle;\n",
       "    }\n",
       "\n",
       "    .dataframe tbody tr th {\n",
       "        vertical-align: top;\n",
       "    }\n",
       "\n",
       "    .dataframe thead th {\n",
       "        text-align: right;\n",
       "    }\n",
       "</style>\n",
       "<table border=\"1\" class=\"dataframe\">\n",
       "  <thead>\n",
       "    <tr style=\"text-align: right;\">\n",
       "      <th></th>\n",
       "      <th>Source</th>\n",
       "      <th>year</th>\n",
       "      <th>variable</th>\n",
       "      <th>percentage</th>\n",
       "    </tr>\n",
       "  </thead>\n",
       "  <tbody>\n",
       "    <tr>\n",
       "      <th>0</th>\n",
       "      <td>FewsNet</td>\n",
       "      <td>2019</td>\n",
       "      <td>CS_2-_perc</td>\n",
       "      <td>85.702524</td>\n",
       "    </tr>\n",
       "    <tr>\n",
       "      <th>1</th>\n",
       "      <td>FewsNet</td>\n",
       "      <td>2020</td>\n",
       "      <td>CS_2-_perc</td>\n",
       "      <td>86.707693</td>\n",
       "    </tr>\n",
       "    <tr>\n",
       "      <th>2</th>\n",
       "      <td>GlobalIPC</td>\n",
       "      <td>2019</td>\n",
       "      <td>CS_2-_perc</td>\n",
       "      <td>73.429329</td>\n",
       "    </tr>\n",
       "    <tr>\n",
       "      <th>3</th>\n",
       "      <td>GlobalIPC</td>\n",
       "      <td>2020</td>\n",
       "      <td>CS_2-_perc</td>\n",
       "      <td>80.968027</td>\n",
       "    </tr>\n",
       "    <tr>\n",
       "      <th>4</th>\n",
       "      <td>FewsNet</td>\n",
       "      <td>2019</td>\n",
       "      <td>CS_3_perc</td>\n",
       "      <td>14.297476</td>\n",
       "    </tr>\n",
       "    <tr>\n",
       "      <th>5</th>\n",
       "      <td>FewsNet</td>\n",
       "      <td>2020</td>\n",
       "      <td>CS_3_perc</td>\n",
       "      <td>13.292307</td>\n",
       "    </tr>\n",
       "    <tr>\n",
       "      <th>6</th>\n",
       "      <td>GlobalIPC</td>\n",
       "      <td>2019</td>\n",
       "      <td>CS_3_perc</td>\n",
       "      <td>21.333333</td>\n",
       "    </tr>\n",
       "    <tr>\n",
       "      <th>7</th>\n",
       "      <td>GlobalIPC</td>\n",
       "      <td>2020</td>\n",
       "      <td>CS_3_perc</td>\n",
       "      <td>16.000000</td>\n",
       "    </tr>\n",
       "    <tr>\n",
       "      <th>8</th>\n",
       "      <td>FewsNet</td>\n",
       "      <td>2019</td>\n",
       "      <td>CS_4_perc</td>\n",
       "      <td>0.000000</td>\n",
       "    </tr>\n",
       "    <tr>\n",
       "      <th>9</th>\n",
       "      <td>FewsNet</td>\n",
       "      <td>2020</td>\n",
       "      <td>CS_4_perc</td>\n",
       "      <td>0.000000</td>\n",
       "    </tr>\n",
       "    <tr>\n",
       "      <th>10</th>\n",
       "      <td>GlobalIPC</td>\n",
       "      <td>2019</td>\n",
       "      <td>CS_4_perc</td>\n",
       "      <td>5.000000</td>\n",
       "    </tr>\n",
       "    <tr>\n",
       "      <th>11</th>\n",
       "      <td>GlobalIPC</td>\n",
       "      <td>2020</td>\n",
       "      <td>CS_4_perc</td>\n",
       "      <td>2.714286</td>\n",
       "    </tr>\n",
       "    <tr>\n",
       "      <th>12</th>\n",
       "      <td>FewsNet</td>\n",
       "      <td>2019</td>\n",
       "      <td>CS_5_perc</td>\n",
       "      <td>0.000000</td>\n",
       "    </tr>\n",
       "    <tr>\n",
       "      <th>13</th>\n",
       "      <td>FewsNet</td>\n",
       "      <td>2020</td>\n",
       "      <td>CS_5_perc</td>\n",
       "      <td>0.000000</td>\n",
       "    </tr>\n",
       "    <tr>\n",
       "      <th>14</th>\n",
       "      <td>GlobalIPC</td>\n",
       "      <td>2019</td>\n",
       "      <td>CS_5_perc</td>\n",
       "      <td>0.000000</td>\n",
       "    </tr>\n",
       "    <tr>\n",
       "      <th>15</th>\n",
       "      <td>GlobalIPC</td>\n",
       "      <td>2020</td>\n",
       "      <td>CS_5_perc</td>\n",
       "      <td>0.000000</td>\n",
       "    </tr>\n",
       "  </tbody>\n",
       "</table>\n",
       "</div>"
      ],
      "text/plain": [
       "       Source  year    variable  percentage\n",
       "0     FewsNet  2019  CS_2-_perc   85.702524\n",
       "1     FewsNet  2020  CS_2-_perc   86.707693\n",
       "2   GlobalIPC  2019  CS_2-_perc   73.429329\n",
       "3   GlobalIPC  2020  CS_2-_perc   80.968027\n",
       "4     FewsNet  2019   CS_3_perc   14.297476\n",
       "5     FewsNet  2020   CS_3_perc   13.292307\n",
       "6   GlobalIPC  2019   CS_3_perc   21.333333\n",
       "7   GlobalIPC  2020   CS_3_perc   16.000000\n",
       "8     FewsNet  2019   CS_4_perc    0.000000\n",
       "9     FewsNet  2020   CS_4_perc    0.000000\n",
       "10  GlobalIPC  2019   CS_4_perc    5.000000\n",
       "11  GlobalIPC  2020   CS_4_perc    2.714286\n",
       "12    FewsNet  2019   CS_5_perc    0.000000\n",
       "13    FewsNet  2020   CS_5_perc    0.000000\n",
       "14  GlobalIPC  2019   CS_5_perc    0.000000\n",
       "15  GlobalIPC  2020   CS_5_perc    0.000000"
      ]
     },
     "execution_count": 725,
     "metadata": {},
     "output_type": "execute_result"
    }
   ],
   "source": [
    "df_ysm"
   ]
  },
  {
   "cell_type": "code",
   "execution_count": 726,
   "metadata": {},
   "outputs": [
    {
     "data": {
      "application/vnd.plotly.v1+json": {
       "config": {
        "plotlyServerURL": "https://plot.ly"
       },
       "data": [
        {
         "alignmentgroup": "True",
         "hovertemplate": "Source=FewsNet<br>year=2019<br>variable=%{x}<br>percentage=%{y}<extra></extra>",
         "legendgroup": "FewsNet",
         "marker": {
          "color": "#636efa"
         },
         "name": "FewsNet",
         "offsetgroup": "FewsNet",
         "orientation": "v",
         "showlegend": true,
         "textposition": "auto",
         "type": "bar",
         "x": [
          "CS_2-_perc",
          "CS_3_perc",
          "CS_4_perc",
          "CS_5_perc"
         ],
         "xaxis": "x2",
         "y": [
          85.70252398104822,
          14.297476018951782,
          0,
          0
         ],
         "yaxis": "y2"
        },
        {
         "alignmentgroup": "True",
         "hovertemplate": "Source=FewsNet<br>year=2020<br>variable=%{x}<br>percentage=%{y}<extra></extra>",
         "legendgroup": "FewsNet",
         "marker": {
          "color": "#636efa"
         },
         "name": "FewsNet",
         "offsetgroup": "FewsNet",
         "orientation": "v",
         "showlegend": false,
         "textposition": "auto",
         "type": "bar",
         "x": [
          "CS_2-_perc",
          "CS_3_perc",
          "CS_4_perc",
          "CS_5_perc"
         ],
         "xaxis": "x",
         "y": [
          86.70769291914475,
          13.292307080855249,
          0,
          0
         ],
         "yaxis": "y"
        },
        {
         "alignmentgroup": "True",
         "hovertemplate": "Source=GlobalIPC<br>year=2019<br>variable=%{x}<br>percentage=%{y}<extra></extra>",
         "legendgroup": "GlobalIPC",
         "marker": {
          "color": "#EF553B"
         },
         "name": "GlobalIPC",
         "offsetgroup": "GlobalIPC",
         "orientation": "v",
         "showlegend": true,
         "textposition": "auto",
         "type": "bar",
         "x": [
          "CS_2-_perc",
          "CS_3_perc",
          "CS_4_perc",
          "CS_5_perc"
         ],
         "xaxis": "x2",
         "y": [
          73.42932859888067,
          21.333333333333332,
          5,
          0
         ],
         "yaxis": "y2"
        },
        {
         "alignmentgroup": "True",
         "hovertemplate": "Source=GlobalIPC<br>year=2020<br>variable=%{x}<br>percentage=%{y}<extra></extra>",
         "legendgroup": "GlobalIPC",
         "marker": {
          "color": "#EF553B"
         },
         "name": "GlobalIPC",
         "offsetgroup": "GlobalIPC",
         "orientation": "v",
         "showlegend": false,
         "textposition": "auto",
         "type": "bar",
         "x": [
          "CS_2-_perc",
          "CS_3_perc",
          "CS_4_perc",
          "CS_5_perc"
         ],
         "xaxis": "x",
         "y": [
          80.96802690698094,
          16,
          2.7142857142857144,
          0
         ],
         "yaxis": "y"
        }
       ],
       "layout": {
        "annotations": [
         {
          "font": {},
          "showarrow": false,
          "text": "year=2020",
          "textangle": 90,
          "x": 0.98,
          "xanchor": "left",
          "xref": "paper",
          "y": 0.2425,
          "yanchor": "middle",
          "yref": "paper"
         },
         {
          "font": {},
          "showarrow": false,
          "text": "year=2019",
          "textangle": 90,
          "x": 0.98,
          "xanchor": "left",
          "xref": "paper",
          "y": 0.7575000000000001,
          "yanchor": "middle",
          "yref": "paper"
         }
        ],
        "barmode": "group",
        "height": 600,
        "legend": {
         "title": {
          "text": "Source"
         },
         "tracegroupgap": 0
        },
        "margin": {
         "t": 60
        },
        "template": {
         "data": {
          "bar": [
           {
            "error_x": {
             "color": "#2a3f5f"
            },
            "error_y": {
             "color": "#2a3f5f"
            },
            "marker": {
             "line": {
              "color": "#E5ECF6",
              "width": 0.5
             }
            },
            "type": "bar"
           }
          ],
          "barpolar": [
           {
            "marker": {
             "line": {
              "color": "#E5ECF6",
              "width": 0.5
             }
            },
            "type": "barpolar"
           }
          ],
          "carpet": [
           {
            "aaxis": {
             "endlinecolor": "#2a3f5f",
             "gridcolor": "white",
             "linecolor": "white",
             "minorgridcolor": "white",
             "startlinecolor": "#2a3f5f"
            },
            "baxis": {
             "endlinecolor": "#2a3f5f",
             "gridcolor": "white",
             "linecolor": "white",
             "minorgridcolor": "white",
             "startlinecolor": "#2a3f5f"
            },
            "type": "carpet"
           }
          ],
          "choropleth": [
           {
            "colorbar": {
             "outlinewidth": 0,
             "ticks": ""
            },
            "type": "choropleth"
           }
          ],
          "contour": [
           {
            "colorbar": {
             "outlinewidth": 0,
             "ticks": ""
            },
            "colorscale": [
             [
              0,
              "#0d0887"
             ],
             [
              0.1111111111111111,
              "#46039f"
             ],
             [
              0.2222222222222222,
              "#7201a8"
             ],
             [
              0.3333333333333333,
              "#9c179e"
             ],
             [
              0.4444444444444444,
              "#bd3786"
             ],
             [
              0.5555555555555556,
              "#d8576b"
             ],
             [
              0.6666666666666666,
              "#ed7953"
             ],
             [
              0.7777777777777778,
              "#fb9f3a"
             ],
             [
              0.8888888888888888,
              "#fdca26"
             ],
             [
              1,
              "#f0f921"
             ]
            ],
            "type": "contour"
           }
          ],
          "contourcarpet": [
           {
            "colorbar": {
             "outlinewidth": 0,
             "ticks": ""
            },
            "type": "contourcarpet"
           }
          ],
          "heatmap": [
           {
            "colorbar": {
             "outlinewidth": 0,
             "ticks": ""
            },
            "colorscale": [
             [
              0,
              "#0d0887"
             ],
             [
              0.1111111111111111,
              "#46039f"
             ],
             [
              0.2222222222222222,
              "#7201a8"
             ],
             [
              0.3333333333333333,
              "#9c179e"
             ],
             [
              0.4444444444444444,
              "#bd3786"
             ],
             [
              0.5555555555555556,
              "#d8576b"
             ],
             [
              0.6666666666666666,
              "#ed7953"
             ],
             [
              0.7777777777777778,
              "#fb9f3a"
             ],
             [
              0.8888888888888888,
              "#fdca26"
             ],
             [
              1,
              "#f0f921"
             ]
            ],
            "type": "heatmap"
           }
          ],
          "heatmapgl": [
           {
            "colorbar": {
             "outlinewidth": 0,
             "ticks": ""
            },
            "colorscale": [
             [
              0,
              "#0d0887"
             ],
             [
              0.1111111111111111,
              "#46039f"
             ],
             [
              0.2222222222222222,
              "#7201a8"
             ],
             [
              0.3333333333333333,
              "#9c179e"
             ],
             [
              0.4444444444444444,
              "#bd3786"
             ],
             [
              0.5555555555555556,
              "#d8576b"
             ],
             [
              0.6666666666666666,
              "#ed7953"
             ],
             [
              0.7777777777777778,
              "#fb9f3a"
             ],
             [
              0.8888888888888888,
              "#fdca26"
             ],
             [
              1,
              "#f0f921"
             ]
            ],
            "type": "heatmapgl"
           }
          ],
          "histogram": [
           {
            "marker": {
             "colorbar": {
              "outlinewidth": 0,
              "ticks": ""
             }
            },
            "type": "histogram"
           }
          ],
          "histogram2d": [
           {
            "colorbar": {
             "outlinewidth": 0,
             "ticks": ""
            },
            "colorscale": [
             [
              0,
              "#0d0887"
             ],
             [
              0.1111111111111111,
              "#46039f"
             ],
             [
              0.2222222222222222,
              "#7201a8"
             ],
             [
              0.3333333333333333,
              "#9c179e"
             ],
             [
              0.4444444444444444,
              "#bd3786"
             ],
             [
              0.5555555555555556,
              "#d8576b"
             ],
             [
              0.6666666666666666,
              "#ed7953"
             ],
             [
              0.7777777777777778,
              "#fb9f3a"
             ],
             [
              0.8888888888888888,
              "#fdca26"
             ],
             [
              1,
              "#f0f921"
             ]
            ],
            "type": "histogram2d"
           }
          ],
          "histogram2dcontour": [
           {
            "colorbar": {
             "outlinewidth": 0,
             "ticks": ""
            },
            "colorscale": [
             [
              0,
              "#0d0887"
             ],
             [
              0.1111111111111111,
              "#46039f"
             ],
             [
              0.2222222222222222,
              "#7201a8"
             ],
             [
              0.3333333333333333,
              "#9c179e"
             ],
             [
              0.4444444444444444,
              "#bd3786"
             ],
             [
              0.5555555555555556,
              "#d8576b"
             ],
             [
              0.6666666666666666,
              "#ed7953"
             ],
             [
              0.7777777777777778,
              "#fb9f3a"
             ],
             [
              0.8888888888888888,
              "#fdca26"
             ],
             [
              1,
              "#f0f921"
             ]
            ],
            "type": "histogram2dcontour"
           }
          ],
          "mesh3d": [
           {
            "colorbar": {
             "outlinewidth": 0,
             "ticks": ""
            },
            "type": "mesh3d"
           }
          ],
          "parcoords": [
           {
            "line": {
             "colorbar": {
              "outlinewidth": 0,
              "ticks": ""
             }
            },
            "type": "parcoords"
           }
          ],
          "pie": [
           {
            "automargin": true,
            "type": "pie"
           }
          ],
          "scatter": [
           {
            "marker": {
             "colorbar": {
              "outlinewidth": 0,
              "ticks": ""
             }
            },
            "type": "scatter"
           }
          ],
          "scatter3d": [
           {
            "line": {
             "colorbar": {
              "outlinewidth": 0,
              "ticks": ""
             }
            },
            "marker": {
             "colorbar": {
              "outlinewidth": 0,
              "ticks": ""
             }
            },
            "type": "scatter3d"
           }
          ],
          "scattercarpet": [
           {
            "marker": {
             "colorbar": {
              "outlinewidth": 0,
              "ticks": ""
             }
            },
            "type": "scattercarpet"
           }
          ],
          "scattergeo": [
           {
            "marker": {
             "colorbar": {
              "outlinewidth": 0,
              "ticks": ""
             }
            },
            "type": "scattergeo"
           }
          ],
          "scattergl": [
           {
            "marker": {
             "colorbar": {
              "outlinewidth": 0,
              "ticks": ""
             }
            },
            "type": "scattergl"
           }
          ],
          "scattermapbox": [
           {
            "marker": {
             "colorbar": {
              "outlinewidth": 0,
              "ticks": ""
             }
            },
            "type": "scattermapbox"
           }
          ],
          "scatterpolar": [
           {
            "marker": {
             "colorbar": {
              "outlinewidth": 0,
              "ticks": ""
             }
            },
            "type": "scatterpolar"
           }
          ],
          "scatterpolargl": [
           {
            "marker": {
             "colorbar": {
              "outlinewidth": 0,
              "ticks": ""
             }
            },
            "type": "scatterpolargl"
           }
          ],
          "scatterternary": [
           {
            "marker": {
             "colorbar": {
              "outlinewidth": 0,
              "ticks": ""
             }
            },
            "type": "scatterternary"
           }
          ],
          "surface": [
           {
            "colorbar": {
             "outlinewidth": 0,
             "ticks": ""
            },
            "colorscale": [
             [
              0,
              "#0d0887"
             ],
             [
              0.1111111111111111,
              "#46039f"
             ],
             [
              0.2222222222222222,
              "#7201a8"
             ],
             [
              0.3333333333333333,
              "#9c179e"
             ],
             [
              0.4444444444444444,
              "#bd3786"
             ],
             [
              0.5555555555555556,
              "#d8576b"
             ],
             [
              0.6666666666666666,
              "#ed7953"
             ],
             [
              0.7777777777777778,
              "#fb9f3a"
             ],
             [
              0.8888888888888888,
              "#fdca26"
             ],
             [
              1,
              "#f0f921"
             ]
            ],
            "type": "surface"
           }
          ],
          "table": [
           {
            "cells": {
             "fill": {
              "color": "#EBF0F8"
             },
             "line": {
              "color": "white"
             }
            },
            "header": {
             "fill": {
              "color": "#C8D4E3"
             },
             "line": {
              "color": "white"
             }
            },
            "type": "table"
           }
          ]
         },
         "layout": {
          "annotationdefaults": {
           "arrowcolor": "#2a3f5f",
           "arrowhead": 0,
           "arrowwidth": 1
          },
          "coloraxis": {
           "colorbar": {
            "outlinewidth": 0,
            "ticks": ""
           }
          },
          "colorscale": {
           "diverging": [
            [
             0,
             "#8e0152"
            ],
            [
             0.1,
             "#c51b7d"
            ],
            [
             0.2,
             "#de77ae"
            ],
            [
             0.3,
             "#f1b6da"
            ],
            [
             0.4,
             "#fde0ef"
            ],
            [
             0.5,
             "#f7f7f7"
            ],
            [
             0.6,
             "#e6f5d0"
            ],
            [
             0.7,
             "#b8e186"
            ],
            [
             0.8,
             "#7fbc41"
            ],
            [
             0.9,
             "#4d9221"
            ],
            [
             1,
             "#276419"
            ]
           ],
           "sequential": [
            [
             0,
             "#0d0887"
            ],
            [
             0.1111111111111111,
             "#46039f"
            ],
            [
             0.2222222222222222,
             "#7201a8"
            ],
            [
             0.3333333333333333,
             "#9c179e"
            ],
            [
             0.4444444444444444,
             "#bd3786"
            ],
            [
             0.5555555555555556,
             "#d8576b"
            ],
            [
             0.6666666666666666,
             "#ed7953"
            ],
            [
             0.7777777777777778,
             "#fb9f3a"
            ],
            [
             0.8888888888888888,
             "#fdca26"
            ],
            [
             1,
             "#f0f921"
            ]
           ],
           "sequentialminus": [
            [
             0,
             "#0d0887"
            ],
            [
             0.1111111111111111,
             "#46039f"
            ],
            [
             0.2222222222222222,
             "#7201a8"
            ],
            [
             0.3333333333333333,
             "#9c179e"
            ],
            [
             0.4444444444444444,
             "#bd3786"
            ],
            [
             0.5555555555555556,
             "#d8576b"
            ],
            [
             0.6666666666666666,
             "#ed7953"
            ],
            [
             0.7777777777777778,
             "#fb9f3a"
            ],
            [
             0.8888888888888888,
             "#fdca26"
            ],
            [
             1,
             "#f0f921"
            ]
           ]
          },
          "colorway": [
           "#636efa",
           "#EF553B",
           "#00cc96",
           "#ab63fa",
           "#FFA15A",
           "#19d3f3",
           "#FF6692",
           "#B6E880",
           "#FF97FF",
           "#FECB52"
          ],
          "font": {
           "color": "#2a3f5f"
          },
          "geo": {
           "bgcolor": "white",
           "lakecolor": "white",
           "landcolor": "#E5ECF6",
           "showlakes": true,
           "showland": true,
           "subunitcolor": "white"
          },
          "hoverlabel": {
           "align": "left"
          },
          "hovermode": "closest",
          "mapbox": {
           "style": "light"
          },
          "paper_bgcolor": "white",
          "plot_bgcolor": "#E5ECF6",
          "polar": {
           "angularaxis": {
            "gridcolor": "white",
            "linecolor": "white",
            "ticks": ""
           },
           "bgcolor": "#E5ECF6",
           "radialaxis": {
            "gridcolor": "white",
            "linecolor": "white",
            "ticks": ""
           }
          },
          "scene": {
           "xaxis": {
            "backgroundcolor": "#E5ECF6",
            "gridcolor": "white",
            "gridwidth": 2,
            "linecolor": "white",
            "showbackground": true,
            "ticks": "",
            "zerolinecolor": "white"
           },
           "yaxis": {
            "backgroundcolor": "#E5ECF6",
            "gridcolor": "white",
            "gridwidth": 2,
            "linecolor": "white",
            "showbackground": true,
            "ticks": "",
            "zerolinecolor": "white"
           },
           "zaxis": {
            "backgroundcolor": "#E5ECF6",
            "gridcolor": "white",
            "gridwidth": 2,
            "linecolor": "white",
            "showbackground": true,
            "ticks": "",
            "zerolinecolor": "white"
           }
          },
          "shapedefaults": {
           "line": {
            "color": "#2a3f5f"
           }
          },
          "ternary": {
           "aaxis": {
            "gridcolor": "white",
            "linecolor": "white",
            "ticks": ""
           },
           "baxis": {
            "gridcolor": "white",
            "linecolor": "white",
            "ticks": ""
           },
           "bgcolor": "#E5ECF6",
           "caxis": {
            "gridcolor": "white",
            "linecolor": "white",
            "ticks": ""
           }
          },
          "title": {
           "x": 0.05
          },
          "xaxis": {
           "automargin": true,
           "gridcolor": "white",
           "linecolor": "white",
           "ticks": "",
           "title": {
            "standoff": 15
           },
           "zerolinecolor": "white",
           "zerolinewidth": 2
          },
          "yaxis": {
           "automargin": true,
           "gridcolor": "white",
           "linecolor": "white",
           "ticks": "",
           "title": {
            "standoff": 15
           },
           "zerolinecolor": "white",
           "zerolinewidth": 2
          }
         }
        },
        "width": 800,
        "xaxis": {
         "anchor": "y",
         "autorange": true,
         "domain": [
          0,
          0.98
         ],
         "range": [
          -0.5,
          3.5
         ],
         "ticktext": [
          "IPC2-",
          "IPC3",
          "IPC4",
          "IPC5"
         ],
         "tickvals": [
          "CS_2-_perc",
          "CS_3_perc",
          "CS_4_perc",
          "CS_5_perc"
         ],
         "title": {
          "text": "variable"
         },
         "type": "category"
        },
        "xaxis2": {
         "anchor": "y2",
         "autorange": true,
         "domain": [
          0,
          0.98
         ],
         "matches": "x",
         "range": [
          -0.5,
          3.5
         ],
         "showticklabels": false,
         "ticktext": [
          "IPC2-",
          "IPC3",
          "IPC4",
          "IPC5"
         ],
         "tickvals": [
          "CS_2-_perc",
          "CS_3_perc",
          "CS_4_perc",
          "CS_5_perc"
         ],
         "type": "category"
        },
        "yaxis": {
         "anchor": "x",
         "autorange": true,
         "domain": [
          0,
          0.485
         ],
         "range": [
          0,
          91.27125570436289
         ],
         "title": {
          "text": "percentage"
         },
         "type": "linear"
        },
        "yaxis2": {
         "anchor": "x2",
         "autorange": true,
         "domain": [
          0.515,
          1
         ],
         "matches": "y",
         "range": [
          0,
          91.27125570436289
         ],
         "title": {
          "text": "percentage"
         },
         "type": "linear"
        }
       }
      },
      "image/png": "[encoded data removed]",
      "text/html": [
       "<div>                            <div id=\"6d6d6129-3c6c-4925-8a59-e20a8ec1c850\" class=\"plotly-graph-div\" style=\"height:600px; width:800px;\"></div>            <script type=\"text/javascript\">                require([\"plotly\"], function(Plotly) {                    window.PLOTLYENV=window.PLOTLYENV || {};                                    if (document.getElementById(\"6d6d6129-3c6c-4925-8a59-e20a8ec1c850\")) {                    Plotly.newPlot(                        \"6d6d6129-3c6c-4925-8a59-e20a8ec1c850\",                        [{\"alignmentgroup\": \"True\", \"hovertemplate\": \"Source=FewsNet<br>year=2019<br>variable=%{x}<br>percentage=%{y}<extra></extra>\", \"legendgroup\": \"FewsNet\", \"marker\": {\"color\": \"#636efa\"}, \"name\": \"FewsNet\", \"offsetgroup\": \"FewsNet\", \"orientation\": \"v\", \"showlegend\": true, \"textposition\": \"auto\", \"type\": \"bar\", \"x\": [\"CS_2-_perc\", \"CS_3_perc\", \"CS_4_perc\", \"CS_5_perc\"], \"xaxis\": \"x2\", \"y\": [85.70252398104822, 14.297476018951782, 0.0, 0.0], \"yaxis\": \"y2\"}, {\"alignmentgroup\": \"True\", \"hovertemplate\": \"Source=FewsNet<br>year=2020<br>variable=%{x}<br>percentage=%{y}<extra></extra>\", \"legendgroup\": \"FewsNet\", \"marker\": {\"color\": \"#636efa\"}, \"name\": \"FewsNet\", \"offsetgroup\": \"FewsNet\", \"orientation\": \"v\", \"showlegend\": false, \"textposition\": \"auto\", \"type\": \"bar\", \"x\": [\"CS_2-_perc\", \"CS_3_perc\", \"CS_4_perc\", \"CS_5_perc\"], \"xaxis\": \"x\", \"y\": [86.70769291914475, 13.292307080855249, 0.0, 0.0], \"yaxis\": \"y\"}, {\"alignmentgroup\": \"True\", \"hovertemplate\": \"Source=GlobalIPC<br>year=2019<br>variable=%{x}<br>percentage=%{y}<extra></extra>\", \"legendgroup\": \"GlobalIPC\", \"marker\": {\"color\": \"#EF553B\"}, \"name\": \"GlobalIPC\", \"offsetgroup\": \"GlobalIPC\", \"orientation\": \"v\", \"showlegend\": true, \"textposition\": \"auto\", \"type\": \"bar\", \"x\": [\"CS_2-_perc\", \"CS_3_perc\", \"CS_4_perc\", \"CS_5_perc\"], \"xaxis\": \"x2\", \"y\": [73.42932859888067, 21.333333333333332, 5.0, 0.0], \"yaxis\": \"y2\"}, {\"alignmentgroup\": \"True\", \"hovertemplate\": \"Source=GlobalIPC<br>year=2020<br>variable=%{x}<br>percentage=%{y}<extra></extra>\", \"legendgroup\": \"GlobalIPC\", \"marker\": {\"color\": \"#EF553B\"}, \"name\": \"GlobalIPC\", \"offsetgroup\": \"GlobalIPC\", \"orientation\": \"v\", \"showlegend\": false, \"textposition\": \"auto\", \"type\": \"bar\", \"x\": [\"CS_2-_perc\", \"CS_3_perc\", \"CS_4_perc\", \"CS_5_perc\"], \"xaxis\": \"x\", \"y\": [80.96802690698094, 16.0, 2.7142857142857144, 0.0], \"yaxis\": \"y\"}],                        {\"annotations\": [{\"font\": {}, \"showarrow\": false, \"text\": \"year=2020\", \"textangle\": 90, \"x\": 0.98, \"xanchor\": \"left\", \"xref\": \"paper\", \"y\": 0.2425, \"yanchor\": \"middle\", \"yref\": \"paper\"}, {\"font\": {}, \"showarrow\": false, \"text\": \"year=2019\", \"textangle\": 90, \"x\": 0.98, \"xanchor\": \"left\", \"xref\": \"paper\", \"y\": 0.7575000000000001, \"yanchor\": \"middle\", \"yref\": \"paper\"}], \"barmode\": \"group\", \"height\": 600, \"legend\": {\"title\": {\"text\": \"Source\"}, \"tracegroupgap\": 0}, \"margin\": {\"t\": 60}, \"template\": {\"data\": {\"bar\": [{\"error_x\": {\"color\": \"#2a3f5f\"}, \"error_y\": {\"color\": \"#2a3f5f\"}, \"marker\": {\"line\": {\"color\": \"#E5ECF6\", \"width\": 0.5}}, \"type\": \"bar\"}], \"barpolar\": [{\"marker\": {\"line\": {\"color\": \"#E5ECF6\", \"width\": 0.5}}, \"type\": \"barpolar\"}], \"carpet\": [{\"aaxis\": {\"endlinecolor\": \"#2a3f5f\", \"gridcolor\": \"white\", \"linecolor\": \"white\", \"minorgridcolor\": \"white\", \"startlinecolor\": \"#2a3f5f\"}, \"baxis\": {\"endlinecolor\": \"#2a3f5f\", \"gridcolor\": \"white\", \"linecolor\": \"white\", \"minorgridcolor\": \"white\", \"startlinecolor\": \"#2a3f5f\"}, \"type\": \"carpet\"}], \"choropleth\": [{\"colorbar\": {\"outlinewidth\": 0, \"ticks\": \"\"}, \"type\": \"choropleth\"}], \"contour\": [{\"colorbar\": {\"outlinewidth\": 0, \"ticks\": \"\"}, \"colorscale\": [[0.0, \"#0d0887\"], [0.1111111111111111, \"#46039f\"], [0.2222222222222222, \"#7201a8\"], [0.3333333333333333, \"#9c179e\"], [0.4444444444444444, \"#bd3786\"], [0.5555555555555556, \"#d8576b\"], [0.6666666666666666, \"#ed7953\"], [0.7777777777777778, \"#fb9f3a\"], [0.8888888888888888, \"#fdca26\"], [1.0, \"#f0f921\"]], \"type\": \"contour\"}], \"contourcarpet\": [{\"colorbar\": {\"outlinewidth\": 0, \"ticks\": \"\"}, \"type\": \"contourcarpet\"}], \"heatmap\": [{\"colorbar\": {\"outlinewidth\": 0, \"ticks\": \"\"}, \"colorscale\": [[0.0, \"#0d0887\"], [0.1111111111111111, \"#46039f\"], [0.2222222222222222, \"#7201a8\"], [0.3333333333333333, \"#9c179e\"], [0.4444444444444444, \"#bd3786\"], [0.5555555555555556, \"#d8576b\"], [0.6666666666666666, \"#ed7953\"], [0.7777777777777778, \"#fb9f3a\"], [0.8888888888888888, \"#fdca26\"], [1.0, \"#f0f921\"]], \"type\": \"heatmap\"}], \"heatmapgl\": [{\"colorbar\": {\"outlinewidth\": 0, \"ticks\": \"\"}, \"colorscale\": [[0.0, \"#0d0887\"], [0.1111111111111111, \"#46039f\"], [0.2222222222222222, \"#7201a8\"], [0.3333333333333333, \"#9c179e\"], [0.4444444444444444, \"#bd3786\"], [0.5555555555555556, \"#d8576b\"], [0.6666666666666666, \"#ed7953\"], [0.7777777777777778, \"#fb9f3a\"], [0.8888888888888888, \"#fdca26\"], [1.0, \"#f0f921\"]], \"type\": \"heatmapgl\"}], \"histogram\": [{\"marker\": {\"colorbar\": {\"outlinewidth\": 0, \"ticks\": \"\"}}, \"type\": \"histogram\"}], \"histogram2d\": [{\"colorbar\": {\"outlinewidth\": 0, \"ticks\": \"\"}, \"colorscale\": [[0.0, \"#0d0887\"], [0.1111111111111111, \"#46039f\"], [0.2222222222222222, \"#7201a8\"], [0.3333333333333333, \"#9c179e\"], [0.4444444444444444, \"#bd3786\"], [0.5555555555555556, \"#d8576b\"], [0.6666666666666666, \"#ed7953\"], [0.7777777777777778, \"#fb9f3a\"], [0.8888888888888888, \"#fdca26\"], [1.0, \"#f0f921\"]], \"type\": \"histogram2d\"}], \"histogram2dcontour\": [{\"colorbar\": {\"outlinewidth\": 0, \"ticks\": \"\"}, \"colorscale\": [[0.0, \"#0d0887\"], [0.1111111111111111, \"#46039f\"], [0.2222222222222222, \"#7201a8\"], [0.3333333333333333, \"#9c179e\"], [0.4444444444444444, \"#bd3786\"], [0.5555555555555556, \"#d8576b\"], [0.6666666666666666, \"#ed7953\"], [0.7777777777777778, \"#fb9f3a\"], [0.8888888888888888, \"#fdca26\"], [1.0, \"#f0f921\"]], \"type\": \"histogram2dcontour\"}], \"mesh3d\": [{\"colorbar\": {\"outlinewidth\": 0, \"ticks\": \"\"}, \"type\": \"mesh3d\"}], \"parcoords\": [{\"line\": {\"colorbar\": {\"outlinewidth\": 0, \"ticks\": \"\"}}, \"type\": \"parcoords\"}], \"pie\": [{\"automargin\": true, \"type\": \"pie\"}], \"scatter\": [{\"marker\": {\"colorbar\": {\"outlinewidth\": 0, \"ticks\": \"\"}}, \"type\": \"scatter\"}], \"scatter3d\": [{\"line\": {\"colorbar\": {\"outlinewidth\": 0, \"ticks\": \"\"}}, \"marker\": {\"colorbar\": {\"outlinewidth\": 0, \"ticks\": \"\"}}, \"type\": \"scatter3d\"}], \"scattercarpet\": [{\"marker\": {\"colorbar\": {\"outlinewidth\": 0, \"ticks\": \"\"}}, \"type\": \"scattercarpet\"}], \"scattergeo\": [{\"marker\": {\"colorbar\": {\"outlinewidth\": 0, \"ticks\": \"\"}}, \"type\": \"scattergeo\"}], \"scattergl\": [{\"marker\": {\"colorbar\": {\"outlinewidth\": 0, \"ticks\": \"\"}}, \"type\": \"scattergl\"}], \"scattermapbox\": [{\"marker\": {\"colorbar\": {\"outlinewidth\": 0, \"ticks\": \"\"}}, \"type\": \"scattermapbox\"}], \"scatterpolar\": [{\"marker\": {\"colorbar\": {\"outlinewidth\": 0, \"ticks\": \"\"}}, \"type\": \"scatterpolar\"}], \"scatterpolargl\": [{\"marker\": {\"colorbar\": {\"outlinewidth\": 0, \"ticks\": \"\"}}, \"type\": \"scatterpolargl\"}], \"scatterternary\": [{\"marker\": {\"colorbar\": {\"outlinewidth\": 0, \"ticks\": \"\"}}, \"type\": \"scatterternary\"}], \"surface\": [{\"colorbar\": {\"outlinewidth\": 0, \"ticks\": \"\"}, \"colorscale\": [[0.0, \"#0d0887\"], [0.1111111111111111, \"#46039f\"], [0.2222222222222222, \"#7201a8\"], [0.3333333333333333, \"#9c179e\"], [0.4444444444444444, \"#bd3786\"], [0.5555555555555556, \"#d8576b\"], [0.6666666666666666, \"#ed7953\"], [0.7777777777777778, \"#fb9f3a\"], [0.8888888888888888, \"#fdca26\"], [1.0, \"#f0f921\"]], \"type\": \"surface\"}], \"table\": [{\"cells\": {\"fill\": {\"color\": \"#EBF0F8\"}, \"line\": {\"color\": \"white\"}}, \"header\": {\"fill\": {\"color\": \"#C8D4E3\"}, \"line\": {\"color\": \"white\"}}, \"type\": \"table\"}]}, \"layout\": {\"annotationdefaults\": {\"arrowcolor\": \"#2a3f5f\", \"arrowhead\": 0, \"arrowwidth\": 1}, \"coloraxis\": {\"colorbar\": {\"outlinewidth\": 0, \"ticks\": \"\"}}, \"colorscale\": {\"diverging\": [[0, \"#8e0152\"], [0.1, \"#c51b7d\"], [0.2, \"#de77ae\"], [0.3, \"#f1b6da\"], [0.4, \"#fde0ef\"], [0.5, \"#f7f7f7\"], [0.6, \"#e6f5d0\"], [0.7, \"#b8e186\"], [0.8, \"#7fbc41\"], [0.9, \"#4d9221\"], [1, \"#276419\"]], \"sequential\": [[0.0, \"#0d0887\"], [0.1111111111111111, \"#46039f\"], [0.2222222222222222, \"#7201a8\"], [0.3333333333333333, \"#9c179e\"], [0.4444444444444444, \"#bd3786\"], [0.5555555555555556, \"#d8576b\"], [0.6666666666666666, \"#ed7953\"], [0.7777777777777778, \"#fb9f3a\"], [0.8888888888888888, \"#fdca26\"], [1.0, \"#f0f921\"]], \"sequentialminus\": [[0.0, \"#0d0887\"], [0.1111111111111111, \"#46039f\"], [0.2222222222222222, \"#7201a8\"], [0.3333333333333333, \"#9c179e\"], [0.4444444444444444, \"#bd3786\"], [0.5555555555555556, \"#d8576b\"], [0.6666666666666666, \"#ed7953\"], [0.7777777777777778, \"#fb9f3a\"], [0.8888888888888888, \"#fdca26\"], [1.0, \"#f0f921\"]]}, \"colorway\": [\"#636efa\", \"#EF553B\", \"#00cc96\", \"#ab63fa\", \"#FFA15A\", \"#19d3f3\", \"#FF6692\", \"#B6E880\", \"#FF97FF\", \"#FECB52\"], \"font\": {\"color\": \"#2a3f5f\"}, \"geo\": {\"bgcolor\": \"white\", \"lakecolor\": \"white\", \"landcolor\": \"#E5ECF6\", \"showlakes\": true, \"showland\": true, \"subunitcolor\": \"white\"}, \"hoverlabel\": {\"align\": \"left\"}, \"hovermode\": \"closest\", \"mapbox\": {\"style\": \"light\"}, \"paper_bgcolor\": \"white\", \"plot_bgcolor\": \"#E5ECF6\", \"polar\": {\"angularaxis\": {\"gridcolor\": \"white\", \"linecolor\": \"white\", \"ticks\": \"\"}, \"bgcolor\": \"#E5ECF6\", \"radialaxis\": {\"gridcolor\": \"white\", \"linecolor\": \"white\", \"ticks\": \"\"}}, \"scene\": {\"xaxis\": {\"backgroundcolor\": \"#E5ECF6\", \"gridcolor\": \"white\", \"gridwidth\": 2, \"linecolor\": \"white\", \"showbackground\": true, \"ticks\": \"\", \"zerolinecolor\": \"white\"}, \"yaxis\": {\"backgroundcolor\": \"#E5ECF6\", \"gridcolor\": \"white\", \"gridwidth\": 2, \"linecolor\": \"white\", \"showbackground\": true, \"ticks\": \"\", \"zerolinecolor\": \"white\"}, \"zaxis\": {\"backgroundcolor\": \"#E5ECF6\", \"gridcolor\": \"white\", \"gridwidth\": 2, \"linecolor\": \"white\", \"showbackground\": true, \"ticks\": \"\", \"zerolinecolor\": \"white\"}}, \"shapedefaults\": {\"line\": {\"color\": \"#2a3f5f\"}}, \"ternary\": {\"aaxis\": {\"gridcolor\": \"white\", \"linecolor\": \"white\", \"ticks\": \"\"}, \"baxis\": {\"gridcolor\": \"white\", \"linecolor\": \"white\", \"ticks\": \"\"}, \"bgcolor\": \"#E5ECF6\", \"caxis\": {\"gridcolor\": \"white\", \"linecolor\": \"white\", \"ticks\": \"\"}}, \"title\": {\"x\": 0.05}, \"xaxis\": {\"automargin\": true, \"gridcolor\": \"white\", \"linecolor\": \"white\", \"ticks\": \"\", \"title\": {\"standoff\": 15}, \"zerolinecolor\": \"white\", \"zerolinewidth\": 2}, \"yaxis\": {\"automargin\": true, \"gridcolor\": \"white\", \"linecolor\": \"white\", \"ticks\": \"\", \"title\": {\"standoff\": 15}, \"zerolinecolor\": \"white\", \"zerolinewidth\": 2}}}, \"width\": 800, \"xaxis\": {\"anchor\": \"y\", \"domain\": [0.0, 0.98], \"ticktext\": [\"IPC2-\", \"IPC3\", \"IPC4\", \"IPC5\"], \"tickvals\": [\"CS_2-_perc\", \"CS_3_perc\", \"CS_4_perc\", \"CS_5_perc\"], \"title\": {\"text\": \"variable\"}}, \"xaxis2\": {\"anchor\": \"y2\", \"domain\": [0.0, 0.98], \"matches\": \"x\", \"showticklabels\": false, \"ticktext\": [\"IPC2-\", \"IPC3\", \"IPC4\", \"IPC5\"], \"tickvals\": [\"CS_2-_perc\", \"CS_3_perc\", \"CS_4_perc\", \"CS_5_perc\"]}, \"yaxis\": {\"anchor\": \"x\", \"domain\": [0.0, 0.485], \"title\": {\"text\": \"percentage\"}}, \"yaxis2\": {\"anchor\": \"x2\", \"domain\": [0.515, 1.0], \"matches\": \"y\", \"title\": {\"text\": \"percentage\"}}},                        {\"responsive\": true}                    ).then(function(){\n",
       "                            \n",
       "var gd = document.getElementById('6d6d6129-3c6c-4925-8a59-e20a8ec1c850');\n",
       "var x = new MutationObserver(function (mutations, observer) {{\n",
       "        var display = window.getComputedStyle(gd).display;\n",
       "        if (!display || display === 'none') {{\n",
       "            console.log([gd, 'removed!']);\n",
       "            Plotly.purge(gd);\n",
       "            observer.disconnect();\n",
       "        }}\n",
       "}});\n",
       "\n",
       "// Listen for the removal of the full notebook cells\n",
       "var notebookContainer = gd.closest('#notebook-container');\n",
       "if (notebookContainer) {{\n",
       "    x.observe(notebookContainer, {childList: true});\n",
       "}}\n",
       "\n",
       "// Listen for the clearing of the current output cell\n",
       "var outputEl = gd.closest('.output');\n",
       "if (outputEl) {{\n",
       "    x.observe(outputEl, {childList: true});\n",
       "}}\n",
       "\n",
       "                        })                };                });            </script>        </div>"
      ]
     },
     "metadata": {},
     "output_type": "display_data"
    }
   ],
   "source": [
    "fig=px.bar(df_ysm,x=\"variable\",y=\"percentage\",color=\"Source\",facet_row=\"year\",barmode=\"group\",height=600,width=800) #,facet_row=\"year\"\n",
    "fig.update_xaxes(ticktext=[\"IPC2-\",\"IPC3\",\"IPC4\",\"IPC5\"],tickvals=[\"CS_2-_perc\",\"CS_3_perc\",\"CS_4_perc\",\"CS_5_perc\"])\n",
    "fig.show()"
   ]
  },
  {
   "cell_type": "code",
   "execution_count": 727,
   "metadata": {},
   "outputs": [
    {
     "data": {
      "text/plain": [
       "CS_1_perc    41.00\n",
       "CS_2_perc    32.25\n",
       "CS_3_perc    22.50\n",
       "CS_4_perc     4.25\n",
       "CS_5_perc     0.00\n",
       "dtype: float64"
      ]
     },
     "execution_count": 727,
     "metadata": {},
     "output_type": "execute_result"
    }
   ],
   "source": [
    "df_cady[(df_cady.Source==\"GlobalIPC\")][[f\"CS_{i}_perc\" for i in range(1,6)]].sum()/len(df_cady[df_cady.Source==\"GlobalIPC\"])"
   ]
  },
  {
   "cell_type": "code",
   "execution_count": 728,
   "metadata": {},
   "outputs": [],
   "source": [
    "# labels = [f\"CS_{i}_perc\" for i in range(1,6)]\n",
    "# men_means = df_cadyg[(df_cadyg.Source==\"GlobalIPC\")][[f\"CS_{i}_perc\" for i in range(1,6)]].values[0]\n",
    "# # print(men_means.values[0])\n",
    "# women_means = df_cadyg[(df_cadyg.Source==\"FewsNet\")][[f\"CS_{i}_perc\" for i in range(1,6)]].values[0]\n",
    "\n",
    "# x = np.arange(len(labels))  # the label locations\n",
    "# width = 0.35  # the width of the bars\n",
    "\n",
    "# fig, ax = plt.subplots()\n",
    "# rects1 = ax.bar(x - width/2, men_means, width, label='GlobalIPC')\n",
    "# rects2 = ax.bar(x + width/2, women_means, width, label='FewsNet')\n",
    "\n",
    "# # Add some text for labels, title and custom x-axis tick labels, etc.\n",
    "# ax.set_ylabel('Scores')\n",
    "# ax.set_title('Scores by group and gender')\n",
    "# ax.set_xticks(x)\n",
    "# ax.set_xticklabels(labels)\n",
    "# ax.legend()"
   ]
  },
  {
   "cell_type": "code",
   "execution_count": 729,
   "metadata": {},
   "outputs": [
    {
     "data": {
      "text/html": [
       "<div>\n",
       "<style scoped>\n",
       "    .dataframe tbody tr th:only-of-type {\n",
       "        vertical-align: middle;\n",
       "    }\n",
       "\n",
       "    .dataframe tbody tr th {\n",
       "        vertical-align: top;\n",
       "    }\n",
       "\n",
       "    .dataframe thead th {\n",
       "        text-align: right;\n",
       "    }\n",
       "</style>\n",
       "<table border=\"1\" class=\"dataframe\">\n",
       "  <thead>\n",
       "    <tr style=\"text-align: right;\">\n",
       "      <th></th>\n",
       "      <th>ADMIN1</th>\n",
       "      <th>date</th>\n",
       "      <th>Country Population</th>\n",
       "      <th>pop_CS</th>\n",
       "      <th>CS_1</th>\n",
       "      <th>CS_1_perc</th>\n",
       "      <th>CS_2</th>\n",
       "      <th>CS_2_perc</th>\n",
       "      <th>CS_3</th>\n",
       "      <th>CS_3_perc</th>\n",
       "      <th>...</th>\n",
       "      <th>CS_2-</th>\n",
       "      <th>CS_2-_perc</th>\n",
       "      <th>ML1_3+</th>\n",
       "      <th>ML1_3+_perc</th>\n",
       "      <th>ML1_2-</th>\n",
       "      <th>ML1_2-_perc</th>\n",
       "      <th>ML2_3+</th>\n",
       "      <th>ML2_3+_perc</th>\n",
       "      <th>ML2_2-</th>\n",
       "      <th>ML2_2-_perc</th>\n",
       "    </tr>\n",
       "  </thead>\n",
       "  <tbody>\n",
       "    <tr>\n",
       "      <th>1</th>\n",
       "      <td>Afar</td>\n",
       "      <td>2019-10-01</td>\n",
       "      <td>112078686.0</td>\n",
       "      <td>2149607.0</td>\n",
       "      <td>0.0</td>\n",
       "      <td>0.000000</td>\n",
       "      <td>1279771.0</td>\n",
       "      <td>59.535115</td>\n",
       "      <td>869836.0</td>\n",
       "      <td>40.464885</td>\n",
       "      <td>...</td>\n",
       "      <td>1279771.0</td>\n",
       "      <td>59.535115</td>\n",
       "      <td>869836.0</td>\n",
       "      <td>40.464885</td>\n",
       "      <td>1279771.0</td>\n",
       "      <td>59.535115</td>\n",
       "      <td>869836.0</td>\n",
       "      <td>40.464885</td>\n",
       "      <td>1279771.0</td>\n",
       "      <td>59.535115</td>\n",
       "    </tr>\n",
       "    <tr>\n",
       "      <th>7</th>\n",
       "      <td>Afar</td>\n",
       "      <td>2019-09-01</td>\n",
       "      <td>112079000.0</td>\n",
       "      <td>1513546.0</td>\n",
       "      <td>620157.0</td>\n",
       "      <td>40.000000</td>\n",
       "      <td>520180.0</td>\n",
       "      <td>36.000000</td>\n",
       "      <td>313633.0</td>\n",
       "      <td>21.000000</td>\n",
       "      <td>...</td>\n",
       "      <td>1140337.0</td>\n",
       "      <td>75.342077</td>\n",
       "      <td>476948.0</td>\n",
       "      <td>31.511959</td>\n",
       "      <td>1036598.0</td>\n",
       "      <td>68.488041</td>\n",
       "      <td>341222.0</td>\n",
       "      <td>22.207181</td>\n",
       "      <td>1195317.0</td>\n",
       "      <td>77.792819</td>\n",
       "    </tr>\n",
       "    <tr>\n",
       "      <th>2</th>\n",
       "      <td>Amhara</td>\n",
       "      <td>2019-10-01</td>\n",
       "      <td>112078686.0</td>\n",
       "      <td>24595678.0</td>\n",
       "      <td>14526586.0</td>\n",
       "      <td>59.061539</td>\n",
       "      <td>9486141.0</td>\n",
       "      <td>38.568325</td>\n",
       "      <td>582951.0</td>\n",
       "      <td>2.370136</td>\n",
       "      <td>...</td>\n",
       "      <td>24012727.0</td>\n",
       "      <td>97.629864</td>\n",
       "      <td>0.0</td>\n",
       "      <td>0.000000</td>\n",
       "      <td>24595678.0</td>\n",
       "      <td>100.000000</td>\n",
       "      <td>3435263.0</td>\n",
       "      <td>13.966938</td>\n",
       "      <td>21160415.0</td>\n",
       "      <td>86.033062</td>\n",
       "    </tr>\n",
       "    <tr>\n",
       "      <th>8</th>\n",
       "      <td>Amhara</td>\n",
       "      <td>2019-09-01</td>\n",
       "      <td>112079000.0</td>\n",
       "      <td>3457931.0</td>\n",
       "      <td>1763232.0</td>\n",
       "      <td>53.000000</td>\n",
       "      <td>871182.0</td>\n",
       "      <td>26.000000</td>\n",
       "      <td>594367.0</td>\n",
       "      <td>15.000000</td>\n",
       "      <td>...</td>\n",
       "      <td>2634414.0</td>\n",
       "      <td>76.184690</td>\n",
       "      <td>506654.0</td>\n",
       "      <td>14.651941</td>\n",
       "      <td>2951278.0</td>\n",
       "      <td>85.348088</td>\n",
       "      <td>903558.0</td>\n",
       "      <td>25.942982</td>\n",
       "      <td>2579303.0</td>\n",
       "      <td>74.057018</td>\n",
       "    </tr>\n",
       "    <tr>\n",
       "      <th>7</th>\n",
       "      <td>Oromia</td>\n",
       "      <td>2019-10-01</td>\n",
       "      <td>112078686.0</td>\n",
       "      <td>42715654.0</td>\n",
       "      <td>27272426.0</td>\n",
       "      <td>63.846444</td>\n",
       "      <td>6191962.0</td>\n",
       "      <td>14.495768</td>\n",
       "      <td>9251266.0</td>\n",
       "      <td>21.657789</td>\n",
       "      <td>...</td>\n",
       "      <td>33464388.0</td>\n",
       "      <td>78.342211</td>\n",
       "      <td>8025229.0</td>\n",
       "      <td>18.787560</td>\n",
       "      <td>34690425.0</td>\n",
       "      <td>81.212440</td>\n",
       "      <td>9251266.0</td>\n",
       "      <td>21.657789</td>\n",
       "      <td>33464388.0</td>\n",
       "      <td>78.342211</td>\n",
       "    </tr>\n",
       "    <tr>\n",
       "      <th>8</th>\n",
       "      <td>SNNP</td>\n",
       "      <td>2019-10-01</td>\n",
       "      <td>112078686.0</td>\n",
       "      <td>22871531.0</td>\n",
       "      <td>12337603.0</td>\n",
       "      <td>53.943057</td>\n",
       "      <td>9256369.0</td>\n",
       "      <td>40.471139</td>\n",
       "      <td>1277559.0</td>\n",
       "      <td>5.585804</td>\n",
       "      <td>...</td>\n",
       "      <td>21593972.0</td>\n",
       "      <td>94.414196</td>\n",
       "      <td>0.0</td>\n",
       "      <td>0.000000</td>\n",
       "      <td>22871531.0</td>\n",
       "      <td>100.000000</td>\n",
       "      <td>3884191.0</td>\n",
       "      <td>16.982645</td>\n",
       "      <td>18987340.0</td>\n",
       "      <td>83.017355</td>\n",
       "    </tr>\n",
       "    <tr>\n",
       "      <th>9</th>\n",
       "      <td>Somali</td>\n",
       "      <td>2019-10-01</td>\n",
       "      <td>112078686.0</td>\n",
       "      <td>7016777.0</td>\n",
       "      <td>0.0</td>\n",
       "      <td>0.000000</td>\n",
       "      <td>2129864.0</td>\n",
       "      <td>30.353879</td>\n",
       "      <td>4886913.0</td>\n",
       "      <td>69.646121</td>\n",
       "      <td>...</td>\n",
       "      <td>2129864.0</td>\n",
       "      <td>30.353879</td>\n",
       "      <td>1634928.0</td>\n",
       "      <td>23.300270</td>\n",
       "      <td>5381849.0</td>\n",
       "      <td>76.699730</td>\n",
       "      <td>1389741.0</td>\n",
       "      <td>19.805974</td>\n",
       "      <td>5627036.0</td>\n",
       "      <td>80.194026</td>\n",
       "    </tr>\n",
       "    <tr>\n",
       "      <th>11</th>\n",
       "      <td>Somali</td>\n",
       "      <td>2019-09-01</td>\n",
       "      <td>112079000.0</td>\n",
       "      <td>5158000.0</td>\n",
       "      <td>1474153.0</td>\n",
       "      <td>27.000000</td>\n",
       "      <td>1906823.0</td>\n",
       "      <td>38.000000</td>\n",
       "      <td>1533970.0</td>\n",
       "      <td>30.000000</td>\n",
       "      <td>...</td>\n",
       "      <td>3380976.0</td>\n",
       "      <td>65.548197</td>\n",
       "      <td>1501218.0</td>\n",
       "      <td>29.104653</td>\n",
       "      <td>3656783.0</td>\n",
       "      <td>70.895366</td>\n",
       "      <td>1584274.0</td>\n",
       "      <td>30.005184</td>\n",
       "      <td>3695727.0</td>\n",
       "      <td>69.994816</td>\n",
       "    </tr>\n",
       "    <tr>\n",
       "      <th>10</th>\n",
       "      <td>Tigray</td>\n",
       "      <td>2019-10-01</td>\n",
       "      <td>112078686.0</td>\n",
       "      <td>6046935.0</td>\n",
       "      <td>3540435.0</td>\n",
       "      <td>58.549249</td>\n",
       "      <td>1445414.0</td>\n",
       "      <td>23.903250</td>\n",
       "      <td>1061086.0</td>\n",
       "      <td>17.547501</td>\n",
       "      <td>...</td>\n",
       "      <td>4985849.0</td>\n",
       "      <td>82.452499</td>\n",
       "      <td>0.0</td>\n",
       "      <td>0.000000</td>\n",
       "      <td>6046935.0</td>\n",
       "      <td>100.000000</td>\n",
       "      <td>1910295.0</td>\n",
       "      <td>31.591128</td>\n",
       "      <td>4136640.0</td>\n",
       "      <td>68.408872</td>\n",
       "    </tr>\n",
       "    <tr>\n",
       "      <th>12</th>\n",
       "      <td>Tigray</td>\n",
       "      <td>2019-09-01</td>\n",
       "      <td>112079000.0</td>\n",
       "      <td>1499302.0</td>\n",
       "      <td>684329.0</td>\n",
       "      <td>44.000000</td>\n",
       "      <td>413821.0</td>\n",
       "      <td>29.000000</td>\n",
       "      <td>369046.0</td>\n",
       "      <td>24.000000</td>\n",
       "      <td>...</td>\n",
       "      <td>1098150.0</td>\n",
       "      <td>73.244083</td>\n",
       "      <td>196353.0</td>\n",
       "      <td>13.096294</td>\n",
       "      <td>1302949.0</td>\n",
       "      <td>86.903706</td>\n",
       "      <td>258579.0</td>\n",
       "      <td>17.154156</td>\n",
       "      <td>1248804.0</td>\n",
       "      <td>82.845778</td>\n",
       "    </tr>\n",
       "  </tbody>\n",
       "</table>\n",
       "<p>10 rows × 53 columns</p>\n",
       "</div>"
      ],
      "text/plain": [
       "    ADMIN1       date  Country Population      pop_CS        CS_1  CS_1_perc  \\\n",
       "1     Afar 2019-10-01         112078686.0   2149607.0         0.0   0.000000   \n",
       "7     Afar 2019-09-01         112079000.0   1513546.0    620157.0  40.000000   \n",
       "2   Amhara 2019-10-01         112078686.0  24595678.0  14526586.0  59.061539   \n",
       "8   Amhara 2019-09-01         112079000.0   3457931.0   1763232.0  53.000000   \n",
       "7   Oromia 2019-10-01         112078686.0  42715654.0  27272426.0  63.846444   \n",
       "8     SNNP 2019-10-01         112078686.0  22871531.0  12337603.0  53.943057   \n",
       "9   Somali 2019-10-01         112078686.0   7016777.0         0.0   0.000000   \n",
       "11  Somali 2019-09-01         112079000.0   5158000.0   1474153.0  27.000000   \n",
       "10  Tigray 2019-10-01         112078686.0   6046935.0   3540435.0  58.549249   \n",
       "12  Tigray 2019-09-01         112079000.0   1499302.0    684329.0  44.000000   \n",
       "\n",
       "         CS_2  CS_2_perc       CS_3  CS_3_perc  ...       CS_2-  CS_2-_perc  \\\n",
       "1   1279771.0  59.535115   869836.0  40.464885  ...   1279771.0   59.535115   \n",
       "7    520180.0  36.000000   313633.0  21.000000  ...   1140337.0   75.342077   \n",
       "2   9486141.0  38.568325   582951.0   2.370136  ...  24012727.0   97.629864   \n",
       "8    871182.0  26.000000   594367.0  15.000000  ...   2634414.0   76.184690   \n",
       "7   6191962.0  14.495768  9251266.0  21.657789  ...  33464388.0   78.342211   \n",
       "8   9256369.0  40.471139  1277559.0   5.585804  ...  21593972.0   94.414196   \n",
       "9   2129864.0  30.353879  4886913.0  69.646121  ...   2129864.0   30.353879   \n",
       "11  1906823.0  38.000000  1533970.0  30.000000  ...   3380976.0   65.548197   \n",
       "10  1445414.0  23.903250  1061086.0  17.547501  ...   4985849.0   82.452499   \n",
       "12   413821.0  29.000000   369046.0  24.000000  ...   1098150.0   73.244083   \n",
       "\n",
       "       ML1_3+  ML1_3+_perc      ML1_2-  ML1_2-_perc     ML2_3+  ML2_3+_perc  \\\n",
       "1    869836.0    40.464885   1279771.0    59.535115   869836.0    40.464885   \n",
       "7    476948.0    31.511959   1036598.0    68.488041   341222.0    22.207181   \n",
       "2         0.0     0.000000  24595678.0   100.000000  3435263.0    13.966938   \n",
       "8    506654.0    14.651941   2951278.0    85.348088   903558.0    25.942982   \n",
       "7   8025229.0    18.787560  34690425.0    81.212440  9251266.0    21.657789   \n",
       "8         0.0     0.000000  22871531.0   100.000000  3884191.0    16.982645   \n",
       "9   1634928.0    23.300270   5381849.0    76.699730  1389741.0    19.805974   \n",
       "11  1501218.0    29.104653   3656783.0    70.895366  1584274.0    30.005184   \n",
       "10        0.0     0.000000   6046935.0   100.000000  1910295.0    31.591128   \n",
       "12   196353.0    13.096294   1302949.0    86.903706   258579.0    17.154156   \n",
       "\n",
       "        ML2_2-  ML2_2-_perc  \n",
       "1    1279771.0    59.535115  \n",
       "7    1195317.0    77.792819  \n",
       "2   21160415.0    86.033062  \n",
       "8    2579303.0    74.057018  \n",
       "7   33464388.0    78.342211  \n",
       "8   18987340.0    83.017355  \n",
       "9    5627036.0    80.194026  \n",
       "11   3695727.0    69.994816  \n",
       "10   4136640.0    68.408872  \n",
       "12   1248804.0    82.845778  \n",
       "\n",
       "[10 rows x 53 columns]"
      ]
     },
     "execution_count": 729,
     "metadata": {},
     "output_type": "execute_result"
    }
   ],
   "source": [
    "df_cady"
   ]
  },
  {
   "cell_type": "code",
   "execution_count": 730,
   "metadata": {},
   "outputs": [],
   "source": [
    "df_cs=df_cad[[\"Source\",\"ADMIN1\",\"year\"]+[f\"CS_{i}_perc\" for i in range(1,6)]]"
   ]
  },
  {
   "cell_type": "code",
   "execution_count": 731,
   "metadata": {},
   "outputs": [
    {
     "data": {
      "text/html": [
       "<div>\n",
       "<style scoped>\n",
       "    .dataframe tbody tr th:only-of-type {\n",
       "        vertical-align: middle;\n",
       "    }\n",
       "\n",
       "    .dataframe tbody tr th {\n",
       "        vertical-align: top;\n",
       "    }\n",
       "\n",
       "    .dataframe thead th {\n",
       "        text-align: right;\n",
       "    }\n",
       "</style>\n",
       "<table border=\"1\" class=\"dataframe\">\n",
       "  <thead>\n",
       "    <tr style=\"text-align: right;\">\n",
       "      <th></th>\n",
       "      <th>Source</th>\n",
       "      <th>ADMIN1</th>\n",
       "      <th>year</th>\n",
       "      <th>CS_1_perc</th>\n",
       "      <th>CS_2_perc</th>\n",
       "      <th>CS_3_perc</th>\n",
       "      <th>CS_4_perc</th>\n",
       "      <th>CS_5_perc</th>\n",
       "    </tr>\n",
       "  </thead>\n",
       "  <tbody>\n",
       "    <tr>\n",
       "      <th>1</th>\n",
       "      <td>FewsNet</td>\n",
       "      <td>Afar</td>\n",
       "      <td>2019</td>\n",
       "      <td>0.000000</td>\n",
       "      <td>59.535115</td>\n",
       "      <td>40.464885</td>\n",
       "      <td>0.0</td>\n",
       "      <td>0.0</td>\n",
       "    </tr>\n",
       "    <tr>\n",
       "      <th>7</th>\n",
       "      <td>GlobalIPC</td>\n",
       "      <td>Afar</td>\n",
       "      <td>2019</td>\n",
       "      <td>40.000000</td>\n",
       "      <td>36.000000</td>\n",
       "      <td>21.000000</td>\n",
       "      <td>3.0</td>\n",
       "      <td>0.0</td>\n",
       "    </tr>\n",
       "    <tr>\n",
       "      <th>2</th>\n",
       "      <td>FewsNet</td>\n",
       "      <td>Amhara</td>\n",
       "      <td>2019</td>\n",
       "      <td>59.061539</td>\n",
       "      <td>38.568325</td>\n",
       "      <td>2.370136</td>\n",
       "      <td>0.0</td>\n",
       "      <td>0.0</td>\n",
       "    </tr>\n",
       "    <tr>\n",
       "      <th>8</th>\n",
       "      <td>GlobalIPC</td>\n",
       "      <td>Amhara</td>\n",
       "      <td>2019</td>\n",
       "      <td>53.000000</td>\n",
       "      <td>26.000000</td>\n",
       "      <td>15.000000</td>\n",
       "      <td>6.0</td>\n",
       "      <td>0.0</td>\n",
       "    </tr>\n",
       "    <tr>\n",
       "      <th>7</th>\n",
       "      <td>FewsNet</td>\n",
       "      <td>Oromia</td>\n",
       "      <td>2019</td>\n",
       "      <td>63.846444</td>\n",
       "      <td>14.495768</td>\n",
       "      <td>21.657789</td>\n",
       "      <td>0.0</td>\n",
       "      <td>0.0</td>\n",
       "    </tr>\n",
       "    <tr>\n",
       "      <th>8</th>\n",
       "      <td>FewsNet</td>\n",
       "      <td>SNNP</td>\n",
       "      <td>2019</td>\n",
       "      <td>53.943057</td>\n",
       "      <td>40.471139</td>\n",
       "      <td>5.585804</td>\n",
       "      <td>0.0</td>\n",
       "      <td>0.0</td>\n",
       "    </tr>\n",
       "    <tr>\n",
       "      <th>9</th>\n",
       "      <td>FewsNet</td>\n",
       "      <td>Somali</td>\n",
       "      <td>2019</td>\n",
       "      <td>0.000000</td>\n",
       "      <td>30.353879</td>\n",
       "      <td>69.646121</td>\n",
       "      <td>0.0</td>\n",
       "      <td>0.0</td>\n",
       "    </tr>\n",
       "    <tr>\n",
       "      <th>11</th>\n",
       "      <td>GlobalIPC</td>\n",
       "      <td>Somali</td>\n",
       "      <td>2019</td>\n",
       "      <td>27.000000</td>\n",
       "      <td>38.000000</td>\n",
       "      <td>30.000000</td>\n",
       "      <td>5.0</td>\n",
       "      <td>0.0</td>\n",
       "    </tr>\n",
       "    <tr>\n",
       "      <th>10</th>\n",
       "      <td>FewsNet</td>\n",
       "      <td>Tigray</td>\n",
       "      <td>2019</td>\n",
       "      <td>58.549249</td>\n",
       "      <td>23.903250</td>\n",
       "      <td>17.547501</td>\n",
       "      <td>0.0</td>\n",
       "      <td>0.0</td>\n",
       "    </tr>\n",
       "    <tr>\n",
       "      <th>12</th>\n",
       "      <td>GlobalIPC</td>\n",
       "      <td>Tigray</td>\n",
       "      <td>2019</td>\n",
       "      <td>44.000000</td>\n",
       "      <td>29.000000</td>\n",
       "      <td>24.000000</td>\n",
       "      <td>3.0</td>\n",
       "      <td>0.0</td>\n",
       "    </tr>\n",
       "    <tr>\n",
       "      <th>12</th>\n",
       "      <td>FewsNet</td>\n",
       "      <td>Afar</td>\n",
       "      <td>2020</td>\n",
       "      <td>0.000000</td>\n",
       "      <td>59.535115</td>\n",
       "      <td>40.464885</td>\n",
       "      <td>0.0</td>\n",
       "      <td>0.0</td>\n",
       "    </tr>\n",
       "    <tr>\n",
       "      <th>0</th>\n",
       "      <td>GlobalIPC</td>\n",
       "      <td>Afar</td>\n",
       "      <td>2020</td>\n",
       "      <td>42.000000</td>\n",
       "      <td>34.000000</td>\n",
       "      <td>20.000000</td>\n",
       "      <td>4.0</td>\n",
       "      <td>0.0</td>\n",
       "    </tr>\n",
       "    <tr>\n",
       "      <th>13</th>\n",
       "      <td>FewsNet</td>\n",
       "      <td>Amhara</td>\n",
       "      <td>2020</td>\n",
       "      <td>68.043365</td>\n",
       "      <td>14.686076</td>\n",
       "      <td>17.270559</td>\n",
       "      <td>0.0</td>\n",
       "      <td>0.0</td>\n",
       "    </tr>\n",
       "    <tr>\n",
       "      <th>1</th>\n",
       "      <td>GlobalIPC</td>\n",
       "      <td>Amhara</td>\n",
       "      <td>2020</td>\n",
       "      <td>57.000000</td>\n",
       "      <td>28.000000</td>\n",
       "      <td>11.000000</td>\n",
       "      <td>3.0</td>\n",
       "      <td>0.0</td>\n",
       "    </tr>\n",
       "    <tr>\n",
       "      <th>18</th>\n",
       "      <td>FewsNet</td>\n",
       "      <td>Oromia</td>\n",
       "      <td>2020</td>\n",
       "      <td>69.750844</td>\n",
       "      <td>21.344091</td>\n",
       "      <td>8.905066</td>\n",
       "      <td>0.0</td>\n",
       "      <td>0.0</td>\n",
       "    </tr>\n",
       "    <tr>\n",
       "      <th>2</th>\n",
       "      <td>GlobalIPC</td>\n",
       "      <td>Oromia</td>\n",
       "      <td>2020</td>\n",
       "      <td>44.000000</td>\n",
       "      <td>33.000000</td>\n",
       "      <td>19.000000</td>\n",
       "      <td>3.0</td>\n",
       "      <td>0.0</td>\n",
       "    </tr>\n",
       "    <tr>\n",
       "      <th>19</th>\n",
       "      <td>FewsNet</td>\n",
       "      <td>SNNP</td>\n",
       "      <td>2020</td>\n",
       "      <td>21.586054</td>\n",
       "      <td>65.186192</td>\n",
       "      <td>13.227755</td>\n",
       "      <td>0.0</td>\n",
       "      <td>0.0</td>\n",
       "    </tr>\n",
       "    <tr>\n",
       "      <th>3</th>\n",
       "      <td>GlobalIPC</td>\n",
       "      <td>SNNP</td>\n",
       "      <td>2020</td>\n",
       "      <td>48.000000</td>\n",
       "      <td>32.000000</td>\n",
       "      <td>15.000000</td>\n",
       "      <td>4.0</td>\n",
       "      <td>0.0</td>\n",
       "    </tr>\n",
       "    <tr>\n",
       "      <th>20</th>\n",
       "      <td>FewsNet</td>\n",
       "      <td>Somali</td>\n",
       "      <td>2020</td>\n",
       "      <td>0.000000</td>\n",
       "      <td>51.200387</td>\n",
       "      <td>48.799613</td>\n",
       "      <td>0.0</td>\n",
       "      <td>0.0</td>\n",
       "    </tr>\n",
       "    <tr>\n",
       "      <th>5</th>\n",
       "      <td>GlobalIPC</td>\n",
       "      <td>Somali</td>\n",
       "      <td>2020</td>\n",
       "      <td>36.000000</td>\n",
       "      <td>37.000000</td>\n",
       "      <td>22.000000</td>\n",
       "      <td>5.0</td>\n",
       "      <td>0.0</td>\n",
       "    </tr>\n",
       "    <tr>\n",
       "      <th>21</th>\n",
       "      <td>FewsNet</td>\n",
       "      <td>Tigray</td>\n",
       "      <td>2020</td>\n",
       "      <td>32.706338</td>\n",
       "      <td>49.746161</td>\n",
       "      <td>17.547501</td>\n",
       "      <td>0.0</td>\n",
       "      <td>0.0</td>\n",
       "    </tr>\n",
       "    <tr>\n",
       "      <th>6</th>\n",
       "      <td>GlobalIPC</td>\n",
       "      <td>Tigray</td>\n",
       "      <td>2020</td>\n",
       "      <td>55.000000</td>\n",
       "      <td>35.000000</td>\n",
       "      <td>10.000000</td>\n",
       "      <td>0.0</td>\n",
       "      <td>0.0</td>\n",
       "    </tr>\n",
       "  </tbody>\n",
       "</table>\n",
       "</div>"
      ],
      "text/plain": [
       "       Source  ADMIN1  year  CS_1_perc  CS_2_perc  CS_3_perc  CS_4_perc  \\\n",
       "1     FewsNet    Afar  2019   0.000000  59.535115  40.464885        0.0   \n",
       "7   GlobalIPC    Afar  2019  40.000000  36.000000  21.000000        3.0   \n",
       "2     FewsNet  Amhara  2019  59.061539  38.568325   2.370136        0.0   \n",
       "8   GlobalIPC  Amhara  2019  53.000000  26.000000  15.000000        6.0   \n",
       "7     FewsNet  Oromia  2019  63.846444  14.495768  21.657789        0.0   \n",
       "8     FewsNet    SNNP  2019  53.943057  40.471139   5.585804        0.0   \n",
       "9     FewsNet  Somali  2019   0.000000  30.353879  69.646121        0.0   \n",
       "11  GlobalIPC  Somali  2019  27.000000  38.000000  30.000000        5.0   \n",
       "10    FewsNet  Tigray  2019  58.549249  23.903250  17.547501        0.0   \n",
       "12  GlobalIPC  Tigray  2019  44.000000  29.000000  24.000000        3.0   \n",
       "12    FewsNet    Afar  2020   0.000000  59.535115  40.464885        0.0   \n",
       "0   GlobalIPC    Afar  2020  42.000000  34.000000  20.000000        4.0   \n",
       "13    FewsNet  Amhara  2020  68.043365  14.686076  17.270559        0.0   \n",
       "1   GlobalIPC  Amhara  2020  57.000000  28.000000  11.000000        3.0   \n",
       "18    FewsNet  Oromia  2020  69.750844  21.344091   8.905066        0.0   \n",
       "2   GlobalIPC  Oromia  2020  44.000000  33.000000  19.000000        3.0   \n",
       "19    FewsNet    SNNP  2020  21.586054  65.186192  13.227755        0.0   \n",
       "3   GlobalIPC    SNNP  2020  48.000000  32.000000  15.000000        4.0   \n",
       "20    FewsNet  Somali  2020   0.000000  51.200387  48.799613        0.0   \n",
       "5   GlobalIPC  Somali  2020  36.000000  37.000000  22.000000        5.0   \n",
       "21    FewsNet  Tigray  2020  32.706338  49.746161  17.547501        0.0   \n",
       "6   GlobalIPC  Tigray  2020  55.000000  35.000000  10.000000        0.0   \n",
       "\n",
       "    CS_5_perc  \n",
       "1         0.0  \n",
       "7         0.0  \n",
       "2         0.0  \n",
       "8         0.0  \n",
       "7         0.0  \n",
       "8         0.0  \n",
       "9         0.0  \n",
       "11        0.0  \n",
       "10        0.0  \n",
       "12        0.0  \n",
       "12        0.0  \n",
       "0         0.0  \n",
       "13        0.0  \n",
       "1         0.0  \n",
       "18        0.0  \n",
       "2         0.0  \n",
       "19        0.0  \n",
       "3         0.0  \n",
       "20        0.0  \n",
       "5         0.0  \n",
       "21        0.0  \n",
       "6         0.0  "
      ]
     },
     "execution_count": 731,
     "metadata": {},
     "output_type": "execute_result"
    }
   ],
   "source": [
    "df_cs"
   ]
  },
  {
   "cell_type": "code",
   "execution_count": 732,
   "metadata": {},
   "outputs": [],
   "source": [
    "df_csm=df_cs.melt(id_vars=[\"Source\",\"ADMIN1\",\"year\"],value_name=\"percentage\")"
   ]
  },
  {
   "cell_type": "code",
   "execution_count": 733,
   "metadata": {},
   "outputs": [],
   "source": [
    "df_csm.percentage=df_csm.percentage*100"
   ]
  },
  {
   "cell_type": "code",
   "execution_count": 734,
   "metadata": {},
   "outputs": [
    {
     "data": {
      "text/html": [
       "<div>\n",
       "<style scoped>\n",
       "    .dataframe tbody tr th:only-of-type {\n",
       "        vertical-align: middle;\n",
       "    }\n",
       "\n",
       "    .dataframe tbody tr th {\n",
       "        vertical-align: top;\n",
       "    }\n",
       "\n",
       "    .dataframe thead th {\n",
       "        text-align: right;\n",
       "    }\n",
       "</style>\n",
       "<table border=\"1\" class=\"dataframe\">\n",
       "  <thead>\n",
       "    <tr style=\"text-align: right;\">\n",
       "      <th></th>\n",
       "      <th>Source</th>\n",
       "      <th>ADMIN1</th>\n",
       "      <th>year</th>\n",
       "      <th>variable</th>\n",
       "      <th>percentage</th>\n",
       "    </tr>\n",
       "  </thead>\n",
       "  <tbody>\n",
       "    <tr>\n",
       "      <th>0</th>\n",
       "      <td>FewsNet</td>\n",
       "      <td>Afar</td>\n",
       "      <td>2019</td>\n",
       "      <td>CS_1_perc</td>\n",
       "      <td>0.000000</td>\n",
       "    </tr>\n",
       "    <tr>\n",
       "      <th>1</th>\n",
       "      <td>GlobalIPC</td>\n",
       "      <td>Afar</td>\n",
       "      <td>2019</td>\n",
       "      <td>CS_1_perc</td>\n",
       "      <td>4000.000000</td>\n",
       "    </tr>\n",
       "    <tr>\n",
       "      <th>2</th>\n",
       "      <td>FewsNet</td>\n",
       "      <td>Amhara</td>\n",
       "      <td>2019</td>\n",
       "      <td>CS_1_perc</td>\n",
       "      <td>5906.153919</td>\n",
       "    </tr>\n",
       "    <tr>\n",
       "      <th>3</th>\n",
       "      <td>GlobalIPC</td>\n",
       "      <td>Amhara</td>\n",
       "      <td>2019</td>\n",
       "      <td>CS_1_perc</td>\n",
       "      <td>5300.000000</td>\n",
       "    </tr>\n",
       "    <tr>\n",
       "      <th>4</th>\n",
       "      <td>FewsNet</td>\n",
       "      <td>Oromia</td>\n",
       "      <td>2019</td>\n",
       "      <td>CS_1_perc</td>\n",
       "      <td>6384.644374</td>\n",
       "    </tr>\n",
       "    <tr>\n",
       "      <th>...</th>\n",
       "      <td>...</td>\n",
       "      <td>...</td>\n",
       "      <td>...</td>\n",
       "      <td>...</td>\n",
       "      <td>...</td>\n",
       "    </tr>\n",
       "    <tr>\n",
       "      <th>105</th>\n",
       "      <td>GlobalIPC</td>\n",
       "      <td>SNNP</td>\n",
       "      <td>2020</td>\n",
       "      <td>CS_5_perc</td>\n",
       "      <td>0.000000</td>\n",
       "    </tr>\n",
       "    <tr>\n",
       "      <th>106</th>\n",
       "      <td>FewsNet</td>\n",
       "      <td>Somali</td>\n",
       "      <td>2020</td>\n",
       "      <td>CS_5_perc</td>\n",
       "      <td>0.000000</td>\n",
       "    </tr>\n",
       "    <tr>\n",
       "      <th>107</th>\n",
       "      <td>GlobalIPC</td>\n",
       "      <td>Somali</td>\n",
       "      <td>2020</td>\n",
       "      <td>CS_5_perc</td>\n",
       "      <td>0.000000</td>\n",
       "    </tr>\n",
       "    <tr>\n",
       "      <th>108</th>\n",
       "      <td>FewsNet</td>\n",
       "      <td>Tigray</td>\n",
       "      <td>2020</td>\n",
       "      <td>CS_5_perc</td>\n",
       "      <td>0.000000</td>\n",
       "    </tr>\n",
       "    <tr>\n",
       "      <th>109</th>\n",
       "      <td>GlobalIPC</td>\n",
       "      <td>Tigray</td>\n",
       "      <td>2020</td>\n",
       "      <td>CS_5_perc</td>\n",
       "      <td>0.000000</td>\n",
       "    </tr>\n",
       "  </tbody>\n",
       "</table>\n",
       "<p>110 rows × 5 columns</p>\n",
       "</div>"
      ],
      "text/plain": [
       "        Source  ADMIN1  year   variable   percentage\n",
       "0      FewsNet    Afar  2019  CS_1_perc     0.000000\n",
       "1    GlobalIPC    Afar  2019  CS_1_perc  4000.000000\n",
       "2      FewsNet  Amhara  2019  CS_1_perc  5906.153919\n",
       "3    GlobalIPC  Amhara  2019  CS_1_perc  5300.000000\n",
       "4      FewsNet  Oromia  2019  CS_1_perc  6384.644374\n",
       "..         ...     ...   ...        ...          ...\n",
       "105  GlobalIPC    SNNP  2020  CS_5_perc     0.000000\n",
       "106    FewsNet  Somali  2020  CS_5_perc     0.000000\n",
       "107  GlobalIPC  Somali  2020  CS_5_perc     0.000000\n",
       "108    FewsNet  Tigray  2020  CS_5_perc     0.000000\n",
       "109  GlobalIPC  Tigray  2020  CS_5_perc     0.000000\n",
       "\n",
       "[110 rows x 5 columns]"
      ]
     },
     "execution_count": 734,
     "metadata": {},
     "output_type": "execute_result"
    }
   ],
   "source": [
    "df_csm"
   ]
  },
  {
   "cell_type": "code",
   "execution_count": 735,
   "metadata": {},
   "outputs": [
    {
     "data": {
      "text/plain": [
       "array([0.])"
      ]
     },
     "execution_count": 735,
     "metadata": {},
     "output_type": "execute_result"
    }
   ],
   "source": [
    "df_fews[df_fews.date.dt.year==2020].ML2_4.unique()"
   ]
  },
  {
   "cell_type": "code",
   "execution_count": 736,
   "metadata": {},
   "outputs": [
    {
     "data": {
      "application/vnd.plotly.v1+json": {
       "config": {
        "plotlyServerURL": "https://plot.ly"
       },
       "data": [
        {
         "alignmentgroup": "True",
         "hovertemplate": "Source=FewsNet<br>ADMIN1=Afar<br>variable=%{x}<br>percentage=%{y}<extra></extra>",
         "legendgroup": "FewsNet",
         "marker": {
          "color": "#636efa"
         },
         "name": "FewsNet",
         "offsetgroup": "FewsNet",
         "orientation": "v",
         "showlegend": true,
         "textposition": "auto",
         "type": "bar",
         "x": [
          "CS_1_perc",
          "CS_2_perc",
          "CS_3_perc",
          "CS_4_perc",
          "CS_5_perc"
         ],
         "xaxis": "x",
         "y": [
          0,
          5953.511502335078,
          4046.488497664922,
          0,
          0
         ],
         "yaxis": "y"
        },
        {
         "alignmentgroup": "True",
         "hovertemplate": "Source=FewsNet<br>ADMIN1=Amhara<br>variable=%{x}<br>percentage=%{y}<extra></extra>",
         "legendgroup": "FewsNet",
         "marker": {
          "color": "#636efa"
         },
         "name": "FewsNet",
         "offsetgroup": "FewsNet",
         "orientation": "v",
         "showlegend": false,
         "textposition": "auto",
         "type": "bar",
         "x": [
          "CS_1_perc",
          "CS_2_perc",
          "CS_3_perc",
          "CS_4_perc",
          "CS_5_perc"
         ],
         "xaxis": "x2",
         "y": [
          6804.336517984989,
          1468.607614719952,
          1727.055867295059,
          0,
          0
         ],
         "yaxis": "y2"
        },
        {
         "alignmentgroup": "True",
         "hovertemplate": "Source=FewsNet<br>ADMIN1=Oromia<br>variable=%{x}<br>percentage=%{y}<extra></extra>",
         "legendgroup": "FewsNet",
         "marker": {
          "color": "#636efa"
         },
         "name": "FewsNet",
         "offsetgroup": "FewsNet",
         "orientation": "v",
         "showlegend": false,
         "textposition": "auto",
         "type": "bar",
         "x": [
          "CS_1_perc",
          "CS_2_perc",
          "CS_3_perc",
          "CS_4_perc",
          "CS_5_perc"
         ],
         "xaxis": "x3",
         "y": [
          6975.084356662314,
          2134.4090857183173,
          890.5065576193682,
          0,
          0
         ],
         "yaxis": "y3"
        },
        {
         "alignmentgroup": "True",
         "hovertemplate": "Source=FewsNet<br>ADMIN1=SNNP<br>variable=%{x}<br>percentage=%{y}<extra></extra>",
         "legendgroup": "FewsNet",
         "marker": {
          "color": "#636efa"
         },
         "name": "FewsNet",
         "offsetgroup": "FewsNet",
         "orientation": "v",
         "showlegend": false,
         "textposition": "auto",
         "type": "bar",
         "x": [
          "CS_1_perc",
          "CS_2_perc",
          "CS_3_perc",
          "CS_4_perc",
          "CS_5_perc"
         ],
         "xaxis": "x4",
         "y": [
          2158.605385883437,
          6518.6191514682605,
          1322.775462648303,
          0,
          0
         ],
         "yaxis": "y4"
        },
        {
         "alignmentgroup": "True",
         "hovertemplate": "Source=FewsNet<br>ADMIN1=Somali<br>variable=%{x}<br>percentage=%{y}<extra></extra>",
         "legendgroup": "FewsNet",
         "marker": {
          "color": "#636efa"
         },
         "name": "FewsNet",
         "offsetgroup": "FewsNet",
         "orientation": "v",
         "showlegend": false,
         "textposition": "auto",
         "type": "bar",
         "x": [
          "CS_1_perc",
          "CS_2_perc",
          "CS_3_perc",
          "CS_4_perc",
          "CS_5_perc"
         ],
         "xaxis": "x5",
         "y": [
          0,
          5120.038730032322,
          4879.961269967678,
          0,
          0
         ],
         "yaxis": "y5"
        },
        {
         "alignmentgroup": "True",
         "hovertemplate": "Source=FewsNet<br>ADMIN1=Tigray<br>variable=%{x}<br>percentage=%{y}<extra></extra>",
         "legendgroup": "FewsNet",
         "marker": {
          "color": "#636efa"
         },
         "name": "FewsNet",
         "offsetgroup": "FewsNet",
         "orientation": "v",
         "showlegend": false,
         "textposition": "auto",
         "type": "bar",
         "x": [
          "CS_1_perc",
          "CS_2_perc",
          "CS_3_perc",
          "CS_4_perc",
          "CS_5_perc"
         ],
         "xaxis": "x6",
         "y": [
          3270.6338004294735,
          4974.616065825083,
          1754.750133745443,
          0,
          0
         ],
         "yaxis": "y6"
        },
        {
         "alignmentgroup": "True",
         "hovertemplate": "Source=GlobalIPC<br>ADMIN1=Afar<br>variable=%{x}<br>percentage=%{y}<extra></extra>",
         "legendgroup": "GlobalIPC",
         "marker": {
          "color": "#EF553B"
         },
         "name": "GlobalIPC",
         "offsetgroup": "GlobalIPC",
         "orientation": "v",
         "showlegend": true,
         "textposition": "auto",
         "type": "bar",
         "x": [
          "CS_1_perc",
          "CS_2_perc",
          "CS_3_perc",
          "CS_4_perc",
          "CS_5_perc"
         ],
         "xaxis": "x",
         "y": [
          4200,
          3400,
          2000,
          400,
          0
         ],
         "yaxis": "y"
        },
        {
         "alignmentgroup": "True",
         "hovertemplate": "Source=GlobalIPC<br>ADMIN1=Amhara<br>variable=%{x}<br>percentage=%{y}<extra></extra>",
         "legendgroup": "GlobalIPC",
         "marker": {
          "color": "#EF553B"
         },
         "name": "GlobalIPC",
         "offsetgroup": "GlobalIPC",
         "orientation": "v",
         "showlegend": false,
         "textposition": "auto",
         "type": "bar",
         "x": [
          "CS_1_perc",
          "CS_2_perc",
          "CS_3_perc",
          "CS_4_perc",
          "CS_5_perc"
         ],
         "xaxis": "x2",
         "y": [
          5700,
          2800,
          1100,
          300,
          0
         ],
         "yaxis": "y2"
        },
        {
         "alignmentgroup": "True",
         "hovertemplate": "Source=GlobalIPC<br>ADMIN1=Oromia<br>variable=%{x}<br>percentage=%{y}<extra></extra>",
         "legendgroup": "GlobalIPC",
         "marker": {
          "color": "#EF553B"
         },
         "name": "GlobalIPC",
         "offsetgroup": "GlobalIPC",
         "orientation": "v",
         "showlegend": false,
         "textposition": "auto",
         "type": "bar",
         "x": [
          "CS_1_perc",
          "CS_2_perc",
          "CS_3_perc",
          "CS_4_perc",
          "CS_5_perc"
         ],
         "xaxis": "x3",
         "y": [
          4400,
          3300,
          1900,
          300,
          0
         ],
         "yaxis": "y3"
        },
        {
         "alignmentgroup": "True",
         "hovertemplate": "Source=GlobalIPC<br>ADMIN1=SNNP<br>variable=%{x}<br>percentage=%{y}<extra></extra>",
         "legendgroup": "GlobalIPC",
         "marker": {
          "color": "#EF553B"
         },
         "name": "GlobalIPC",
         "offsetgroup": "GlobalIPC",
         "orientation": "v",
         "showlegend": false,
         "textposition": "auto",
         "type": "bar",
         "x": [
          "CS_1_perc",
          "CS_2_perc",
          "CS_3_perc",
          "CS_4_perc",
          "CS_5_perc"
         ],
         "xaxis": "x4",
         "y": [
          4800,
          3200,
          1500,
          400,
          0
         ],
         "yaxis": "y4"
        },
        {
         "alignmentgroup": "True",
         "hovertemplate": "Source=GlobalIPC<br>ADMIN1=Somali<br>variable=%{x}<br>percentage=%{y}<extra></extra>",
         "legendgroup": "GlobalIPC",
         "marker": {
          "color": "#EF553B"
         },
         "name": "GlobalIPC",
         "offsetgroup": "GlobalIPC",
         "orientation": "v",
         "showlegend": false,
         "textposition": "auto",
         "type": "bar",
         "x": [
          "CS_1_perc",
          "CS_2_perc",
          "CS_3_perc",
          "CS_4_perc",
          "CS_5_perc"
         ],
         "xaxis": "x5",
         "y": [
          3600,
          3700,
          2200,
          500,
          0
         ],
         "yaxis": "y5"
        },
        {
         "alignmentgroup": "True",
         "hovertemplate": "Source=GlobalIPC<br>ADMIN1=Tigray<br>variable=%{x}<br>percentage=%{y}<extra></extra>",
         "legendgroup": "GlobalIPC",
         "marker": {
          "color": "#EF553B"
         },
         "name": "GlobalIPC",
         "offsetgroup": "GlobalIPC",
         "orientation": "v",
         "showlegend": false,
         "textposition": "auto",
         "type": "bar",
         "x": [
          "CS_1_perc",
          "CS_2_perc",
          "CS_3_perc",
          "CS_4_perc",
          "CS_5_perc"
         ],
         "xaxis": "x6",
         "y": [
          5500,
          3500,
          1000,
          0,
          0
         ],
         "yaxis": "y6"
        }
       ],
       "layout": {
        "annotations": [
         {
          "font": {},
          "showarrow": false,
          "text": "ADMIN1=Afar",
          "x": 0.075,
          "xanchor": "center",
          "xref": "paper",
          "y": 1,
          "yanchor": "bottom",
          "yref": "paper"
         },
         {
          "font": {},
          "showarrow": false,
          "text": "ADMIN1=Amhara",
          "x": 0.24499999999999997,
          "xanchor": "center",
          "xref": "paper",
          "y": 1,
          "yanchor": "bottom",
          "yref": "paper"
         },
         {
          "font": {},
          "showarrow": false,
          "text": "ADMIN1=Oromia",
          "x": 0.415,
          "xanchor": "center",
          "xref": "paper",
          "y": 1,
          "yanchor": "bottom",
          "yref": "paper"
         },
         {
          "font": {},
          "showarrow": false,
          "text": "ADMIN1=SNNP",
          "x": 0.585,
          "xanchor": "center",
          "xref": "paper",
          "y": 1,
          "yanchor": "bottom",
          "yref": "paper"
         },
         {
          "font": {},
          "showarrow": false,
          "text": "ADMIN1=Somali",
          "x": 0.7549999999999999,
          "xanchor": "center",
          "xref": "paper",
          "y": 1,
          "yanchor": "bottom",
          "yref": "paper"
         },
         {
          "font": {},
          "showarrow": false,
          "text": "ADMIN1=Tigray",
          "x": 0.925,
          "xanchor": "center",
          "xref": "paper",
          "y": 1,
          "yanchor": "bottom",
          "yref": "paper"
         }
        ],
        "barmode": "group",
        "height": 300,
        "legend": {
         "title": {
          "text": "Source"
         },
         "tracegroupgap": 0
        },
        "margin": {
         "t": 60
        },
        "template": {
         "data": {
          "bar": [
           {
            "error_x": {
             "color": "#2a3f5f"
            },
            "error_y": {
             "color": "#2a3f5f"
            },
            "marker": {
             "line": {
              "color": "#E5ECF6",
              "width": 0.5
             }
            },
            "type": "bar"
           }
          ],
          "barpolar": [
           {
            "marker": {
             "line": {
              "color": "#E5ECF6",
              "width": 0.5
             }
            },
            "type": "barpolar"
           }
          ],
          "carpet": [
           {
            "aaxis": {
             "endlinecolor": "#2a3f5f",
             "gridcolor": "white",
             "linecolor": "white",
             "minorgridcolor": "white",
             "startlinecolor": "#2a3f5f"
            },
            "baxis": {
             "endlinecolor": "#2a3f5f",
             "gridcolor": "white",
             "linecolor": "white",
             "minorgridcolor": "white",
             "startlinecolor": "#2a3f5f"
            },
            "type": "carpet"
           }
          ],
          "choropleth": [
           {
            "colorbar": {
             "outlinewidth": 0,
             "ticks": ""
            },
            "type": "choropleth"
           }
          ],
          "contour": [
           {
            "colorbar": {
             "outlinewidth": 0,
             "ticks": ""
            },
            "colorscale": [
             [
              0,
              "#0d0887"
             ],
             [
              0.1111111111111111,
              "#46039f"
             ],
             [
              0.2222222222222222,
              "#7201a8"
             ],
             [
              0.3333333333333333,
              "#9c179e"
             ],
             [
              0.4444444444444444,
              "#bd3786"
             ],
             [
              0.5555555555555556,
              "#d8576b"
             ],
             [
              0.6666666666666666,
              "#ed7953"
             ],
             [
              0.7777777777777778,
              "#fb9f3a"
             ],
             [
              0.8888888888888888,
              "#fdca26"
             ],
             [
              1,
              "#f0f921"
             ]
            ],
            "type": "contour"
           }
          ],
          "contourcarpet": [
           {
            "colorbar": {
             "outlinewidth": 0,
             "ticks": ""
            },
            "type": "contourcarpet"
           }
          ],
          "heatmap": [
           {
            "colorbar": {
             "outlinewidth": 0,
             "ticks": ""
            },
            "colorscale": [
             [
              0,
              "#0d0887"
             ],
             [
              0.1111111111111111,
              "#46039f"
             ],
             [
              0.2222222222222222,
              "#7201a8"
             ],
             [
              0.3333333333333333,
              "#9c179e"
             ],
             [
              0.4444444444444444,
              "#bd3786"
             ],
             [
              0.5555555555555556,
              "#d8576b"
             ],
             [
              0.6666666666666666,
              "#ed7953"
             ],
             [
              0.7777777777777778,
              "#fb9f3a"
             ],
             [
              0.8888888888888888,
              "#fdca26"
             ],
             [
              1,
              "#f0f921"
             ]
            ],
            "type": "heatmap"
           }
          ],
          "heatmapgl": [
           {
            "colorbar": {
             "outlinewidth": 0,
             "ticks": ""
            },
            "colorscale": [
             [
              0,
              "#0d0887"
             ],
             [
              0.1111111111111111,
              "#46039f"
             ],
             [
              0.2222222222222222,
              "#7201a8"
             ],
             [
              0.3333333333333333,
              "#9c179e"
             ],
             [
              0.4444444444444444,
              "#bd3786"
             ],
             [
              0.5555555555555556,
              "#d8576b"
             ],
             [
              0.6666666666666666,
              "#ed7953"
             ],
             [
              0.7777777777777778,
              "#fb9f3a"
             ],
             [
              0.8888888888888888,
              "#fdca26"
             ],
             [
              1,
              "#f0f921"
             ]
            ],
            "type": "heatmapgl"
           }
          ],
          "histogram": [
           {
            "marker": {
             "colorbar": {
              "outlinewidth": 0,
              "ticks": ""
             }
            },
            "type": "histogram"
           }
          ],
          "histogram2d": [
           {
            "colorbar": {
             "outlinewidth": 0,
             "ticks": ""
            },
            "colorscale": [
             [
              0,
              "#0d0887"
             ],
             [
              0.1111111111111111,
              "#46039f"
             ],
             [
              0.2222222222222222,
              "#7201a8"
             ],
             [
              0.3333333333333333,
              "#9c179e"
             ],
             [
              0.4444444444444444,
              "#bd3786"
             ],
             [
              0.5555555555555556,
              "#d8576b"
             ],
             [
              0.6666666666666666,
              "#ed7953"
             ],
             [
              0.7777777777777778,
              "#fb9f3a"
             ],
             [
              0.8888888888888888,
              "#fdca26"
             ],
             [
              1,
              "#f0f921"
             ]
            ],
            "type": "histogram2d"
           }
          ],
          "histogram2dcontour": [
           {
            "colorbar": {
             "outlinewidth": 0,
             "ticks": ""
            },
            "colorscale": [
             [
              0,
              "#0d0887"
             ],
             [
              0.1111111111111111,
              "#46039f"
             ],
             [
              0.2222222222222222,
              "#7201a8"
             ],
             [
              0.3333333333333333,
              "#9c179e"
             ],
             [
              0.4444444444444444,
              "#bd3786"
             ],
             [
              0.5555555555555556,
              "#d8576b"
             ],
             [
              0.6666666666666666,
              "#ed7953"
             ],
             [
              0.7777777777777778,
              "#fb9f3a"
             ],
             [
              0.8888888888888888,
              "#fdca26"
             ],
             [
              1,
              "#f0f921"
             ]
            ],
            "type": "histogram2dcontour"
           }
          ],
          "mesh3d": [
           {
            "colorbar": {
             "outlinewidth": 0,
             "ticks": ""
            },
            "type": "mesh3d"
           }
          ],
          "parcoords": [
           {
            "line": {
             "colorbar": {
              "outlinewidth": 0,
              "ticks": ""
             }
            },
            "type": "parcoords"
           }
          ],
          "pie": [
           {
            "automargin": true,
            "type": "pie"
           }
          ],
          "scatter": [
           {
            "marker": {
             "colorbar": {
              "outlinewidth": 0,
              "ticks": ""
             }
            },
            "type": "scatter"
           }
          ],
          "scatter3d": [
           {
            "line": {
             "colorbar": {
              "outlinewidth": 0,
              "ticks": ""
             }
            },
            "marker": {
             "colorbar": {
              "outlinewidth": 0,
              "ticks": ""
             }
            },
            "type": "scatter3d"
           }
          ],
          "scattercarpet": [
           {
            "marker": {
             "colorbar": {
              "outlinewidth": 0,
              "ticks": ""
             }
            },
            "type": "scattercarpet"
           }
          ],
          "scattergeo": [
           {
            "marker": {
             "colorbar": {
              "outlinewidth": 0,
              "ticks": ""
             }
            },
            "type": "scattergeo"
           }
          ],
          "scattergl": [
           {
            "marker": {
             "colorbar": {
              "outlinewidth": 0,
              "ticks": ""
             }
            },
            "type": "scattergl"
           }
          ],
          "scattermapbox": [
           {
            "marker": {
             "colorbar": {
              "outlinewidth": 0,
              "ticks": ""
             }
            },
            "type": "scattermapbox"
           }
          ],
          "scatterpolar": [
           {
            "marker": {
             "colorbar": {
              "outlinewidth": 0,
              "ticks": ""
             }
            },
            "type": "scatterpolar"
           }
          ],
          "scatterpolargl": [
           {
            "marker": {
             "colorbar": {
              "outlinewidth": 0,
              "ticks": ""
             }
            },
            "type": "scatterpolargl"
           }
          ],
          "scatterternary": [
           {
            "marker": {
             "colorbar": {
              "outlinewidth": 0,
              "ticks": ""
             }
            },
            "type": "scatterternary"
           }
          ],
          "surface": [
           {
            "colorbar": {
             "outlinewidth": 0,
             "ticks": ""
            },
            "colorscale": [
             [
              0,
              "#0d0887"
             ],
             [
              0.1111111111111111,
              "#46039f"
             ],
             [
              0.2222222222222222,
              "#7201a8"
             ],
             [
              0.3333333333333333,
              "#9c179e"
             ],
             [
              0.4444444444444444,
              "#bd3786"
             ],
             [
              0.5555555555555556,
              "#d8576b"
             ],
             [
              0.6666666666666666,
              "#ed7953"
             ],
             [
              0.7777777777777778,
              "#fb9f3a"
             ],
             [
              0.8888888888888888,
              "#fdca26"
             ],
             [
              1,
              "#f0f921"
             ]
            ],
            "type": "surface"
           }
          ],
          "table": [
           {
            "cells": {
             "fill": {
              "color": "#EBF0F8"
             },
             "line": {
              "color": "white"
             }
            },
            "header": {
             "fill": {
              "color": "#C8D4E3"
             },
             "line": {
              "color": "white"
             }
            },
            "type": "table"
           }
          ]
         },
         "layout": {
          "annotationdefaults": {
           "arrowcolor": "#2a3f5f",
           "arrowhead": 0,
           "arrowwidth": 1
          },
          "coloraxis": {
           "colorbar": {
            "outlinewidth": 0,
            "ticks": ""
           }
          },
          "colorscale": {
           "diverging": [
            [
             0,
             "#8e0152"
            ],
            [
             0.1,
             "#c51b7d"
            ],
            [
             0.2,
             "#de77ae"
            ],
            [
             0.3,
             "#f1b6da"
            ],
            [
             0.4,
             "#fde0ef"
            ],
            [
             0.5,
             "#f7f7f7"
            ],
            [
             0.6,
             "#e6f5d0"
            ],
            [
             0.7,
             "#b8e186"
            ],
            [
             0.8,
             "#7fbc41"
            ],
            [
             0.9,
             "#4d9221"
            ],
            [
             1,
             "#276419"
            ]
           ],
           "sequential": [
            [
             0,
             "#0d0887"
            ],
            [
             0.1111111111111111,
             "#46039f"
            ],
            [
             0.2222222222222222,
             "#7201a8"
            ],
            [
             0.3333333333333333,
             "#9c179e"
            ],
            [
             0.4444444444444444,
             "#bd3786"
            ],
            [
             0.5555555555555556,
             "#d8576b"
            ],
            [
             0.6666666666666666,
             "#ed7953"
            ],
            [
             0.7777777777777778,
             "#fb9f3a"
            ],
            [
             0.8888888888888888,
             "#fdca26"
            ],
            [
             1,
             "#f0f921"
            ]
           ],
           "sequentialminus": [
            [
             0,
             "#0d0887"
            ],
            [
             0.1111111111111111,
             "#46039f"
            ],
            [
             0.2222222222222222,
             "#7201a8"
            ],
            [
             0.3333333333333333,
             "#9c179e"
            ],
            [
             0.4444444444444444,
             "#bd3786"
            ],
            [
             0.5555555555555556,
             "#d8576b"
            ],
            [
             0.6666666666666666,
             "#ed7953"
            ],
            [
             0.7777777777777778,
             "#fb9f3a"
            ],
            [
             0.8888888888888888,
             "#fdca26"
            ],
            [
             1,
             "#f0f921"
            ]
           ]
          },
          "colorway": [
           "#636efa",
           "#EF553B",
           "#00cc96",
           "#ab63fa",
           "#FFA15A",
           "#19d3f3",
           "#FF6692",
           "#B6E880",
           "#FF97FF",
           "#FECB52"
          ],
          "font": {
           "color": "#2a3f5f"
          },
          "geo": {
           "bgcolor": "white",
           "lakecolor": "white",
           "landcolor": "#E5ECF6",
           "showlakes": true,
           "showland": true,
           "subunitcolor": "white"
          },
          "hoverlabel": {
           "align": "left"
          },
          "hovermode": "closest",
          "mapbox": {
           "style": "light"
          },
          "paper_bgcolor": "white",
          "plot_bgcolor": "#E5ECF6",
          "polar": {
           "angularaxis": {
            "gridcolor": "white",
            "linecolor": "white",
            "ticks": ""
           },
           "bgcolor": "#E5ECF6",
           "radialaxis": {
            "gridcolor": "white",
            "linecolor": "white",
            "ticks": ""
           }
          },
          "scene": {
           "xaxis": {
            "backgroundcolor": "#E5ECF6",
            "gridcolor": "white",
            "gridwidth": 2,
            "linecolor": "white",
            "showbackground": true,
            "ticks": "",
            "zerolinecolor": "white"
           },
           "yaxis": {
            "backgroundcolor": "#E5ECF6",
            "gridcolor": "white",
            "gridwidth": 2,
            "linecolor": "white",
            "showbackground": true,
            "ticks": "",
            "zerolinecolor": "white"
           },
           "zaxis": {
            "backgroundcolor": "#E5ECF6",
            "gridcolor": "white",
            "gridwidth": 2,
            "linecolor": "white",
            "showbackground": true,
            "ticks": "",
            "zerolinecolor": "white"
           }
          },
          "shapedefaults": {
           "line": {
            "color": "#2a3f5f"
           }
          },
          "ternary": {
           "aaxis": {
            "gridcolor": "white",
            "linecolor": "white",
            "ticks": ""
           },
           "baxis": {
            "gridcolor": "white",
            "linecolor": "white",
            "ticks": ""
           },
           "bgcolor": "#E5ECF6",
           "caxis": {
            "gridcolor": "white",
            "linecolor": "white",
            "ticks": ""
           }
          },
          "title": {
           "x": 0.05
          },
          "xaxis": {
           "automargin": true,
           "gridcolor": "white",
           "linecolor": "white",
           "ticks": "",
           "title": {
            "standoff": 15
           },
           "zerolinecolor": "white",
           "zerolinewidth": 2
          },
          "yaxis": {
           "automargin": true,
           "gridcolor": "white",
           "linecolor": "white",
           "ticks": "",
           "title": {
            "standoff": 15
           },
           "zerolinecolor": "white",
           "zerolinewidth": 2
          }
         }
        },
        "width": 1200,
        "xaxis": {
         "anchor": "y",
         "autorange": true,
         "domain": [
          0,
          0.15
         ],
         "range": [
          -0.5,
          4.5
         ],
         "title": {
          "text": "variable"
         },
         "type": "category"
        },
        "xaxis2": {
         "anchor": "y2",
         "autorange": true,
         "domain": [
          0.16999999999999998,
          0.31999999999999995
         ],
         "matches": "x",
         "range": [
          -0.5,
          4.5
         ],
         "title": {
          "text": "variable"
         },
         "type": "category"
        },
        "xaxis3": {
         "anchor": "y3",
         "autorange": true,
         "domain": [
          0.33999999999999997,
          0.49
         ],
         "matches": "x",
         "range": [
          -0.5,
          4.5
         ],
         "title": {
          "text": "variable"
         },
         "type": "category"
        },
        "xaxis4": {
         "anchor": "y4",
         "autorange": true,
         "domain": [
          0.51,
          0.66
         ],
         "matches": "x",
         "range": [
          -0.5,
          4.5
         ],
         "title": {
          "text": "variable"
         },
         "type": "category"
        },
        "xaxis5": {
         "anchor": "y5",
         "autorange": true,
         "domain": [
          0.6799999999999999,
          0.83
         ],
         "matches": "x",
         "range": [
          -0.5,
          4.5
         ],
         "title": {
          "text": "variable"
         },
         "type": "category"
        },
        "xaxis6": {
         "anchor": "y6",
         "autorange": true,
         "domain": [
          0.85,
          1
         ],
         "matches": "x",
         "range": [
          -0.5,
          4.5
         ],
         "title": {
          "text": "variable"
         },
         "type": "category"
        },
        "yaxis": {
         "anchor": "x",
         "autorange": true,
         "domain": [
          0,
          1
         ],
         "range": [
          0,
          7342.194059644541
         ],
         "title": {
          "text": "percentage"
         },
         "type": "linear"
        },
        "yaxis2": {
         "anchor": "x2",
         "autorange": true,
         "domain": [
          0,
          1
         ],
         "matches": "y",
         "range": [
          0,
          7342.194059644541
         ],
         "showticklabels": false,
         "type": "linear"
        },
        "yaxis3": {
         "anchor": "x3",
         "autorange": true,
         "domain": [
          0,
          1
         ],
         "matches": "y",
         "range": [
          0,
          7342.194059644541
         ],
         "showticklabels": false,
         "type": "linear"
        },
        "yaxis4": {
         "anchor": "x4",
         "autorange": true,
         "domain": [
          0,
          1
         ],
         "matches": "y",
         "range": [
          0,
          7342.194059644541
         ],
         "showticklabels": false,
         "type": "linear"
        },
        "yaxis5": {
         "anchor": "x5",
         "autorange": true,
         "domain": [
          0,
          1
         ],
         "matches": "y",
         "range": [
          0,
          7342.194059644541
         ],
         "showticklabels": false,
         "type": "linear"
        },
        "yaxis6": {
         "anchor": "x6",
         "autorange": true,
         "domain": [
          0,
          1
         ],
         "matches": "y",
         "range": [
          0,
          7342.194059644541
         ],
         "showticklabels": false,
         "type": "linear"
        }
       }
      },
      "image/png": "[encoded data removed]",
      "text/html": [
       "<div>                            <div id=\"98667147-0730-46c3-b9a5-6db69c1e4d3b\" class=\"plotly-graph-div\" style=\"height:300px; width:1200px;\"></div>            <script type=\"text/javascript\">                require([\"plotly\"], function(Plotly) {                    window.PLOTLYENV=window.PLOTLYENV || {};                                    if (document.getElementById(\"98667147-0730-46c3-b9a5-6db69c1e4d3b\")) {                    Plotly.newPlot(                        \"98667147-0730-46c3-b9a5-6db69c1e4d3b\",                        [{\"alignmentgroup\": \"True\", \"hovertemplate\": \"Source=FewsNet<br>ADMIN1=Afar<br>variable=%{x}<br>percentage=%{y}<extra></extra>\", \"legendgroup\": \"FewsNet\", \"marker\": {\"color\": \"#636efa\"}, \"name\": \"FewsNet\", \"offsetgroup\": \"FewsNet\", \"orientation\": \"v\", \"showlegend\": true, \"textposition\": \"auto\", \"type\": \"bar\", \"x\": [\"CS_1_perc\", \"CS_2_perc\", \"CS_3_perc\", \"CS_4_perc\", \"CS_5_perc\"], \"xaxis\": \"x\", \"y\": [0.0, 5953.511502335078, 4046.488497664922, 0.0, 0.0], \"yaxis\": \"y\"}, {\"alignmentgroup\": \"True\", \"hovertemplate\": \"Source=FewsNet<br>ADMIN1=Amhara<br>variable=%{x}<br>percentage=%{y}<extra></extra>\", \"legendgroup\": \"FewsNet\", \"marker\": {\"color\": \"#636efa\"}, \"name\": \"FewsNet\", \"offsetgroup\": \"FewsNet\", \"orientation\": \"v\", \"showlegend\": false, \"textposition\": \"auto\", \"type\": \"bar\", \"x\": [\"CS_1_perc\", \"CS_2_perc\", \"CS_3_perc\", \"CS_4_perc\", \"CS_5_perc\"], \"xaxis\": \"x2\", \"y\": [6804.336517984989, 1468.607614719952, 1727.055867295059, 0.0, 0.0], \"yaxis\": \"y2\"}, {\"alignmentgroup\": \"True\", \"hovertemplate\": \"Source=FewsNet<br>ADMIN1=Oromia<br>variable=%{x}<br>percentage=%{y}<extra></extra>\", \"legendgroup\": \"FewsNet\", \"marker\": {\"color\": \"#636efa\"}, \"name\": \"FewsNet\", \"offsetgroup\": \"FewsNet\", \"orientation\": \"v\", \"showlegend\": false, \"textposition\": \"auto\", \"type\": \"bar\", \"x\": [\"CS_1_perc\", \"CS_2_perc\", \"CS_3_perc\", \"CS_4_perc\", \"CS_5_perc\"], \"xaxis\": \"x3\", \"y\": [6975.084356662314, 2134.4090857183173, 890.5065576193682, 0.0, 0.0], \"yaxis\": \"y3\"}, {\"alignmentgroup\": \"True\", \"hovertemplate\": \"Source=FewsNet<br>ADMIN1=SNNP<br>variable=%{x}<br>percentage=%{y}<extra></extra>\", \"legendgroup\": \"FewsNet\", \"marker\": {\"color\": \"#636efa\"}, \"name\": \"FewsNet\", \"offsetgroup\": \"FewsNet\", \"orientation\": \"v\", \"showlegend\": false, \"textposition\": \"auto\", \"type\": \"bar\", \"x\": [\"CS_1_perc\", \"CS_2_perc\", \"CS_3_perc\", \"CS_4_perc\", \"CS_5_perc\"], \"xaxis\": \"x4\", \"y\": [2158.605385883437, 6518.6191514682605, 1322.775462648303, 0.0, 0.0], \"yaxis\": \"y4\"}, {\"alignmentgroup\": \"True\", \"hovertemplate\": \"Source=FewsNet<br>ADMIN1=Somali<br>variable=%{x}<br>percentage=%{y}<extra></extra>\", \"legendgroup\": \"FewsNet\", \"marker\": {\"color\": \"#636efa\"}, \"name\": \"FewsNet\", \"offsetgroup\": \"FewsNet\", \"orientation\": \"v\", \"showlegend\": false, \"textposition\": \"auto\", \"type\": \"bar\", \"x\": [\"CS_1_perc\", \"CS_2_perc\", \"CS_3_perc\", \"CS_4_perc\", \"CS_5_perc\"], \"xaxis\": \"x5\", \"y\": [0.0, 5120.038730032322, 4879.961269967678, 0.0, 0.0], \"yaxis\": \"y5\"}, {\"alignmentgroup\": \"True\", \"hovertemplate\": \"Source=FewsNet<br>ADMIN1=Tigray<br>variable=%{x}<br>percentage=%{y}<extra></extra>\", \"legendgroup\": \"FewsNet\", \"marker\": {\"color\": \"#636efa\"}, \"name\": \"FewsNet\", \"offsetgroup\": \"FewsNet\", \"orientation\": \"v\", \"showlegend\": false, \"textposition\": \"auto\", \"type\": \"bar\", \"x\": [\"CS_1_perc\", \"CS_2_perc\", \"CS_3_perc\", \"CS_4_perc\", \"CS_5_perc\"], \"xaxis\": \"x6\", \"y\": [3270.6338004294735, 4974.616065825083, 1754.750133745443, 0.0, 0.0], \"yaxis\": \"y6\"}, {\"alignmentgroup\": \"True\", \"hovertemplate\": \"Source=GlobalIPC<br>ADMIN1=Afar<br>variable=%{x}<br>percentage=%{y}<extra></extra>\", \"legendgroup\": \"GlobalIPC\", \"marker\": {\"color\": \"#EF553B\"}, \"name\": \"GlobalIPC\", \"offsetgroup\": \"GlobalIPC\", \"orientation\": \"v\", \"showlegend\": true, \"textposition\": \"auto\", \"type\": \"bar\", \"x\": [\"CS_1_perc\", \"CS_2_perc\", \"CS_3_perc\", \"CS_4_perc\", \"CS_5_perc\"], \"xaxis\": \"x\", \"y\": [4200.0, 3400.0, 2000.0, 400.0, 0.0], \"yaxis\": \"y\"}, {\"alignmentgroup\": \"True\", \"hovertemplate\": \"Source=GlobalIPC<br>ADMIN1=Amhara<br>variable=%{x}<br>percentage=%{y}<extra></extra>\", \"legendgroup\": \"GlobalIPC\", \"marker\": {\"color\": \"#EF553B\"}, \"name\": \"GlobalIPC\", \"offsetgroup\": \"GlobalIPC\", \"orientation\": \"v\", \"showlegend\": false, \"textposition\": \"auto\", \"type\": \"bar\", \"x\": [\"CS_1_perc\", \"CS_2_perc\", \"CS_3_perc\", \"CS_4_perc\", \"CS_5_perc\"], \"xaxis\": \"x2\", \"y\": [5700.0, 2800.0, 1100.0, 300.0, 0.0], \"yaxis\": \"y2\"}, {\"alignmentgroup\": \"True\", \"hovertemplate\": \"Source=GlobalIPC<br>ADMIN1=Oromia<br>variable=%{x}<br>percentage=%{y}<extra></extra>\", \"legendgroup\": \"GlobalIPC\", \"marker\": {\"color\": \"#EF553B\"}, \"name\": \"GlobalIPC\", \"offsetgroup\": \"GlobalIPC\", \"orientation\": \"v\", \"showlegend\": false, \"textposition\": \"auto\", \"type\": \"bar\", \"x\": [\"CS_1_perc\", \"CS_2_perc\", \"CS_3_perc\", \"CS_4_perc\", \"CS_5_perc\"], \"xaxis\": \"x3\", \"y\": [4400.0, 3300.0, 1900.0, 300.0, 0.0], \"yaxis\": \"y3\"}, {\"alignmentgroup\": \"True\", \"hovertemplate\": \"Source=GlobalIPC<br>ADMIN1=SNNP<br>variable=%{x}<br>percentage=%{y}<extra></extra>\", \"legendgroup\": \"GlobalIPC\", \"marker\": {\"color\": \"#EF553B\"}, \"name\": \"GlobalIPC\", \"offsetgroup\": \"GlobalIPC\", \"orientation\": \"v\", \"showlegend\": false, \"textposition\": \"auto\", \"type\": \"bar\", \"x\": [\"CS_1_perc\", \"CS_2_perc\", \"CS_3_perc\", \"CS_4_perc\", \"CS_5_perc\"], \"xaxis\": \"x4\", \"y\": [4800.0, 3200.0, 1500.0, 400.0, 0.0], \"yaxis\": \"y4\"}, {\"alignmentgroup\": \"True\", \"hovertemplate\": \"Source=GlobalIPC<br>ADMIN1=Somali<br>variable=%{x}<br>percentage=%{y}<extra></extra>\", \"legendgroup\": \"GlobalIPC\", \"marker\": {\"color\": \"#EF553B\"}, \"name\": \"GlobalIPC\", \"offsetgroup\": \"GlobalIPC\", \"orientation\": \"v\", \"showlegend\": false, \"textposition\": \"auto\", \"type\": \"bar\", \"x\": [\"CS_1_perc\", \"CS_2_perc\", \"CS_3_perc\", \"CS_4_perc\", \"CS_5_perc\"], \"xaxis\": \"x5\", \"y\": [3600.0, 3700.0, 2200.0, 500.0, 0.0], \"yaxis\": \"y5\"}, {\"alignmentgroup\": \"True\", \"hovertemplate\": \"Source=GlobalIPC<br>ADMIN1=Tigray<br>variable=%{x}<br>percentage=%{y}<extra></extra>\", \"legendgroup\": \"GlobalIPC\", \"marker\": {\"color\": \"#EF553B\"}, \"name\": \"GlobalIPC\", \"offsetgroup\": \"GlobalIPC\", \"orientation\": \"v\", \"showlegend\": false, \"textposition\": \"auto\", \"type\": \"bar\", \"x\": [\"CS_1_perc\", \"CS_2_perc\", \"CS_3_perc\", \"CS_4_perc\", \"CS_5_perc\"], \"xaxis\": \"x6\", \"y\": [5500.0, 3500.0, 1000.0, 0.0, 0.0], \"yaxis\": \"y6\"}],                        {\"annotations\": [{\"font\": {}, \"showarrow\": false, \"text\": \"ADMIN1=Afar\", \"x\": 0.075, \"xanchor\": \"center\", \"xref\": \"paper\", \"y\": 1.0, \"yanchor\": \"bottom\", \"yref\": \"paper\"}, {\"font\": {}, \"showarrow\": false, \"text\": \"ADMIN1=Amhara\", \"x\": 0.24499999999999997, \"xanchor\": \"center\", \"xref\": \"paper\", \"y\": 1.0, \"yanchor\": \"bottom\", \"yref\": \"paper\"}, {\"font\": {}, \"showarrow\": false, \"text\": \"ADMIN1=Oromia\", \"x\": 0.415, \"xanchor\": \"center\", \"xref\": \"paper\", \"y\": 1.0, \"yanchor\": \"bottom\", \"yref\": \"paper\"}, {\"font\": {}, \"showarrow\": false, \"text\": \"ADMIN1=SNNP\", \"x\": 0.585, \"xanchor\": \"center\", \"xref\": \"paper\", \"y\": 1.0, \"yanchor\": \"bottom\", \"yref\": \"paper\"}, {\"font\": {}, \"showarrow\": false, \"text\": \"ADMIN1=Somali\", \"x\": 0.7549999999999999, \"xanchor\": \"center\", \"xref\": \"paper\", \"y\": 1.0, \"yanchor\": \"bottom\", \"yref\": \"paper\"}, {\"font\": {}, \"showarrow\": false, \"text\": \"ADMIN1=Tigray\", \"x\": 0.925, \"xanchor\": \"center\", \"xref\": \"paper\", \"y\": 1.0, \"yanchor\": \"bottom\", \"yref\": \"paper\"}], \"barmode\": \"group\", \"height\": 300, \"legend\": {\"title\": {\"text\": \"Source\"}, \"tracegroupgap\": 0}, \"margin\": {\"t\": 60}, \"template\": {\"data\": {\"bar\": [{\"error_x\": {\"color\": \"#2a3f5f\"}, \"error_y\": {\"color\": \"#2a3f5f\"}, \"marker\": {\"line\": {\"color\": \"#E5ECF6\", \"width\": 0.5}}, \"type\": \"bar\"}], \"barpolar\": [{\"marker\": {\"line\": {\"color\": \"#E5ECF6\", \"width\": 0.5}}, \"type\": \"barpolar\"}], \"carpet\": [{\"aaxis\": {\"endlinecolor\": \"#2a3f5f\", \"gridcolor\": \"white\", \"linecolor\": \"white\", \"minorgridcolor\": \"white\", \"startlinecolor\": \"#2a3f5f\"}, \"baxis\": {\"endlinecolor\": \"#2a3f5f\", \"gridcolor\": \"white\", \"linecolor\": \"white\", \"minorgridcolor\": \"white\", \"startlinecolor\": \"#2a3f5f\"}, \"type\": \"carpet\"}], \"choropleth\": [{\"colorbar\": {\"outlinewidth\": 0, \"ticks\": \"\"}, \"type\": \"choropleth\"}], \"contour\": [{\"colorbar\": {\"outlinewidth\": 0, \"ticks\": \"\"}, \"colorscale\": [[0.0, \"#0d0887\"], [0.1111111111111111, \"#46039f\"], [0.2222222222222222, \"#7201a8\"], [0.3333333333333333, \"#9c179e\"], [0.4444444444444444, \"#bd3786\"], [0.5555555555555556, \"#d8576b\"], [0.6666666666666666, \"#ed7953\"], [0.7777777777777778, \"#fb9f3a\"], [0.8888888888888888, \"#fdca26\"], [1.0, \"#f0f921\"]], \"type\": \"contour\"}], \"contourcarpet\": [{\"colorbar\": {\"outlinewidth\": 0, \"ticks\": \"\"}, \"type\": \"contourcarpet\"}], \"heatmap\": [{\"colorbar\": {\"outlinewidth\": 0, \"ticks\": \"\"}, \"colorscale\": [[0.0, \"#0d0887\"], [0.1111111111111111, \"#46039f\"], [0.2222222222222222, \"#7201a8\"], [0.3333333333333333, \"#9c179e\"], [0.4444444444444444, \"#bd3786\"], [0.5555555555555556, \"#d8576b\"], [0.6666666666666666, \"#ed7953\"], [0.7777777777777778, \"#fb9f3a\"], [0.8888888888888888, \"#fdca26\"], [1.0, \"#f0f921\"]], \"type\": \"heatmap\"}], \"heatmapgl\": [{\"colorbar\": {\"outlinewidth\": 0, \"ticks\": \"\"}, \"colorscale\": [[0.0, \"#0d0887\"], [0.1111111111111111, \"#46039f\"], [0.2222222222222222, \"#7201a8\"], [0.3333333333333333, \"#9c179e\"], [0.4444444444444444, \"#bd3786\"], [0.5555555555555556, \"#d8576b\"], [0.6666666666666666, \"#ed7953\"], [0.7777777777777778, \"#fb9f3a\"], [0.8888888888888888, \"#fdca26\"], [1.0, \"#f0f921\"]], \"type\": \"heatmapgl\"}], \"histogram\": [{\"marker\": {\"colorbar\": {\"outlinewidth\": 0, \"ticks\": \"\"}}, \"type\": \"histogram\"}], \"histogram2d\": [{\"colorbar\": {\"outlinewidth\": 0, \"ticks\": \"\"}, \"colorscale\": [[0.0, \"#0d0887\"], [0.1111111111111111, \"#46039f\"], [0.2222222222222222, \"#7201a8\"], [0.3333333333333333, \"#9c179e\"], [0.4444444444444444, \"#bd3786\"], [0.5555555555555556, \"#d8576b\"], [0.6666666666666666, \"#ed7953\"], [0.7777777777777778, \"#fb9f3a\"], [0.8888888888888888, \"#fdca26\"], [1.0, \"#f0f921\"]], \"type\": \"histogram2d\"}], \"histogram2dcontour\": [{\"colorbar\": {\"outlinewidth\": 0, \"ticks\": \"\"}, \"colorscale\": [[0.0, \"#0d0887\"], [0.1111111111111111, \"#46039f\"], [0.2222222222222222, \"#7201a8\"], [0.3333333333333333, \"#9c179e\"], [0.4444444444444444, \"#bd3786\"], [0.5555555555555556, \"#d8576b\"], [0.6666666666666666, \"#ed7953\"], [0.7777777777777778, \"#fb9f3a\"], [0.8888888888888888, \"#fdca26\"], [1.0, \"#f0f921\"]], \"type\": \"histogram2dcontour\"}], \"mesh3d\": [{\"colorbar\": {\"outlinewidth\": 0, \"ticks\": \"\"}, \"type\": \"mesh3d\"}], \"parcoords\": [{\"line\": {\"colorbar\": {\"outlinewidth\": 0, \"ticks\": \"\"}}, \"type\": \"parcoords\"}], \"pie\": [{\"automargin\": true, \"type\": \"pie\"}], \"scatter\": [{\"marker\": {\"colorbar\": {\"outlinewidth\": 0, \"ticks\": \"\"}}, \"type\": \"scatter\"}], \"scatter3d\": [{\"line\": {\"colorbar\": {\"outlinewidth\": 0, \"ticks\": \"\"}}, \"marker\": {\"colorbar\": {\"outlinewidth\": 0, \"ticks\": \"\"}}, \"type\": \"scatter3d\"}], \"scattercarpet\": [{\"marker\": {\"colorbar\": {\"outlinewidth\": 0, \"ticks\": \"\"}}, \"type\": \"scattercarpet\"}], \"scattergeo\": [{\"marker\": {\"colorbar\": {\"outlinewidth\": 0, \"ticks\": \"\"}}, \"type\": \"scattergeo\"}], \"scattergl\": [{\"marker\": {\"colorbar\": {\"outlinewidth\": 0, \"ticks\": \"\"}}, \"type\": \"scattergl\"}], \"scattermapbox\": [{\"marker\": {\"colorbar\": {\"outlinewidth\": 0, \"ticks\": \"\"}}, \"type\": \"scattermapbox\"}], \"scatterpolar\": [{\"marker\": {\"colorbar\": {\"outlinewidth\": 0, \"ticks\": \"\"}}, \"type\": \"scatterpolar\"}], \"scatterpolargl\": [{\"marker\": {\"colorbar\": {\"outlinewidth\": 0, \"ticks\": \"\"}}, \"type\": \"scatterpolargl\"}], \"scatterternary\": [{\"marker\": {\"colorbar\": {\"outlinewidth\": 0, \"ticks\": \"\"}}, \"type\": \"scatterternary\"}], \"surface\": [{\"colorbar\": {\"outlinewidth\": 0, \"ticks\": \"\"}, \"colorscale\": [[0.0, \"#0d0887\"], [0.1111111111111111, \"#46039f\"], [0.2222222222222222, \"#7201a8\"], [0.3333333333333333, \"#9c179e\"], [0.4444444444444444, \"#bd3786\"], [0.5555555555555556, \"#d8576b\"], [0.6666666666666666, \"#ed7953\"], [0.7777777777777778, \"#fb9f3a\"], [0.8888888888888888, \"#fdca26\"], [1.0, \"#f0f921\"]], \"type\": \"surface\"}], \"table\": [{\"cells\": {\"fill\": {\"color\": \"#EBF0F8\"}, \"line\": {\"color\": \"white\"}}, \"header\": {\"fill\": {\"color\": \"#C8D4E3\"}, \"line\": {\"color\": \"white\"}}, \"type\": \"table\"}]}, \"layout\": {\"annotationdefaults\": {\"arrowcolor\": \"#2a3f5f\", \"arrowhead\": 0, \"arrowwidth\": 1}, \"coloraxis\": {\"colorbar\": {\"outlinewidth\": 0, \"ticks\": \"\"}}, \"colorscale\": {\"diverging\": [[0, \"#8e0152\"], [0.1, \"#c51b7d\"], [0.2, \"#de77ae\"], [0.3, \"#f1b6da\"], [0.4, \"#fde0ef\"], [0.5, \"#f7f7f7\"], [0.6, \"#e6f5d0\"], [0.7, \"#b8e186\"], [0.8, \"#7fbc41\"], [0.9, \"#4d9221\"], [1, \"#276419\"]], \"sequential\": [[0.0, \"#0d0887\"], [0.1111111111111111, \"#46039f\"], [0.2222222222222222, \"#7201a8\"], [0.3333333333333333, \"#9c179e\"], [0.4444444444444444, \"#bd3786\"], [0.5555555555555556, \"#d8576b\"], [0.6666666666666666, \"#ed7953\"], [0.7777777777777778, \"#fb9f3a\"], [0.8888888888888888, \"#fdca26\"], [1.0, \"#f0f921\"]], \"sequentialminus\": [[0.0, \"#0d0887\"], [0.1111111111111111, \"#46039f\"], [0.2222222222222222, \"#7201a8\"], [0.3333333333333333, \"#9c179e\"], [0.4444444444444444, \"#bd3786\"], [0.5555555555555556, \"#d8576b\"], [0.6666666666666666, \"#ed7953\"], [0.7777777777777778, \"#fb9f3a\"], [0.8888888888888888, \"#fdca26\"], [1.0, \"#f0f921\"]]}, \"colorway\": [\"#636efa\", \"#EF553B\", \"#00cc96\", \"#ab63fa\", \"#FFA15A\", \"#19d3f3\", \"#FF6692\", \"#B6E880\", \"#FF97FF\", \"#FECB52\"], \"font\": {\"color\": \"#2a3f5f\"}, \"geo\": {\"bgcolor\": \"white\", \"lakecolor\": \"white\", \"landcolor\": \"#E5ECF6\", \"showlakes\": true, \"showland\": true, \"subunitcolor\": \"white\"}, \"hoverlabel\": {\"align\": \"left\"}, \"hovermode\": \"closest\", \"mapbox\": {\"style\": \"light\"}, \"paper_bgcolor\": \"white\", \"plot_bgcolor\": \"#E5ECF6\", \"polar\": {\"angularaxis\": {\"gridcolor\": \"white\", \"linecolor\": \"white\", \"ticks\": \"\"}, \"bgcolor\": \"#E5ECF6\", \"radialaxis\": {\"gridcolor\": \"white\", \"linecolor\": \"white\", \"ticks\": \"\"}}, \"scene\": {\"xaxis\": {\"backgroundcolor\": \"#E5ECF6\", \"gridcolor\": \"white\", \"gridwidth\": 2, \"linecolor\": \"white\", \"showbackground\": true, \"ticks\": \"\", \"zerolinecolor\": \"white\"}, \"yaxis\": {\"backgroundcolor\": \"#E5ECF6\", \"gridcolor\": \"white\", \"gridwidth\": 2, \"linecolor\": \"white\", \"showbackground\": true, \"ticks\": \"\", \"zerolinecolor\": \"white\"}, \"zaxis\": {\"backgroundcolor\": \"#E5ECF6\", \"gridcolor\": \"white\", \"gridwidth\": 2, \"linecolor\": \"white\", \"showbackground\": true, \"ticks\": \"\", \"zerolinecolor\": \"white\"}}, \"shapedefaults\": {\"line\": {\"color\": \"#2a3f5f\"}}, \"ternary\": {\"aaxis\": {\"gridcolor\": \"white\", \"linecolor\": \"white\", \"ticks\": \"\"}, \"baxis\": {\"gridcolor\": \"white\", \"linecolor\": \"white\", \"ticks\": \"\"}, \"bgcolor\": \"#E5ECF6\", \"caxis\": {\"gridcolor\": \"white\", \"linecolor\": \"white\", \"ticks\": \"\"}}, \"title\": {\"x\": 0.05}, \"xaxis\": {\"automargin\": true, \"gridcolor\": \"white\", \"linecolor\": \"white\", \"ticks\": \"\", \"title\": {\"standoff\": 15}, \"zerolinecolor\": \"white\", \"zerolinewidth\": 2}, \"yaxis\": {\"automargin\": true, \"gridcolor\": \"white\", \"linecolor\": \"white\", \"ticks\": \"\", \"title\": {\"standoff\": 15}, \"zerolinecolor\": \"white\", \"zerolinewidth\": 2}}}, \"width\": 1200, \"xaxis\": {\"anchor\": \"y\", \"domain\": [0.0, 0.15], \"title\": {\"text\": \"variable\"}}, \"xaxis2\": {\"anchor\": \"y2\", \"domain\": [0.16999999999999998, 0.31999999999999995], \"matches\": \"x\", \"title\": {\"text\": \"variable\"}}, \"xaxis3\": {\"anchor\": \"y3\", \"domain\": [0.33999999999999997, 0.49], \"matches\": \"x\", \"title\": {\"text\": \"variable\"}}, \"xaxis4\": {\"anchor\": \"y4\", \"domain\": [0.51, 0.66], \"matches\": \"x\", \"title\": {\"text\": \"variable\"}}, \"xaxis5\": {\"anchor\": \"y5\", \"domain\": [0.6799999999999999, 0.83], \"matches\": \"x\", \"title\": {\"text\": \"variable\"}}, \"xaxis6\": {\"anchor\": \"y6\", \"domain\": [0.85, 1.0], \"matches\": \"x\", \"title\": {\"text\": \"variable\"}}, \"yaxis\": {\"anchor\": \"x\", \"domain\": [0.0, 1.0], \"title\": {\"text\": \"percentage\"}}, \"yaxis2\": {\"anchor\": \"x2\", \"domain\": [0.0, 1.0], \"matches\": \"y\", \"showticklabels\": false}, \"yaxis3\": {\"anchor\": \"x3\", \"domain\": [0.0, 1.0], \"matches\": \"y\", \"showticklabels\": false}, \"yaxis4\": {\"anchor\": \"x4\", \"domain\": [0.0, 1.0], \"matches\": \"y\", \"showticklabels\": false}, \"yaxis5\": {\"anchor\": \"x5\", \"domain\": [0.0, 1.0], \"matches\": \"y\", \"showticklabels\": false}, \"yaxis6\": {\"anchor\": \"x6\", \"domain\": [0.0, 1.0], \"matches\": \"y\", \"showticklabels\": false}},                        {\"responsive\": true}                    ).then(function(){\n",
       "                            \n",
       "var gd = document.getElementById('98667147-0730-46c3-b9a5-6db69c1e4d3b');\n",
       "var x = new MutationObserver(function (mutations, observer) {{\n",
       "        var display = window.getComputedStyle(gd).display;\n",
       "        if (!display || display === 'none') {{\n",
       "            console.log([gd, 'removed!']);\n",
       "            Plotly.purge(gd);\n",
       "            observer.disconnect();\n",
       "        }}\n",
       "}});\n",
       "\n",
       "// Listen for the removal of the full notebook cells\n",
       "var notebookContainer = gd.closest('#notebook-container');\n",
       "if (notebookContainer) {{\n",
       "    x.observe(notebookContainer, {childList: true});\n",
       "}}\n",
       "\n",
       "// Listen for the clearing of the current output cell\n",
       "var outputEl = gd.closest('.output');\n",
       "if (outputEl) {{\n",
       "    x.observe(outputEl, {childList: true});\n",
       "}}\n",
       "\n",
       "                        })                };                });            </script>        </div>"
      ]
     },
     "metadata": {},
     "output_type": "display_data"
    }
   ],
   "source": [
    "px.bar(df_csm[df_csm.year==2020],x=\"variable\",y=\"percentage\",color=\"Source\",facet_col=\"ADMIN1\",barmode=\"group\",height=300,width=1200) #,facet_row=\"year\""
   ]
  },
  {
   "cell_type": "code",
   "execution_count": 737,
   "metadata": {},
   "outputs": [
    {
     "data": {
      "text/plain": [
       "<BarContainer object of 5 artists>"
      ]
     },
     "execution_count": 737,
     "metadata": {},
     "output_type": "execute_result"
    },
    {
     "data": {
      "image/png": "[encoded data removed]",
      "text/plain": [
       "<Figure size 432x288 with 1 Axes>"
      ]
     },
     "metadata": {
      "needs_background": "light"
     },
     "output_type": "display_data"
    }
   ],
   "source": [
    "ax=plt.subplot(111)\n",
    "ax.bar(range(1,6),df_cady[(df_cady.Source==\"GlobalIPC\")][[f\"CS_{i}_perc\" for i in range(1,6)]].sum()/len(df_cady[df_cady.Source==\"GlobalIPC\"]))\n",
    "ax.bar(range(1,6),df_cady[(df_cady.Source==\"FewsNet\")][[f\"CS_{i}_perc\" for i in range(1,6)]].sum()/len(df_cady[df_cady.Source==\"FewsNet\"]))"
   ]
  },
  {
   "cell_type": "code",
   "execution_count": 769,
   "metadata": {},
   "outputs": [],
   "source": [
    "import geopandas as gpd\n",
    "from mapclassify import UserDefined\n",
    "import mapclassify"
   ]
  },
  {
   "cell_type": "code",
   "execution_count": 771,
   "metadata": {},
   "outputs": [
    {
     "data": {
      "text/plain": [
       "'2.3.0'"
      ]
     },
     "execution_count": 771,
     "metadata": {},
     "output_type": "execute_result"
    }
   ],
   "source": [
    "mapclassify.__version__"
   ]
  },
  {
   "cell_type": "code",
   "execution_count": 739,
   "metadata": {},
   "outputs": [],
   "source": [
    "def plot_aff_collist(df_d,cols,shape_path=\"Data/ET_Admin1_OCHA_2019/eth_admbnda_adm1_csa_bofed_20190827.shp\"):\n",
    "    colp_num=2\n",
    "    rows=len(cols) // colp_num\n",
    "    rows+=len(cols) % colp_num\n",
    "    position = range(1,len(cols) + 1)\n",
    "\n",
    "    gdf = gpd.read_file(shape_path)\n",
    "    df_geo=gdf[[\"ADM1_EN\",\"geometry\"]].merge(df_d,left_on=\"ADM1_EN\",right_on=\"ADMIN1\",how=\"left\")\n",
    "    colors = len(pd.unique(df_geo[cols].values.ravel()))\n",
    "    cmap = 'Blues'\n",
    "    figsize = (16, 10)\n",
    "    scheme = \"UserDefined\"#\"natural_breaks\"#'equalinterval'\n",
    "    fig = plt.figure(1,figsize=(16,6*rows))\n",
    "    for i,c in enumerate(cols):#range(len(cols)):\n",
    "  # add every single subplot to the figure with a for loop\n",
    "\n",
    "        ax = fig.add_subplot(rows,colp_num,position[i])\n",
    "        df_geo.plot(c, ax=ax,cmap=cmap, figsize=figsize, k = colors,  legend=True,scheme=scheme,classification_kwds=dict(bins=[0,10,20,30,40,50,60,70,80,90,100]))#,missing_kwds={\"color\":\"lightgrey\"}) # scheme = scheme,#, figsize=(10, 10),edgecolor='gray',ax=axis,\n",
    "#                 #    legend=True,\n",
    "#                 #    legend_kwds={'label': \"Cases per 100,000 people\",'orientation': \"horizontal\"},\n",
    "#                    scheme='Quantiles',k=len(df_geo) scheme=\"User_Defined\", \n",
    "        gdf.boundary.plot(linewidth=0.2,ax=ax)\n",
    "\n",
    "        ax.axis(\"off\")\n",
    "        plt.title(c)\n",
    "        if not df_geo[c].isnull().values.all():\n",
    "            leg = ax.get_legend()\n",
    "\n",
    "            for lbl in leg.get_texts():\n",
    "                label_text = lbl.get_text()\n",
    "            #                 print(label_text)\n",
    "                upper = label_text.split(\",\")[-1].rstrip(']')\n",
    "\n",
    "            #             print(\"f\",upper)\n",
    "                try:\n",
    "                    new_text = f'{float(upper):,.2f}'\n",
    "                except:\n",
    "                    new_text=upper\n",
    "                lbl.set_text(new_text)\n",
    "\n",
    "\n",
    "\n",
    "    plt.show()"
   ]
  },
  {
   "cell_type": "code",
   "execution_count": 740,
   "metadata": {},
   "outputs": [],
   "source": [
    "import seaborn as sns"
   ]
  },
  {
   "cell_type": "code",
   "execution_count": 741,
   "metadata": {},
   "outputs": [],
   "source": [
    "for i in range(1,6):\n",
    "    df_comb[f\"diffML1_{i}\"]=df_comb[f'ML1_{i}_perc']-df_comb[f'CS_{i}_perc']\n",
    "df_comb[f\"diffML3+\"]=df_comb[f'ML1_3+_perc']-df_comb[f'CS_3+_perc']"
   ]
  },
  {
   "cell_type": "code",
   "execution_count": 742,
   "metadata": {},
   "outputs": [],
   "source": [
    "a=df_comb[(df_comb.date==\"2020-08\") & (df_comb.Source==\"FewsNet\")]"
   ]
  },
  {
   "cell_type": "code",
   "execution_count": 743,
   "metadata": {},
   "outputs": [
    {
     "data": {
      "text/plain": [
       "CS_3_perc\n",
       "0.000000     5\n",
       "8.905066     1\n",
       "13.227755    1\n",
       "17.270559    1\n",
       "17.547501    1\n",
       "40.464885    1\n",
       "48.799613    1\n",
       "dtype: int64"
      ]
     },
     "execution_count": 743,
     "metadata": {},
     "output_type": "execute_result"
    }
   ],
   "source": [
    "a.value_counts(\"CS_3_perc\").sort_index()"
   ]
  },
  {
   "cell_type": "code",
   "execution_count": 744,
   "metadata": {},
   "outputs": [
    {
     "data": {
      "text/plain": [
       "diffML1_3\n",
       "-8.662175      1\n",
       "-8.201144      1\n",
       " 0.000000      5\n",
       " 14.133477     1\n",
       " 26.883967     1\n",
       " 48.539524     1\n",
       " 100.000000    1\n",
       "dtype: int64"
      ]
     },
     "execution_count": 744,
     "metadata": {},
     "output_type": "execute_result"
    }
   ],
   "source": [
    "a.value_counts(\"diffML1_3\").sort_index()"
   ]
  },
  {
   "cell_type": "code",
   "execution_count": 745,
   "metadata": {},
   "outputs": [
    {
     "data": {
      "text/plain": [
       "diffML3+\n",
       "-8.662175      1\n",
       "-8.201144      1\n",
       " 0.000000      5\n",
       " 14.133477     1\n",
       " 26.883967     1\n",
       " 48.539524     1\n",
       " 100.000000    1\n",
       "dtype: int64"
      ]
     },
     "execution_count": 745,
     "metadata": {},
     "output_type": "execute_result"
    }
   ],
   "source": [
    "a.value_counts(\"diffML3+\").sort_index()"
   ]
  },
  {
   "cell_type": "code",
   "execution_count": 746,
   "metadata": {},
   "outputs": [
    {
     "data": {
      "text/html": [
       "<div>\n",
       "<style scoped>\n",
       "    .dataframe tbody tr th:only-of-type {\n",
       "        vertical-align: middle;\n",
       "    }\n",
       "\n",
       "    .dataframe tbody tr th {\n",
       "        vertical-align: top;\n",
       "    }\n",
       "\n",
       "    .dataframe thead th {\n",
       "        text-align: right;\n",
       "    }\n",
       "</style>\n",
       "<table border=\"1\" class=\"dataframe\">\n",
       "  <thead>\n",
       "    <tr style=\"text-align: right;\">\n",
       "      <th></th>\n",
       "      <th>ADMIN1</th>\n",
       "      <th>diffML3+</th>\n",
       "    </tr>\n",
       "  </thead>\n",
       "  <tbody>\n",
       "    <tr>\n",
       "      <th>11</th>\n",
       "      <td>Addis Ababa</td>\n",
       "      <td>0.000000</td>\n",
       "    </tr>\n",
       "    <tr>\n",
       "      <th>12</th>\n",
       "      <td>Afar</td>\n",
       "      <td>48.539524</td>\n",
       "    </tr>\n",
       "    <tr>\n",
       "      <th>13</th>\n",
       "      <td>Amhara</td>\n",
       "      <td>-8.201144</td>\n",
       "    </tr>\n",
       "    <tr>\n",
       "      <th>14</th>\n",
       "      <td>Benishangul Gumz</td>\n",
       "      <td>0.000000</td>\n",
       "    </tr>\n",
       "    <tr>\n",
       "      <th>15</th>\n",
       "      <td>Dire Dawa</td>\n",
       "      <td>0.000000</td>\n",
       "    </tr>\n",
       "    <tr>\n",
       "      <th>16</th>\n",
       "      <td>Gambela</td>\n",
       "      <td>0.000000</td>\n",
       "    </tr>\n",
       "    <tr>\n",
       "      <th>17</th>\n",
       "      <td>Harari</td>\n",
       "      <td>100.000000</td>\n",
       "    </tr>\n",
       "    <tr>\n",
       "      <th>18</th>\n",
       "      <td>Oromia</td>\n",
       "      <td>14.133477</td>\n",
       "    </tr>\n",
       "    <tr>\n",
       "      <th>19</th>\n",
       "      <td>SNNP</td>\n",
       "      <td>-8.662175</td>\n",
       "    </tr>\n",
       "    <tr>\n",
       "      <th>20</th>\n",
       "      <td>Somali</td>\n",
       "      <td>26.883967</td>\n",
       "    </tr>\n",
       "    <tr>\n",
       "      <th>21</th>\n",
       "      <td>Tigray</td>\n",
       "      <td>0.000000</td>\n",
       "    </tr>\n",
       "  </tbody>\n",
       "</table>\n",
       "</div>"
      ],
      "text/plain": [
       "              ADMIN1    diffML3+\n",
       "11       Addis Ababa    0.000000\n",
       "12              Afar   48.539524\n",
       "13            Amhara   -8.201144\n",
       "14  Benishangul Gumz    0.000000\n",
       "15         Dire Dawa    0.000000\n",
       "16           Gambela    0.000000\n",
       "17            Harari  100.000000\n",
       "18            Oromia   14.133477\n",
       "19              SNNP   -8.662175\n",
       "20            Somali   26.883967\n",
       "21            Tigray    0.000000"
      ]
     },
     "execution_count": 746,
     "metadata": {},
     "output_type": "execute_result"
    }
   ],
   "source": [
    "a[[\"ADMIN1\",\"diffML3+\"]]"
   ]
  },
  {
   "cell_type": "code",
   "execution_count": 747,
   "metadata": {},
   "outputs": [],
   "source": [
    "df_fewsa=pd.read_csv(\"Data/FewsNetPopulation/ethiopia_admin1_fewsnet_population_20090701_20200801.csv\")"
   ]
  },
  {
   "cell_type": "code",
   "execution_count": 748,
   "metadata": {},
   "outputs": [],
   "source": [
    "for status in [\"CS\",\"ML1\",\"ML2\"]:\n",
    "    for i in range(1,6):\n",
    "        c=f\"{status}_{i}\"\n",
    "        df_fewsa[f\"{c}_perc\"]=df_fewsa[c]/df_fewsa[f\"pop_{status}\"]*100\n",
    "#     df_fews[f'perc_{status}3+']=df_fews[f'{status}3+']/df_fews[f'pop_{status}']*100\n",
    "#         df_ipcp[f\"perc_{c}_miss\"]=df_fews[c]/df_fews[f\"Country Population\"]*100\n",
    "    df_fewsa[f'{status}_3+']=df_fewsa[[f'{status}_{i}' for i in range(3,6)]].sum(axis=1)\n",
    "    df_fewsa[f'{status}_3+_perc']=df_fewsa[f'{status}_3+']/df_fewsa[f'pop_{status}']*100\n",
    "df_fewsa[f\"diffML3+\"]=df_fewsa[f'ML1_3+_perc']-df_fewsa[f'CS_3+_perc']\n",
    "for i in range(1,6):\n",
    "    df_fewsa[f\"diffML1_{i}\"]=df_fewsa[f'ML1_{i}_perc']-df_fewsa[f'CS_{i}_perc']"
   ]
  },
  {
   "cell_type": "code",
   "execution_count": 749,
   "metadata": {},
   "outputs": [
    {
     "data": {
      "text/plain": [
       "CS_3_perc\n",
       "0.000000      239\n",
       "1.441450        1\n",
       "2.370133        1\n",
       "2.370134        2\n",
       "2.370136        1\n",
       "             ... \n",
       "82.365742       2\n",
       "82.365823       1\n",
       "85.226066       1\n",
       "85.226083       1\n",
       "100.000000     30\n",
       "Length: 131, dtype: int64"
      ]
     },
     "execution_count": 749,
     "metadata": {},
     "output_type": "execute_result"
    }
   ],
   "source": [
    "df_fewsa.value_counts(\"CS_3_perc\").sort_index()"
   ]
  },
  {
   "cell_type": "code",
   "execution_count": 750,
   "metadata": {},
   "outputs": [
    {
     "data": {
      "text/plain": [
       "diffML1_3\n",
       "-100.000000    3\n",
       "-82.365742     1\n",
       "-77.795861     1\n",
       "-75.102355     1\n",
       "-51.460479     1\n",
       "              ..\n",
       " 40.672886     1\n",
       " 48.539524     1\n",
       " 51.756077     1\n",
       " 82.365823     1\n",
       " 100.000000    4\n",
       "Length: 65, dtype: int64"
      ]
     },
     "execution_count": 750,
     "metadata": {},
     "output_type": "execute_result"
    }
   ],
   "source": [
    "df_fewsa.value_counts(\"diffML1_3\").sort_index()"
   ]
  },
  {
   "cell_type": "code",
   "execution_count": 751,
   "metadata": {},
   "outputs": [
    {
     "data": {
      "text/plain": [
       "diffML3+\n",
       "-100.000000    3\n",
       "-77.795861     1\n",
       "-75.102355     1\n",
       "-51.460479     1\n",
       "-49.259436     1\n",
       "              ..\n",
       " 35.215810     1\n",
       " 48.539524     1\n",
       " 51.756077     1\n",
       " 82.365823     1\n",
       " 100.000000    4\n",
       "Length: 61, dtype: int64"
      ]
     },
     "execution_count": 751,
     "metadata": {},
     "output_type": "execute_result"
    }
   ],
   "source": [
    "df_fewsa.value_counts(\"diffML3+\").sort_index()"
   ]
  },
  {
   "cell_type": "code",
   "execution_count": 755,
   "metadata": {},
   "outputs": [],
   "source": [
    "a=df_fewsa[(df_fewsa.date==\"2020-06-01\")&(df_fewsa.ADM1_EN==\"Harari\")]"
   ]
  },
  {
   "cell_type": "code",
   "execution_count": 756,
   "metadata": {},
   "outputs": [
    {
     "data": {
      "text/html": [
       "<div>\n",
       "<style scoped>\n",
       "    .dataframe tbody tr th:only-of-type {\n",
       "        vertical-align: middle;\n",
       "    }\n",
       "\n",
       "    .dataframe tbody tr th {\n",
       "        vertical-align: top;\n",
       "    }\n",
       "\n",
       "    .dataframe thead th {\n",
       "        text-align: right;\n",
       "    }\n",
       "</style>\n",
       "<table border=\"1\" class=\"dataframe\">\n",
       "  <thead>\n",
       "    <tr style=\"text-align: right;\">\n",
       "      <th></th>\n",
       "      <th>Unnamed: 0</th>\n",
       "      <th>date</th>\n",
       "      <th>ADM1_EN</th>\n",
       "      <th>Total</th>\n",
       "      <th>adjusted_population</th>\n",
       "      <th>CS_1</th>\n",
       "      <th>CS_2</th>\n",
       "      <th>CS_3</th>\n",
       "      <th>CS_4</th>\n",
       "      <th>CS_5</th>\n",
       "      <th>...</th>\n",
       "      <th>ML2_4_perc</th>\n",
       "      <th>ML2_5_perc</th>\n",
       "      <th>ML2_3+</th>\n",
       "      <th>ML2_3+_perc</th>\n",
       "      <th>diffML3+</th>\n",
       "      <th>diffML1_1</th>\n",
       "      <th>diffML1_2</th>\n",
       "      <th>diffML1_3</th>\n",
       "      <th>diffML1_4</th>\n",
       "      <th>diffML1_5</th>\n",
       "    </tr>\n",
       "  </thead>\n",
       "  <tbody>\n",
       "    <tr>\n",
       "      <th>424</th>\n",
       "      <td>424</td>\n",
       "      <td>2020-06-01</td>\n",
       "      <td>Harari</td>\n",
       "      <td>260022</td>\n",
       "      <td>293500</td>\n",
       "      <td>0.0</td>\n",
       "      <td>293500.0</td>\n",
       "      <td>0.0</td>\n",
       "      <td>0.0</td>\n",
       "      <td>0.0</td>\n",
       "      <td>...</td>\n",
       "      <td>0.0</td>\n",
       "      <td>0.0</td>\n",
       "      <td>0.0</td>\n",
       "      <td>0.0</td>\n",
       "      <td>100.0</td>\n",
       "      <td>0.0</td>\n",
       "      <td>-100.0</td>\n",
       "      <td>100.0</td>\n",
       "      <td>0.0</td>\n",
       "      <td>0.0</td>\n",
       "    </tr>\n",
       "  </tbody>\n",
       "</table>\n",
       "<p>1 rows × 50 columns</p>\n",
       "</div>"
      ],
      "text/plain": [
       "     Unnamed: 0        date ADM1_EN   Total  adjusted_population  CS_1  \\\n",
       "424         424  2020-06-01  Harari  260022               293500   0.0   \n",
       "\n",
       "         CS_2  CS_3  CS_4  CS_5  ...  ML2_4_perc  ML2_5_perc  ML2_3+  \\\n",
       "424  293500.0   0.0   0.0   0.0  ...         0.0         0.0     0.0   \n",
       "\n",
       "     ML2_3+_perc  diffML3+  diffML1_1  diffML1_2  diffML1_3  diffML1_4  \\\n",
       "424          0.0     100.0        0.0     -100.0      100.0        0.0   \n",
       "\n",
       "     diffML1_5  \n",
       "424        0.0  \n",
       "\n",
       "[1 rows x 50 columns]"
      ]
     },
     "execution_count": 756,
     "metadata": {},
     "output_type": "execute_result"
    }
   ],
   "source": [
    "a"
   ]
  },
  {
   "cell_type": "code",
   "execution_count": 757,
   "metadata": {},
   "outputs": [
    {
     "data": {
      "text/html": [
       "<div>\n",
       "<style scoped>\n",
       "    .dataframe tbody tr th:only-of-type {\n",
       "        vertical-align: middle;\n",
       "    }\n",
       "\n",
       "    .dataframe tbody tr th {\n",
       "        vertical-align: top;\n",
       "    }\n",
       "\n",
       "    .dataframe thead th {\n",
       "        text-align: right;\n",
       "    }\n",
       "</style>\n",
       "<table border=\"1\" class=\"dataframe\">\n",
       "  <thead>\n",
       "    <tr style=\"text-align: right;\">\n",
       "      <th></th>\n",
       "      <th>date</th>\n",
       "      <th>ADM1_EN</th>\n",
       "      <th>ML1_3_perc</th>\n",
       "      <th>ML1_4_perc</th>\n",
       "      <th>CS_3_perc</th>\n",
       "      <th>CS_4_perc</th>\n",
       "      <th>CS_3</th>\n",
       "      <th>CS_4</th>\n",
       "      <th>ML1_3</th>\n",
       "      <th>ML1_4</th>\n",
       "      <th>diffML3+</th>\n",
       "    </tr>\n",
       "  </thead>\n",
       "  <tbody>\n",
       "    <tr>\n",
       "      <th>424</th>\n",
       "      <td>2020-06-01</td>\n",
       "      <td>Harari</td>\n",
       "      <td>100.0</td>\n",
       "      <td>0.0</td>\n",
       "      <td>0.0</td>\n",
       "      <td>0.0</td>\n",
       "      <td>0.0</td>\n",
       "      <td>0.0</td>\n",
       "      <td>293500.0</td>\n",
       "      <td>0.0</td>\n",
       "      <td>100.0</td>\n",
       "    </tr>\n",
       "  </tbody>\n",
       "</table>\n",
       "</div>"
      ],
      "text/plain": [
       "           date ADM1_EN  ML1_3_perc  ML1_4_perc  CS_3_perc  CS_4_perc  CS_3  \\\n",
       "424  2020-06-01  Harari       100.0         0.0        0.0        0.0   0.0   \n",
       "\n",
       "     CS_4     ML1_3  ML1_4  diffML3+  \n",
       "424   0.0  293500.0    0.0     100.0  "
      ]
     },
     "execution_count": 757,
     "metadata": {},
     "output_type": "execute_result"
    }
   ],
   "source": [
    "a[[\"date\",\"ADM1_EN\",\"ML1_3_perc\",\"ML1_4_perc\",\"CS_3_perc\",\"CS_4_perc\",\"CS_3\",\"CS_4\",\"ML1_3\",\"ML1_4\",\"diffML3+\"]]"
   ]
  },
  {
   "cell_type": "code",
   "execution_count": 647,
   "metadata": {},
   "outputs": [
    {
     "data": {
      "text/html": [
       "<div>\n",
       "<style scoped>\n",
       "    .dataframe tbody tr th:only-of-type {\n",
       "        vertical-align: middle;\n",
       "    }\n",
       "\n",
       "    .dataframe tbody tr th {\n",
       "        vertical-align: top;\n",
       "    }\n",
       "\n",
       "    .dataframe thead th {\n",
       "        text-align: right;\n",
       "    }\n",
       "</style>\n",
       "<table border=\"1\" class=\"dataframe\">\n",
       "  <thead>\n",
       "    <tr style=\"text-align: right;\">\n",
       "      <th></th>\n",
       "      <th>date</th>\n",
       "      <th>ADM1_EN</th>\n",
       "      <th>diffML3+</th>\n",
       "    </tr>\n",
       "  </thead>\n",
       "  <tbody>\n",
       "    <tr>\n",
       "      <th>5</th>\n",
       "      <td>2009-07-01</td>\n",
       "      <td>Gambela</td>\n",
       "      <td>82.365823</td>\n",
       "    </tr>\n",
       "    <tr>\n",
       "      <th>26</th>\n",
       "      <td>2010-01-01</td>\n",
       "      <td>Dire Dawa</td>\n",
       "      <td>100.000000</td>\n",
       "    </tr>\n",
       "    <tr>\n",
       "      <th>28</th>\n",
       "      <td>2010-01-01</td>\n",
       "      <td>Harari</td>\n",
       "      <td>100.000000</td>\n",
       "    </tr>\n",
       "    <tr>\n",
       "      <th>162</th>\n",
       "      <td>2013-01-01</td>\n",
       "      <td>SNNP</td>\n",
       "      <td>51.756077</td>\n",
       "    </tr>\n",
       "    <tr>\n",
       "      <th>424</th>\n",
       "      <td>2020-06-01</td>\n",
       "      <td>Harari</td>\n",
       "      <td>100.000000</td>\n",
       "    </tr>\n",
       "    <tr>\n",
       "      <th>430</th>\n",
       "      <td>2020-08-01</td>\n",
       "      <td>Afar</td>\n",
       "      <td>48.539524</td>\n",
       "    </tr>\n",
       "    <tr>\n",
       "      <th>435</th>\n",
       "      <td>2020-08-01</td>\n",
       "      <td>Harari</td>\n",
       "      <td>100.000000</td>\n",
       "    </tr>\n",
       "  </tbody>\n",
       "</table>\n",
       "</div>"
      ],
      "text/plain": [
       "           date    ADM1_EN    diffML3+\n",
       "5    2009-07-01    Gambela   82.365823\n",
       "26   2010-01-01  Dire Dawa  100.000000\n",
       "28   2010-01-01     Harari  100.000000\n",
       "162  2013-01-01       SNNP   51.756077\n",
       "424  2020-06-01     Harari  100.000000\n",
       "430  2020-08-01       Afar   48.539524\n",
       "435  2020-08-01     Harari  100.000000"
      ]
     },
     "execution_count": 647,
     "metadata": {},
     "output_type": "execute_result"
    }
   ],
   "source": [
    "df_fewsa[df_fewsa[\"diffML3+\"]>=40][[\"date\",\"ADM1_EN\",\"diffML3+\"]]"
   ]
  },
  {
   "cell_type": "code",
   "execution_count": 767,
   "metadata": {},
   "outputs": [
    {
     "data": {
      "text/plain": [
       "array(['2010-01-01', '2010-04-01', '2010-07-01', '2011-04-01',\n",
       "       '2011-07-01', '2012-01-01', '2012-04-01', '2012-07-01',\n",
       "       '2013-01-01', '2013-04-01', '2013-07-01', '2015-10-01',\n",
       "       '2016-02-01', '2016-06-01', '2017-06-01', '2020-06-01',\n",
       "       '2020-08-01'], dtype=object)"
      ]
     },
     "execution_count": 767,
     "metadata": {},
     "output_type": "execute_result"
    }
   ],
   "source": [
    "df_fewsa[df_fewsa[\"ML1_3_perc\"]>=90][[\"date\",\"ADM1_EN\",\"ML1_3_perc\"]].date.unique()"
   ]
  },
  {
   "cell_type": "code",
   "execution_count": 766,
   "metadata": {},
   "outputs": [
    {
     "data": {
      "text/html": [
       "<div>\n",
       "<style scoped>\n",
       "    .dataframe tbody tr th:only-of-type {\n",
       "        vertical-align: middle;\n",
       "    }\n",
       "\n",
       "    .dataframe tbody tr th {\n",
       "        vertical-align: top;\n",
       "    }\n",
       "\n",
       "    .dataframe thead th {\n",
       "        text-align: right;\n",
       "    }\n",
       "</style>\n",
       "<table border=\"1\" class=\"dataframe\">\n",
       "  <thead>\n",
       "    <tr style=\"text-align: right;\">\n",
       "      <th></th>\n",
       "      <th>date</th>\n",
       "      <th>ADM1_EN</th>\n",
       "      <th>ML1_3_perc</th>\n",
       "    </tr>\n",
       "  </thead>\n",
       "  <tbody>\n",
       "    <tr>\n",
       "      <th>26</th>\n",
       "      <td>2010-01-01</td>\n",
       "      <td>Dire Dawa</td>\n",
       "      <td>100.0</td>\n",
       "    </tr>\n",
       "    <tr>\n",
       "      <th>28</th>\n",
       "      <td>2010-01-01</td>\n",
       "      <td>Harari</td>\n",
       "      <td>100.0</td>\n",
       "    </tr>\n",
       "    <tr>\n",
       "      <th>39</th>\n",
       "      <td>2010-04-01</td>\n",
       "      <td>Harari</td>\n",
       "      <td>100.0</td>\n",
       "    </tr>\n",
       "    <tr>\n",
       "      <th>44</th>\n",
       "      <td>2010-07-01</td>\n",
       "      <td>Addis Ababa</td>\n",
       "      <td>100.0</td>\n",
       "    </tr>\n",
       "    <tr>\n",
       "      <th>48</th>\n",
       "      <td>2010-07-01</td>\n",
       "      <td>Dire Dawa</td>\n",
       "      <td>100.0</td>\n",
       "    </tr>\n",
       "    <tr>\n",
       "      <th>49</th>\n",
       "      <td>2010-07-01</td>\n",
       "      <td>Gambela</td>\n",
       "      <td>100.0</td>\n",
       "    </tr>\n",
       "    <tr>\n",
       "      <th>78</th>\n",
       "      <td>2011-04-01</td>\n",
       "      <td>Afar</td>\n",
       "      <td>100.0</td>\n",
       "    </tr>\n",
       "    <tr>\n",
       "      <th>83</th>\n",
       "      <td>2011-04-01</td>\n",
       "      <td>Harari</td>\n",
       "      <td>100.0</td>\n",
       "    </tr>\n",
       "    <tr>\n",
       "      <th>89</th>\n",
       "      <td>2011-07-01</td>\n",
       "      <td>Afar</td>\n",
       "      <td>100.0</td>\n",
       "    </tr>\n",
       "    <tr>\n",
       "      <th>94</th>\n",
       "      <td>2011-07-01</td>\n",
       "      <td>Harari</td>\n",
       "      <td>100.0</td>\n",
       "    </tr>\n",
       "    <tr>\n",
       "      <th>119</th>\n",
       "      <td>2012-01-01</td>\n",
       "      <td>Somali</td>\n",
       "      <td>100.0</td>\n",
       "    </tr>\n",
       "    <tr>\n",
       "      <th>130</th>\n",
       "      <td>2012-04-01</td>\n",
       "      <td>Somali</td>\n",
       "      <td>100.0</td>\n",
       "    </tr>\n",
       "    <tr>\n",
       "      <th>136</th>\n",
       "      <td>2012-07-01</td>\n",
       "      <td>Dire Dawa</td>\n",
       "      <td>100.0</td>\n",
       "    </tr>\n",
       "    <tr>\n",
       "      <th>138</th>\n",
       "      <td>2012-07-01</td>\n",
       "      <td>Harari</td>\n",
       "      <td>100.0</td>\n",
       "    </tr>\n",
       "    <tr>\n",
       "      <th>141</th>\n",
       "      <td>2012-07-01</td>\n",
       "      <td>Somali</td>\n",
       "      <td>100.0</td>\n",
       "    </tr>\n",
       "    <tr>\n",
       "      <th>158</th>\n",
       "      <td>2013-01-01</td>\n",
       "      <td>Dire Dawa</td>\n",
       "      <td>100.0</td>\n",
       "    </tr>\n",
       "    <tr>\n",
       "      <th>160</th>\n",
       "      <td>2013-01-01</td>\n",
       "      <td>Harari</td>\n",
       "      <td>100.0</td>\n",
       "    </tr>\n",
       "    <tr>\n",
       "      <th>169</th>\n",
       "      <td>2013-04-01</td>\n",
       "      <td>Dire Dawa</td>\n",
       "      <td>100.0</td>\n",
       "    </tr>\n",
       "    <tr>\n",
       "      <th>171</th>\n",
       "      <td>2013-04-01</td>\n",
       "      <td>Harari</td>\n",
       "      <td>100.0</td>\n",
       "    </tr>\n",
       "    <tr>\n",
       "      <th>180</th>\n",
       "      <td>2013-07-01</td>\n",
       "      <td>Dire Dawa</td>\n",
       "      <td>100.0</td>\n",
       "    </tr>\n",
       "    <tr>\n",
       "      <th>182</th>\n",
       "      <td>2013-07-01</td>\n",
       "      <td>Harari</td>\n",
       "      <td>100.0</td>\n",
       "    </tr>\n",
       "    <tr>\n",
       "      <th>279</th>\n",
       "      <td>2015-10-01</td>\n",
       "      <td>Dire Dawa</td>\n",
       "      <td>100.0</td>\n",
       "    </tr>\n",
       "    <tr>\n",
       "      <th>281</th>\n",
       "      <td>2015-10-01</td>\n",
       "      <td>Harari</td>\n",
       "      <td>100.0</td>\n",
       "    </tr>\n",
       "    <tr>\n",
       "      <th>290</th>\n",
       "      <td>2016-02-01</td>\n",
       "      <td>Dire Dawa</td>\n",
       "      <td>100.0</td>\n",
       "    </tr>\n",
       "    <tr>\n",
       "      <th>292</th>\n",
       "      <td>2016-02-01</td>\n",
       "      <td>Harari</td>\n",
       "      <td>100.0</td>\n",
       "    </tr>\n",
       "    <tr>\n",
       "      <th>301</th>\n",
       "      <td>2016-06-01</td>\n",
       "      <td>Dire Dawa</td>\n",
       "      <td>100.0</td>\n",
       "    </tr>\n",
       "    <tr>\n",
       "      <th>303</th>\n",
       "      <td>2016-06-01</td>\n",
       "      <td>Harari</td>\n",
       "      <td>100.0</td>\n",
       "    </tr>\n",
       "    <tr>\n",
       "      <th>323</th>\n",
       "      <td>2017-06-01</td>\n",
       "      <td>Dire Dawa</td>\n",
       "      <td>100.0</td>\n",
       "    </tr>\n",
       "    <tr>\n",
       "      <th>424</th>\n",
       "      <td>2020-06-01</td>\n",
       "      <td>Harari</td>\n",
       "      <td>100.0</td>\n",
       "    </tr>\n",
       "    <tr>\n",
       "      <th>435</th>\n",
       "      <td>2020-08-01</td>\n",
       "      <td>Harari</td>\n",
       "      <td>100.0</td>\n",
       "    </tr>\n",
       "  </tbody>\n",
       "</table>\n",
       "</div>"
      ],
      "text/plain": [
       "           date      ADM1_EN  ML1_3_perc\n",
       "26   2010-01-01    Dire Dawa       100.0\n",
       "28   2010-01-01       Harari       100.0\n",
       "39   2010-04-01       Harari       100.0\n",
       "44   2010-07-01  Addis Ababa       100.0\n",
       "48   2010-07-01    Dire Dawa       100.0\n",
       "49   2010-07-01      Gambela       100.0\n",
       "78   2011-04-01         Afar       100.0\n",
       "83   2011-04-01       Harari       100.0\n",
       "89   2011-07-01         Afar       100.0\n",
       "94   2011-07-01       Harari       100.0\n",
       "119  2012-01-01       Somali       100.0\n",
       "130  2012-04-01       Somali       100.0\n",
       "136  2012-07-01    Dire Dawa       100.0\n",
       "138  2012-07-01       Harari       100.0\n",
       "141  2012-07-01       Somali       100.0\n",
       "158  2013-01-01    Dire Dawa       100.0\n",
       "160  2013-01-01       Harari       100.0\n",
       "169  2013-04-01    Dire Dawa       100.0\n",
       "171  2013-04-01       Harari       100.0\n",
       "180  2013-07-01    Dire Dawa       100.0\n",
       "182  2013-07-01       Harari       100.0\n",
       "279  2015-10-01    Dire Dawa       100.0\n",
       "281  2015-10-01       Harari       100.0\n",
       "290  2016-02-01    Dire Dawa       100.0\n",
       "292  2016-02-01       Harari       100.0\n",
       "301  2016-06-01    Dire Dawa       100.0\n",
       "303  2016-06-01       Harari       100.0\n",
       "323  2017-06-01    Dire Dawa       100.0\n",
       "424  2020-06-01       Harari       100.0\n",
       "435  2020-08-01       Harari       100.0"
      ]
     },
     "execution_count": 766,
     "metadata": {},
     "output_type": "execute_result"
    }
   ],
   "source": [
    "df_fewsa[df_fewsa[\"ML1_3_perc\"]>=90][[\"date\",\"ADM1_EN\",\"ML1_3_perc\"]]"
   ]
  },
  {
   "cell_type": "code",
   "execution_count": 653,
   "metadata": {},
   "outputs": [
    {
     "data": {
      "text/plain": [
       "80"
      ]
     },
     "execution_count": 653,
     "metadata": {},
     "output_type": "execute_result"
    }
   ],
   "source": [
    "len(df_fewsa[df_fewsa.CS_3_perc>=40])"
   ]
  },
  {
   "cell_type": "code",
   "execution_count": 622,
   "metadata": {},
   "outputs": [
    {
     "data": {
      "text/plain": [
       "(0.0, 10.0)"
      ]
     },
     "execution_count": 622,
     "metadata": {},
     "output_type": "execute_result"
    },
    {
     "data": {
      "image/png": "[encoded data removed]",
      "text/plain": [
       "<Figure size 432x288 with 1 Axes>"
      ]
     },
     "metadata": {
      "needs_background": "light"
     },
     "output_type": "display_data"
    }
   ],
   "source": [
    "sns.distplot(df_fewsa.diffML1_3,kde=False)\n",
    "plt.xlim(20,100)\n",
    "plt.ylim(0,10)"
   ]
  },
  {
   "cell_type": "code",
   "execution_count": 605,
   "metadata": {},
   "outputs": [
    {
     "name": "stderr",
     "output_type": "stream",
     "text": [
      "/Users/tinkavalentijn/opt/anaconda3/envs/aafi/lib/python3.8/site-packages/mapclassify/classifiers.py:888: RuntimeWarning:\n",
      "\n",
      "invalid value encountered in double_scalars\n",
      "\n",
      "/Users/tinkavalentijn/opt/anaconda3/envs/aafi/lib/python3.8/site-packages/mapclassify/classifiers.py:888: RuntimeWarning:\n",
      "\n",
      "invalid value encountered in double_scalars\n",
      "\n"
     ]
    },
    {
     "data": {
      "image/png": "[encoded data removed]",
      "text/plain": [
       "<Figure size 1152x1296 with 5 Axes>"
      ]
     },
     "metadata": {
      "needs_background": "light"
     },
     "output_type": "display_data"
    }
   ],
   "source": [
    "plot_aff_collist(df_comb[(df_comb.date==\"2020-08\") & (df_comb.Source==\"FewsNet\")],[f\"diffML1_{i}\" for i in range(1,6)])"
   ]
  },
  {
   "cell_type": "code",
   "execution_count": 570,
   "metadata": {},
   "outputs": [
    {
     "name": "stderr",
     "output_type": "stream",
     "text": [
      "/Users/tinkavalentijn/opt/anaconda3/envs/aafi/lib/python3.8/site-packages/mapclassify/classifiers.py:888: RuntimeWarning:\n",
      "\n",
      "invalid value encountered in double_scalars\n",
      "\n",
      "/Users/tinkavalentijn/opt/anaconda3/envs/aafi/lib/python3.8/site-packages/mapclassify/classifiers.py:888: RuntimeWarning:\n",
      "\n",
      "invalid value encountered in double_scalars\n",
      "\n"
     ]
    },
    {
     "data": {
      "image/png": "[encoded data removed]",
      "text/plain": [
       "<Figure size 1152x1296 with 5 Axes>"
      ]
     },
     "metadata": {
      "needs_background": "light"
     },
     "output_type": "display_data"
    }
   ],
   "source": [
    "plot_aff_collist(df_comb[(df_comb.date==\"2020-08\") & (df_comb.Source==\"FewsNet\")],[f\"CS_{i}_perc\" for i in range(1,6)])"
   ]
  },
  {
   "cell_type": "code",
   "execution_count": null,
   "metadata": {},
   "outputs": [],
   "source": []
  }
 ],
 "metadata": {
  "kernelspec": {
   "display_name": "aafi",
   "language": "python",
   "name": "aafi"
  },
  "language_info": {
   "codemirror_mode": {
    "name": "ipython",
    "version": 3
   },
   "file_extension": ".py",
   "mimetype": "text/x-python",
   "name": "python",
   "nbconvert_exporter": "python",
   "pygments_lexer": "ipython3",
   "version": "3.8.5"
  }
 },
 "nbformat": 4,
 "nbformat_minor": 4
}
