{
 "cells": [
  {
   "cell_type": "code",
   "execution_count": 1,
   "metadata": {},
   "outputs": [],
   "source": [
    "import pandas as pd\n",
    "import numpy as np"
   ]
  },
  {
   "cell_type": "code",
   "execution_count": 2,
   "metadata": {},
   "outputs": [],
   "source": [
    "# # very hard to work with formatting so looks messy\n",
    "# df_ipc=pd.read_excel(\"Data/Ethiopia - IPC Analysis 2017-2020.xlsx\",header=[10,11])\n",
    "# # df_ipc.columns = [f'{i} {j.replace(\".2\",\"\")}' if \"Unnamed\" not in i else f'{j}' for i, j in df_ipc.columns ]\n",
    "# df_ipcp=df_ipc[['Level 1 Name','Area',\"#\",\"Date of Analysis\",\"Area Phase\"]]\n",
    "# df_ipcp=df_ipcp[df_ipcp[\"Area Phase\"].notnull()]\n",
    "# df_ipcp=df_ipcp.rename(columns={\"Level 1 Name\":\"ADM1_EN\",\"Area\":\"ADM2_EN\",\"#\":\"pop_CS\",\"Date of Analysis\":\"date\",\"Area Phase\":\"CS\"})\n",
    "# df_ipcp.date=pd.to_datetime(df_ipcp.date,format=\"%b %Y\")\n",
    "# status=\"CS\"\n",
    "# for level in [1, 2, 3, 4, 5]:\n",
    "#     ipc_id = \"{}_{}\".format(status, level)\n",
    "#     df_ipcp[ipc_id] = np.where(\n",
    "#         df_ipcp[status] == level,\n",
    "#         df_ipcp[f\"pop_{status}\"],\n",
    "#         (np.where(df_ipcp[status] == 99, np.nan, 0)),\n",
    "#     )\n",
    "# df_ipcp=df_ipcp[[\"date\",\"ADM1_EN\",\"ADM2_EN\",\"pop_CS\"]+[f\"CS_{i}\" for i in range(1,6)]]\n",
    "# df_ipcp=df_ipcp.groupby([\"date\",\"ADM1_EN\"]).agg(lambda x: np.nan if x.isnull().all() else x.sum()).reset_index()"
   ]
  },
  {
   "cell_type": "code",
   "execution_count": 3,
   "metadata": {},
   "outputs": [],
   "source": [
    "#this is an edited file with solely the admin1 regions and edited column names\n",
    "df_ipcp=pd.read_csv(\"Data/GlobalIPC_Ethiopia_Admin1.csv\",delimiter=\";\",thousands=\".\")"
   ]
  },
  {
   "cell_type": "code",
   "execution_count": 4,
   "metadata": {},
   "outputs": [],
   "source": [
    "df_ipcp.rename(columns={\"Date of Analysis\":\"date\",\"ADMIN1\":\"ADM1_EN\"},inplace=True)"
   ]
  },
  {
   "cell_type": "code",
   "execution_count": 5,
   "metadata": {},
   "outputs": [],
   "source": [
    "df_ipcp[\"date\"]=pd.to_datetime(df_ipcp[\"date\"],format=\"%b/%y\")"
   ]
  },
  {
   "cell_type": "code",
   "execution_count": 6,
   "metadata": {},
   "outputs": [],
   "source": [
    "df_ipcp=df_ipcp.replace('%','', regex=True)"
   ]
  },
  {
   "cell_type": "code",
   "execution_count": 7,
   "metadata": {},
   "outputs": [
    {
     "data": {
      "text/plain": [
       "Index(['ADM1_EN', 'date', 'Country Population', 'pop_CS', 'CS_1', 'CS_1_perc',\n",
       "       'CS_2', 'CS_2_perc', 'CS_3', 'CS_3_perc', 'CS_4', 'CS_4_perc', 'CS_5',\n",
       "       'CS_5_perc', 'pop_ML1', 'ML1_1', 'ML1_1_perc', 'ML1_2', 'ML1_2_perc',\n",
       "       'ML1_3', 'ML1_3_perc', 'ML1_4', 'ML1_4_perc', 'ML1_5', 'ML1_5_perc',\n",
       "       'pop_ML2', 'ML2_1', 'ML2_1_perc', 'ML2_2', 'ML2_2_perc', 'ML2_3',\n",
       "       'ML2_3_perc', 'ML2_4', 'ML2_4_perc', 'ML2_5', 'ML2_5_perc'],\n",
       "      dtype='object')"
      ]
     },
     "execution_count": 7,
     "metadata": {},
     "output_type": "execute_result"
    }
   ],
   "source": [
    "df_ipcp.columns"
   ]
  },
  {
   "cell_type": "code",
   "execution_count": 8,
   "metadata": {},
   "outputs": [],
   "source": [
    "#convert to ints\n",
    "df_ipcp.loc[:, ~df_ipcp.columns.isin([\"ADM1_EN\",\"date\",\"Analysis Period\"])]=df_ipcp.loc[:, ~df_ipcp.columns.isin([\"ADM1_EN\",\"date\",\"Analysis Period\"])].astype(int)"
   ]
  },
  {
   "cell_type": "code",
   "execution_count": 9,
   "metadata": {},
   "outputs": [],
   "source": [
    "def get_trigger(row, status, level, perc):\n",
    "    # range till 6 cause 5 is max level\n",
    "    cols = [f\"{status}_{l}\" for l in range(level, 6)]\n",
    "    if np.isnan(row[f\"pop_{status}\"]):\n",
    "        return np.nan\n",
    "    if row[cols].sum() >= row[f\"pop_{status}\"] / (100 / perc):\n",
    "        return 1\n",
    "    else:\n",
    "        return 0\n",
    "\n",
    "\n",
    "def get_trigger_increase(row, level, perc):\n",
    "    # range till 6 cause 5 is max level\n",
    "    cols_ml1 = [f\"ML1_{l}\" for l in range(level, 6)]\n",
    "    cols_cs = [f\"CS_{l}\" for l in range(level, 6)]\n",
    "    if row[[\"pop_CS\", \"pop_ML1\"]].isnull().values.any():\n",
    "        return np.nan\n",
    "    if row[cols_ml1].sum() == 0:\n",
    "        return 0\n",
    "    if row[cols_ml1].sum() >= row[cols_cs].sum() * (1 + (perc / 100)):\n",
    "        return 1\n",
    "    else:\n",
    "        return 0"
   ]
  },
  {
   "cell_type": "code",
   "execution_count": 10,
   "metadata": {},
   "outputs": [],
   "source": [
    "df_ipcp['year'] = df_ipcp['date'].dt.year\n",
    "df_ipcp['month'] = df_ipcp['date'].dt.month"
   ]
  },
  {
   "cell_type": "code",
   "execution_count": 11,
   "metadata": {},
   "outputs": [
    {
     "data": {
      "text/html": [
       "<div>\n",
       "<style scoped>\n",
       "    .dataframe tbody tr th:only-of-type {\n",
       "        vertical-align: middle;\n",
       "    }\n",
       "\n",
       "    .dataframe tbody tr th {\n",
       "        vertical-align: top;\n",
       "    }\n",
       "\n",
       "    .dataframe thead th {\n",
       "        text-align: right;\n",
       "    }\n",
       "</style>\n",
       "<table border=\"1\" class=\"dataframe\">\n",
       "  <thead>\n",
       "    <tr style=\"text-align: right;\">\n",
       "      <th></th>\n",
       "      <th>ADM1_EN</th>\n",
       "      <th>date</th>\n",
       "      <th>Country Population</th>\n",
       "      <th>pop_CS</th>\n",
       "      <th>CS_1</th>\n",
       "      <th>CS_1_perc</th>\n",
       "      <th>CS_2</th>\n",
       "      <th>CS_2_perc</th>\n",
       "      <th>CS_3</th>\n",
       "      <th>CS_3_perc</th>\n",
       "      <th>...</th>\n",
       "      <th>ML2_2</th>\n",
       "      <th>ML2_2_perc</th>\n",
       "      <th>ML2_3</th>\n",
       "      <th>ML2_3_perc</th>\n",
       "      <th>ML2_4</th>\n",
       "      <th>ML2_4_perc</th>\n",
       "      <th>ML2_5</th>\n",
       "      <th>ML2_5_perc</th>\n",
       "      <th>year</th>\n",
       "      <th>month</th>\n",
       "    </tr>\n",
       "  </thead>\n",
       "  <tbody>\n",
       "    <tr>\n",
       "      <th>0</th>\n",
       "      <td>Afar</td>\n",
       "      <td>2020-08-01</td>\n",
       "      <td>114964000</td>\n",
       "      <td>1540553</td>\n",
       "      <td>647322</td>\n",
       "      <td>42</td>\n",
       "      <td>516581</td>\n",
       "      <td>34</td>\n",
       "      <td>313370</td>\n",
       "      <td>20</td>\n",
       "      <td>...</td>\n",
       "      <td>583797</td>\n",
       "      <td>37</td>\n",
       "      <td>426361</td>\n",
       "      <td>27</td>\n",
       "      <td>78274</td>\n",
       "      <td>5</td>\n",
       "      <td>0</td>\n",
       "      <td>0</td>\n",
       "      <td>2020</td>\n",
       "      <td>8</td>\n",
       "    </tr>\n",
       "    <tr>\n",
       "      <th>1</th>\n",
       "      <td>Amhara</td>\n",
       "      <td>2020-08-01</td>\n",
       "      <td>114964000</td>\n",
       "      <td>6084363</td>\n",
       "      <td>3483150</td>\n",
       "      <td>57</td>\n",
       "      <td>1709456</td>\n",
       "      <td>28</td>\n",
       "      <td>682492</td>\n",
       "      <td>11</td>\n",
       "      <td>...</td>\n",
       "      <td>1188029</td>\n",
       "      <td>19</td>\n",
       "      <td>614339</td>\n",
       "      <td>10</td>\n",
       "      <td>0</td>\n",
       "      <td>0</td>\n",
       "      <td>0</td>\n",
       "      <td>0</td>\n",
       "      <td>2020</td>\n",
       "      <td>8</td>\n",
       "    </tr>\n",
       "    <tr>\n",
       "      <th>2</th>\n",
       "      <td>Oromia</td>\n",
       "      <td>2020-08-01</td>\n",
       "      <td>114964000</td>\n",
       "      <td>16937642</td>\n",
       "      <td>7512571</td>\n",
       "      <td>44</td>\n",
       "      <td>5594669</td>\n",
       "      <td>33</td>\n",
       "      <td>3268079</td>\n",
       "      <td>19</td>\n",
       "      <td>...</td>\n",
       "      <td>5565310</td>\n",
       "      <td>32</td>\n",
       "      <td>4326308</td>\n",
       "      <td>25</td>\n",
       "      <td>948789</td>\n",
       "      <td>5</td>\n",
       "      <td>0</td>\n",
       "      <td>0</td>\n",
       "      <td>2020</td>\n",
       "      <td>8</td>\n",
       "    </tr>\n",
       "    <tr>\n",
       "      <th>3</th>\n",
       "      <td>SNNP</td>\n",
       "      <td>2020-08-01</td>\n",
       "      <td>114964000</td>\n",
       "      <td>7404334</td>\n",
       "      <td>3582210</td>\n",
       "      <td>48</td>\n",
       "      <td>2393761</td>\n",
       "      <td>32</td>\n",
       "      <td>1112366</td>\n",
       "      <td>15</td>\n",
       "      <td>...</td>\n",
       "      <td>2431700</td>\n",
       "      <td>32</td>\n",
       "      <td>1468883</td>\n",
       "      <td>19</td>\n",
       "      <td>394024</td>\n",
       "      <td>5</td>\n",
       "      <td>0</td>\n",
       "      <td>0</td>\n",
       "      <td>2020</td>\n",
       "      <td>8</td>\n",
       "    </tr>\n",
       "    <tr>\n",
       "      <th>4</th>\n",
       "      <td>Sidama</td>\n",
       "      <td>2020-08-01</td>\n",
       "      <td>114964000</td>\n",
       "      <td>3177915</td>\n",
       "      <td>2065645</td>\n",
       "      <td>65</td>\n",
       "      <td>635583</td>\n",
       "      <td>20</td>\n",
       "      <td>476687</td>\n",
       "      <td>15</td>\n",
       "      <td>...</td>\n",
       "      <td>808760</td>\n",
       "      <td>25</td>\n",
       "      <td>647008</td>\n",
       "      <td>20</td>\n",
       "      <td>161752</td>\n",
       "      <td>5</td>\n",
       "      <td>0</td>\n",
       "      <td>0</td>\n",
       "      <td>2020</td>\n",
       "      <td>8</td>\n",
       "    </tr>\n",
       "    <tr>\n",
       "      <th>5</th>\n",
       "      <td>Somali</td>\n",
       "      <td>2020-08-01</td>\n",
       "      <td>114964000</td>\n",
       "      <td>5307061</td>\n",
       "      <td>1906949</td>\n",
       "      <td>36</td>\n",
       "      <td>1955920</td>\n",
       "      <td>37</td>\n",
       "      <td>1153513</td>\n",
       "      <td>22</td>\n",
       "      <td>...</td>\n",
       "      <td>1934893</td>\n",
       "      <td>36</td>\n",
       "      <td>1416565</td>\n",
       "      <td>26</td>\n",
       "      <td>542824</td>\n",
       "      <td>10</td>\n",
       "      <td>0</td>\n",
       "      <td>0</td>\n",
       "      <td>2020</td>\n",
       "      <td>8</td>\n",
       "    </tr>\n",
       "    <tr>\n",
       "      <th>6</th>\n",
       "      <td>Tigray</td>\n",
       "      <td>2020-08-01</td>\n",
       "      <td>114964000</td>\n",
       "      <td>576351</td>\n",
       "      <td>316993</td>\n",
       "      <td>55</td>\n",
       "      <td>201723</td>\n",
       "      <td>35</td>\n",
       "      <td>57635</td>\n",
       "      <td>10</td>\n",
       "      <td>...</td>\n",
       "      <td>261136</td>\n",
       "      <td>45</td>\n",
       "      <td>58030</td>\n",
       "      <td>10</td>\n",
       "      <td>0</td>\n",
       "      <td>0</td>\n",
       "      <td>0</td>\n",
       "      <td>0</td>\n",
       "      <td>2020</td>\n",
       "      <td>8</td>\n",
       "    </tr>\n",
       "    <tr>\n",
       "      <th>7</th>\n",
       "      <td>Afar</td>\n",
       "      <td>2019-09-01</td>\n",
       "      <td>112079000</td>\n",
       "      <td>1513546</td>\n",
       "      <td>620157</td>\n",
       "      <td>40</td>\n",
       "      <td>520180</td>\n",
       "      <td>36</td>\n",
       "      <td>313633</td>\n",
       "      <td>21</td>\n",
       "      <td>...</td>\n",
       "      <td>609136</td>\n",
       "      <td>40</td>\n",
       "      <td>296572</td>\n",
       "      <td>19</td>\n",
       "      <td>44650</td>\n",
       "      <td>2</td>\n",
       "      <td>0</td>\n",
       "      <td>0</td>\n",
       "      <td>2019</td>\n",
       "      <td>9</td>\n",
       "    </tr>\n",
       "    <tr>\n",
       "      <th>8</th>\n",
       "      <td>Amhara</td>\n",
       "      <td>2019-09-01</td>\n",
       "      <td>112079000</td>\n",
       "      <td>3457931</td>\n",
       "      <td>1763232</td>\n",
       "      <td>53</td>\n",
       "      <td>871182</td>\n",
       "      <td>26</td>\n",
       "      <td>594367</td>\n",
       "      <td>15</td>\n",
       "      <td>...</td>\n",
       "      <td>1000900</td>\n",
       "      <td>28</td>\n",
       "      <td>675361</td>\n",
       "      <td>19</td>\n",
       "      <td>228197</td>\n",
       "      <td>7</td>\n",
       "      <td>0</td>\n",
       "      <td>0</td>\n",
       "      <td>2019</td>\n",
       "      <td>9</td>\n",
       "    </tr>\n",
       "    <tr>\n",
       "      <th>9</th>\n",
       "      <td>Oromiya</td>\n",
       "      <td>2019-09-01</td>\n",
       "      <td>112079000</td>\n",
       "      <td>11497625</td>\n",
       "      <td>3285838</td>\n",
       "      <td>30</td>\n",
       "      <td>4690268</td>\n",
       "      <td>39</td>\n",
       "      <td>2434229</td>\n",
       "      <td>22</td>\n",
       "      <td>...</td>\n",
       "      <td>4439410</td>\n",
       "      <td>38</td>\n",
       "      <td>2862716</td>\n",
       "      <td>24</td>\n",
       "      <td>1301955</td>\n",
       "      <td>10</td>\n",
       "      <td>0</td>\n",
       "      <td>0</td>\n",
       "      <td>2019</td>\n",
       "      <td>9</td>\n",
       "    </tr>\n",
       "    <tr>\n",
       "      <th>10</th>\n",
       "      <td>SNNPR</td>\n",
       "      <td>2019-09-01</td>\n",
       "      <td>112079000</td>\n",
       "      <td>5600673</td>\n",
       "      <td>2898809</td>\n",
       "      <td>52</td>\n",
       "      <td>1631304</td>\n",
       "      <td>28</td>\n",
       "      <td>865172</td>\n",
       "      <td>16</td>\n",
       "      <td>...</td>\n",
       "      <td>1829995</td>\n",
       "      <td>31</td>\n",
       "      <td>958706</td>\n",
       "      <td>17</td>\n",
       "      <td>262780</td>\n",
       "      <td>5</td>\n",
       "      <td>0</td>\n",
       "      <td>0</td>\n",
       "      <td>2019</td>\n",
       "      <td>9</td>\n",
       "    </tr>\n",
       "    <tr>\n",
       "      <th>11</th>\n",
       "      <td>Somali</td>\n",
       "      <td>2019-09-01</td>\n",
       "      <td>112079000</td>\n",
       "      <td>5158000</td>\n",
       "      <td>1474153</td>\n",
       "      <td>27</td>\n",
       "      <td>1906823</td>\n",
       "      <td>38</td>\n",
       "      <td>1533970</td>\n",
       "      <td>30</td>\n",
       "      <td>...</td>\n",
       "      <td>1970584</td>\n",
       "      <td>37</td>\n",
       "      <td>1453249</td>\n",
       "      <td>27</td>\n",
       "      <td>131025</td>\n",
       "      <td>3</td>\n",
       "      <td>0</td>\n",
       "      <td>0</td>\n",
       "      <td>2019</td>\n",
       "      <td>9</td>\n",
       "    </tr>\n",
       "    <tr>\n",
       "      <th>12</th>\n",
       "      <td>Tigray</td>\n",
       "      <td>2019-09-01</td>\n",
       "      <td>112079000</td>\n",
       "      <td>1499302</td>\n",
       "      <td>684329</td>\n",
       "      <td>44</td>\n",
       "      <td>413821</td>\n",
       "      <td>29</td>\n",
       "      <td>369046</td>\n",
       "      <td>24</td>\n",
       "      <td>...</td>\n",
       "      <td>445821</td>\n",
       "      <td>30</td>\n",
       "      <td>250478</td>\n",
       "      <td>17</td>\n",
       "      <td>8101</td>\n",
       "      <td>1</td>\n",
       "      <td>0</td>\n",
       "      <td>0</td>\n",
       "      <td>2019</td>\n",
       "      <td>9</td>\n",
       "    </tr>\n",
       "  </tbody>\n",
       "</table>\n",
       "<p>13 rows × 38 columns</p>\n",
       "</div>"
      ],
      "text/plain": [
       "    ADM1_EN       date  Country Population    pop_CS     CS_1  CS_1_perc  \\\n",
       "0      Afar 2020-08-01           114964000   1540553   647322         42   \n",
       "1    Amhara 2020-08-01           114964000   6084363  3483150         57   \n",
       "2    Oromia 2020-08-01           114964000  16937642  7512571         44   \n",
       "3      SNNP 2020-08-01           114964000   7404334  3582210         48   \n",
       "4    Sidama 2020-08-01           114964000   3177915  2065645         65   \n",
       "5    Somali 2020-08-01           114964000   5307061  1906949         36   \n",
       "6    Tigray 2020-08-01           114964000    576351   316993         55   \n",
       "7      Afar 2019-09-01           112079000   1513546   620157         40   \n",
       "8    Amhara 2019-09-01           112079000   3457931  1763232         53   \n",
       "9   Oromiya 2019-09-01           112079000  11497625  3285838         30   \n",
       "10    SNNPR 2019-09-01           112079000   5600673  2898809         52   \n",
       "11   Somali 2019-09-01           112079000   5158000  1474153         27   \n",
       "12   Tigray 2019-09-01           112079000   1499302   684329         44   \n",
       "\n",
       "       CS_2  CS_2_perc     CS_3  CS_3_perc  ...    ML2_2  ML2_2_perc    ML2_3  \\\n",
       "0    516581         34   313370         20  ...   583797          37   426361   \n",
       "1   1709456         28   682492         11  ...  1188029          19   614339   \n",
       "2   5594669         33  3268079         19  ...  5565310          32  4326308   \n",
       "3   2393761         32  1112366         15  ...  2431700          32  1468883   \n",
       "4    635583         20   476687         15  ...   808760          25   647008   \n",
       "5   1955920         37  1153513         22  ...  1934893          36  1416565   \n",
       "6    201723         35    57635         10  ...   261136          45    58030   \n",
       "7    520180         36   313633         21  ...   609136          40   296572   \n",
       "8    871182         26   594367         15  ...  1000900          28   675361   \n",
       "9   4690268         39  2434229         22  ...  4439410          38  2862716   \n",
       "10  1631304         28   865172         16  ...  1829995          31   958706   \n",
       "11  1906823         38  1533970         30  ...  1970584          37  1453249   \n",
       "12   413821         29   369046         24  ...   445821          30   250478   \n",
       "\n",
       "    ML2_3_perc    ML2_4  ML2_4_perc  ML2_5  ML2_5_perc  year  month  \n",
       "0           27    78274           5      0           0  2020      8  \n",
       "1           10        0           0      0           0  2020      8  \n",
       "2           25   948789           5      0           0  2020      8  \n",
       "3           19   394024           5      0           0  2020      8  \n",
       "4           20   161752           5      0           0  2020      8  \n",
       "5           26   542824          10      0           0  2020      8  \n",
       "6           10        0           0      0           0  2020      8  \n",
       "7           19    44650           2      0           0  2019      9  \n",
       "8           19   228197           7      0           0  2019      9  \n",
       "9           24  1301955          10      0           0  2019      9  \n",
       "10          17   262780           5      0           0  2019      9  \n",
       "11          27   131025           3      0           0  2019      9  \n",
       "12          17     8101           1      0           0  2019      9  \n",
       "\n",
       "[13 rows x 38 columns]"
      ]
     },
     "execution_count": 11,
     "metadata": {},
     "output_type": "execute_result"
    }
   ],
   "source": [
    "df_ipcp"
   ]
  },
  {
   "cell_type": "code",
   "execution_count": 12,
   "metadata": {},
   "outputs": [],
   "source": [
    "df_ipcp[\"trigger_CS_3_20\"]=df_ipcp.apply(lambda x: get_trigger(x,\"CS\",3,20),axis=1)\n",
    "df_ipcp[\"trigger_CS_4_2\"]=df_ipcp.apply(lambda x: get_trigger(x,\"CS\",4,2.5),axis=1)\n",
    "df_ipcp[\"trigger_CS_4_20\"]=df_ipcp.apply(lambda x: get_trigger(x,\"CS\",4,20),axis=1)\n",
    "df_ipcp[\"trigger_CS_4_10\"]=df_ipcp.apply(lambda x: get_trigger(x,\"CS\",4,10),axis=1)\n",
    "df_ipcp[\"trigger_ML1_4_10\"]=df_ipcp.apply(lambda x: get_trigger(x,\"ML1\",4,10),axis=1)\n",
    "df_ipcp[\"trigger_ML1_4_20\"]=df_ipcp.apply(lambda x: get_trigger(x,\"ML1\",4,20),axis=1)\n",
    "df_ipcp[\"trigger_CS_4_1\"]=df_ipcp.apply(lambda x: get_trigger(x,\"CS\",4,0.1),axis=1)"
   ]
  },
  {
   "cell_type": "code",
   "execution_count": 13,
   "metadata": {},
   "outputs": [],
   "source": [
    "def get_trigger(row, status, level, perc):\n",
    "    # range till 6 cause 5 is max level\n",
    "    cols = [f\"{status}_{l}\" for l in range(level, 6)]\n",
    "    if np.isnan(row[f\"pop_{status}\"]):\n",
    "        return np.nan\n",
    "    if row[cols].sum() >= row[f\"pop_{status}\"] / (100 / perc):\n",
    "        return 1\n",
    "    else:\n",
    "        return 0\n",
    "\n",
    "\n",
    "def get_trigger_increase_rel(row, level, perc):\n",
    "    # range till 6 cause 5 is max level\n",
    "    cols_ml1 = [f\"ML1_{l}\" for l in range(level, 6)]\n",
    "    cols_cs = [f\"CS_{l}\" for l in range(level, 6)]\n",
    "    if row[[\"pop_CS\", \"pop_ML1\"]].isnull().values.any():\n",
    "        return np.nan\n",
    "    if row[cols_ml1].sum() == 0:\n",
    "        return 0\n",
    "    if row[cols_ml1].sum() >= row[cols_cs].sum() * (1 + (perc / 100)):\n",
    "        return 1\n",
    "    else:\n",
    "        return 0\n",
    "    \n",
    "def get_trigger_increase(row, level, perc):\n",
    "    # range till 6 cause 5 is max level\n",
    "    cols_ml1 = [f\"ML1_{l}\" for l in range(level, 6)]\n",
    "    cols_cs = [f\"CS_{l}\" for l in range(level, 6)]\n",
    "    if row[[\"pop_CS\", \"pop_ML1\"]].isnull().values.any():\n",
    "        return np.nan\n",
    "    if row[cols_ml1].sum() == 0:\n",
    "        return 0\n",
    "    if (row[cols_ml1].sum() - row[cols_cs].sum())/row[\"pop_CS\"]*100>= perc:\n",
    "        return 1\n",
    "    else:\n",
    "        return 0"
   ]
  },
  {
   "cell_type": "code",
   "execution_count": 14,
   "metadata": {},
   "outputs": [],
   "source": [
    "#get yes/no for different thresholds\n",
    "df_ipcp[\"trigger_CS_3_20\"]=df_ipcp.apply(lambda x: get_trigger(x,\"CS\",3,20),axis=1)\n",
    "df_ipcp[\"trigger_CS_3_40\"]=df_ipcp.apply(lambda x: get_trigger(x,\"CS\",3,40),axis=1)\n",
    "df_ipcp[\"trigger_CS_4_2\"]=df_ipcp.apply(lambda x: get_trigger(x,\"CS\",4,2.5),axis=1)\n",
    "df_ipcp[\"trigger_CS_4_20\"]=df_ipcp.apply(lambda x: get_trigger(x,\"CS\",4,20),axis=1)\n",
    "df_ipcp[\"trigger_CS_4_10\"]=df_ipcp.apply(lambda x: get_trigger(x,\"CS\",4,10),axis=1)\n",
    "df_ipcp[\"trigger_CS_4_1\"]=df_ipcp.apply(lambda x: get_trigger(x,\"CS\",4,0.1),axis=1)\n",
    "df_ipcp[\"trigger_ML1_3_5\"]=df_ipcp.apply(lambda x: get_trigger(x,\"ML1\",3,5),axis=1)\n",
    "df_ipcp[\"trigger_ML1_4_2\"]=df_ipcp.apply(lambda x: get_trigger(x,\"ML1\",4,2.5),axis=1)\n",
    "df_ipcp[\"trigger_ML1_4_20\"]=df_ipcp.apply(lambda x: get_trigger(x,\"ML1\",4,20),axis=1)\n",
    "df_ipcp[\"trigger_ML1_3_20\"]=df_ipcp.apply(lambda x: get_trigger(x,\"ML1\",3,20),axis=1)\n",
    "df_ipcp[\"trigger_ML1_3_30\"]=df_ipcp.apply(lambda x: get_trigger(x,\"ML1\",3,30),axis=1)\n",
    "df_ipcp[\"trigger_ML1_3_5ir\"]=df_ipcp.apply(lambda x: get_trigger_increase_rel(x,3,5),axis=1)\n",
    "df_ipcp[\"trigger_ML1_3_40ir\"]=df_ipcp.apply(lambda x: get_trigger_increase_rel(x,3,40),axis=1)\n",
    "df_ipcp[\"trigger_ML1_3_70ir\"]=df_ipcp.apply(lambda x: get_trigger_increase_rel(x,3,70),axis=1)\n",
    "df_ipcp[\"trigger_ML1_3_5i\"]=df_ipcp.apply(lambda x: get_trigger_increase(x,3,5),axis=1)\n",
    "df_ipcp[\"trigger_ML1_3_10i\"]=df_ipcp.apply(lambda x: get_trigger_increase(x,3,10),axis=1)\n",
    "df_ipcp[\"trigger_ML1_3_20i\"]=df_ipcp.apply(lambda x: get_trigger_increase(x,3,20),axis=1)\n",
    "df_ipcp[\"trigger_ML1_3_30i\"]=df_ipcp.apply(lambda x: get_trigger_increase(x,3,30),axis=1)\n",
    "df_ipcp[\"trigger_ML1_3_40i\"]=df_ipcp.apply(lambda x: get_trigger_increase(x,3,40),axis=1)\n",
    "df_ipcp[\"trigger_ML1_3_50i\"]=df_ipcp.apply(lambda x: get_trigger_increase(x,3,50),axis=1)\n",
    "df_ipcp[\"trigger_ML1_3_70i\"]=df_ipcp.apply(lambda x: get_trigger_increase(x,3,70),axis=1)"
   ]
  },
  {
   "cell_type": "code",
   "execution_count": 15,
   "metadata": {},
   "outputs": [],
   "source": [
    "for c in [f\"CS_{i}\" for i in range(1,6)]+[f\"ML1_{i}\" for i in range(1,6)]:\n",
    "    status=c.split(\"_\")[0]\n",
    "    df_ipcp[f\"perc_{c}\"]=df_ipcp[c]/df_ipcp[f\"pop_{status}\"]*100"
   ]
  },
  {
   "cell_type": "code",
   "execution_count": 16,
   "metadata": {},
   "outputs": [
    {
     "data": {
      "text/html": [
       "<div>\n",
       "<style scoped>\n",
       "    .dataframe tbody tr th:only-of-type {\n",
       "        vertical-align: middle;\n",
       "    }\n",
       "\n",
       "    .dataframe tbody tr th {\n",
       "        vertical-align: top;\n",
       "    }\n",
       "\n",
       "    .dataframe thead th {\n",
       "        text-align: right;\n",
       "    }\n",
       "</style>\n",
       "<table border=\"1\" class=\"dataframe\">\n",
       "  <thead>\n",
       "    <tr style=\"text-align: right;\">\n",
       "      <th></th>\n",
       "      <th>ADM1_EN</th>\n",
       "      <th>date</th>\n",
       "      <th>Country Population</th>\n",
       "      <th>pop_CS</th>\n",
       "      <th>CS_1</th>\n",
       "      <th>CS_1_perc</th>\n",
       "      <th>CS_2</th>\n",
       "      <th>CS_2_perc</th>\n",
       "      <th>CS_3</th>\n",
       "      <th>CS_3_perc</th>\n",
       "      <th>...</th>\n",
       "      <th>perc_CS_1</th>\n",
       "      <th>perc_CS_2</th>\n",
       "      <th>perc_CS_3</th>\n",
       "      <th>perc_CS_4</th>\n",
       "      <th>perc_CS_5</th>\n",
       "      <th>perc_ML1_1</th>\n",
       "      <th>perc_ML1_2</th>\n",
       "      <th>perc_ML1_3</th>\n",
       "      <th>perc_ML1_4</th>\n",
       "      <th>perc_ML1_5</th>\n",
       "    </tr>\n",
       "  </thead>\n",
       "  <tbody>\n",
       "    <tr>\n",
       "      <th>0</th>\n",
       "      <td>Afar</td>\n",
       "      <td>2020-08-01</td>\n",
       "      <td>114964000</td>\n",
       "      <td>1540553</td>\n",
       "      <td>647322</td>\n",
       "      <td>42</td>\n",
       "      <td>516581</td>\n",
       "      <td>34</td>\n",
       "      <td>313370</td>\n",
       "      <td>20</td>\n",
       "      <td>...</td>\n",
       "      <td>42.018808</td>\n",
       "      <td>33.532180</td>\n",
       "      <td>20.341397</td>\n",
       "      <td>4.107616</td>\n",
       "      <td>0.0</td>\n",
       "      <td>39.435904</td>\n",
       "      <td>37.893471</td>\n",
       "      <td>18.506277</td>\n",
       "      <td>4.164414</td>\n",
       "      <td>0.0</td>\n",
       "    </tr>\n",
       "    <tr>\n",
       "      <th>1</th>\n",
       "      <td>Amhara</td>\n",
       "      <td>2020-08-01</td>\n",
       "      <td>114964000</td>\n",
       "      <td>6084363</td>\n",
       "      <td>3483150</td>\n",
       "      <td>57</td>\n",
       "      <td>1709456</td>\n",
       "      <td>28</td>\n",
       "      <td>682492</td>\n",
       "      <td>11</td>\n",
       "      <td>...</td>\n",
       "      <td>57.247571</td>\n",
       "      <td>28.095891</td>\n",
       "      <td>11.217148</td>\n",
       "      <td>3.439374</td>\n",
       "      <td>0.0</td>\n",
       "      <td>85.000007</td>\n",
       "      <td>10.000012</td>\n",
       "      <td>4.999998</td>\n",
       "      <td>0.000000</td>\n",
       "      <td>0.0</td>\n",
       "    </tr>\n",
       "    <tr>\n",
       "      <th>2</th>\n",
       "      <td>Oromia</td>\n",
       "      <td>2020-08-01</td>\n",
       "      <td>114964000</td>\n",
       "      <td>16937642</td>\n",
       "      <td>7512571</td>\n",
       "      <td>44</td>\n",
       "      <td>5594669</td>\n",
       "      <td>33</td>\n",
       "      <td>3268079</td>\n",
       "      <td>19</td>\n",
       "      <td>...</td>\n",
       "      <td>44.354291</td>\n",
       "      <td>33.030979</td>\n",
       "      <td>19.294770</td>\n",
       "      <td>3.319954</td>\n",
       "      <td>0.0</td>\n",
       "      <td>48.628587</td>\n",
       "      <td>33.970667</td>\n",
       "      <td>16.454882</td>\n",
       "      <td>0.945864</td>\n",
       "      <td>0.0</td>\n",
       "    </tr>\n",
       "    <tr>\n",
       "      <th>3</th>\n",
       "      <td>SNNP</td>\n",
       "      <td>2020-08-01</td>\n",
       "      <td>114964000</td>\n",
       "      <td>7404334</td>\n",
       "      <td>3582210</td>\n",
       "      <td>48</td>\n",
       "      <td>2393761</td>\n",
       "      <td>32</td>\n",
       "      <td>1112366</td>\n",
       "      <td>15</td>\n",
       "      <td>...</td>\n",
       "      <td>48.379908</td>\n",
       "      <td>32.329187</td>\n",
       "      <td>15.023174</td>\n",
       "      <td>4.267744</td>\n",
       "      <td>0.0</td>\n",
       "      <td>48.356733</td>\n",
       "      <td>32.990422</td>\n",
       "      <td>14.577381</td>\n",
       "      <td>4.075478</td>\n",
       "      <td>0.0</td>\n",
       "    </tr>\n",
       "    <tr>\n",
       "      <th>4</th>\n",
       "      <td>Sidama</td>\n",
       "      <td>2020-08-01</td>\n",
       "      <td>114964000</td>\n",
       "      <td>3177915</td>\n",
       "      <td>2065645</td>\n",
       "      <td>65</td>\n",
       "      <td>635583</td>\n",
       "      <td>20</td>\n",
       "      <td>476687</td>\n",
       "      <td>15</td>\n",
       "      <td>...</td>\n",
       "      <td>65.000008</td>\n",
       "      <td>20.000000</td>\n",
       "      <td>14.999992</td>\n",
       "      <td>0.000000</td>\n",
       "      <td>0.0</td>\n",
       "      <td>60.000000</td>\n",
       "      <td>25.000008</td>\n",
       "      <td>14.999992</td>\n",
       "      <td>0.000000</td>\n",
       "      <td>0.0</td>\n",
       "    </tr>\n",
       "    <tr>\n",
       "      <th>5</th>\n",
       "      <td>Somali</td>\n",
       "      <td>2020-08-01</td>\n",
       "      <td>114964000</td>\n",
       "      <td>5307061</td>\n",
       "      <td>1906949</td>\n",
       "      <td>36</td>\n",
       "      <td>1955920</td>\n",
       "      <td>37</td>\n",
       "      <td>1153513</td>\n",
       "      <td>22</td>\n",
       "      <td>...</td>\n",
       "      <td>35.932298</td>\n",
       "      <td>36.855050</td>\n",
       "      <td>21.735439</td>\n",
       "      <td>5.477175</td>\n",
       "      <td>0.0</td>\n",
       "      <td>38.429651</td>\n",
       "      <td>39.280404</td>\n",
       "      <td>16.860688</td>\n",
       "      <td>5.429239</td>\n",
       "      <td>0.0</td>\n",
       "    </tr>\n",
       "    <tr>\n",
       "      <th>6</th>\n",
       "      <td>Tigray</td>\n",
       "      <td>2020-08-01</td>\n",
       "      <td>114964000</td>\n",
       "      <td>576351</td>\n",
       "      <td>316993</td>\n",
       "      <td>55</td>\n",
       "      <td>201723</td>\n",
       "      <td>35</td>\n",
       "      <td>57635</td>\n",
       "      <td>10</td>\n",
       "      <td>...</td>\n",
       "      <td>54.999991</td>\n",
       "      <td>35.000026</td>\n",
       "      <td>9.999983</td>\n",
       "      <td>0.000000</td>\n",
       "      <td>0.0</td>\n",
       "      <td>64.999974</td>\n",
       "      <td>29.999948</td>\n",
       "      <td>5.000078</td>\n",
       "      <td>0.000000</td>\n",
       "      <td>0.0</td>\n",
       "    </tr>\n",
       "    <tr>\n",
       "      <th>7</th>\n",
       "      <td>Afar</td>\n",
       "      <td>2019-09-01</td>\n",
       "      <td>112079000</td>\n",
       "      <td>1513546</td>\n",
       "      <td>620157</td>\n",
       "      <td>40</td>\n",
       "      <td>520180</td>\n",
       "      <td>36</td>\n",
       "      <td>313633</td>\n",
       "      <td>21</td>\n",
       "      <td>...</td>\n",
       "      <td>40.973779</td>\n",
       "      <td>34.368298</td>\n",
       "      <td>20.721736</td>\n",
       "      <td>3.936187</td>\n",
       "      <td>0.0</td>\n",
       "      <td>31.238892</td>\n",
       "      <td>37.249149</td>\n",
       "      <td>24.586369</td>\n",
       "      <td>6.925591</td>\n",
       "      <td>0.0</td>\n",
       "    </tr>\n",
       "    <tr>\n",
       "      <th>8</th>\n",
       "      <td>Amhara</td>\n",
       "      <td>2019-09-01</td>\n",
       "      <td>112079000</td>\n",
       "      <td>3457931</td>\n",
       "      <td>1763232</td>\n",
       "      <td>53</td>\n",
       "      <td>871182</td>\n",
       "      <td>26</td>\n",
       "      <td>594367</td>\n",
       "      <td>15</td>\n",
       "      <td>...</td>\n",
       "      <td>50.990954</td>\n",
       "      <td>25.193736</td>\n",
       "      <td>17.188515</td>\n",
       "      <td>6.626795</td>\n",
       "      <td>0.0</td>\n",
       "      <td>56.247074</td>\n",
       "      <td>29.101014</td>\n",
       "      <td>11.460321</td>\n",
       "      <td>3.191619</td>\n",
       "      <td>0.0</td>\n",
       "    </tr>\n",
       "    <tr>\n",
       "      <th>9</th>\n",
       "      <td>Oromiya</td>\n",
       "      <td>2019-09-01</td>\n",
       "      <td>112079000</td>\n",
       "      <td>11497625</td>\n",
       "      <td>3285838</td>\n",
       "      <td>30</td>\n",
       "      <td>4690268</td>\n",
       "      <td>39</td>\n",
       "      <td>2434229</td>\n",
       "      <td>22</td>\n",
       "      <td>...</td>\n",
       "      <td>28.578406</td>\n",
       "      <td>40.793364</td>\n",
       "      <td>21.171581</td>\n",
       "      <td>9.456649</td>\n",
       "      <td>0.0</td>\n",
       "      <td>29.606694</td>\n",
       "      <td>41.935074</td>\n",
       "      <td>20.677329</td>\n",
       "      <td>7.780902</td>\n",
       "      <td>0.0</td>\n",
       "    </tr>\n",
       "    <tr>\n",
       "      <th>10</th>\n",
       "      <td>SNNPR</td>\n",
       "      <td>2019-09-01</td>\n",
       "      <td>112079000</td>\n",
       "      <td>5600673</td>\n",
       "      <td>2898809</td>\n",
       "      <td>52</td>\n",
       "      <td>1631304</td>\n",
       "      <td>28</td>\n",
       "      <td>865172</td>\n",
       "      <td>16</td>\n",
       "      <td>...</td>\n",
       "      <td>51.758226</td>\n",
       "      <td>29.126928</td>\n",
       "      <td>15.447644</td>\n",
       "      <td>3.667202</td>\n",
       "      <td>0.0</td>\n",
       "      <td>56.070619</td>\n",
       "      <td>30.777676</td>\n",
       "      <td>11.678900</td>\n",
       "      <td>1.472787</td>\n",
       "      <td>0.0</td>\n",
       "    </tr>\n",
       "    <tr>\n",
       "      <th>11</th>\n",
       "      <td>Somali</td>\n",
       "      <td>2019-09-01</td>\n",
       "      <td>112079000</td>\n",
       "      <td>5158000</td>\n",
       "      <td>1474153</td>\n",
       "      <td>27</td>\n",
       "      <td>1906823</td>\n",
       "      <td>38</td>\n",
       "      <td>1533970</td>\n",
       "      <td>30</td>\n",
       "      <td>...</td>\n",
       "      <td>28.579934</td>\n",
       "      <td>36.968263</td>\n",
       "      <td>29.739628</td>\n",
       "      <td>4.712156</td>\n",
       "      <td>0.0</td>\n",
       "      <td>33.715316</td>\n",
       "      <td>37.180050</td>\n",
       "      <td>26.649787</td>\n",
       "      <td>2.454866</td>\n",
       "      <td>0.0</td>\n",
       "    </tr>\n",
       "    <tr>\n",
       "      <th>12</th>\n",
       "      <td>Tigray</td>\n",
       "      <td>2019-09-01</td>\n",
       "      <td>112079000</td>\n",
       "      <td>1499302</td>\n",
       "      <td>684329</td>\n",
       "      <td>44</td>\n",
       "      <td>413821</td>\n",
       "      <td>29</td>\n",
       "      <td>369046</td>\n",
       "      <td>24</td>\n",
       "      <td>...</td>\n",
       "      <td>45.643173</td>\n",
       "      <td>27.600910</td>\n",
       "      <td>24.614521</td>\n",
       "      <td>2.141396</td>\n",
       "      <td>0.0</td>\n",
       "      <td>52.773557</td>\n",
       "      <td>34.130149</td>\n",
       "      <td>12.104299</td>\n",
       "      <td>0.991995</td>\n",
       "      <td>0.0</td>\n",
       "    </tr>\n",
       "  </tbody>\n",
       "</table>\n",
       "<p>13 rows × 70 columns</p>\n",
       "</div>"
      ],
      "text/plain": [
       "    ADM1_EN       date  Country Population    pop_CS     CS_1  CS_1_perc  \\\n",
       "0      Afar 2020-08-01           114964000   1540553   647322         42   \n",
       "1    Amhara 2020-08-01           114964000   6084363  3483150         57   \n",
       "2    Oromia 2020-08-01           114964000  16937642  7512571         44   \n",
       "3      SNNP 2020-08-01           114964000   7404334  3582210         48   \n",
       "4    Sidama 2020-08-01           114964000   3177915  2065645         65   \n",
       "5    Somali 2020-08-01           114964000   5307061  1906949         36   \n",
       "6    Tigray 2020-08-01           114964000    576351   316993         55   \n",
       "7      Afar 2019-09-01           112079000   1513546   620157         40   \n",
       "8    Amhara 2019-09-01           112079000   3457931  1763232         53   \n",
       "9   Oromiya 2019-09-01           112079000  11497625  3285838         30   \n",
       "10    SNNPR 2019-09-01           112079000   5600673  2898809         52   \n",
       "11   Somali 2019-09-01           112079000   5158000  1474153         27   \n",
       "12   Tigray 2019-09-01           112079000   1499302   684329         44   \n",
       "\n",
       "       CS_2  CS_2_perc     CS_3  CS_3_perc  ...  perc_CS_1  perc_CS_2  \\\n",
       "0    516581         34   313370         20  ...  42.018808  33.532180   \n",
       "1   1709456         28   682492         11  ...  57.247571  28.095891   \n",
       "2   5594669         33  3268079         19  ...  44.354291  33.030979   \n",
       "3   2393761         32  1112366         15  ...  48.379908  32.329187   \n",
       "4    635583         20   476687         15  ...  65.000008  20.000000   \n",
       "5   1955920         37  1153513         22  ...  35.932298  36.855050   \n",
       "6    201723         35    57635         10  ...  54.999991  35.000026   \n",
       "7    520180         36   313633         21  ...  40.973779  34.368298   \n",
       "8    871182         26   594367         15  ...  50.990954  25.193736   \n",
       "9   4690268         39  2434229         22  ...  28.578406  40.793364   \n",
       "10  1631304         28   865172         16  ...  51.758226  29.126928   \n",
       "11  1906823         38  1533970         30  ...  28.579934  36.968263   \n",
       "12   413821         29   369046         24  ...  45.643173  27.600910   \n",
       "\n",
       "    perc_CS_3  perc_CS_4  perc_CS_5  perc_ML1_1  perc_ML1_2  perc_ML1_3  \\\n",
       "0   20.341397   4.107616        0.0   39.435904   37.893471   18.506277   \n",
       "1   11.217148   3.439374        0.0   85.000007   10.000012    4.999998   \n",
       "2   19.294770   3.319954        0.0   48.628587   33.970667   16.454882   \n",
       "3   15.023174   4.267744        0.0   48.356733   32.990422   14.577381   \n",
       "4   14.999992   0.000000        0.0   60.000000   25.000008   14.999992   \n",
       "5   21.735439   5.477175        0.0   38.429651   39.280404   16.860688   \n",
       "6    9.999983   0.000000        0.0   64.999974   29.999948    5.000078   \n",
       "7   20.721736   3.936187        0.0   31.238892   37.249149   24.586369   \n",
       "8   17.188515   6.626795        0.0   56.247074   29.101014   11.460321   \n",
       "9   21.171581   9.456649        0.0   29.606694   41.935074   20.677329   \n",
       "10  15.447644   3.667202        0.0   56.070619   30.777676   11.678900   \n",
       "11  29.739628   4.712156        0.0   33.715316   37.180050   26.649787   \n",
       "12  24.614521   2.141396        0.0   52.773557   34.130149   12.104299   \n",
       "\n",
       "    perc_ML1_4  perc_ML1_5  \n",
       "0     4.164414         0.0  \n",
       "1     0.000000         0.0  \n",
       "2     0.945864         0.0  \n",
       "3     4.075478         0.0  \n",
       "4     0.000000         0.0  \n",
       "5     5.429239         0.0  \n",
       "6     0.000000         0.0  \n",
       "7     6.925591         0.0  \n",
       "8     3.191619         0.0  \n",
       "9     7.780902         0.0  \n",
       "10    1.472787         0.0  \n",
       "11    2.454866         0.0  \n",
       "12    0.991995         0.0  \n",
       "\n",
       "[13 rows x 70 columns]"
      ]
     },
     "execution_count": 16,
     "metadata": {},
     "output_type": "execute_result"
    }
   ],
   "source": [
    "df_ipcp"
   ]
  },
  {
   "cell_type": "code",
   "execution_count": 17,
   "metadata": {},
   "outputs": [],
   "source": [
    "dict_an={}"
   ]
  },
  {
   "cell_type": "code",
   "execution_count": 18,
   "metadata": {},
   "outputs": [
    {
     "data": {
      "text/html": [
       "<div>\n",
       "<style scoped>\n",
       "    .dataframe tbody tr th:only-of-type {\n",
       "        vertical-align: middle;\n",
       "    }\n",
       "\n",
       "    .dataframe tbody tr th {\n",
       "        vertical-align: top;\n",
       "    }\n",
       "\n",
       "    .dataframe thead th {\n",
       "        text-align: right;\n",
       "    }\n",
       "</style>\n",
       "<table border=\"1\" class=\"dataframe\">\n",
       "  <thead>\n",
       "    <tr style=\"text-align: right;\">\n",
       "      <th></th>\n",
       "    </tr>\n",
       "  </thead>\n",
       "  <tbody>\n",
       "  </tbody>\n",
       "</table>\n",
       "</div>"
      ],
      "text/plain": [
       "Empty DataFrame\n",
       "Columns: []\n",
       "Index: []"
      ]
     },
     "metadata": {},
     "output_type": "display_data"
    }
   ],
   "source": [
    "#Analysis: IPC4+ at 20% (current situation)\n",
    "df_snCS420 = df_ipcp.loc[df_ipcp['trigger_CS_4_20']==1]\n",
    "display(df_snCS420.groupby(['year', 'month'], as_index=False)['ADM1_EN'].agg(lambda x: list(x)))\n",
    "dict_an[\"an4\"]={\"df\":df_snCS420,\"trig_cols\":[\"CS_4\"],\"desc\":\"IPC4+ at 20% (current situation)\"}"
   ]
  },
  {
   "cell_type": "code",
   "execution_count": 19,
   "metadata": {},
   "outputs": [
    {
     "data": {
      "text/html": [
       "<div>\n",
       "<style scoped>\n",
       "    .dataframe tbody tr th:only-of-type {\n",
       "        vertical-align: middle;\n",
       "    }\n",
       "\n",
       "    .dataframe tbody tr th {\n",
       "        vertical-align: top;\n",
       "    }\n",
       "\n",
       "    .dataframe thead th {\n",
       "        text-align: right;\n",
       "    }\n",
       "</style>\n",
       "<table border=\"1\" class=\"dataframe\">\n",
       "  <thead>\n",
       "    <tr style=\"text-align: right;\">\n",
       "      <th></th>\n",
       "    </tr>\n",
       "  </thead>\n",
       "  <tbody>\n",
       "  </tbody>\n",
       "</table>\n",
       "</div>"
      ],
      "text/plain": [
       "Empty DataFrame\n",
       "Columns: []\n",
       "Index: []"
      ]
     },
     "metadata": {},
     "output_type": "display_data"
    }
   ],
   "source": [
    "#Analysis: IPC4+ at 10% (current situation)\n",
    "df_an6 = df_ipcp.loc[df_ipcp['trigger_CS_4_10']==1]\n",
    "display(df_an6.groupby(['year', 'month'], as_index=False)['ADM1_EN'].agg(lambda x: list(x)))\n",
    "dict_an[\"an6\"]={\"df\":df_an6,\"trig_cols\":[\"CS_4\"],\"desc\":\"IPC4+ at 10% (current situation)\"}"
   ]
  },
  {
   "cell_type": "code",
   "execution_count": 20,
   "metadata": {},
   "outputs": [
    {
     "data": {
      "text/html": [
       "<div>\n",
       "<style scoped>\n",
       "    .dataframe tbody tr th:only-of-type {\n",
       "        vertical-align: middle;\n",
       "    }\n",
       "\n",
       "    .dataframe tbody tr th {\n",
       "        vertical-align: top;\n",
       "    }\n",
       "\n",
       "    .dataframe thead th {\n",
       "        text-align: right;\n",
       "    }\n",
       "</style>\n",
       "<table border=\"1\" class=\"dataframe\">\n",
       "  <thead>\n",
       "    <tr style=\"text-align: right;\">\n",
       "      <th></th>\n",
       "    </tr>\n",
       "  </thead>\n",
       "  <tbody>\n",
       "  </tbody>\n",
       "</table>\n",
       "</div>"
      ],
      "text/plain": [
       "Empty DataFrame\n",
       "Columns: []\n",
       "Index: []"
      ]
     },
     "metadata": {},
     "output_type": "display_data"
    }
   ],
   "source": [
    "#Analysis: ML14+ at 10% (current situation)\n",
    "df_an7 = df_ipcp.loc[df_ipcp['trigger_ML1_4_10']==1]\n",
    "display(df_an7.groupby(['year', 'month'], as_index=False)['ADM1_EN'].agg(lambda x: list(x)))\n",
    "dict_an[\"an7\"]={\"df\":df_an7,\"trig_cols\":[\"ML1_4\"],\"desc\":\"ML14+ at 10% (current situation)\"}"
   ]
  },
  {
   "cell_type": "code",
   "execution_count": 21,
   "metadata": {},
   "outputs": [
    {
     "data": {
      "text/html": [
       "<div>\n",
       "<style scoped>\n",
       "    .dataframe tbody tr th:only-of-type {\n",
       "        vertical-align: middle;\n",
       "    }\n",
       "\n",
       "    .dataframe tbody tr th {\n",
       "        vertical-align: top;\n",
       "    }\n",
       "\n",
       "    .dataframe thead th {\n",
       "        text-align: right;\n",
       "    }\n",
       "</style>\n",
       "<table border=\"1\" class=\"dataframe\">\n",
       "  <thead>\n",
       "    <tr style=\"text-align: right;\">\n",
       "      <th></th>\n",
       "    </tr>\n",
       "  </thead>\n",
       "  <tbody>\n",
       "  </tbody>\n",
       "</table>\n",
       "</div>"
      ],
      "text/plain": [
       "Empty DataFrame\n",
       "Columns: []\n",
       "Index: []"
      ]
     },
     "metadata": {},
     "output_type": "display_data"
    }
   ],
   "source": [
    "#Analysis: ML14+ at 20% (current situation)\n",
    "df_an8 = df_ipcp.loc[df_ipcp['trigger_ML1_4_20']==1]\n",
    "display(df_an8.groupby(['year', 'month'], as_index=False)['ADM1_EN'].agg(lambda x: list(x)))\n",
    "dict_an[\"an8\"]={\"df\":df_an8,\"trig_cols\":[\"ML1_4\"],\"desc\":\"ML14+ at 20% (current situation)\"}"
   ]
  },
  {
   "cell_type": "code",
   "execution_count": 22,
   "metadata": {},
   "outputs": [],
   "source": [
    "#calculate percentage of population per status and level\n",
    "for status in [\"CS\",\"ML1\",\"ML2\"]:\n",
    "    for i in range(1,6):\n",
    "        c=f\"{status}_{i}\"\n",
    "        df_ipcp[f\"perc_{c}\"]=df_ipcp[c]/df_ipcp[f\"pop_{status}\"]*100\n",
    "    df_ipcp[f\"perc_{status}_3p\"]=(df_ipcp[[f\"{status}_{i}\" for i in range(3,6)]].sum(axis=1)/df_ipcp[f\"pop_{status}\"]*100).round(2)"
   ]
  },
  {
   "cell_type": "code",
   "execution_count": 23,
   "metadata": {},
   "outputs": [
    {
     "name": "stderr",
     "output_type": "stream",
     "text": [
      "<ipython-input-23-a9071707f41d>:5: FutureWarning: Indexing with multiple keys (implicitly converted to a tuple of keys) will be deprecated, use a list instead.\n",
      "  display(df_an10.groupby(['year', 'month'], as_index=False)['ADM1_EN','perc_CS_3p','perc_ML1_3p'].agg(lambda x: list(x)))\n"
     ]
    },
    {
     "data": {
      "text/html": [
       "<div>\n",
       "<style scoped>\n",
       "    .dataframe tbody tr th:only-of-type {\n",
       "        vertical-align: middle;\n",
       "    }\n",
       "\n",
       "    .dataframe tbody tr th {\n",
       "        vertical-align: top;\n",
       "    }\n",
       "\n",
       "    .dataframe thead th {\n",
       "        text-align: right;\n",
       "    }\n",
       "</style>\n",
       "<table border=\"1\" class=\"dataframe\">\n",
       "  <thead>\n",
       "    <tr style=\"text-align: right;\">\n",
       "      <th></th>\n",
       "      <th>year</th>\n",
       "      <th>month</th>\n",
       "      <th>ADM1_EN</th>\n",
       "      <th>perc_CS_3p</th>\n",
       "      <th>perc_ML1_3p</th>\n",
       "    </tr>\n",
       "  </thead>\n",
       "  <tbody>\n",
       "    <tr>\n",
       "      <th>0</th>\n",
       "      <td>2019</td>\n",
       "      <td>9</td>\n",
       "      <td>[Afar]</td>\n",
       "      <td>[24.66]</td>\n",
       "      <td>[31.51]</td>\n",
       "    </tr>\n",
       "  </tbody>\n",
       "</table>\n",
       "</div>"
      ],
      "text/plain": [
       "   year  month ADM1_EN perc_CS_3p perc_ML1_3p\n",
       "0  2019      9  [Afar]    [24.66]     [31.51]"
      ]
     },
     "metadata": {},
     "output_type": "display_data"
    }
   ],
   "source": [
    "#Analysis 10: At least 20% of ADMIN1 population currently at IPC3+  AND5% increase in ADMIN1 pop. projected in IPC3+ in 3 months\n",
    "df_an10 = df_ipcp.loc[(df_ipcp[\"trigger_CS_3_20\"]==1) & (df_ipcp[\"trigger_ML1_3_5i\"]==1)]\n",
    "# df_an1 = df_ipc.loc[(df_ipc['trigger_CS_3_20']==1)&(df_ipc['trigger_ML1_4_2']==1)]\n",
    "# display(df_an9[[\"date\",\"ADM1_EN\",\"perc_ML1_3\",\"perc_ML1_4\",\"perc_CS_3\",\"perc_CS_4\",\"CS_3\",\"CS_4\",\"ML1_3\",\"ML1_4\",\"ML1_i\",\"ML1_i2\"]])\n",
    "display(df_an10.groupby(['year', 'month'], as_index=False)['ADM1_EN','perc_CS_3p','perc_ML1_3p'].agg(lambda x: list(x)))\n",
    "dict_an[\"an10\"]={\"df\":df_an10,\"trig_cols\":[\"ML1_3\",\"CS_3\",\"CS_4\",\"ML1_4\"],\"desc\":\"At least 20% of ADMIN1 population currently at IPC3+  AND5% increase in ADMIN1 pop. projected in IPC3+ in 3 months\"}"
   ]
  },
  {
   "cell_type": "code",
   "execution_count": 24,
   "metadata": {},
   "outputs": [
    {
     "name": "stderr",
     "output_type": "stream",
     "text": [
      "<ipython-input-24-6b7386589f27>:5: FutureWarning: Indexing with multiple keys (implicitly converted to a tuple of keys) will be deprecated, use a list instead.\n",
      "  display(df_an10.groupby(['year', 'month'], as_index=False)['ADM1_EN','perc_CS_3p','perc_ML1_3p'].agg(lambda x: list(x)))\n"
     ]
    },
    {
     "data": {
      "text/html": [
       "<div>\n",
       "<style scoped>\n",
       "    .dataframe tbody tr th:only-of-type {\n",
       "        vertical-align: middle;\n",
       "    }\n",
       "\n",
       "    .dataframe tbody tr th {\n",
       "        vertical-align: top;\n",
       "    }\n",
       "\n",
       "    .dataframe thead th {\n",
       "        text-align: right;\n",
       "    }\n",
       "</style>\n",
       "<table border=\"1\" class=\"dataframe\">\n",
       "  <thead>\n",
       "    <tr style=\"text-align: right;\">\n",
       "      <th></th>\n",
       "      <th>year</th>\n",
       "      <th>month</th>\n",
       "      <th>ADM1_EN</th>\n",
       "      <th>perc_CS_3p</th>\n",
       "      <th>perc_ML1_3p</th>\n",
       "    </tr>\n",
       "  </thead>\n",
       "  <tbody>\n",
       "    <tr>\n",
       "      <th>0</th>\n",
       "      <td>2019</td>\n",
       "      <td>9</td>\n",
       "      <td>[Afar]</td>\n",
       "      <td>[24.66]</td>\n",
       "      <td>[31.51]</td>\n",
       "    </tr>\n",
       "  </tbody>\n",
       "</table>\n",
       "</div>"
      ],
      "text/plain": [
       "   year  month ADM1_EN perc_CS_3p perc_ML1_3p\n",
       "0  2019      9  [Afar]    [24.66]     [31.51]"
      ]
     },
     "metadata": {},
     "output_type": "display_data"
    }
   ],
   "source": [
    "#Analysis 10: At least 20% of ADMIN1 population currently at IPC3+  AND5% increase in ADMIN1 pop. projected in IPC3+ in 3 months\n",
    "df_an10 = df_ipcp.loc[(df_ipcp[\"trigger_ML1_3_20\"]==1) & (df_ipcp[\"trigger_ML1_3_5i\"]==1)]\n",
    "# df_an1 = df_ipc.loc[(df_ipc['trigger_CS_3_20']==1)&(df_ipc['trigger_ML1_4_2']==1)]\n",
    "# display(df_an9[[\"date\",\"ADM1_EN\",\"perc_ML1_3\",\"perc_ML1_4\",\"perc_CS_3\",\"perc_CS_4\",\"CS_3\",\"CS_4\",\"ML1_3\",\"ML1_4\",\"ML1_i\",\"ML1_i2\"]])\n",
    "display(df_an10.groupby(['year', 'month'], as_index=False)['ADM1_EN','perc_CS_3p','perc_ML1_3p'].agg(lambda x: list(x)))\n",
    "dict_an[\"an10\"]={\"df\":df_an10,\"trig_cols\":[\"ML1_3\",\"CS_3\",\"CS_4\",\"ML1_4\"],\"desc\":\"At least 20% of ADMIN1 population currently at IPC3+  AND5% increase in ADMIN1 pop. projected in IPC3+ in 3 months\"}"
   ]
  },
  {
   "cell_type": "code",
   "execution_count": 25,
   "metadata": {},
   "outputs": [],
   "source": [
    "# #Analysis: IPC3+ at 10% (current situation)\n",
    "# df_snCS420 = df_ipcp.loc[df_ipcp['trigger_CS_3_20']==1]\n",
    "# display(df_snCS420.groupby(['year', 'month'], as_index=False)['ADM1_EN'].agg(lambda x: list(x)))\n",
    "# dict_an[\"an3_20\"]={\"df\":df_snCS420,\"trig_cols\":[\"CS_3\"],\"desc\":\"IPC3+ at 20% (current situation)\"}"
   ]
  },
  {
   "cell_type": "code",
   "execution_count": 26,
   "metadata": {},
   "outputs": [
    {
     "data": {
      "text/plain": [
       "array([4.1076159 , 3.43937401, 3.31995445, 4.26774373, 0.        ,\n",
       "       5.47717465, 3.93618694, 6.62679504, 9.45664866, 3.66720214,\n",
       "       4.71215587, 2.14139646])"
      ]
     },
     "execution_count": 26,
     "metadata": {},
     "output_type": "execute_result"
    }
   ],
   "source": [
    "#never CS4 value\n",
    "df_ipcp.perc_CS_4.unique()"
   ]
  },
  {
   "cell_type": "code",
   "execution_count": 27,
   "metadata": {},
   "outputs": [
    {
     "data": {
      "text/plain": [
       "array([4.16441369, 0.        , 0.94586366, 4.07547796, 5.42923852,\n",
       "       6.92559063, 3.1916195 , 7.7809019 , 1.47278729, 2.45486623,\n",
       "       0.99199494])"
      ]
     },
     "execution_count": 27,
     "metadata": {},
     "output_type": "execute_result"
    }
   ],
   "source": [
    "#never CS4 value\n",
    "df_ipcp.perc_ML1_4.unique()"
   ]
  },
  {
   "cell_type": "code",
   "execution_count": 28,
   "metadata": {},
   "outputs": [
    {
     "data": {
      "text/plain": [
       "Index(['ADM1_EN', 'date', 'Country Population', 'pop_CS', 'CS_1', 'CS_1_perc',\n",
       "       'CS_2', 'CS_2_perc', 'CS_3', 'CS_3_perc', 'CS_4', 'CS_4_perc', 'CS_5',\n",
       "       'CS_5_perc', 'pop_ML1', 'ML1_1', 'ML1_1_perc', 'ML1_2', 'ML1_2_perc',\n",
       "       'ML1_3', 'ML1_3_perc', 'ML1_4', 'ML1_4_perc', 'ML1_5', 'ML1_5_perc',\n",
       "       'pop_ML2', 'ML2_1', 'ML2_1_perc', 'ML2_2', 'ML2_2_perc', 'ML2_3',\n",
       "       'ML2_3_perc', 'ML2_4', 'ML2_4_perc', 'ML2_5', 'ML2_5_perc', 'year',\n",
       "       'month', 'trigger_CS_3_20', 'trigger_CS_4_2', 'trigger_CS_4_20',\n",
       "       'trigger_CS_4_10', 'trigger_ML1_4_10', 'trigger_ML1_4_20',\n",
       "       'trigger_CS_4_1', 'trigger_CS_3_40', 'trigger_ML1_3_5',\n",
       "       'trigger_ML1_4_2', 'trigger_ML1_3_20', 'trigger_ML1_3_30',\n",
       "       'trigger_ML1_3_5ir', 'trigger_ML1_3_40ir', 'trigger_ML1_3_70ir',\n",
       "       'trigger_ML1_3_5i', 'trigger_ML1_3_10i', 'trigger_ML1_3_20i',\n",
       "       'trigger_ML1_3_30i', 'trigger_ML1_3_40i', 'trigger_ML1_3_50i',\n",
       "       'trigger_ML1_3_70i', 'perc_CS_1', 'perc_CS_2', 'perc_CS_3', 'perc_CS_4',\n",
       "       'perc_CS_5', 'perc_ML1_1', 'perc_ML1_2', 'perc_ML1_3', 'perc_ML1_4',\n",
       "       'perc_ML1_5', 'perc_CS_3p', 'perc_ML1_3p', 'perc_ML2_1', 'perc_ML2_2',\n",
       "       'perc_ML2_3', 'perc_ML2_4', 'perc_ML2_5', 'perc_ML2_3p'],\n",
       "      dtype='object')"
      ]
     },
     "execution_count": 28,
     "metadata": {},
     "output_type": "execute_result"
    }
   ],
   "source": [
    "df_ipcp.columns"
   ]
  },
  {
   "cell_type": "code",
   "execution_count": null,
   "metadata": {},
   "outputs": [],
   "source": []
  },
  {
   "cell_type": "markdown",
   "metadata": {},
   "source": [
    "### Admin2"
   ]
  },
  {
   "cell_type": "code",
   "execution_count": 29,
   "metadata": {},
   "outputs": [],
   "source": [
    "df_adt=pd.read_excel(\"Data/GlobalIPC_simplified_Admin2.xlsx\",header=11)"
   ]
  },
  {
   "cell_type": "code",
   "execution_count": 30,
   "metadata": {},
   "outputs": [],
   "source": [
    "df_adt[\"date\"]=pd.to_datetime(df_adt[\"date\"],format=\"%b %Y\")"
   ]
  },
  {
   "cell_type": "code",
   "execution_count": 31,
   "metadata": {},
   "outputs": [],
   "source": [
    "df_adt['year'] = df_adt['date'].dt.year\n",
    "df_adt['month'] = df_adt['date'].dt.month"
   ]
  },
  {
   "cell_type": "code",
   "execution_count": 32,
   "metadata": {},
   "outputs": [],
   "source": [
    "#only keep the rows related to admin2\n",
    "df_adt=df_adt[df_adt.ADMIN2.notnull()]"
   ]
  },
  {
   "cell_type": "code",
   "execution_count": 33,
   "metadata": {},
   "outputs": [],
   "source": [
    "df_adt[\"ML1_4p_perc\"]=df_adt.ML1_4_perc+df_adt.ML1_5_perc"
   ]
  },
  {
   "cell_type": "code",
   "execution_count": 34,
   "metadata": {},
   "outputs": [
    {
     "data": {
      "text/plain": [
       "ML1_4p_perc\n",
       "0.00    59\n",
       "0.05    55\n",
       "0.10    11\n",
       "0.15     2\n",
       "dtype: int64"
      ]
     },
     "execution_count": 34,
     "metadata": {},
     "output_type": "execute_result"
    }
   ],
   "source": [
    "df_adt.value_counts(\"ML1_4p_perc\")"
   ]
  },
  {
   "cell_type": "code",
   "execution_count": 35,
   "metadata": {},
   "outputs": [
    {
     "data": {
      "text/plain": [
       "CS\n",
       "3.0    99\n",
       "2.0    28\n",
       "dtype: int64"
      ]
     },
     "execution_count": 35,
     "metadata": {},
     "output_type": "execute_result"
    }
   ],
   "source": [
    "#not ever been or forecasted to be IPC 5\n",
    "df_adt.value_counts(\"CS\")"
   ]
  },
  {
   "cell_type": "code",
   "execution_count": 36,
   "metadata": {},
   "outputs": [],
   "source": [
    "df_adtp=df_adt[df_adt.ML1==4]"
   ]
  },
  {
   "cell_type": "code",
   "execution_count": 47,
   "metadata": {},
   "outputs": [
    {
     "data": {
      "text/html": [
       "<div>\n",
       "<style scoped>\n",
       "    .dataframe tbody tr th:only-of-type {\n",
       "        vertical-align: middle;\n",
       "    }\n",
       "\n",
       "    .dataframe tbody tr th {\n",
       "        vertical-align: top;\n",
       "    }\n",
       "\n",
       "    .dataframe thead th {\n",
       "        text-align: right;\n",
       "    }\n",
       "</style>\n",
       "<table border=\"1\" class=\"dataframe\">\n",
       "  <thead>\n",
       "    <tr style=\"text-align: right;\">\n",
       "      <th></th>\n",
       "      <th>Country</th>\n",
       "      <th>ADMIN1</th>\n",
       "      <th>ADMIN2</th>\n",
       "      <th>Analysis Name</th>\n",
       "      <th>date</th>\n",
       "      <th>pop_Country</th>\n",
       "      <th>pop_CS</th>\n",
       "      <th>pop_CS_perc</th>\n",
       "      <th>CS</th>\n",
       "      <th>CS_AP</th>\n",
       "      <th>...</th>\n",
       "      <th>ML2_3_perc</th>\n",
       "      <th>ML2_4</th>\n",
       "      <th>ML2_4_perc</th>\n",
       "      <th>ML2_5</th>\n",
       "      <th>ML2_5_perc</th>\n",
       "      <th>ML2_3p</th>\n",
       "      <th>ML2_3p_perc</th>\n",
       "      <th>year</th>\n",
       "      <th>month</th>\n",
       "      <th>ML1_4p_perc</th>\n",
       "    </tr>\n",
       "  </thead>\n",
       "  <tbody>\n",
       "  </tbody>\n",
       "</table>\n",
       "<p>0 rows × 57 columns</p>\n",
       "</div>"
      ],
      "text/plain": [
       "Empty DataFrame\n",
       "Columns: [Country, ADMIN1, ADMIN2, Analysis Name, date, pop_Country, pop_CS, pop_CS_perc, CS, CS_AP, CS_1, CS_1_perc, CS_2, CS_2_perc, CS_3, CS_3_perc, CS_4, CS_4_perc, CS_5, CS_5_perc, CS_3p, CS_3p_perc, pop_ML1, pop_ML1_perc, ML1, ML1_AP, ML1_1, ML1_1_perc, ML1_2, ML1_2_perc, ML1_3, ML1_3_perc, ML1_4, ML1_4_perc, ML1_5, ML1_5_perc, ML1_3p, ML1_3p_perc, pop_ML2, pop_ML2_perc, ML2, ML2_AP, ML2_1, ML2_1_perc, ML2_2, ML2_2_perc, ML2_3, ML2_3_perc, ML2_4, ML2_4_perc, ML2_5, ML2_5_perc, ML2_3p, ML2_3p_perc, year, month, ML1_4p_perc]\n",
       "Index: []\n",
       "\n",
       "[0 rows x 57 columns]"
      ]
     },
     "execution_count": 47,
     "metadata": {},
     "output_type": "execute_result"
    }
   ],
   "source": [
    "df_adt[df_adt.ML1_4p_perc>=0.20]"
   ]
  },
  {
   "cell_type": "code",
   "execution_count": 37,
   "metadata": {},
   "outputs": [
    {
     "data": {
      "text/html": [
       "<div>\n",
       "<style scoped>\n",
       "    .dataframe tbody tr th:only-of-type {\n",
       "        vertical-align: middle;\n",
       "    }\n",
       "\n",
       "    .dataframe tbody tr th {\n",
       "        vertical-align: top;\n",
       "    }\n",
       "\n",
       "    .dataframe thead th {\n",
       "        text-align: right;\n",
       "    }\n",
       "</style>\n",
       "<table border=\"1\" class=\"dataframe\">\n",
       "  <thead>\n",
       "    <tr style=\"text-align: right;\">\n",
       "      <th></th>\n",
       "      <th>Country</th>\n",
       "      <th>ADMIN1</th>\n",
       "      <th>ADMIN2</th>\n",
       "      <th>Analysis Name</th>\n",
       "      <th>date</th>\n",
       "      <th>pop_Country</th>\n",
       "      <th>pop_CS</th>\n",
       "      <th>pop_CS_perc</th>\n",
       "      <th>CS</th>\n",
       "      <th>CS_AP</th>\n",
       "      <th>...</th>\n",
       "      <th>ML2_3_perc</th>\n",
       "      <th>ML2_4</th>\n",
       "      <th>ML2_4_perc</th>\n",
       "      <th>ML2_5</th>\n",
       "      <th>ML2_5_perc</th>\n",
       "      <th>ML2_3p</th>\n",
       "      <th>ML2_3p_perc</th>\n",
       "      <th>year</th>\n",
       "      <th>month</th>\n",
       "      <th>ML1_4p_perc</th>\n",
       "    </tr>\n",
       "  </thead>\n",
       "  <tbody>\n",
       "  </tbody>\n",
       "</table>\n",
       "<p>0 rows × 57 columns</p>\n",
       "</div>"
      ],
      "text/plain": [
       "Empty DataFrame\n",
       "Columns: [Country, ADMIN1, ADMIN2, Analysis Name, date, pop_Country, pop_CS, pop_CS_perc, CS, CS_AP, CS_1, CS_1_perc, CS_2, CS_2_perc, CS_3, CS_3_perc, CS_4, CS_4_perc, CS_5, CS_5_perc, CS_3p, CS_3p_perc, pop_ML1, pop_ML1_perc, ML1, ML1_AP, ML1_1, ML1_1_perc, ML1_2, ML1_2_perc, ML1_3, ML1_3_perc, ML1_4, ML1_4_perc, ML1_5, ML1_5_perc, ML1_3p, ML1_3p_perc, pop_ML2, pop_ML2_perc, ML2, ML2_AP, ML2_1, ML2_1_perc, ML2_2, ML2_2_perc, ML2_3, ML2_3_perc, ML2_4, ML2_4_perc, ML2_5, ML2_5_perc, ML2_3p, ML2_3p_perc, year, month, ML1_4p_perc]\n",
       "Index: []\n",
       "\n",
       "[0 rows x 57 columns]"
      ]
     },
     "execution_count": 37,
     "metadata": {},
     "output_type": "execute_result"
    }
   ],
   "source": [
    "df_adtp"
   ]
  },
  {
   "cell_type": "code",
   "execution_count": 39,
   "metadata": {},
   "outputs": [],
   "source": [
    "df_adtps=df_adtp[[\"year\",\"month\",\"ADMIN1\",\"ADMIN2\"]]#,\"pop_ML1\"]]"
   ]
  },
  {
   "cell_type": "code",
   "execution_count": 45,
   "metadata": {},
   "outputs": [
    {
     "data": {
      "text/html": [
       "<div>\n",
       "<style scoped>\n",
       "    .dataframe tbody tr th:only-of-type {\n",
       "        vertical-align: middle;\n",
       "    }\n",
       "\n",
       "    .dataframe tbody tr th {\n",
       "        vertical-align: top;\n",
       "    }\n",
       "\n",
       "    .dataframe thead th {\n",
       "        text-align: right;\n",
       "    }\n",
       "</style>\n",
       "<table border=\"1\" class=\"dataframe\">\n",
       "  <thead>\n",
       "    <tr style=\"text-align: right;\">\n",
       "      <th></th>\n",
       "      <th>year</th>\n",
       "      <th>month</th>\n",
       "      <th>ADMIN1</th>\n",
       "      <th>ADMIN2</th>\n",
       "    </tr>\n",
       "  </thead>\n",
       "  <tbody>\n",
       "  </tbody>\n",
       "</table>\n",
       "</div>"
      ],
      "text/plain": [
       "Empty DataFrame\n",
       "Columns: [year, month, ADMIN1, ADMIN2]\n",
       "Index: []"
      ]
     },
     "execution_count": 45,
     "metadata": {},
     "output_type": "execute_result"
    }
   ],
   "source": [
    "df_adtps"
   ]
  },
  {
   "cell_type": "code",
   "execution_count": 41,
   "metadata": {},
   "outputs": [],
   "source": [
    "df_g=df_adtps.groupby([\"year\",\"month\",\"ADMIN1\"], as_index=False).agg(lambda x: list(x))"
   ]
  },
  {
   "cell_type": "code",
   "execution_count": 44,
   "metadata": {},
   "outputs": [
    {
     "data": {
      "text/html": [
       "<div>\n",
       "<style scoped>\n",
       "    .dataframe tbody tr th:only-of-type {\n",
       "        vertical-align: middle;\n",
       "    }\n",
       "\n",
       "    .dataframe tbody tr th {\n",
       "        vertical-align: top;\n",
       "    }\n",
       "\n",
       "    .dataframe thead th {\n",
       "        text-align: right;\n",
       "    }\n",
       "</style>\n",
       "<table border=\"1\" class=\"dataframe\">\n",
       "  <thead>\n",
       "    <tr style=\"text-align: right;\">\n",
       "      <th></th>\n",
       "    </tr>\n",
       "  </thead>\n",
       "  <tbody>\n",
       "  </tbody>\n",
       "</table>\n",
       "</div>"
      ],
      "text/plain": [
       "Empty DataFrame\n",
       "Columns: []\n",
       "Index: []"
      ]
     },
     "execution_count": 44,
     "metadata": {},
     "output_type": "execute_result"
    }
   ],
   "source": [
    "df_g"
   ]
  },
  {
   "cell_type": "markdown",
   "metadata": {},
   "source": [
    "Can you please check for IPC4 >= 20% in ML1 at the ADMIN2 level, then tell us what ADMIN1 regions would have triggered for each year because (a)  at least 1 admin2 region met the threshold and (b) 2 or more admin2 regions met the threshold?"
   ]
  },
  {
   "cell_type": "code",
   "execution_count": null,
   "metadata": {},
   "outputs": [],
   "source": [
    "# print(\"Analysis a): 1 or more ADMIN2 regions have IPC4 >= 20% in ML1\")\n",
    "# df_g.drop(\"ADM2_EN\",axis=1).set_index(['year', 'month',\"ADMIN1\"])"
   ]
  },
  {
   "cell_type": "code",
   "execution_count": null,
   "metadata": {},
   "outputs": [],
   "source": [
    "# print(\"Analysis b): 2 or more ADMIN2 regions have IPC4 >= 20% in ML1\")\n",
    "# df_ant=df_g[df_g[\"# ADM2 regions ML1 IPC4\"]>1]\n",
    "# df_g[df_g[\"# ADM2 regions ML1 IPC4\"]>1].drop(\"ADM2_EN\",axis=1).set_index(['year', 'month',\"ADMIN1\"])"
   ]
  },
  {
   "cell_type": "markdown",
   "metadata": {},
   "source": [
    "### Combine GlobalIPC and Fewsnet"
   ]
  },
  {
   "cell_type": "code",
   "execution_count": null,
   "metadata": {},
   "outputs": [],
   "source": [
    "df_glob=pd.read_csv(\"Data/GlobalIPC_Ethiopia_Admin1.csv\",delimiter=\";\",thousands=\".\")"
   ]
  },
  {
   "cell_type": "code",
   "execution_count": null,
   "metadata": {},
   "outputs": [],
   "source": [
    "# df_glob=pd.read_excel(\"Data/GlobalIPC20192020_Admin1_simplified.xlsx\")#,converters={\n",
    "# #     'percents': lambda value: value * 100})#,delimiter=\";\",thousands=\".\")"
   ]
  },
  {
   "cell_type": "code",
   "execution_count": null,
   "metadata": {},
   "outputs": [],
   "source": [
    "df_glob=df_glob.rename(columns={\"Date of Analysis\":\"date\"})#,\"ADMIN1\":\"ADM1_EN\"},inplace=True)"
   ]
  },
  {
   "cell_type": "code",
   "execution_count": null,
   "metadata": {},
   "outputs": [],
   "source": [
    "df_glob.columns"
   ]
  },
  {
   "cell_type": "code",
   "execution_count": null,
   "metadata": {},
   "outputs": [],
   "source": [
    "df_glob[\"date\"]=pd.to_datetime(df_glob[\"date\"],format=\"%b/%y\")"
   ]
  },
  {
   "cell_type": "code",
   "execution_count": null,
   "metadata": {},
   "outputs": [],
   "source": [
    "df_glob=df_glob.replace('%','', regex=True)\n"
   ]
  },
  {
   "cell_type": "code",
   "execution_count": null,
   "metadata": {},
   "outputs": [],
   "source": [
    "df_glob.columns"
   ]
  },
  {
   "cell_type": "code",
   "execution_count": null,
   "metadata": {},
   "outputs": [],
   "source": [
    "df_glob.loc[:, ~df_glob.columns.isin([\"ADMIN1\",\"date\",\"Analysis Period\"])]=df_glob.loc[:, ~df_glob.columns.isin([\"ADMIN1\",\"date\",\"Analysis Period\"])].astype(int)"
   ]
  },
  {
   "cell_type": "code",
   "execution_count": null,
   "metadata": {},
   "outputs": [],
   "source": [
    "df_glob[\"Source\"]=\"GlobalIPC\""
   ]
  },
  {
   "cell_type": "code",
   "execution_count": null,
   "metadata": {},
   "outputs": [],
   "source": [
    "df_glob.date=pd.to_datetime(df_glob.date)"
   ]
  },
  {
   "cell_type": "code",
   "execution_count": null,
   "metadata": {},
   "outputs": [],
   "source": [
    "df_glob.loc[df_glob.date.dt.year==2020,\"Analysis Period CS\"]=\"Aug 2020 - Sep 2020\"\n",
    "df_glob.loc[df_glob.date.dt.year==2020,\"Analysis Period ML1\"]=\"Oct 2020 - Dec 2020\"\n",
    "df_glob.loc[df_glob.date.dt.year==2020,\"Analysis Period ML2\"]=\"Jan 2021 - Jun 2021\"\n",
    "df_glob.loc[df_glob.date.dt.year==2019,\"Analysis Period CS\"]=\"Jul 2019 - Sep 2019\"\n",
    "df_glob.loc[df_glob.date.dt.year==2019,\"Analysis Period ML1\"]=\"Oct 2019 - Jan 2020\"\n",
    "df_glob.loc[df_glob.date.dt.year==2019,\"Analysis Period ML2\"]=\"Feb 2020 - Jun 2020\""
   ]
  },
  {
   "cell_type": "code",
   "execution_count": null,
   "metadata": {},
   "outputs": [],
   "source": [
    "df_fews=pd.read_csv(\"Data/FewsNetPopulation/ethiopia_admin1_fewsnet_population_20090701_20200801.csv\",index_col=0)"
   ]
  },
  {
   "cell_type": "code",
   "execution_count": null,
   "metadata": {},
   "outputs": [],
   "source": [
    "df_fews=df_fews[df_fews.date.isin([\"2019-10-01\",\"2020-08-01\"])].sort_values([\"date\",\"ADM1_EN\"]).drop(\"Total\",axis=1)#.rename(columns={\"adjusted_population\":\"Country Population\"})"
   ]
  },
  {
   "cell_type": "code",
   "execution_count": null,
   "metadata": {},
   "outputs": [],
   "source": [
    "df_fews.date=pd.to_datetime(df_fews.date)"
   ]
  },
  {
   "cell_type": "code",
   "execution_count": null,
   "metadata": {},
   "outputs": [],
   "source": [
    "df_fews.loc[df_fews.date.dt.year==2020,\"Analysis Period CS\"]=\"Aug 2020\"\n",
    "df_fews.loc[df_fews.date.dt.year==2020,\"Analysis Period ML1\"]=\"Aug 2020 - Sep 2020\"\n",
    "df_fews.loc[df_fews.date.dt.year==2020,\"Analysis Period ML2\"]=\"Oct 2020 - Jan 2021\"\n",
    "df_fews.loc[df_fews.date.dt.year==2019,\"Analysis Period CS\"]=\"Oct 2019\"\n",
    "df_fews.loc[df_fews.date.dt.year==2019,\"Analysis Period ML1\"]=\"Oct 2019 - Jan 2020\"\n",
    "df_fews.loc[df_fews.date.dt.year==2019,\"Analysis Period ML2\"]=\"Feb 2020 - May 2020\""
   ]
  },
  {
   "cell_type": "code",
   "execution_count": null,
   "metadata": {},
   "outputs": [],
   "source": [
    "for y in df_fews.date.unique():\n",
    "    df_fews.loc[df_fews.date==y,\"Country Population\"]=df_fews.loc[df_fews.date==y,\"adjusted_population\"].sum()"
   ]
  },
  {
   "cell_type": "code",
   "execution_count": null,
   "metadata": {},
   "outputs": [],
   "source": [
    "df_fews.rename(columns={\"ADM1_EN\":\"ADMIN1\"},inplace=True)"
   ]
  },
  {
   "cell_type": "code",
   "execution_count": null,
   "metadata": {},
   "outputs": [],
   "source": [
    "for status in [\"CS\",\"ML1\",\"ML2\"]:\n",
    "    for i in range(1,6):\n",
    "        c=f\"{status}_{i}\"\n",
    "        df_fews[f\"{c}_perc\"]=df_fews[c]/df_fews[f\"pop_{status}\"]*100\n",
    "#     df_fews[f'perc_{status}3+']=df_fews[f'{status}3+']/df_fews[f'pop_{status}']*100\n",
    "#         df_ipcp[f\"perc_{c}_miss\"]=df_fews[c]/df_fews[f\"Country Population\"]*100"
   ]
  },
  {
   "cell_type": "code",
   "execution_count": null,
   "metadata": {},
   "outputs": [],
   "source": [
    "df_fews[\"Source\"]=\"FewsNet\""
   ]
  },
  {
   "cell_type": "code",
   "execution_count": null,
   "metadata": {},
   "outputs": [],
   "source": [
    "df_fews=df_fews.drop(\"adjusted_population\",axis=1)"
   ]
  },
  {
   "cell_type": "code",
   "execution_count": null,
   "metadata": {},
   "outputs": [],
   "source": [
    "df_fews.columns"
   ]
  },
  {
   "cell_type": "code",
   "execution_count": null,
   "metadata": {},
   "outputs": [],
   "source": [
    "df_fews.columns.sort_values()==df_glob.columns.sort_values()"
   ]
  },
  {
   "cell_type": "code",
   "execution_count": null,
   "metadata": {},
   "outputs": [],
   "source": [
    "df_fews.shape"
   ]
  },
  {
   "cell_type": "code",
   "execution_count": null,
   "metadata": {},
   "outputs": [],
   "source": [
    "df_glob.shape"
   ]
  },
  {
   "cell_type": "code",
   "execution_count": null,
   "metadata": {},
   "outputs": [],
   "source": [
    "df_comb=pd.concat([df_glob,df_fews])"
   ]
  },
  {
   "cell_type": "code",
   "execution_count": null,
   "metadata": {},
   "outputs": [],
   "source": [
    "df_comb.head()"
   ]
  },
  {
   "cell_type": "code",
   "execution_count": null,
   "metadata": {},
   "outputs": [],
   "source": [
    "df_comb.date=pd.to_datetime(df_comb.date)"
   ]
  },
  {
   "cell_type": "code",
   "execution_count": null,
   "metadata": {},
   "outputs": [],
   "source": [
    "df_comb[\"year\"]=df_comb.date.dt.year"
   ]
  },
  {
   "cell_type": "code",
   "execution_count": null,
   "metadata": {},
   "outputs": [],
   "source": [
    "for status in [\"CS\",\"ML1\",\"ML2\"]:\n",
    "#     print(df_comb[[f'{status}_{i}' for i in range(3,6)]].sum(axis=1))\n",
    "    df_comb[f'{status}_3+']=df_comb[[f'{status}_{i}' for i in range(3,6)]].sum(axis=1)\n",
    "    df_comb[f'{status}_3+_perc']=df_comb[f'{status}_3+']/df_comb[f'pop_{status}']*100\n",
    "    df_comb[f'{status}_2-']=df_comb[[f'{status}_{i}' for i in range(1,3)]].sum(axis=1)\n",
    "    df_comb[f'{status}_2-_perc']=df_comb[f'{status}_2-']/df_comb[f'pop_{status}']*100"
   ]
  },
  {
   "cell_type": "code",
   "execution_count": null,
   "metadata": {},
   "outputs": [],
   "source": [
    "df_comb=df_comb.sort_values([\"year\",\"ADMIN1\",\"Source\"])"
   ]
  },
  {
   "cell_type": "code",
   "execution_count": null,
   "metadata": {},
   "outputs": [],
   "source": [
    "df_comb[(df_comb.ADMIN1==\"Afar\")&(df_comb.Source==\"GlobalIPC\")]"
   ]
  },
  {
   "cell_type": "code",
   "execution_count": null,
   "metadata": {},
   "outputs": [],
   "source": [
    "perc_cols=[col for col in df_comb.columns if 'perc' in col]\n",
    "# df_comb[perc_cols]=df_comb[perc_cols]/100"
   ]
  },
  {
   "cell_type": "code",
   "execution_count": null,
   "metadata": {},
   "outputs": [],
   "source": []
  },
  {
   "cell_type": "code",
   "execution_count": null,
   "metadata": {},
   "outputs": [],
   "source": [
    "# df_comb.to_excel(\"Data/GlobalFews_combined.xlsx\")"
   ]
  },
  {
   "cell_type": "code",
   "execution_count": null,
   "metadata": {},
   "outputs": [],
   "source": [
    "ad_gl=df_comb[df_comb.Source==\"GlobalIPC\"].ADMIN1.unique()"
   ]
  },
  {
   "cell_type": "code",
   "execution_count": null,
   "metadata": {},
   "outputs": [],
   "source": [
    "ad_fn=df_comb[df_comb.Source==\"FewsNet\"].ADMIN1.unique()"
   ]
  },
  {
   "cell_type": "code",
   "execution_count": null,
   "metadata": {},
   "outputs": [],
   "source": [
    "ad_both=list(set(ad_gl).intersection(set(ad_fn)))"
   ]
  },
  {
   "cell_type": "code",
   "execution_count": null,
   "metadata": {},
   "outputs": [],
   "source": [
    "df_cad=df_comb[df_comb.ADMIN1.isin(ad_both)]"
   ]
  },
  {
   "cell_type": "code",
   "execution_count": null,
   "metadata": {},
   "outputs": [],
   "source": [
    "df_cady=df_cad[df_cad.year==2019]"
   ]
  },
  {
   "cell_type": "code",
   "execution_count": null,
   "metadata": {},
   "outputs": [],
   "source": [
    "df_cadyg=df_cady.groupby(\"Source\",as_index=False).mean()"
   ]
  },
  {
   "cell_type": "code",
   "execution_count": null,
   "metadata": {},
   "outputs": [],
   "source": [
    "df_cadyg"
   ]
  },
  {
   "cell_type": "code",
   "execution_count": null,
   "metadata": {},
   "outputs": [],
   "source": [
    "import plotly.express as px"
   ]
  },
  {
   "cell_type": "code",
   "execution_count": null,
   "metadata": {},
   "outputs": [],
   "source": [
    "import matplotlib.pyplot as plt"
   ]
  },
  {
   "cell_type": "code",
   "execution_count": null,
   "metadata": {},
   "outputs": [],
   "source": []
  },
  {
   "cell_type": "code",
   "execution_count": null,
   "metadata": {},
   "outputs": [],
   "source": [
    "df_csy=df_comb.groupby([\"Source\",\"year\"],as_index=False).mean()"
   ]
  },
  {
   "cell_type": "code",
   "execution_count": null,
   "metadata": {},
   "outputs": [],
   "source": [
    "df_csy"
   ]
  },
  {
   "cell_type": "code",
   "execution_count": null,
   "metadata": {},
   "outputs": [],
   "source": [
    "df_csys=df_csy[[\"Source\",\"year\"]+[f\"CS_{i}_perc\" for i in range(1,6)]]"
   ]
  },
  {
   "cell_type": "code",
   "execution_count": null,
   "metadata": {},
   "outputs": [],
   "source": [
    "df_ysm=df_csy.melt(id_vars=[\"Source\",\"year\"],value_name=\"percentage\",value_vars=['CS_2-_perc','CS_3_perc',\"CS_4_perc\",\"CS_5_perc\"])#[f\"CS_{i}_perc\" for i in range(1,6)])\n",
    "# df_ysm.percentage=df_ysm.percentage*100"
   ]
  },
  {
   "cell_type": "code",
   "execution_count": null,
   "metadata": {},
   "outputs": [],
   "source": [
    "# df_ysm=df_csy.melt(id_vars=[\"Source\",\"year\"],value_name=\"percentage\",value_vars=[f\"CS_{i}_perc\" for i in range(1,6)]+[f\"ML1_{i}_perc\" for i in range(1,6)]+[f\"ML2_{i}_perc\" for i in range(1,6)])\n",
    "# df_ysm.percentage=df_ysm.percentage*100"
   ]
  },
  {
   "cell_type": "code",
   "execution_count": null,
   "metadata": {},
   "outputs": [],
   "source": [
    "df_ysm"
   ]
  },
  {
   "cell_type": "code",
   "execution_count": null,
   "metadata": {},
   "outputs": [],
   "source": [
    "fig=px.bar(df_ysm,x=\"variable\",y=\"percentage\",color=\"Source\",facet_row=\"year\",barmode=\"group\",height=600,width=800) #,facet_row=\"year\"\n",
    "fig.update_xaxes(ticktext=[\"IPC2-\",\"IPC3\",\"IPC4\",\"IPC5\"],tickvals=[\"CS_2-_perc\",\"CS_3_perc\",\"CS_4_perc\",\"CS_5_perc\"])\n",
    "fig.show()"
   ]
  },
  {
   "cell_type": "code",
   "execution_count": null,
   "metadata": {},
   "outputs": [],
   "source": [
    "df_cady[(df_cady.Source==\"GlobalIPC\")][[f\"CS_{i}_perc\" for i in range(1,6)]].sum()/len(df_cady[df_cady.Source==\"GlobalIPC\"])"
   ]
  },
  {
   "cell_type": "code",
   "execution_count": null,
   "metadata": {},
   "outputs": [],
   "source": [
    "# labels = [f\"CS_{i}_perc\" for i in range(1,6)]\n",
    "# men_means = df_cadyg[(df_cadyg.Source==\"GlobalIPC\")][[f\"CS_{i}_perc\" for i in range(1,6)]].values[0]\n",
    "# # print(men_means.values[0])\n",
    "# women_means = df_cadyg[(df_cadyg.Source==\"FewsNet\")][[f\"CS_{i}_perc\" for i in range(1,6)]].values[0]\n",
    "\n",
    "# x = np.arange(len(labels))  # the label locations\n",
    "# width = 0.35  # the width of the bars\n",
    "\n",
    "# fig, ax = plt.subplots()\n",
    "# rects1 = ax.bar(x - width/2, men_means, width, label='GlobalIPC')\n",
    "# rects2 = ax.bar(x + width/2, women_means, width, label='FewsNet')\n",
    "\n",
    "# # Add some text for labels, title and custom x-axis tick labels, etc.\n",
    "# ax.set_ylabel('Scores')\n",
    "# ax.set_title('Scores by group and gender')\n",
    "# ax.set_xticks(x)\n",
    "# ax.set_xticklabels(labels)\n",
    "# ax.legend()"
   ]
  },
  {
   "cell_type": "code",
   "execution_count": null,
   "metadata": {},
   "outputs": [],
   "source": [
    "df_cady"
   ]
  },
  {
   "cell_type": "code",
   "execution_count": null,
   "metadata": {},
   "outputs": [],
   "source": [
    "df_cs=df_cad[[\"Source\",\"ADMIN1\",\"year\"]+[f\"CS_{i}_perc\" for i in range(1,6)]]"
   ]
  },
  {
   "cell_type": "code",
   "execution_count": null,
   "metadata": {},
   "outputs": [],
   "source": [
    "df_cs"
   ]
  },
  {
   "cell_type": "code",
   "execution_count": null,
   "metadata": {},
   "outputs": [],
   "source": [
    "df_csm=df_cs.melt(id_vars=[\"Source\",\"ADMIN1\",\"year\"],value_name=\"percentage\")"
   ]
  },
  {
   "cell_type": "code",
   "execution_count": null,
   "metadata": {},
   "outputs": [],
   "source": [
    "df_csm.percentage=df_csm.percentage*100"
   ]
  },
  {
   "cell_type": "code",
   "execution_count": null,
   "metadata": {},
   "outputs": [],
   "source": [
    "df_csm"
   ]
  },
  {
   "cell_type": "code",
   "execution_count": null,
   "metadata": {},
   "outputs": [],
   "source": [
    "df_fews[df_fews.date.dt.year==2020].ML2_4.unique()"
   ]
  },
  {
   "cell_type": "code",
   "execution_count": null,
   "metadata": {},
   "outputs": [],
   "source": [
    "px.bar(df_csm[df_csm.year==2020],x=\"variable\",y=\"percentage\",color=\"Source\",facet_col=\"ADMIN1\",barmode=\"group\",height=300,width=1200) #,facet_row=\"year\""
   ]
  },
  {
   "cell_type": "code",
   "execution_count": null,
   "metadata": {},
   "outputs": [],
   "source": [
    "import geopandas as gpd\n",
    "from mapclassify import UserDefined\n",
    "import mapclassify"
   ]
  },
  {
   "cell_type": "code",
   "execution_count": null,
   "metadata": {},
   "outputs": [],
   "source": [
    "def plot_aff_collist(df_d,cols,shape_path=\"Data/ET_Admin1_OCHA_2019/eth_admbnda_adm1_csa_bofed_20190827.shp\"):\n",
    "    colp_num=2\n",
    "    rows=len(cols) // colp_num\n",
    "    rows+=len(cols) % colp_num\n",
    "    position = range(1,len(cols) + 1)\n",
    "\n",
    "    gdf = gpd.read_file(shape_path)\n",
    "    df_geo=gdf[[\"ADM1_EN\",\"geometry\"]].merge(df_d,left_on=\"ADM1_EN\",right_on=\"ADMIN1\",how=\"left\")\n",
    "    colors = len(pd.unique(df_geo[cols].values.ravel()))\n",
    "    cmap = 'Blues'\n",
    "    figsize = (16, 10)\n",
    "    scheme = \"UserDefined\"#\"natural_breaks\"#'equalinterval'\n",
    "    fig = plt.figure(1,figsize=(16,6*rows))\n",
    "    for i,c in enumerate(cols):#range(len(cols)):\n",
    "  # add every single subplot to the figure with a for loop\n",
    "\n",
    "        ax = fig.add_subplot(rows,colp_num,position[i])\n",
    "        df_geo.plot(c, ax=ax,cmap=cmap, figsize=figsize, k = colors,  legend=True,scheme=scheme,classification_kwds=dict(bins=[0,10,20,30,40,50,60,70,80,90,100]))#,missing_kwds={\"color\":\"lightgrey\"}) # scheme = scheme,#, figsize=(10, 10),edgecolor='gray',ax=axis,\n",
    "#                 #    legend=True,\n",
    "#                 #    legend_kwds={'label': \"Cases per 100,000 people\",'orientation': \"horizontal\"},\n",
    "#                    scheme='Quantiles',k=len(df_geo) scheme=\"User_Defined\", \n",
    "        gdf.boundary.plot(linewidth=0.2,ax=ax)\n",
    "\n",
    "        ax.axis(\"off\")\n",
    "        plt.title(c)\n",
    "        if not df_geo[c].isnull().values.all():\n",
    "            leg = ax.get_legend()\n",
    "\n",
    "            for lbl in leg.get_texts():\n",
    "                label_text = lbl.get_text()\n",
    "            #                 print(label_text)\n",
    "                upper = label_text.split(\",\")[-1].rstrip(']')\n",
    "\n",
    "            #             print(\"f\",upper)\n",
    "                try:\n",
    "                    new_text = f'{float(upper):,.2f}'\n",
    "                except:\n",
    "                    new_text=upper\n",
    "                lbl.set_text(new_text)\n",
    "\n",
    "\n",
    "\n",
    "    plt.show()"
   ]
  },
  {
   "cell_type": "code",
   "execution_count": null,
   "metadata": {},
   "outputs": [],
   "source": [
    "import seaborn as sns"
   ]
  },
  {
   "cell_type": "code",
   "execution_count": null,
   "metadata": {},
   "outputs": [],
   "source": [
    "for i in range(1,6):\n",
    "    df_comb[f\"diffML1_{i}\"]=df_comb[f'ML1_{i}_perc']-df_comb[f'CS_{i}_perc']\n",
    "df_comb[f\"diffML3+\"]=df_comb[f'ML1_3+_perc']-df_comb[f'CS_3+_perc']"
   ]
  },
  {
   "cell_type": "code",
   "execution_count": null,
   "metadata": {},
   "outputs": [],
   "source": [
    "a=df_comb[(df_comb.date==\"2020-08\") & (df_comb.Source==\"FewsNet\")]"
   ]
  },
  {
   "cell_type": "code",
   "execution_count": null,
   "metadata": {},
   "outputs": [],
   "source": [
    "a.value_counts(\"CS_3_perc\").sort_index()"
   ]
  },
  {
   "cell_type": "code",
   "execution_count": null,
   "metadata": {},
   "outputs": [],
   "source": [
    "a.value_counts(\"diffML1_3\").sort_index()"
   ]
  },
  {
   "cell_type": "code",
   "execution_count": null,
   "metadata": {},
   "outputs": [],
   "source": [
    "a.value_counts(\"diffML3+\").sort_index()"
   ]
  },
  {
   "cell_type": "code",
   "execution_count": null,
   "metadata": {},
   "outputs": [],
   "source": [
    "a[[\"ADMIN1\",\"diffML3+\"]]"
   ]
  },
  {
   "cell_type": "code",
   "execution_count": null,
   "metadata": {},
   "outputs": [],
   "source": [
    "df_fewsa=pd.read_csv(\"Data/FewsNetPopulation/ethiopia_admin1_fewsnet_population_20090701_20200801.csv\")"
   ]
  },
  {
   "cell_type": "code",
   "execution_count": null,
   "metadata": {},
   "outputs": [],
   "source": [
    "for status in [\"CS\",\"ML1\",\"ML2\"]:\n",
    "    for i in range(1,6):\n",
    "        c=f\"{status}_{i}\"\n",
    "        df_fewsa[f\"{c}_perc\"]=df_fewsa[c]/df_fewsa[f\"pop_{status}\"]*100\n",
    "#     df_fews[f'perc_{status}3+']=df_fews[f'{status}3+']/df_fews[f'pop_{status}']*100\n",
    "#         df_ipcp[f\"perc_{c}_miss\"]=df_fews[c]/df_fews[f\"Country Population\"]*100\n",
    "    df_fewsa[f'{status}_3+']=df_fewsa[[f'{status}_{i}' for i in range(3,6)]].sum(axis=1)\n",
    "    df_fewsa[f'{status}_3+_perc']=df_fewsa[f'{status}_3+']/df_fewsa[f'pop_{status}']*100\n",
    "df_fewsa[f\"diffML3+\"]=df_fewsa[f'ML1_3+_perc']-df_fewsa[f'CS_3+_perc']\n",
    "for i in range(1,6):\n",
    "    df_fewsa[f\"diffML1_{i}\"]=df_fewsa[f'ML1_{i}_perc']-df_fewsa[f'CS_{i}_perc']"
   ]
  },
  {
   "cell_type": "code",
   "execution_count": null,
   "metadata": {},
   "outputs": [],
   "source": [
    "df_fewsa.value_counts(\"CS_3_perc\").sort_index()"
   ]
  },
  {
   "cell_type": "code",
   "execution_count": null,
   "metadata": {},
   "outputs": [],
   "source": [
    "df_fewsa.value_counts(\"diffML1_3\").sort_index()"
   ]
  },
  {
   "cell_type": "code",
   "execution_count": null,
   "metadata": {},
   "outputs": [],
   "source": [
    "df_fewsa.value_counts(\"diffML3+\").sort_index()"
   ]
  },
  {
   "cell_type": "code",
   "execution_count": null,
   "metadata": {},
   "outputs": [],
   "source": [
    "a=df_fewsa[(df_fewsa.date==\"2020-06-01\")&(df_fewsa.ADM1_EN==\"Harari\")]"
   ]
  },
  {
   "cell_type": "code",
   "execution_count": null,
   "metadata": {},
   "outputs": [],
   "source": [
    "a"
   ]
  },
  {
   "cell_type": "code",
   "execution_count": null,
   "metadata": {},
   "outputs": [],
   "source": [
    "a[[\"date\",\"ADM1_EN\",\"ML1_3_perc\",\"ML1_4_perc\",\"CS_3_perc\",\"CS_4_perc\",\"CS_3\",\"CS_4\",\"ML1_3\",\"ML1_4\",\"diffML3+\"]]"
   ]
  },
  {
   "cell_type": "code",
   "execution_count": null,
   "metadata": {},
   "outputs": [],
   "source": [
    "df_fewsa[df_fewsa[\"diffML3+\"]>=40][[\"date\",\"ADM1_EN\",\"diffML3+\"]]"
   ]
  },
  {
   "cell_type": "code",
   "execution_count": null,
   "metadata": {},
   "outputs": [],
   "source": [
    "df_fewsa[df_fewsa[\"ML1_3_perc\"]>=90][[\"date\",\"ADM1_EN\",\"ML1_3_perc\"]].date.unique()"
   ]
  },
  {
   "cell_type": "code",
   "execution_count": null,
   "metadata": {},
   "outputs": [],
   "source": [
    "df_fewsa[df_fewsa[\"ML1_3_perc\"]>=90][[\"date\",\"ADM1_EN\",\"ML1_3_perc\"]]"
   ]
  },
  {
   "cell_type": "code",
   "execution_count": null,
   "metadata": {},
   "outputs": [],
   "source": [
    "len(df_fewsa[df_fewsa.CS_3_perc>=40])"
   ]
  },
  {
   "cell_type": "code",
   "execution_count": null,
   "metadata": {},
   "outputs": [],
   "source": [
    "sns.distplot(df_fewsa.diffML1_3,kde=False)\n",
    "plt.xlim(20,100)\n",
    "plt.ylim(0,10)"
   ]
  },
  {
   "cell_type": "code",
   "execution_count": null,
   "metadata": {},
   "outputs": [],
   "source": [
    "plot_aff_collist(df_comb[(df_comb.date==\"2020-08\") & (df_comb.Source==\"FewsNet\")],[f\"diffML1_{i}\" for i in range(1,6)])"
   ]
  },
  {
   "cell_type": "code",
   "execution_count": null,
   "metadata": {},
   "outputs": [],
   "source": [
    "plot_aff_collist(df_comb[(df_comb.date==\"2020-08\") & (df_comb.Source==\"FewsNet\")],[f\"CS_{i}_perc\" for i in range(1,6)])"
   ]
  },
  {
   "cell_type": "code",
   "execution_count": null,
   "metadata": {},
   "outputs": [],
   "source": []
  }
 ],
 "metadata": {
  "kernelspec": {
   "display_name": "aafi",
   "language": "python",
   "name": "aafi"
  },
  "language_info": {
   "codemirror_mode": {
    "name": "ipython",
    "version": 3
   },
   "file_extension": ".py",
   "mimetype": "text/x-python",
   "name": "python",
   "nbconvert_exporter": "python",
   "pygments_lexer": "ipython3",
   "version": "3.8.5"
  }
 },
 "nbformat": 4,
 "nbformat_minor": 4
}
